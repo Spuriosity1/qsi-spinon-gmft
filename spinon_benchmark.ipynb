{
 "cells": [
  {
   "cell_type": "code",
   "execution_count": 1,
   "id": "969f3722-7d29-4dc6-a1cc-4be132b2f63c",
   "metadata": {},
   "outputs": [],
   "source": [
    "include(\"SpinonStructure.jl\")\n",
    "include(\"BZMath.jl\")\n",
    "# include(\"PyrochloreGeometry.jl\")\n",
    "# import .PyrochloreGeometry as geom\n",
    "using .BZmath\n",
    "using .SpinonStructure\n",
    "using LinearAlgebra\n",
    "using StaticArrays\n",
    "using BenchmarkTools\n",
    "using Plots"
   ]
  },
  {
   "cell_type": "code",
   "execution_count": 5,
   "id": "a5ba955c-875d-4d41-9879-461e35d11e91",
   "metadata": {},
   "outputs": [
    {
     "data": {
      "text/plain": [
       "M_analytic_0flux (generic function with 1 method)"
      ]
     },
     "execution_count": 5,
     "metadata": {},
     "output_type": "execute_result"
    }
   ],
   "source": [
    "function M_analytic_0flux(Jpm, k)\n",
    "    return 2*Jpm/4 * ( cos( k'*[0,4,4]) + cos( k'*[4,0,4]) + cos( k'*[4,4,0]) )\n",
    "end\n"
   ]
  },
  {
   "cell_type": "code",
   "execution_count": 6,
   "id": "50307c73-7fbb-4f32-8819-7bd5460e73b7",
   "metadata": {},
   "outputs": [
    {
     "data": {
      "text/plain": [
       "1.0450600640207481"
      ]
     },
     "execution_count": 6,
     "metadata": {},
     "output_type": "execute_result"
    }
   ],
   "source": []
  },
  {
   "cell_type": "code",
   "execution_count": null,
   "id": "91cb2f25-2b36-412f-8039-0fbbc90ca4e1",
   "metadata": {},
   "outputs": [],
   "source": []
  }
 ],
 "metadata": {
  "kernelspec": {
   "display_name": "Julia 1.9.3",
   "language": "julia",
   "name": "julia-1.9"
  },
  "language_info": {
   "file_extension": ".jl",
   "mimetype": "application/julia",
   "name": "julia",
   "version": "1.9.3"
  }
 },
 "nbformat": 4,
 "nbformat_minor": 5
}
