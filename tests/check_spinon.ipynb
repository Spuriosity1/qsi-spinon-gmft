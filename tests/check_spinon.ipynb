{
 "cells": [
  {
   "cell_type": "code",
   "execution_count": 1,
   "id": "20fe8b51-c742-4e69-9e1f-5e1e17998ba4",
   "metadata": {},
   "outputs": [],
   "source": [
    "include(\"../src/SpinonStructure.jl\")\n",
    "include(\"../src/BZMath.jl\")\n",
    "\n",
    "\n",
    "using .BZmath\n",
    "using .SpinonStructure\n",
    "using StaticArrays\n",
    "using SparseArrays\n",
    "using LinearAlgebra\n",
    "using BenchmarkTools\n"
   ]
  },
  {
   "cell_type": "code",
   "execution_count": 2,
   "id": "4d02bbc1-530c-45a7-9be5-b9c0b0f52a68",
   "metadata": {},
   "outputs": [
    {
     "data": {
      "text/plain": [
       "SimulationParameters([1.0 1.0 0.0 0.0; 1.0 1.0 0.0 0.0], -0.001, [0.0, 0.0, 0.0], Main.SpinonStructure.PyrochloreGeometry.PyroPrimitive([1, 2, 1], SVector{3, Int64}[[0, 0, 0], [4, 0, 4], [2, 2, 2], [6, 2, 6]], SVector{3, Int64}[[1, 1, 1], [1, -1, -1], [-1, 1, -1], [-1, -1, 1], [5, 1, 5], [5, -1, 3], [3, 1, 3], [3, -1, 5]]), 2.0, 10000, \"0flux_dbl\")"
      ]
     },
     "execution_count": 2,
     "metadata": {},
     "output_type": "execute_result"
    }
   ],
   "source": [
    "sim = SimulationParameters(\"0flux\",\n",
    "    lattice=geom.PyroPrimitive(1,1,1),\n",
    "    A=[1 1 0 0],\n",
    "    Jpm=-0.001,\n",
    "    B=[0.,0.,0.],\n",
    "    n_samples=10000\n",
    "    )\n",
    "\n",
    "sim_dbl = SimulationParameters(\"0flux_dbl\",\n",
    "    lattice=geom.PyroPrimitive(1,2,1),\n",
    "    A=[1 1 0 0; 1 1 0 0],\n",
    "    Jpm=-0.001,\n",
    "    B=[0.,0.,0.],\n",
    "    n_samples=10000\n",
    "    )\n"
   ]
  },
  {
   "cell_type": "code",
   "execution_count": 3,
   "id": "f092df11-ad4f-44e3-99f6-875f42b1b2a2",
   "metadata": {},
   "outputs": [
    {
     "data": {
      "text/plain": [
       "2×4 Matrix{Float64}:\n",
       " 0.0  0.0  0.0  0.0\n",
       " 0.0  0.0  0.0  0.0"
      ]
     },
     "execution_count": 3,
     "metadata": {},
     "output_type": "execute_result"
    }
   ],
   "source": [
    "calc_fluxes(sim_dbl)"
   ]
  },
  {
   "cell_type": "code",
   "execution_count": 4,
   "id": "e0639c01-3d37-4cf8-a8d2-274dff02e319",
   "metadata": {},
   "outputs": [
    {
     "data": {
      "text/plain": [
       "CompiledModel(SimulationParameters([1.0 1.0 0.0 0.0; 1.0 1.0 0.0 0.0], -0.001, [0.0, 0.0, 0.0], Main.SpinonStructure.PyrochloreGeometry.PyroPrimitive([1, 2, 1], SVector{3, Int64}[[0, 0, 0], [4, 0, 4], [2, 2, 2], [6, 2, 6]], SVector{3, Int64}[[1, 1, 1], [1, -1, -1], [-1, 1, -1], [-1, -1, 1], [5, 1, 5], [5, -1, 3], [3, 1, 3], [3, -1, 5]]), 2.0, 10000, \"0flux_dbl\"), [3, 3, 3, 3, 3, 4, 1, 1, 1, 1  …  2, 1, 1, 1, 1, 1, 2, 2, 2, 2], [3, 4, 3, 4, 3, 3, 1, 2, 1, 2  …  2, 2, 3, 3, 4, 3, 4, 4, 3, 4], ComplexF64[-0.00025 - 0.0im, -0.00013507557646703493 - 0.00021036774620197414im, -0.00013507557646703493 - 0.00021036774620197414im, -0.00013507557646703493 - 0.00021036774620197414im, -0.00013507557646703493 - 0.00021036774620197414im, -0.00025 - 0.0im, -0.00025 - 0.0im, -0.00013507557646703493 + 0.00021036774620197414im, -0.00013507557646703493 + 0.00021036774620197414im, -0.00013507557646703493 + 0.00021036774620197414im  …  -0.00013507557646703493 + 0.00021036774620197414im, -0.00025 - 0.0im, 0.0 + 0.0im, 0.0 + 0.0im, 0.0 + 0.0im, 0.0 + 0.0im, 0.0 + 0.0im, 0.0 + 0.0im, 0.0 + 0.0im, 0.0 + 0.0im], [0.0 4.0 … -2.0 -2.0; 4.0 0.0 … 2.0 -2.0; 4.0 4.0 … -2.0 2.0], 0.12500460679265718)"
      ]
     },
     "execution_count": 4,
     "metadata": {},
     "output_type": "execute_result"
    }
   ],
   "source": [
    "csim = CompiledModel(sim)\n",
    "csim_dbl = CompiledModel(sim_dbl)"
   ]
  },
  {
   "cell_type": "code",
   "execution_count": 5,
   "id": "e543d2b0-e287-43eb-8c9e-53fc3c6da301",
   "metadata": {},
   "outputs": [],
   "source": [
    "Q = @SVector [0.3,0.3,0.3];\n"
   ]
  },
  {
   "cell_type": "code",
   "execution_count": 6,
   "id": "5022755c-2821-4a8b-9b92-3b048447d605",
   "metadata": {},
   "outputs": [
    {
     "data": {
      "text/plain": [
       "2×2 Matrix{ComplexF64}:\n",
       " -0.000841573+0.0im           0.0+0.0im\n",
       "          0.0+0.0im  -0.000841573+0.0im"
      ]
     },
     "execution_count": 6,
     "metadata": {},
     "output_type": "execute_result"
    }
   ],
   "source": [
    "M1 = SpinonStructure.calc_hopping(csim, Q)\n",
    "E1, U1 = spinon_dispersion(Q, csim)\n",
    "U1' * M1 * U1\n"
   ]
  },
  {
   "cell_type": "code",
   "execution_count": 7,
   "id": "76894f53-ae8b-4ced-855f-299c08024576",
   "metadata": {},
   "outputs": [
    {
     "data": {
      "text/plain": [
       "4-element Vector{ComplexF64}:\n",
       " -0.0008415725909977581 + 0.0im\n",
       " -0.0008415725909977581 + 0.0im\n",
       "  0.0008686968577706228 + 0.0im\n",
       "  0.0008686968577706228 + 0.0im"
      ]
     },
     "execution_count": 7,
     "metadata": {},
     "output_type": "execute_result"
    }
   ],
   "source": [
    "M2 = Matrix(SpinonStructure.calc_hopping(csim_dbl, Q))\n",
    "E2, U2 = spinon_dispersion(Q, csim_dbl)\n",
    "diag(U2' * M2 * U2)"
   ]
  },
  {
   "cell_type": "code",
   "execution_count": null,
   "id": "8c55fe63-d74b-452d-83fa-e8c95b3227bf",
   "metadata": {},
   "outputs": [],
   "source": []
  }
 ],
 "metadata": {
  "kernelspec": {
   "display_name": "Julia 1.10.4",
   "language": "julia",
   "name": "julia-1.10"
  },
  "language_info": {
   "file_extension": ".jl",
   "mimetype": "application/julia",
   "name": "julia",
   "version": "1.10.4"
  }
 },
 "nbformat": 4,
 "nbformat_minor": 5
}
