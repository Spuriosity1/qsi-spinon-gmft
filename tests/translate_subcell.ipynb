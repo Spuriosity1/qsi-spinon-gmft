{
 "cells": [
  {
   "cell_type": "code",
   "execution_count": 1,
   "id": "6c9d2ea9-fa1b-4e89-ae12-7e398ff95951",
   "metadata": {},
   "outputs": [],
   "source": [
    "include(\"../src/SpinonStructure.jl\")\n",
    "include(\"../src/BZMath.jl\")\n",
    "\n",
    "\n",
    "using .BZmath\n",
    "using .SpinonStructure\n",
    "using StaticArrays\n",
    "using SparseArrays\n",
    "using LinearAlgebra\n",
    "using BenchmarkTools\n",
    "using Plots"
   ]
  },
  {
   "cell_type": "code",
   "execution_count": 16,
   "id": "62826391-3103-4cfa-aa99-55056cccdb65",
   "metadata": {},
   "outputs": [
    {
     "name": "stderr",
     "output_type": "stream",
     "text": [
      "\u001b[32m\u001b[1m  Activating\u001b[22m\u001b[39m project at `~/mygh/spinon-calc`\n",
      "\u001b[32m\u001b[1m    Updating\u001b[22m\u001b[39m registry at `~/.julia/registries/General.toml`\n",
      "\u001b[32m\u001b[1m   Resolving\u001b[22m\u001b[39m package versions...\n",
      "\u001b[32m\u001b[1m   Installed\u001b[22m\u001b[39m Permutations ─ v0.4.22\n",
      "\u001b[32m\u001b[1m    Updating\u001b[22m\u001b[39m `~/mygh/spinon-calc/Project.toml`\n",
      "  \u001b[90m[2ae35dd2] \u001b[39m\u001b[92m+ Permutations v0.4.22\u001b[39m\n",
      "\u001b[32m\u001b[1m    Updating\u001b[22m\u001b[39m `~/mygh/spinon-calc/Manifest.toml`\n",
      "  \u001b[90m[861a8166] \u001b[39m\u001b[92m+ Combinatorics v1.0.2\u001b[39m\n",
      "  \u001b[90m[2ae35dd2] \u001b[39m\u001b[92m+ Permutations v0.4.22\u001b[39m\n",
      "\u001b[32m\u001b[1mPrecompiling\u001b[22m\u001b[39m project...\n",
      "\u001b[32m  ✓ \u001b[39mPermutations\n",
      "  1 dependency successfully precompiled in 2 seconds. 174 already precompiled.\n"
     ]
    }
   ],
   "source": [
    "using Pkg; Pkg.activate(\"../\"); Pkg.add(\"Permutations\")"
   ]
  },
  {
   "cell_type": "code",
   "execution_count": 17,
   "id": "e92efb6f-0b3f-41da-a964-96ce5e00e6ed",
   "metadata": {},
   "outputs": [],
   "source": [
    "using Permutations"
   ]
  },
  {
   "cell_type": "code",
   "execution_count": 34,
   "id": "a92d3627-51a3-457f-85dd-8391afe50ce9",
   "metadata": {},
   "outputs": [],
   "source": [
    "B = [0.02,0.04,0.07]\n",
    "\n",
    "sim0 = SimulationParameters(\"0flux_prim\",\n",
    "    lattice=geom.PyroPrimitive(1,1,1),\n",
    "    A=zeros(1,4),\n",
    "    Jpm=-0.046,\n",
    "    B=B,\n",
    "    n_samples=10000\n",
    "    )\n",
    "\n",
    "sim211 = SimulationParameters(\"0flux_211\",\n",
    "    lattice=geom.PyroPrimitive(2,1,1),\n",
    "    A=zeros(2,4),\n",
    "    Jpm=-0.046,\n",
    "    B=B,\n",
    "    n_samples=10000\n",
    "    )\n",
    "\n",
    "sim511 = SimulationParameters(\"0flux_511\",\n",
    "    lattice=geom.PyroPrimitive(5,1,1),\n",
    "    A=zeros(5,4),\n",
    "    Jpm=-0.046,\n",
    "    B=B,\n",
    "    n_samples=10000\n",
    "    )\n",
    "\n",
    "sim222 = SimulationParameters(\"0flux_222\",\n",
    "    lattice=geom.PyroPrimitive(2,2,2),\n",
    "    # A=[1 1 0 0; 0 0 -1 -1; 1 1 0 0; 1 1 0 0],\n",
    "    A=zeros(2*2*2, 4),\n",
    "    Jpm=-0.046,\n",
    "    B=B,\n",
    "    n_samples=10000\n",
    "    )\n",
    "\n",
    "@assert norm(calc_fluxes(sim2) - calc_fluxes(sim1)) < 1e-10\n",
    "@assert norm(calc_fluxes(sim3) - calc_fluxes(sim1)) < 1e-10"
   ]
  },
  {
   "cell_type": "code",
   "execution_count": 45,
   "id": "bbbc137b-f765-4f31-81c6-44d8935750f3",
   "metadata": {},
   "outputs": [],
   "source": [
    "cs0 = CompiledModel(sim0,0.2);\n",
    "cs211 = CompiledModel(sim211,0.2);\n",
    "cs511 = CompiledModel(sim511,0.2);"
   ]
  },
  {
   "cell_type": "code",
   "execution_count": 66,
   "id": "4f60f797-d029-444d-bc7f-aa5fd1c4e16e",
   "metadata": {},
   "outputs": [
    {
     "data": {
      "text/plain": [
       "calcH (generic function with 1 method)"
      ]
     },
     "execution_count": 66,
     "metadata": {},
     "output_type": "execute_result"
    }
   ],
   "source": [
    "calcH(sim, Q) = Matrix(SpinonStructure.calc_hopping(sim, SVector{3}(Q)))"
   ]
  },
  {
   "cell_type": "code",
   "execution_count": 68,
   "id": "a7f27acc-bcd1-4ed4-bb98-93681de7e5bf",
   "metadata": {},
   "outputs": [],
   "source": [
    "Q = 2π/8 .*[0.75,0.75,0]\n",
    "\n",
    "H0 = calcH(cs0,Q)\n",
    "H211 = calcH(cs211,Q)\n",
    "H511 = calcH(cs511,Q)\n",
    "P = Matrix( Permutation([2,3,4,5,1,7,8,9,10,6]) )\n",
    "@assert norm(inv(P)*H511*(P) - H511) < 1e-14"
   ]
  },
  {
   "cell_type": "code",
   "execution_count": 79,
   "id": "ad1f26c7-efb6-42fb-bc64-a4a3eabf829f",
   "metadata": {},
   "outputs": [
    {
     "name": "stdout",
     "output_type": "stream",
     "text": [
      "H0-> [0.005448215856604842, 0.07865943188171987]\n",
      "H0-> [0.008083283949771683, 0.037916716050228325]\n",
      "H211-> [0.005448215856604853, 0.008083283949771671, 0.037916716050228276, 0.07865943188171975]\n"
     ]
    }
   ],
   "source": [
    "e0, vec0 = eigen(H0)\n",
    "e0x, vec0x = eigen(calcH(cs0, Q+geom.reciprocal_basis(cs211.sim.lat)[:,1]) )\n",
    "e211, vec211 = eigen(Matrix(H211))\n",
    "# e2, vec2 = eigen(Matrix(H0))\n",
    "println(\"H0-> \",   e0   )\n",
    "println(\"H0-> \",   e0x   )\n",
    "println(\"H211-> \", e211 )"
   ]
  },
  {
   "cell_type": "code",
   "execution_count": 83,
   "id": "da45a140-a0e2-46df-976a-1ffec20b9df7",
   "metadata": {},
   "outputs": [
    {
     "data": {
      "text/plain": [
       "4-element Vector{ComplexF64}:\n",
       " -0.47118394503976413 - 0.1672892403496536im\n",
       "  -0.4711839450397648 - 0.1672892403496543im\n",
       " -0.49999999999999933 - 1.8691273701970121e-16im\n",
       "  -0.5000000000000007 - 0.0im"
      ]
     },
     "execution_count": 83,
     "metadata": {},
     "output_type": "execute_result"
    }
   ],
   "source": [
    "vec211[:,1] "
   ]
  },
  {
   "cell_type": "code",
   "execution_count": 84,
   "id": "f3a97bdb-a739-42f8-827a-5956cc19032d",
   "metadata": {},
   "outputs": [
    {
     "data": {
      "text/plain": [
       "2-element Vector{ComplexF64}:\n",
       " 0.6663547254476939 + 0.23658271254157284im\n",
       " 0.7071067811865474 + 0.0im"
      ]
     },
     "execution_count": 84,
     "metadata": {},
     "output_type": "execute_result"
    }
   ],
   "source": [
    "vec0[:,1]"
   ]
  },
  {
   "cell_type": "code",
   "execution_count": null,
   "id": "a46ab2ef-bc24-4da7-831c-007840fe2581",
   "metadata": {},
   "outputs": [],
   "source": []
  }
 ],
 "metadata": {
  "kernelspec": {
   "display_name": "Julia 1.10.4",
   "language": "julia",
   "name": "julia-1.10"
  },
  "language_info": {
   "file_extension": ".jl",
   "mimetype": "application/julia",
   "name": "julia",
   "version": "1.10.4"
  }
 },
 "nbformat": 4,
 "nbformat_minor": 5
}
