{
 "cells": [
  {
   "cell_type": "code",
   "execution_count": 1,
   "id": "8c15b801-0057-41f4-b9ba-cb8f99991d53",
   "metadata": {},
   "outputs": [],
   "source": [
    "include(\"../src/SpinonStructure.jl\")\n",
    "include(\"../src/BZMath.jl\")\n",
    "\n",
    "\n",
    "using .BZmath\n",
    "using .SpinonStructure\n",
    "using StaticArrays\n",
    "using SparseArrays\n",
    "using LinearAlgebra\n",
    "using BenchmarkTools\n"
   ]
  },
  {
   "cell_type": "code",
   "execution_count": 2,
   "id": "c68f7871-acd0-42e7-b4e6-f8eaa129a13f",
   "metadata": {},
   "outputs": [
    {
     "data": {
      "text/plain": [
       "CompiledModel(SimulationParameters([0.0 0.0 0.0 0.0; 0.0 0.0 0.0 0.0; … ; 0.0 0.0 0.0 0.0; 0.0 0.0 0.0 0.0], -0.046, [0.0, 0.0, 0.0], Main.SpinonStructure.PyrochloreGeometry.PyroPrimitive([2, 2, 3], SVector{3, Int64}[[0, 0, 0], [4, 4, 0], [8, 8, 0], [4, 0, 4], [8, 4, 4], [12, 8, 4], [0, 4, 4], [4, 8, 4], [8, 12, 4], [4, 4, 8]  …  [10, 10, 2], [6, 2, 6], [10, 6, 6], [14, 10, 6], [2, 6, 6], [6, 10, 6], [10, 14, 6], [6, 6, 10], [10, 10, 10], [14, 14, 10]], SVector{3, Int64}[[1, 1, 1], [1, -1, -1], [-1, 1, -1], [-1, -1, 1], [5, 5, 1], [5, 3, -1], [3, 5, -1], [3, 3, 1], [9, 9, 1], [9, 7, -1]  …  [3, 5, 7], [3, 3, 9], [9, 9, 9], [9, 7, 7], [7, 9, 7], [7, 7, 9], [13, 13, 9], [13, 11, 7], [11, 13, 7], [11, 11, 9]]), 2.0, 10000, \"0flux_xxz_test\"), [13, 13, 13, 19, 19, 16, 1, 1, 1, 7  …  10, 10, 11, 11, 11, 11, 12, 12, 12, 12], [19, 16, 15, 16, 15, 15, 7, 4, 2, 4  …  19, 24, 23, 17, 20, 22, 24, 18, 21, 23], ComplexF64[-0.0115 - 0.0im, -0.0115 - 0.0im, -0.0115 - 0.0im, -0.0115 - 0.0im, -0.0115 - 0.0im, -0.0115 - 0.0im, -0.0115 - 0.0im, -0.0115 - 0.0im, -0.0115 - 0.0im, -0.0115 - 0.0im  …  0.0 + 0.0im, 0.0 + 0.0im, 0.0 + 0.0im, 0.0 + 0.0im, 0.0 + 0.0im, 0.0 + 0.0im, 0.0 + 0.0im, 0.0 + 0.0im, 0.0 + 0.0im, 0.0 + 0.0im], [0.0 4.0 … -2.0 -2.0; 4.0 0.0 … 2.0 -2.0; 4.0 4.0 … -2.0 2.0], 0.0)"
      ]
     },
     "execution_count": 2,
     "metadata": {},
     "output_type": "execute_result"
    }
   ],
   "source": [
    "sim = SimulationParameters(\"0flux_xxz_test\",\n",
    "    lattice=geom.PyroPrimitive(2,2,3),\n",
    "    A=zeros(2*2*3,4),\n",
    "    Jpm=-0.046,\n",
    "    B=[0.,0.,0.],\n",
    "    n_samples=10000\n",
    "    )\n",
    "\n",
    "# sim = SimulationParameters(\"0flux_xxz_test\",\n",
    "#     lattice=geom.PyroPrimitive(1,1,1),\n",
    "#     A=[0 0 0 0],\n",
    "#     Jpm=-0.046,\n",
    "#     B=[0.,0.,0.],\n",
    "#     n_samples=10000\n",
    "#     )\n",
    "\n",
    "\n",
    "csim = CompiledModel(sim)\n",
    "\n"
   ]
  },
  {
   "cell_type": "code",
   "execution_count": 3,
   "id": "cea606fc-c5ef-479a-aea4-a995b028945c",
   "metadata": {},
   "outputs": [],
   "source": [
    "\n",
    "# Check correctness of XXZ\n",
    "for i=1:1000\n",
    "    K = @SVector rand(3)\n",
    "    ham1 = SpinonStructure.calc_xxz_hopping_fast(sim, K)\n",
    "    ham2 = SpinonStructure.calc_hopping(csim, K)\n",
    "\n",
    "    diff = norm( ham1 - Matrix(ham2))\n",
    "    if diff > 1e-10\n",
    "        println(\"Discrepancy found!\")\n",
    "        println(ham1)\n",
    "        println(ham2)\n",
    "    end\n",
    "end\n",
    "\n",
    "\n"
   ]
  },
  {
   "cell_type": "code",
   "execution_count": 4,
   "id": "17eb0e3c-1df4-4e0b-b089-270b96372486",
   "metadata": {},
   "outputs": [
    {
     "name": "stdout",
     "output_type": "stream",
     "text": [
      "benchmarking original form:\n"
     ]
    },
    {
     "data": {
      "text/plain": [
       "BenchmarkTools.Trial: 10000 samples with 1 evaluation.\n",
       " Range \u001b[90m(\u001b[39m\u001b[36m\u001b[1mmin\u001b[22m\u001b[39m … \u001b[35mmax\u001b[39m\u001b[90m):  \u001b[39m\u001b[36m\u001b[1m38.792 μs\u001b[22m\u001b[39m … \u001b[35m 46.111 ms\u001b[39m  \u001b[90m┊\u001b[39m GC \u001b[90m(\u001b[39mmin … max\u001b[90m): \u001b[39m 0.00% … 99.83%\n",
       " Time  \u001b[90m(\u001b[39m\u001b[34m\u001b[1mmedian\u001b[22m\u001b[39m\u001b[90m):     \u001b[39m\u001b[34m\u001b[1m40.917 μs               \u001b[22m\u001b[39m\u001b[90m┊\u001b[39m GC \u001b[90m(\u001b[39mmedian\u001b[90m):    \u001b[39m 0.00%\n",
       " Time  \u001b[90m(\u001b[39m\u001b[32m\u001b[1mmean\u001b[22m\u001b[39m ± \u001b[32mσ\u001b[39m\u001b[90m):   \u001b[39m\u001b[32m\u001b[1m48.818 μs\u001b[22m\u001b[39m ± \u001b[32m461.735 μs\u001b[39m  \u001b[90m┊\u001b[39m GC \u001b[90m(\u001b[39mmean ± σ\u001b[90m):  \u001b[39m11.69% ±  3.61%\n",
       "\n",
       "  \u001b[39m \u001b[39m \u001b[39m \u001b[39m \u001b[39m▂\u001b[39m█\u001b[39m▅\u001b[34m▁\u001b[39m\u001b[39m \u001b[39m \u001b[39m \u001b[39m \u001b[39m \u001b[39m \u001b[39m \u001b[39m \u001b[39m \u001b[39m \u001b[39m \u001b[39m \u001b[39m \u001b[39m \u001b[39m \u001b[39m \u001b[39m \u001b[39m \u001b[39m \u001b[39m \u001b[39m \u001b[39m \u001b[39m \u001b[39m \u001b[39m \u001b[32m \u001b[39m\u001b[39m \u001b[39m \u001b[39m \u001b[39m \u001b[39m \u001b[39m \u001b[39m \u001b[39m \u001b[39m \u001b[39m \u001b[39m \u001b[39m \u001b[39m \u001b[39m \u001b[39m \u001b[39m \u001b[39m \u001b[39m \u001b[39m \u001b[39m \u001b[39m \u001b[39m \u001b[39m \u001b[39m \u001b[39m \u001b[39m \u001b[39m \u001b[39m \n",
       "  \u001b[39m▂\u001b[39m▄\u001b[39m█\u001b[39m█\u001b[39m█\u001b[39m█\u001b[39m█\u001b[34m█\u001b[39m\u001b[39m▆\u001b[39m▃\u001b[39m▂\u001b[39m▁\u001b[39m▁\u001b[39m▂\u001b[39m▂\u001b[39m▂\u001b[39m▃\u001b[39m▃\u001b[39m▂\u001b[39m▂\u001b[39m▂\u001b[39m▃\u001b[39m▃\u001b[39m▃\u001b[39m▃\u001b[39m▂\u001b[39m▂\u001b[39m▂\u001b[39m▂\u001b[39m▂\u001b[39m▂\u001b[39m▂\u001b[39m▂\u001b[32m▂\u001b[39m\u001b[39m▂\u001b[39m▂\u001b[39m▂\u001b[39m▂\u001b[39m▂\u001b[39m▂\u001b[39m▂\u001b[39m▁\u001b[39m▁\u001b[39m▁\u001b[39m▁\u001b[39m▁\u001b[39m▁\u001b[39m▁\u001b[39m▁\u001b[39m▁\u001b[39m▁\u001b[39m▁\u001b[39m▁\u001b[39m▁\u001b[39m▁\u001b[39m▁\u001b[39m▁\u001b[39m▁\u001b[39m▁\u001b[39m▁\u001b[39m \u001b[39m▂\n",
       "  38.8 μs\u001b[90m         Histogram: frequency by time\u001b[39m         57.2 μs \u001b[0m\u001b[1m<\u001b[22m\n",
       "\n",
       " Memory estimate\u001b[90m: \u001b[39m\u001b[33m102.86 KiB\u001b[39m, allocs estimate\u001b[90m: \u001b[39m\u001b[33m2691\u001b[39m."
      ]
     },
     "execution_count": 4,
     "metadata": {},
     "output_type": "execute_result"
    }
   ],
   "source": [
    "\n",
    "K = @SVector rand(3)\n",
    "# benchmark\n",
    "println(\"benchmarking original form:\")\n",
    "@benchmark SpinonStructure.calc_xxz_hopping_fast(sim, K)\n"
   ]
  },
  {
   "cell_type": "code",
   "execution_count": 5,
   "id": "3794c29e-adab-42c2-a463-bbe85521392d",
   "metadata": {},
   "outputs": [
    {
     "name": "stdout",
     "output_type": "stream",
     "text": [
      "benchmarking new form:\n"
     ]
    },
    {
     "data": {
      "text/plain": [
       "BenchmarkTools.Trial: 10000 samples with 5 evaluations.\n",
       " Range \u001b[90m(\u001b[39m\u001b[36m\u001b[1mmin\u001b[22m\u001b[39m … \u001b[35mmax\u001b[39m\u001b[90m):  \u001b[39m\u001b[36m\u001b[1m 6.600 μs\u001b[22m\u001b[39m … \u001b[35m 13.095 ms\u001b[39m  \u001b[90m┊\u001b[39m GC \u001b[90m(\u001b[39mmin … max\u001b[90m): \u001b[39m 0.00% … 99.86%\n",
       " Time  \u001b[90m(\u001b[39m\u001b[34m\u001b[1mmedian\u001b[22m\u001b[39m\u001b[90m):     \u001b[39m\u001b[34m\u001b[1m 9.200 μs               \u001b[22m\u001b[39m\u001b[90m┊\u001b[39m GC \u001b[90m(\u001b[39mmedian\u001b[90m):    \u001b[39m 0.00%\n",
       " Time  \u001b[90m(\u001b[39m\u001b[32m\u001b[1mmean\u001b[22m\u001b[39m ± \u001b[32mσ\u001b[39m\u001b[90m):   \u001b[39m\u001b[32m\u001b[1m12.865 μs\u001b[22m\u001b[39m ± \u001b[32m134.942 μs\u001b[39m  \u001b[90m┊\u001b[39m GC \u001b[90m(\u001b[39mmean ± σ\u001b[90m):  \u001b[39m25.92% ±  6.39%\n",
       "\n",
       "  \u001b[39m \u001b[39m \u001b[39m \u001b[39m \u001b[39m \u001b[39m \u001b[39m \u001b[39m \u001b[39m \u001b[39m \u001b[39m \u001b[39m \u001b[39m \u001b[39m \u001b[39m \u001b[39m \u001b[39m \u001b[39m \u001b[39m▁\u001b[39m█\u001b[39m▇\u001b[39m▄\u001b[39m▅\u001b[34m█\u001b[39m\u001b[39m▆\u001b[39m▂\u001b[39m \u001b[39m \u001b[39m \u001b[39m \u001b[39m \u001b[39m \u001b[39m \u001b[39m \u001b[39m \u001b[39m \u001b[39m \u001b[39m \u001b[39m \u001b[39m \u001b[39m \u001b[39m \u001b[39m \u001b[39m \u001b[39m \u001b[39m \u001b[39m \u001b[39m \u001b[39m \u001b[39m \u001b[39m \u001b[39m \u001b[39m \u001b[39m \u001b[39m \u001b[39m \u001b[32m \u001b[39m\u001b[39m \u001b[39m \u001b[39m \u001b[39m \u001b[39m \n",
       "  \u001b[39m▂\u001b[39m▆\u001b[39m▅\u001b[39m▂\u001b[39m▁\u001b[39m▁\u001b[39m▁\u001b[39m▁\u001b[39m▁\u001b[39m▁\u001b[39m▁\u001b[39m▁\u001b[39m▁\u001b[39m▂\u001b[39m▂\u001b[39m▃\u001b[39m▃\u001b[39m▅\u001b[39m█\u001b[39m█\u001b[39m█\u001b[39m█\u001b[39m█\u001b[34m█\u001b[39m\u001b[39m█\u001b[39m█\u001b[39m▆\u001b[39m▇\u001b[39m▆\u001b[39m▆\u001b[39m▄\u001b[39m▄\u001b[39m▄\u001b[39m▃\u001b[39m▃\u001b[39m▃\u001b[39m▃\u001b[39m▂\u001b[39m▂\u001b[39m▂\u001b[39m▂\u001b[39m▂\u001b[39m▂\u001b[39m▂\u001b[39m▂\u001b[39m▁\u001b[39m▁\u001b[39m▁\u001b[39m▁\u001b[39m▁\u001b[39m▁\u001b[39m▁\u001b[39m▁\u001b[39m▁\u001b[39m▁\u001b[39m▁\u001b[32m▁\u001b[39m\u001b[39m▁\u001b[39m▁\u001b[39m▁\u001b[39m \u001b[39m▃\n",
       "  6.6 μs\u001b[90m          Histogram: frequency by time\u001b[39m         13.3 μs \u001b[0m\u001b[1m<\u001b[22m\n",
       "\n",
       " Memory estimate\u001b[90m: \u001b[39m\u001b[33m43.95 KiB\u001b[39m, allocs estimate\u001b[90m: \u001b[39m\u001b[33m38\u001b[39m."
      ]
     },
     "execution_count": 5,
     "metadata": {},
     "output_type": "execute_result"
    }
   ],
   "source": [
    "\n",
    "println(\"benchmarking new form:\")\n",
    "@benchmark SpinonStructure.calc_hopping(csim, K)\n"
   ]
  },
  {
   "cell_type": "code",
   "execution_count": 6,
   "id": "f25f0237-ebb7-4024-83cf-1563898edf11",
   "metadata": {},
   "outputs": [
    {
     "data": {
      "text/plain": [
       "CompiledModel(SimulationParameters([0.0 0.0 0.0 0.0; 0.0 0.0 0.0 0.0; … ; 0.0 0.0 0.0 0.0; 0.0 0.0 0.0 0.0], 0.0, [0.3, 0.0, 0.0], Main.SpinonStructure.PyrochloreGeometry.PyroPrimitive([2, 5, 5], SVector{3, Int64}[[0, 0, 0], [4, 4, 0], [8, 8, 0], [12, 12, 0], [16, 16, 0], [4, 0, 4], [8, 4, 4], [12, 8, 4], [16, 12, 4], [20, 16, 4]  …  [14, 6, 18], [18, 10, 18], [22, 14, 18], [26, 18, 18], [30, 22, 18], [18, 6, 22], [22, 10, 22], [26, 14, 22], [30, 18, 22], [34, 22, 22]], SVector{3, Int64}[[1, 1, 1], [1, -1, -1], [-1, 1, -1], [-1, -1, 1], [5, 5, 1], [5, 3, -1], [3, 5, -1], [3, 3, 1], [9, 9, 1], [9, 7, -1]  …  [23, 13, 19], [23, 11, 21], [29, 17, 21], [29, 15, 19], [27, 17, 19], [27, 15, 21], [33, 21, 21], [33, 19, 19], [31, 21, 19], [31, 19, 21]]), 2.0, 10000, \"0flux_B_test\"), [51, 51, 51, 76, 76, 71, 1, 1, 1, 26  …  48, 48, 49, 49, 49, 49, 50, 50, 50, 50], [76, 71, 55, 71, 55, 55, 26, 6, 2, 6  …  93, 97, 99, 74, 94, 98, 100, 75, 95, 99], ComplexF64[0.0 + 0.0im, 0.0 + 0.0im, 0.0 + 0.0im, 0.0 + 0.0im, 0.0 + 0.0im, 0.0 + 0.0im, 0.0 + 0.0im, 0.0 + 0.0im, 0.0 + 0.0im, 0.0 + 0.0im  …  -0.04330127018922194 - 0.0im, -0.04330127018922194 - 0.0im, 0.04330127018922194 + 0.0im, 0.04330127018922194 + 0.0im, -0.04330127018922194 - 0.0im, -0.04330127018922194 - 0.0im, 0.04330127018922194 + 0.0im, 0.04330127018922194 + 0.0im, -0.04330127018922194 - 0.0im, -0.04330127018922194 - 0.0im], [0.0 4.0 … -2.0 -2.0; 4.0 0.0 … 2.0 -2.0; 4.0 4.0 … -2.0 2.0], 2.3805897026e-314)"
      ]
     },
     "execution_count": 6,
     "metadata": {},
     "output_type": "execute_result"
    }
   ],
   "source": [
    "sim_Btest = SimulationParameters(\"0flux_B_test\",\n",
    "    lattice=geom.PyroPrimitive(2,5,5),\n",
    "    A=zeros(2*5*5,4),\n",
    "    Jpm=0,\n",
    "    B=[0.3,0.,0.],\n",
    "    n_samples=10000\n",
    "    )\n",
    "\n",
    "csim_Btest = CompiledModel(sim_Btest)\n"
   ]
  },
  {
   "cell_type": "code",
   "execution_count": 7,
   "id": "77b9e2b2-2f23-4bcd-b8ca-ffecb2fa6f78",
   "metadata": {},
   "outputs": [
    {
     "name": "stdout",
     "output_type": "stream",
     "text": [
      "Test passed\n"
     ]
    }
   ],
   "source": [
    "nerror = 0\n",
    "# Check correctness of Sz\n",
    "for i=1:10000\n",
    "    K = @SVector rand(3)\n",
    "    ham1 = SpinonStructure.calc_nn_hopping(sim_Btest, K)\n",
    "    ham2 = SpinonStructure.calc_hopping(csim_Btest, K)\n",
    "\n",
    "    diff = norm( ham1 - Matrix(ham2))\n",
    "    if diff > 1e-10\n",
    "        println(\"Discrepancy found!\")\n",
    "        println(ham1)\n",
    "        println(ham2)\n",
    "        nerror += 1\n",
    "    end\n",
    "end\n",
    "if nerror == 0\n",
    "    println(\"Test passed\")\n",
    "end"
   ]
  },
  {
   "cell_type": "code",
   "execution_count": 8,
   "id": "81608020-c721-4875-a358-fedad14d9833",
   "metadata": {},
   "outputs": [
    {
     "data": {
      "text/plain": [
       "BenchmarkTools.Trial: 10000 samples with 1 evaluation.\n",
       " Range \u001b[90m(\u001b[39m\u001b[36m\u001b[1mmin\u001b[22m\u001b[39m … \u001b[35mmax\u001b[39m\u001b[90m):  \u001b[39m\u001b[36m\u001b[1m56.167 μs\u001b[22m\u001b[39m … \u001b[35m  3.177 ms\u001b[39m  \u001b[90m┊\u001b[39m GC \u001b[90m(\u001b[39mmin … max\u001b[90m): \u001b[39m 0.00% … 96.66%\n",
       " Time  \u001b[90m(\u001b[39m\u001b[34m\u001b[1mmedian\u001b[22m\u001b[39m\u001b[90m):     \u001b[39m\u001b[34m\u001b[1m67.708 μs               \u001b[22m\u001b[39m\u001b[90m┊\u001b[39m GC \u001b[90m(\u001b[39mmedian\u001b[90m):    \u001b[39m 0.00%\n",
       " Time  \u001b[90m(\u001b[39m\u001b[32m\u001b[1mmean\u001b[22m\u001b[39m ± \u001b[32mσ\u001b[39m\u001b[90m):   \u001b[39m\u001b[32m\u001b[1m76.997 μs\u001b[22m\u001b[39m ± \u001b[32m113.647 μs\u001b[39m  \u001b[90m┊\u001b[39m GC \u001b[90m(\u001b[39mmean ± σ\u001b[90m):  \u001b[39m10.48% ±  7.12%\n",
       "\n",
       "  \u001b[39m \u001b[39m \u001b[39m \u001b[39m \u001b[39m \u001b[39m \u001b[39m \u001b[39m \u001b[39m \u001b[39m \u001b[39m \u001b[39m \u001b[39m \u001b[39m \u001b[39m▂\u001b[39m█\u001b[39m█\u001b[39m▇\u001b[34m█\u001b[39m\u001b[39m▇\u001b[39m▂\u001b[39m \u001b[39m \u001b[39m \u001b[39m \u001b[39m \u001b[39m \u001b[39m \u001b[39m \u001b[39m \u001b[39m \u001b[39m \u001b[32m \u001b[39m\u001b[39m \u001b[39m \u001b[39m \u001b[39m \u001b[39m \u001b[39m \u001b[39m \u001b[39m \u001b[39m \u001b[39m \u001b[39m \u001b[39m \u001b[39m \u001b[39m \u001b[39m \u001b[39m \u001b[39m \u001b[39m \u001b[39m \u001b[39m \u001b[39m \u001b[39m \u001b[39m \u001b[39m \u001b[39m \u001b[39m \u001b[39m \u001b[39m \u001b[39m \n",
       "  \u001b[39m▂\u001b[39m▄\u001b[39m▄\u001b[39m▄\u001b[39m▃\u001b[39m▂\u001b[39m▂\u001b[39m▁\u001b[39m▁\u001b[39m▁\u001b[39m▁\u001b[39m▁\u001b[39m▂\u001b[39m▅\u001b[39m█\u001b[39m█\u001b[39m█\u001b[39m█\u001b[34m█\u001b[39m\u001b[39m█\u001b[39m█\u001b[39m█\u001b[39m▆\u001b[39m▃\u001b[39m▃\u001b[39m▂\u001b[39m▂\u001b[39m▂\u001b[39m▂\u001b[39m▂\u001b[39m▂\u001b[39m▂\u001b[32m▁\u001b[39m\u001b[39m▁\u001b[39m▁\u001b[39m▁\u001b[39m▁\u001b[39m▁\u001b[39m▁\u001b[39m▁\u001b[39m▁\u001b[39m▁\u001b[39m▁\u001b[39m▁\u001b[39m▁\u001b[39m▁\u001b[39m▁\u001b[39m▁\u001b[39m▁\u001b[39m▁\u001b[39m▁\u001b[39m▁\u001b[39m▁\u001b[39m▁\u001b[39m▁\u001b[39m▁\u001b[39m▁\u001b[39m▁\u001b[39m▁\u001b[39m▁\u001b[39m \u001b[39m▂\n",
       "  56.2 μs\u001b[90m         Histogram: frequency by time\u001b[39m         94.7 μs \u001b[0m\u001b[1m<\u001b[22m\n",
       "\n",
       " Memory estimate\u001b[90m: \u001b[39m\u001b[33m270.39 KiB\u001b[39m, allocs estimate\u001b[90m: \u001b[39m\u001b[33m3806\u001b[39m."
      ]
     },
     "execution_count": 8,
     "metadata": {},
     "output_type": "execute_result"
    }
   ],
   "source": [
    "@benchmark SpinonStructure.calc_nn_hopping(sim_Btest, K)\n"
   ]
  },
  {
   "cell_type": "code",
   "execution_count": 9,
   "id": "bc512e65-5518-4e44-9555-b3473b9c4847",
   "metadata": {},
   "outputs": [
    {
     "data": {
      "text/plain": [
       "BenchmarkTools.Trial: 10000 samples with 1 evaluation.\n",
       " Range \u001b[90m(\u001b[39m\u001b[36m\u001b[1mmin\u001b[22m\u001b[39m … \u001b[35mmax\u001b[39m\u001b[90m):  \u001b[39m\u001b[36m\u001b[1m22.459 μs\u001b[22m\u001b[39m … \u001b[35m 11.445 ms\u001b[39m  \u001b[90m┊\u001b[39m GC \u001b[90m(\u001b[39mmin … max\u001b[90m): \u001b[39m 0.00% … 99.52%\n",
       " Time  \u001b[90m(\u001b[39m\u001b[34m\u001b[1mmedian\u001b[22m\u001b[39m\u001b[90m):     \u001b[39m\u001b[34m\u001b[1m32.667 μs               \u001b[22m\u001b[39m\u001b[90m┊\u001b[39m GC \u001b[90m(\u001b[39mmedian\u001b[90m):    \u001b[39m 0.00%\n",
       " Time  \u001b[90m(\u001b[39m\u001b[32m\u001b[1mmean\u001b[22m\u001b[39m ± \u001b[32mσ\u001b[39m\u001b[90m):   \u001b[39m\u001b[32m\u001b[1m41.932 μs\u001b[22m\u001b[39m ± \u001b[32m168.538 μs\u001b[39m  \u001b[90m┊\u001b[39m GC \u001b[90m(\u001b[39mmean ± σ\u001b[90m):  \u001b[39m20.29% ±  5.94%\n",
       "\n",
       "  \u001b[39m \u001b[39m \u001b[39m \u001b[39m \u001b[39m \u001b[39m \u001b[39m \u001b[39m \u001b[39m \u001b[39m \u001b[39m \u001b[39m \u001b[39m \u001b[39m \u001b[39m \u001b[39m \u001b[39m \u001b[39m▇\u001b[39m█\u001b[39m▇\u001b[39m▄\u001b[34m▄\u001b[39m\u001b[39m▄\u001b[39m▄\u001b[39m▃\u001b[39m \u001b[39m \u001b[39m \u001b[39m \u001b[39m \u001b[39m \u001b[39m \u001b[39m \u001b[39m \u001b[39m \u001b[39m \u001b[39m \u001b[39m \u001b[39m \u001b[39m \u001b[39m \u001b[32m \u001b[39m\u001b[39m \u001b[39m \u001b[39m \u001b[39m \u001b[39m \u001b[39m \u001b[39m \u001b[39m \u001b[39m \u001b[39m \u001b[39m \u001b[39m \u001b[39m \u001b[39m \u001b[39m \u001b[39m \u001b[39m \u001b[39m \u001b[39m \u001b[39m \n",
       "  \u001b[39m▂\u001b[39m▂\u001b[39m▁\u001b[39m▂\u001b[39m▁\u001b[39m▁\u001b[39m▁\u001b[39m▁\u001b[39m▁\u001b[39m▁\u001b[39m▁\u001b[39m▁\u001b[39m▂\u001b[39m▃\u001b[39m▄\u001b[39m▆\u001b[39m▇\u001b[39m█\u001b[39m█\u001b[39m█\u001b[39m█\u001b[34m█\u001b[39m\u001b[39m█\u001b[39m█\u001b[39m█\u001b[39m█\u001b[39m▇\u001b[39m▅\u001b[39m▅\u001b[39m▄\u001b[39m▃\u001b[39m▃\u001b[39m▂\u001b[39m▂\u001b[39m▂\u001b[39m▂\u001b[39m▂\u001b[39m▂\u001b[39m▂\u001b[39m▁\u001b[39m▁\u001b[32m▁\u001b[39m\u001b[39m▁\u001b[39m▁\u001b[39m▁\u001b[39m▁\u001b[39m▁\u001b[39m▁\u001b[39m▁\u001b[39m▁\u001b[39m▁\u001b[39m▁\u001b[39m▁\u001b[39m▁\u001b[39m▁\u001b[39m▁\u001b[39m▁\u001b[39m▁\u001b[39m▁\u001b[39m▁\u001b[39m \u001b[39m▃\n",
       "  22.5 μs\u001b[90m         Histogram: frequency by time\u001b[39m         51.1 μs \u001b[0m\u001b[1m<\u001b[22m\n",
       "\n",
       " Memory estimate\u001b[90m: \u001b[39m\u001b[33m172.20 KiB\u001b[39m, allocs estimate\u001b[90m: \u001b[39m\u001b[33m38\u001b[39m."
      ]
     },
     "execution_count": 9,
     "metadata": {},
     "output_type": "execute_result"
    }
   ],
   "source": [
    "@benchmark SpinonStructure.calc_hopping(csim_Btest, K)"
   ]
  },
  {
   "cell_type": "code",
   "execution_count": null,
   "id": "cb427206-8934-4795-9ab2-cf39f9a8bf54",
   "metadata": {},
   "outputs": [],
   "source": []
  }
 ],
 "metadata": {
  "kernelspec": {
   "display_name": "Julia 1.10.4",
   "language": "julia",
   "name": "julia-1.10"
  },
  "language_info": {
   "file_extension": ".jl",
   "mimetype": "application/julia",
   "name": "julia",
   "version": "1.10.4"
  }
 },
 "nbformat": 4,
 "nbformat_minor": 5
}
