{
 "cells": [
  {
   "cell_type": "code",
   "execution_count": 3,
   "id": "fdb1eca1-3f62-4ac3-91da-bb3360e6f3f2",
   "metadata": {},
   "outputs": [
    {
     "data": {
      "text/plain": [
       "Main.SpinonStructure"
      ]
     },
     "execution_count": 3,
     "metadata": {},
     "output_type": "execute_result"
    }
   ],
   "source": [
    "include(\"../src/SpinonStructure.jl\")"
   ]
  },
  {
   "cell_type": "code",
   "execution_count": 7,
   "id": "e0a4676d-3248-45bc-bd80-d95f451ccb36",
   "metadata": {},
   "outputs": [],
   "source": [
    "using .SpinonStructure\n",
    "using StaticArrays"
   ]
  },
  {
   "cell_type": "code",
   "execution_count": null,
   "id": "14d43178-208d-499b-a889-5951f592a339",
   "metadata": {},
   "outputs": [],
   "source": []
  },
  {
   "cell_type": "code",
   "execution_count": 6,
   "id": "0f8ba67d-bd89-4cd9-aa8b-50ee1cadf2f6",
   "metadata": {},
   "outputs": [
    {
     "ename": "LoadError",
     "evalue": "LoadError: UndefVarError: `@SVector` not defined\nin expression starting at In[6]:1",
     "output_type": "error",
     "traceback": [
      "LoadError: UndefVarError: `@SVector` not defined\nin expression starting at In[6]:1",
      ""
     ]
    }
   ],
   "source": [
    "Q = @SVector [0.,0,0]\n",
    "\n",
    "SpinonStructure.corr_at(Q, Q, "
   ]
  },
  {
   "cell_type": "code",
   "execution_count": null,
   "id": "872b5931-0705-4b1d-bb81-35f5bee085cb",
   "metadata": {},
   "outputs": [],
   "source": []
  }
 ],
 "metadata": {
  "kernelspec": {
   "display_name": "Julia 1.10.4",
   "language": "julia",
   "name": "julia-1.10"
  },
  "language_info": {
   "file_extension": ".jl",
   "mimetype": "application/julia",
   "name": "julia",
   "version": "1.10.4"
  }
 },
 "nbformat": 4,
 "nbformat_minor": 5
}
