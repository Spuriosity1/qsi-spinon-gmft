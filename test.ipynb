{
 "cells": [
  {
   "cell_type": "code",
   "execution_count": 1,
   "id": "9d654d97-bce6-43ee-a6b4-53513b6e1669",
   "metadata": {},
   "outputs": [],
   "source": [
    "include(\"PyrochloreGeometry.jl\")\n",
    "import .PyrochloreGeometry as geom\n",
    "using LinearAlgebra"
   ]
  },
  {
   "cell_type": "code",
   "execution_count": 11,
   "id": "ebd2bd0a-e14b-48bf-a46b-fee23fd082c5",
   "metadata": {},
   "outputs": [
    {
     "data": {
      "text/plain": [
       "4×4 Matrix{ComplexF64}:\n",
       " 0.729155+0.000906693im  0.900283+0.000535394im  …  0.900948-0.000988845im\n",
       " 0.900283+0.000535394im  0.730606-0.000895045im     0.900735-0.00214639im\n",
       " 0.900735+0.00214639im   0.900948+0.000988845im     0.900283-0.000535394im\n",
       " 0.900948-0.000988845im  0.900735-0.00214639im      0.730923-0.00298943im"
      ]
     },
     "execution_count": 11,
     "metadata": {},
     "output_type": "execute_result"
    }
   ],
   "source": [
    "nsample = 100000\n",
    "L = 100000\n",
    "Klist = rand(-L:L,nsample,3)*π/(L)\n",
    "b = 2 .*geom.pyro\n",
    "\n",
    "W = zeros(ComplexF64,4,4)\n",
    "for mu=1:4, nu=1:4\n",
    "    f = k -> exp(-1im/2 * k' *(b[mu] + b[nu])/8) \n",
    "    W[mu,nu] = sum( map( f , eachrow(Klist) ) )/nsample\n",
    "end\n",
    "W"
   ]
  },
  {
   "cell_type": "code",
   "execution_count": 12,
   "id": "ff8f2816-fd1c-4edf-8f65-6849852647ee",
   "metadata": {},
   "outputs": [
    {
     "data": {
      "text/plain": [
       "4×4 Matrix{StaticArraysCore.SVector{3, Float64}}:\n",
       " [0.0, 0.0, 0.0]      [0.0, 0.25, 0.25]   …  [0.25, 0.25, 0.0]\n",
       " [0.0, -0.25, -0.25]  [0.0, 0.0, 0.0]        [0.25, 0.0, -0.25]\n",
       " [-0.25, 0.0, -0.25]  [-0.25, 0.25, 0.0]     [0.0, 0.25, -0.25]\n",
       " [-0.25, -0.25, 0.0]  [-0.25, 0.0, 0.25]     [0.0, 0.0, 0.0]"
      ]
     },
     "execution_count": 12,
     "metadata": {},
     "output_type": "execute_result"
    }
   ],
   "source": [
    "[(b[mu] - b[nu]) for mu=1:4, nu=1:4]/2 /8"
   ]
  },
  {
   "cell_type": "code",
   "execution_count": 13,
   "id": "a821590f-5df9-4d8b-950b-4ef07e225cf8",
   "metadata": {},
   "outputs": [
    {
     "data": {
      "text/plain": [
       "Main.PyrochloreGeometry.PyroFCC(1, StaticArraysCore.SVector{3, Int64}[[0, 0, 0], [0, 4, 4], [4, 0, 4], [4, 4, 0], [2, 2, 2], [2, 6, 6], [6, 2, 6], [6, 6, 2]], StaticArraysCore.SVector{3, Int64}[[0, 0, 0], [0, 4, 4], [4, 0, 4], [4, 4, 0]], StaticArraysCore.SVector{3, Int64}[[1, 1, 1], [1, -1, -1], [-1, 1, -1], [-1, -1, 1], [1, 5, 5], [1, 3, 3], [-1, 5, 3], [-1, 3, 5], [5, 1, 5], [5, -1, 3], [3, 1, 3], [3, -1, 5], [5, 5, 1], [5, 3, -1], [3, 5, -1], [3, 3, 1]])"
      ]
     },
     "execution_count": 13,
     "metadata": {},
     "output_type": "execute_result"
    }
   ],
   "source": [
    "lat = geom.PyroFCC(1)"
   ]
  },
  {
   "cell_type": "code",
   "execution_count": 15,
   "id": "1900d3d7-2645-4457-91ab-0d3c496e1aba",
   "metadata": {},
   "outputs": [
    {
     "data": {
      "text/plain": [
       "4×4 Matrix{Float64}:\n",
       " 0.729769  0.900316  0.900316  0.900316\n",
       " 0.900316  0.729769  0.900316  0.900316\n",
       " 0.900316  0.900316  0.729769  0.900316\n",
       " 0.900316  0.900316  0.900316  0.729769"
      ]
     },
     "execution_count": 15,
     "metadata": {},
     "output_type": "execute_result"
    }
   ],
   "source": []
  },
  {
   "cell_type": "code",
   "execution_count": null,
   "id": "278e03b1-d028-4320-97b5-3e6493cf411e",
   "metadata": {},
   "outputs": [],
   "source": []
  }
 ],
 "metadata": {
  "kernelspec": {
   "display_name": "Julia 1.9.3",
   "language": "julia",
   "name": "julia-1.9"
  },
  "language_info": {
   "file_extension": ".jl",
   "mimetype": "application/julia",
   "name": "julia",
   "version": "1.9.3"
  }
 },
 "nbformat": 4,
 "nbformat_minor": 5
}
