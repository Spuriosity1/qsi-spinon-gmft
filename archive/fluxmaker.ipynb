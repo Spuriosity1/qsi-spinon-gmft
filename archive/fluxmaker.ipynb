{
 "cells": [
  {
   "cell_type": "code",
   "execution_count": 1,
   "id": "848a0756-31b5-40e0-8a3a-a253ed272ea6",
   "metadata": {
    "editable": true,
    "slideshow": {
     "slide_type": ""
    },
    "tags": []
   },
   "outputs": [],
   "source": [
    "using LinearAlgebra\n",
    "# using IntegerSmithNormalForm\n",
    "using CSV\n",
    "# using DataFrames\n",
    "using Plots\n",
    "\n",
    "plot_font = \"Computer Modern\"\n",
    "default(fontfamily=plot_font,\n",
    "        linewidth=2, framestyle=:box, label=nothing, grid=false)\n",
    "scalefontsizes(1.3)"
   ]
  },
  {
   "cell_type": "code",
   "execution_count": 2,
   "id": "bd8068f8-c466-4a40-b6d8-d174ec57d1b2",
   "metadata": {},
   "outputs": [
    {
     "data": {
      "text/plain": [
       "elementary (generic function with 1 method)"
      ]
     },
     "execution_count": 2,
     "metadata": {},
     "output_type": "execute_result"
    }
   ],
   "source": [
    "function elementary(mu::Int, nu::Int)\n",
    "    E = zeros(Int32, 4,4)\n",
    "    E[mu,nu] = 1\n",
    "    return E\n",
    "end"
   ]
  },
  {
   "cell_type": "code",
   "execution_count": 3,
   "id": "e026f095-611f-4e0f-aa8d-923017c29564",
   "metadata": {},
   "outputs": [
    {
     "data": {
      "text/plain": [
       "fluxes (generic function with 1 method)"
      ]
     },
     "execution_count": 3,
     "metadata": {},
     "output_type": "execute_result"
    }
   ],
   "source": [
    "function fluxes(a::Matrix)\n",
    "    # input: in the form a[sl_from][direction]\n",
    "    # Returns 16 plaquette valued things, notation\n",
    "    # output phi[sl_from][direction]\n",
    "    out = zeros(4,4)\n",
    "    for (mu, (i1,i2,i3)) in enumerate(Iterators.Stateful([\n",
    "                    (4,2,3), (2,4,1), (3,1,4), (1,3,2) ]))\n",
    "        out[mu, 4] = a[i1, 3] - a[i2, 1] + a[i2, 2] - a[i3, 3] + a[i3, 1] - a[i1, 2]\n",
    "    end\n",
    "\n",
    "    for (mu, (i1,i2,i3)) in enumerate(Iterators.Stateful([\n",
    "                    (1,3,2), (3,1,4), (2,4,1), (4,2,3) ]))\n",
    "        out[mu, 1] = a[i1, 2] - a[i2, 4] + a[i2, 3] - a[i3, 2] + a[i3, 4] - a[i1, 3]\n",
    "    end\n",
    "\n",
    "    for (mu, (i1,i2,i3)) in enumerate(Iterators.Stateful([\n",
    "                    (1,2,4), (3,4,2), (2,1,3), (4,3,1) ]))\n",
    "        out[mu, 2] = a[i1, 3] - a[i2, 4] + a[i2, 1] - a[i3, 3] + a[i3, 4] - a[i1, 1]\n",
    "    end\n",
    "\n",
    "    for (mu, (i1,i2,i3)) in enumerate(Iterators.Stateful([\n",
    "                    (1,4,3), (3,2,1), (2,3,4), (4,1,2) ]))\n",
    "        out[mu, 3] = a[i1, 1] - a[i2, 4] + a[i2, 2] - a[i3, 1] + a[i3, 4] - a[i1, 2]\n",
    "    end\n",
    "\n",
    "    return out\n",
    "end\n",
    "    \n",
    "    "
   ]
  },
  {
   "cell_type": "code",
   "execution_count": 4,
   "id": "ae2887ca-6109-4f7d-9df8-829cb764f214",
   "metadata": {},
   "outputs": [
    {
     "data": {
      "text/plain": [
       "4×4 Matrix{Float64}:\n",
       " -1.0   1.0   1.0  -1.0\n",
       "  1.0   1.0  -1.0  -1.0\n",
       " -1.0   1.0  -1.0   1.0\n",
       "  1.0  -1.0   1.0   1.0"
      ]
     },
     "execution_count": 4,
     "metadata": {},
     "output_type": "execute_result"
    }
   ],
   "source": [
    "# the pi/2 ansatz\n",
    "e = 0.1\n",
    "a_πflux = [\n",
    "    0 0 π -π; # sl 1\n",
    "    0 0 0 0; # sl 2\n",
    "    0 0 π π; # sl 3\n",
    "    0 0 0 0  # sl 4 (0)\n",
    "]\n",
    "\n",
    "angle.(exp.(1im*fluxes(a_πflux) ))/π  "
   ]
  },
  {
   "cell_type": "code",
   "execution_count": 5,
   "id": "fe167439-80ed-40bc-9914-7c5800b57d22",
   "metadata": {},
   "outputs": [
    {
     "data": {
      "text/plain": [
       "4×4 Matrix{Float64}:\n",
       " 0.5  0.5  0.5  0.5\n",
       " 0.5  0.5  0.5  0.5\n",
       " 0.5  0.5  0.5  0.5\n",
       " 0.5  0.5  0.5  0.5"
      ]
     },
     "execution_count": 5,
     "metadata": {},
     "output_type": "execute_result"
    }
   ],
   "source": [
    "# the pi/2 ansatz\n",
    "e = 0.1\n",
    "a_π2flux = [\n",
    "    0 0 π/2 -π/2; # sl 1\n",
    "    0 π 0 0; # sl 2\n",
    "    0 0 π/2 π/2; # sl 3\n",
    "    0 0 0 0  # sl 4 (0)\n",
    "]\n",
    "\n",
    "angle.(exp.(1im*fluxes(a_π2flux) ))/π  "
   ]
  },
  {
   "cell_type": "code",
   "execution_count": 6,
   "id": "6dd87759-968e-4089-a1e8-c39abfde05f0",
   "metadata": {},
   "outputs": [
    {
     "data": {
      "text/plain": [
       "4×4 Matrix{Float64}:\n",
       "  1.0  -1.0  0.0  0.0\n",
       " -1.0   1.0  0.0  0.0\n",
       "  1.0  -1.0  0.0  0.0\n",
       " -1.0   1.0  0.0  0.0"
      ]
     },
     "execution_count": 6,
     "metadata": {},
     "output_type": "execute_result"
    }
   ],
   "source": [
    "a_ππ00_12 = [\n",
    "    0 0 0 π; # sl 1\n",
    "    0 0 0 π; # sl 2\n",
    "    0 0 0 0; # sl 3\n",
    "    0 0 0 0  # sl 4 (0)\n",
    "]\n",
    "\n",
    "angle.(exp.(1im*fluxes(a_ππ00_12) ))/π  "
   ]
  },
  {
   "cell_type": "code",
   "execution_count": 7,
   "id": "78602e38-783c-406e-b56b-a63fe564e432",
   "metadata": {},
   "outputs": [
    {
     "data": {
      "text/plain": [
       "4×4 Matrix{Float64}:\n",
       " -1.0  0.0   1.0  0.0\n",
       " -1.0  0.0   1.0  0.0\n",
       "  1.0  0.0  -1.0  0.0\n",
       "  1.0  0.0  -1.0  0.0"
      ]
     },
     "execution_count": 7,
     "metadata": {},
     "output_type": "execute_result"
    }
   ],
   "source": [
    "a_ππ00_13 = [\n",
    "    0 0 0 π; # sl 1\n",
    "    0 0 0 0; # sl 2\n",
    "    0 0 0 π; # sl 3\n",
    "    0 0 0 0  # sl 4 (0)\n",
    "]\n",
    "\n",
    "angle.(exp.(1im*fluxes(a_ππ00_13) ))/π  "
   ]
  },
  {
   "cell_type": "code",
   "execution_count": 8,
   "id": "1752e7b8-7c19-40f8-855a-dab6f184e3fd",
   "metadata": {},
   "outputs": [
    {
     "data": {
      "text/plain": [
       "4×4 Matrix{Float64}:\n",
       " 0.0   1.0  -1.0  0.0\n",
       " 0.0  -1.0   1.0  0.0\n",
       " 0.0  -1.0   1.0  0.0\n",
       " 0.0   1.0  -1.0  0.0"
      ]
     },
     "execution_count": 8,
     "metadata": {},
     "output_type": "execute_result"
    }
   ],
   "source": [
    "a_ππ00_14 = [\n",
    "    0 0 0 π; # sl 1\n",
    "    0 0 0 0; # sl 2\n",
    "    0 0 0 0; # sl 3\n",
    "    0 0 0 π  # sl 4 (0)\n",
    "]\n",
    "\n",
    "angle.(exp.(1im*fluxes(a_ππ00_14) ))/π  "
   ]
  },
  {
   "cell_type": "code",
   "execution_count": 9,
   "id": "41f0f74f-06a6-4c73-ae4e-d9be553a59b8",
   "metadata": {},
   "outputs": [
    {
     "data": {
      "text/plain": [
       "4×4 Matrix{Float64}:\n",
       " -0.1  -2.44929e-16   0.1   0.0\n",
       "  0.1   0.2          -0.1  -0.2\n",
       "  0.1   2.44929e-16  -0.1   0.0\n",
       " -0.1  -0.2           0.1   0.2"
      ]
     },
     "execution_count": 9,
     "metadata": {},
     "output_type": "execute_result"
    }
   ],
   "source": [
    "fluxpat(a) = angle.(exp.(1im*fluxes(a)))\n",
    "e = 0.1\n",
    "\n",
    "fluxpat([\n",
    "    0 0 e 2π-e; # sl 1\n",
    "    0 0 -e 0; # sl 2\n",
    "    0 0 0 0; # sl 3\n",
    "    0 0 0 2π-e  # sl 4 (0)\n",
    "])"
   ]
  },
  {
   "cell_type": "code",
   "execution_count": 10,
   "id": "fa9e2869-3fec-4795-8d4a-20d2761add21",
   "metadata": {},
   "outputs": [
    {
     "data": {
      "text/plain": [
       "16×16 Matrix{Int32}:\n",
       "  0   1  -1   0   0  -1   0   1   0   0   1  -1   0   0   0   0\n",
       "  0   0   1  -1   0   0   0   0   0   1  -1   0   0  -1   0   1\n",
       "  0  -1   0   1   0   1  -1   0   0   0   0   0   0   0   1  -1\n",
       "  0   0   0   0   0   0   1  -1   0  -1   0   1   0   1  -1   0\n",
       " -1   0   1   0   1   0   0  -1   0   0   0   0   0   0  -1   1\n",
       "  0   0   0   0   0   0  -1   1  -1   0   1   0   1   0   0  -1\n",
       "  1   0   0  -1  -1   0   1   0   0   0  -1   1   0   0   0   0\n",
       "  0   0  -1   1   0   0   0   0   1   0   0  -1  -1   0   1   0\n",
       "  1  -1   0   0   0   0   0   0  -1   0   0   1   0   1   0  -1\n",
       " -1   0   0   1   0   1   0  -1   1  -1   0   0   0   0   0   0\n",
       "  0   0   0   0   1  -1   0   0   0   1   0  -1  -1   0   0   1\n",
       "  0   1   0  -1  -1   0   0   1   0   0   0   0   1  -1   0   0\n",
       "  0   0   0   0  -1   1   0   0   1   0  -1   0   0  -1   1   0\n",
       "  1   0  -1   0   0  -1   1   0   0   0   0   0  -1   1   0   0\n",
       " -1   1   0   0   0   0   0   0   0  -1   1   0   1   0  -1   0\n",
       "  0  -1   1   0   1   0  -1   0  -1   1   0   0   0   0   0   0"
      ]
     },
     "execution_count": 10,
     "metadata": {},
     "output_type": "execute_result"
    }
   ],
   "source": [
    "M = zeros(Int32, 16,16);\n",
    "for mu=1:4\n",
    "    for nu=1:4\n",
    "        # mu -> row; = \n",
    "        M[:, nu + 4*(mu-1)] = vec(fluxes(elementary(mu, nu)))\n",
    "    end\n",
    "end\n",
    "\n",
    "M"
   ]
  },
  {
   "cell_type": "code",
   "execution_count": 26,
   "id": "fd88f3b3-6088-4ae1-b391-a4d3c22fadc4",
   "metadata": {},
   "outputs": [
    {
     "data": {
      "text/plain": [
       "6"
      ]
     },
     "execution_count": 26,
     "metadata": {},
     "output_type": "execute_result"
    }
   ],
   "source": [
    "rank(M)"
   ]
  },
  {
   "cell_type": "code",
   "execution_count": 184,
   "id": "33c7d90f-d6f3-45c6-8fb2-a59552b6eb9e",
   "metadata": {},
   "outputs": [
    {
     "data": {
      "text/plain": [
       "(Int32[0 0 … 0 0; 0 0 … 0 0; … ; 1 1 … 1 0; -1 -1 … 0 1], Int32[1 0 … 0 0; 0 1 … 0 0; … ; 0 0 … 0 0; 0 0 … 0 0], Int32[1 0 … -1 -1; 0 1 … 0 -1; … ; 0 0 … 1 0; 0 0 … 0 1])"
      ]
     },
     "execution_count": 184,
     "metadata": {},
     "output_type": "execute_result"
    }
   ],
   "source": [
    "R,S,B = snf(M)"
   ]
  },
  {
   "cell_type": "code",
   "execution_count": 11,
   "id": "9a9d0521-6bd7-4b33-9e5c-6efb61d93be7",
   "metadata": {},
   "outputs": [
    {
     "data": {
      "text/plain": [
       "uniform (generic function with 1 method)"
      ]
     },
     "execution_count": 11,
     "metadata": {},
     "output_type": "execute_result"
    }
   ],
   "source": [
    "function uniform( phi )\n",
    "    # returns the matrix of uniform-flux states\n",
    "    # phi in the form [phi1, phi2, phi3]\n",
    "    F = zeros(Int32, 4,4)\n",
    "    for mu =1:4\n",
    "        F[mu, :] .= phi'\n",
    "    end\n",
    "    return vec(F)\n",
    "end"
   ]
  },
  {
   "cell_type": "code",
   "execution_count": 12,
   "id": "d4d854ad-a721-4093-a1f9-32896284c23c",
   "metadata": {},
   "outputs": [
    {
     "data": {
      "text/plain": [
       "3×16 Matrix{Int32}:\n",
       " 1  1  1  1   1   1   1   1  -1  -1  -1  -1  -1  -1  -1  -1\n",
       " 1  1  1  1  -1  -1  -1  -1   1   1   1   1  -1  -1  -1  -1\n",
       " 1  1  1  1  -1  -1  -1  -1  -1  -1  -1  -1   1   1   1   1"
      ]
     },
     "execution_count": 12,
     "metadata": {},
     "output_type": "execute_result"
    }
   ],
   "source": [
    "Phi = mapreduce(permutedims, vcat, [\n",
    "    uniform([1 1 -1 -1]),\n",
    "    uniform([1 -1 1 -1]),\n",
    "    uniform([1 -1 -1 1])\n",
    "    ])"
   ]
  },
  {
   "cell_type": "code",
   "execution_count": 29,
   "id": "d07f3d29-9670-4b9f-a256-de57a110ed0a",
   "metadata": {},
   "outputs": [
    {
     "ename": "LoadError",
     "evalue": "UndefVarError: `S` not defined",
     "output_type": "error",
     "traceback": [
      "UndefVarError: `S` not defined",
      "",
      "Stacktrace:",
      " [1] top-level scope",
      "   @ In[29]:1"
     ]
    }
   ],
   "source": [
    "@assert S*S == S\n",
    "X= (S*R*Phi')[:,2] + (S*R*Phi')[:,1];\n",
    "a_test = B*X\n",
    "fluxes(reshape(a_test,4,4))"
   ]
  },
  {
   "cell_type": "code",
   "execution_count": 299,
   "id": "257c3d33-d8f0-44a0-abbd-49b5d9328459",
   "metadata": {},
   "outputs": [
    {
     "data": {
      "text/plain": [
       "16×16 Matrix{Int32}:\n",
       "  0   0   0  0  -1   0  0  0   0  0  0  0  0  0  0  0\n",
       "  0   0  -1  0   0   0  0  0   0  0  0  0  0  0  0  0\n",
       "  0   1   0  0   0   0  0  0   0  0  0  0  0  0  0  0\n",
       "  0  -1  -1  0   1   0  0  0   1  0  0  0  0  0  0  0\n",
       " -1  -1  -1  0   0   0  0  0   0  0  0  0  0  0  0  0\n",
       "  1   1   1  0   0  -1  0  0   0  0  0  0  0  0  0  0\n",
       "  1   0   1  0   1   0  1  0   0  0  0  0  0  0  0  0\n",
       " -1   0  -1  0   0   1  0  1   0  0  0  0  0  0  0  0\n",
       "  1   1   1  1   0   0  0  0   0  0  0  0  0  0  0  0\n",
       "  1   1   0  0   0   0  0  0   1  1  0  0  0  0  0  0\n",
       " -2  -1  -1  0  -1   1  0  0  -1  0  1  0  0  0  0  0\n",
       "  1   0   1  0   1  -1  0  0   1  0  0  1  0  0  0  0\n",
       "  1   0   0  0   1   0  0  0   1  0  0  0  1  0  0  0\n",
       " -1   0   0  0   0   1  0  0  -1  0  0  0  0  1  0  0\n",
       "  1   1   1  0   0  -1  0  0   1  0  0  0  0  0  1  0\n",
       " -1  -1  -1  0  -1   0  0  0  -1  0  0  0  0  0  0  1"
      ]
     },
     "execution_count": 299,
     "metadata": {},
     "output_type": "execute_result"
    }
   ],
   "source": [
    "R"
   ]
  },
  {
   "cell_type": "markdown",
   "id": "8d010768-e8d8-427a-93aa-8328b51e2374",
   "metadata": {},
   "source": [
    "# Reverse engineering the fluxes\n",
    "\n",
    "Problem: within finite unit cell, can only have fluxes be integer multiple of $\\frac{\\pi}{2}L^2$. Not obvious how to fine J, B such that fluxes agree.\n"
   ]
  },
  {
   "cell_type": "code",
   "execution_count": 5,
   "id": "48ca1f0b-c05e-43fc-92c6-d487a3bf86be",
   "metadata": {},
   "outputs": [
    {
     "data": {
      "text/plain": [
       "best_flux_fast (generic function with 1 method)"
      ]
     },
     "execution_count": 5,
     "metadata": {},
     "output_type": "execute_result"
    }
   ],
   "source": [
    "using Optim\n",
    "\n",
    "function best_flux_fast(gvec::Vector{Float64})\n",
    "    best_fun = sum(abs.(gvec))+1\n",
    "    res = Nothing\n",
    "\n",
    "    \n",
    "    function energy_der!(storage, x)\n",
    "        storage[1] = -gvec[1]*sin(x[1]) + gvec[4]*sin(-x[1]-x[2]-x[3])\n",
    "        storage[2] = -gvec[2]*sin(x[2]) + gvec[4]*sin(-x[1]-x[2]-x[3])\n",
    "        storage[3] = -gvec[3]*sin(x[3]) + gvec[4]*sin(-x[1]-x[2]-x[3])\n",
    "    end\n",
    "\n",
    "    \n",
    "    energy_cost(x) = dot(gvec[1:3],cos.(x[1:3])) + gvec[4]*cos(-x[1]-x[2]-x[3])\n",
    "\n",
    "    guesses = [\n",
    "        [0. 0. 0.],\n",
    "        [π/2 π/2 π/2],\n",
    "        [π/2 -π/2 π/2],\n",
    "        [-π/2 -π/2 π/2],\n",
    "        [-π/2 -π/2 -π/2],\n",
    "        [π π π]\n",
    "        ]\n",
    "\n",
    "    lower = [-π -π -π]\n",
    "    upper = [π π π]\n",
    "    \n",
    "    minim = Inf\n",
    "    r = nothing\n",
    "    for guess in guesses\n",
    "        od = OnceDifferentiable(energy_cost, energy_der!, guess)\n",
    "        res = optimize(od, lower, upper, guess, Fminbox(GradientDescent()) )\n",
    "        if res.minimum < minim\n",
    "            r = res\n",
    "            minim = res.minimum\n",
    "        end\n",
    "    end\n",
    "    return r\n",
    "end"
   ]
  },
  {
   "cell_type": "code",
   "execution_count": 14,
   "id": "31adfd96-5ce3-403b-9e0f-b2419d6730e6",
   "metadata": {},
   "outputs": [
    {
     "data": {
      "text/plain": [
       "3×100 Matrix{Float64}:\n",
       " 0.0  0.0  0.0  0.0  0.0  0.0  3.73739e-8  …  0.990032  0.9906  0.991157\n",
       " 0.0  0.0  0.0  0.0  0.0  0.0  3.65535e-8     0.990032  0.9906  0.991157\n",
       " 0.0  0.0  0.0  0.0  0.0  0.0  3.73739e-8     0.990032  0.9906  0.991157"
      ]
     },
     "execution_count": 14,
     "metadata": {},
     "output_type": "execute_result"
    }
   ],
   "source": [
    "using Plots\n",
    "g0 = range(0,5,100)\n",
    "\n",
    "flux_vals = reduce(hcat, (x -> best_flux_fast([-1., -1., -1.,x]).minimizer' ).(g0))\n",
    "\n"
   ]
  },
  {
   "cell_type": "code",
   "execution_count": 36,
   "id": "989ba842-c75f-4c52-bf49-4639fdc126f4",
   "metadata": {},
   "outputs": [
    {
     "data": {
      "text/plain": [
       "1×3 Matrix{Float64}:\n",
       " -0.263278  -0.263278  -0.263278"
      ]
     },
     "execution_count": 36,
     "metadata": {},
     "output_type": "execute_result"
    }
   ],
   "source": [
    "best_flux_fast([-1.,-1.,-1.,1.2]).minimizer  / π"
   ]
  },
  {
   "cell_type": "code",
   "execution_count": 15,
   "id": "a136cf72-c395-4046-8865-498395bd50eb",
   "metadata": {},
   "outputs": [
    {
     "ename": "LoadError",
     "evalue": "UndefVarError: `f` not defined",
     "output_type": "error",
     "traceback": [
      "UndefVarError: `f` not defined",
      "",
      "Stacktrace:",
      " [1] top-level scope",
      "   @ In[15]:9"
     ]
    }
   ],
   "source": [
    "using LaTeXStrings\n",
    "# using Plots\n",
    "\n",
    "\n",
    "plot(g0, abs.(flux_vals'),label=\"numerics\",seriestype=:scatter)\n",
    "\n",
    "\n",
    "\n",
    "plot!(g0, 1/3 .*f.(g0),label=\"analytic\")\n",
    "\n",
    "xlabel!(L\"-g_0/g_1\")\n",
    "ylabel!(L\"\\Phi_{1,2,3}\")\n",
    "tix = range(0,π/3,6)\n",
    "yticks!(tix,map(x->\"$(x/π)π\", tix))\n",
    "\n",
    "\n",
    "# title!(\"Some Plots\")\n",
    "# xlabel!(\"x label\")\n",
    "# ylabel!(\"y label\")"
   ]
  },
  {
   "cell_type": "code",
   "execution_count": 51,
   "id": "7e44a775-17fc-442e-9ab7-0aa52d769f8e",
   "metadata": {},
   "outputs": [
    {
     "name": "stdout",
     "output_type": "stream",
     "text": [
      "search: \u001b[0m\u001b[1my\u001b[22m\u001b[0m\u001b[1mt\u001b[22m\u001b[0m\u001b[1mi\u001b[22m\u001b[0m\u001b[1mc\u001b[22m\u001b[0m\u001b[1mk\u001b[22m\u001b[0m\u001b[1ms\u001b[22m \u001b[0m\u001b[1my\u001b[22m\u001b[0m\u001b[1mt\u001b[22m\u001b[0m\u001b[1mi\u001b[22m\u001b[0m\u001b[1mc\u001b[22m\u001b[0m\u001b[1mk\u001b[22m\u001b[0m\u001b[1ms\u001b[22m!\n",
      "\n"
     ]
    },
    {
     "data": {
      "text/latex": [
       "\\begin{verbatim}\n",
       "yticks(p::Plot)\n",
       "\\end{verbatim}\n",
       "returns a vector of the y-axis ticks of the subplots of \\texttt{p}.\n",
       "\n",
       "Example use:\n",
       "\n",
       "\\begin{verbatim}\n",
       "julia> p = plot(1:5, yticks=[1,2])\n",
       "\n",
       "julia> yticks(p)\n",
       "1-element Vector{Tuple{Vector{Float64}, Vector{String}}}:\n",
       " ([1.0, 2.0], [\"1\", \"2\"])\n",
       "\\end{verbatim}\n",
       "If \\texttt{p} consists of a single subplot, you might want to grab only the first element, via\n",
       "\n",
       "\\begin{verbatim}\n",
       "julia> yticks(p)[1]\n",
       "([1.0, 2.0], [\"1\", \"2\"])\n",
       "\\end{verbatim}\n",
       "or you can call yticks on the first (only) subplot of \\texttt{p} via\n",
       "\n",
       "\\begin{verbatim}\n",
       "julia> yticks(p[1])\n",
       "([1.0, 2.0], [\"1\", \"2\"])\n",
       "\\end{verbatim}\n",
       "\\rule{\\textwidth}{1pt}\n",
       "\\begin{verbatim}\n",
       "yticks(sp::Subplot)\n",
       "\\end{verbatim}\n",
       "returns the y-axis ticks of the subplot \\texttt{sp}.\n",
       "\n",
       "Note that the ticks are returned as tuples of values and labels:\n",
       "\n",
       "\\begin{verbatim}\n",
       "julia> sp = plot(1:5, yticks=[1,2]).subplots[1]\n",
       "Subplot{1}\n",
       "\n",
       "julia> yticks(sp)\n",
       "([1.0, 2.0], [\"1\", \"2\"])\n",
       "\\end{verbatim}\n"
      ],
      "text/markdown": [
       "```\n",
       "yticks(p::Plot)\n",
       "```\n",
       "\n",
       "returns a vector of the y-axis ticks of the subplots of `p`.\n",
       "\n",
       "Example use:\n",
       "\n",
       "```jldoctest\n",
       "julia> p = plot(1:5, yticks=[1,2])\n",
       "\n",
       "julia> yticks(p)\n",
       "1-element Vector{Tuple{Vector{Float64}, Vector{String}}}:\n",
       " ([1.0, 2.0], [\"1\", \"2\"])\n",
       "```\n",
       "\n",
       "If `p` consists of a single subplot, you might want to grab only the first element, via\n",
       "\n",
       "```jldoctest\n",
       "julia> yticks(p)[1]\n",
       "([1.0, 2.0], [\"1\", \"2\"])\n",
       "```\n",
       "\n",
       "or you can call yticks on the first (only) subplot of `p` via\n",
       "\n",
       "```jldoctest\n",
       "julia> yticks(p[1])\n",
       "([1.0, 2.0], [\"1\", \"2\"])\n",
       "```\n",
       "\n",
       "---\n",
       "\n",
       "```\n",
       "yticks(sp::Subplot)\n",
       "```\n",
       "\n",
       "returns the y-axis ticks of the subplot `sp`.\n",
       "\n",
       "Note that the ticks are returned as tuples of values and labels:\n",
       "\n",
       "```jldoctest\n",
       "julia> sp = plot(1:5, yticks=[1,2]).subplots[1]\n",
       "Subplot{1}\n",
       "\n",
       "julia> yticks(sp)\n",
       "([1.0, 2.0], [\"1\", \"2\"])\n",
       "```\n"
      ],
      "text/plain": [
       "\u001b[36m  yticks(p::Plot)\u001b[39m\n",
       "\n",
       "  returns a vector of the y-axis ticks of the subplots of \u001b[36mp\u001b[39m.\n",
       "\n",
       "  Example use:\n",
       "\n",
       "\u001b[36m  julia> p = plot(1:5, yticks=[1,2])\u001b[39m\n",
       "\u001b[36m  \u001b[39m\n",
       "\u001b[36m  julia> yticks(p)\u001b[39m\n",
       "\u001b[36m  1-element Vector{Tuple{Vector{Float64}, Vector{String}}}:\u001b[39m\n",
       "\u001b[36m   ([1.0, 2.0], [\"1\", \"2\"])\u001b[39m\n",
       "\n",
       "  If \u001b[36mp\u001b[39m consists of a single subplot, you might want to grab only the first\n",
       "  element, via\n",
       "\n",
       "\u001b[36m  julia> yticks(p)[1]\u001b[39m\n",
       "\u001b[36m  ([1.0, 2.0], [\"1\", \"2\"])\u001b[39m\n",
       "\n",
       "  or you can call yticks on the first (only) subplot of \u001b[36mp\u001b[39m via\n",
       "\n",
       "\u001b[36m  julia> yticks(p[1])\u001b[39m\n",
       "\u001b[36m  ([1.0, 2.0], [\"1\", \"2\"])\u001b[39m\n",
       "\n",
       "  ────────────────────────────────────────────────────────────────────────────\n",
       "\n",
       "\u001b[36m  yticks(sp::Subplot)\u001b[39m\n",
       "\n",
       "  returns the y-axis ticks of the subplot \u001b[36msp\u001b[39m.\n",
       "\n",
       "  Note that the ticks are returned as tuples of values and labels:\n",
       "\n",
       "\u001b[36m  julia> sp = plot(1:5, yticks=[1,2]).subplots[1]\u001b[39m\n",
       "\u001b[36m  Subplot{1}\u001b[39m\n",
       "\u001b[36m  \u001b[39m\n",
       "\u001b[36m  julia> yticks(sp)\u001b[39m\n",
       "\u001b[36m  ([1.0, 2.0], [\"1\", \"2\"])\u001b[39m"
      ]
     },
     "execution_count": 51,
     "metadata": {},
     "output_type": "execute_result"
    }
   ],
   "source": [
    "? yticks"
   ]
  },
  {
   "cell_type": "markdown",
   "id": "7383d211-d4ce-476a-8b16-49b7599b6535",
   "metadata": {},
   "source": [
    "We simply want to get this for a representative case. A simple one is $\\Phi = (7π/8, 3π/8,3π/8,3π/8)$ \n",
    "Can get the first analytically - in the 111 axis,\n",
    "$$\n",
    "\\Phi_0 = \\frac{3\\pi}{2} - \\frac{3}{2} \\operatorname{arccos}\\left[ \\frac{1}{2} + \\frac{g_1}{2g_0} \\right] \n",
    "$$\n",
    "Realises the first case for $g_1/g_0 = 1-\\sqrt{3}$.\n",
    "\n",
    "Second case: $(1, 1/\\sqrt{2}, 1,-1)$"
   ]
  },
  {
   "cell_type": "code",
   "execution_count": 6,
   "id": "57f6f451-5cfd-4382-8453-e3337fcb5eb0",
   "metadata": {},
   "outputs": [
    {
     "name": "stdout",
     "output_type": "stream",
     "text": [
      "36"
     ]
    },
    {
     "ename": "LoadError",
     "evalue": "UndefVarError: `finv` not defined",
     "output_type": "error",
     "traceback": [
      "UndefVarError: `finv` not defined",
      "",
      "Stacktrace:",
      " [1] (::var\"#3#4\")(N::Int64)",
      "   @ Main ./In[6]:6",
      " [2] _broadcast_getindex_evalf",
      "   @ ./broadcast.jl:709 [inlined]",
      " [3] _broadcast_getindex",
      "   @ ./broadcast.jl:682 [inlined]",
      " [4] getindex",
      "   @ ./broadcast.jl:636 [inlined]",
      " [5] copy(bc::Base.Broadcast.Broadcasted{Base.Broadcast.DefaultArrayStyle{1}, Tuple{Base.OneTo{Int64}}, var\"#3#4\", Tuple{Vector{Int64}}})",
      "   @ Base.Broadcast ./broadcast.jl:942",
      " [6] materialize(bc::Base.Broadcast.Broadcasted{Base.Broadcast.DefaultArrayStyle{1}, Nothing, var\"#3#4\", Tuple{Vector{Int64}}})",
      "   @ Base.Broadcast ./broadcast.jl:903",
      " [7] top-level scope",
      "   @ In[6]:7"
     ]
    }
   ],
   "source": [
    "L = 3\n",
    "Φelem = 2*π / (4 * L^2)\n",
    "\n",
    "print((4 * L^2))\n",
    "\n",
    "calc_fl = N -> abs( best_flux_fast([-1, -1, -1, finv( N *Φelem)]).minimizer[1] / Φelem )\n",
    "plot(1:36, calc_fl.(collect(1:36)), seriestype=:scatter)\n",
    "hline!(1:8)"
   ]
  },
  {
   "cell_type": "markdown",
   "id": "d417c351-31c6-48a5-a64e-f54d7cc7aabc",
   "metadata": {},
   "source": [
    "\n",
    "best_flux_fast([-1, -1, -1, finv( 12 *Φelem)]).minimizer/π"
   ]
  },
  {
   "cell_type": "code",
   "execution_count": 10,
   "id": "f54cd241-d8a5-4a3f-a8cf-0aee87e265c1",
   "metadata": {},
   "outputs": [],
   "source": [
    "using LinearAlgebra\n",
    "include(\"src/PyrochloreGeometry.jl\")\n",
    "import .PyrochloreGeometry as geom\n",
    "\n"
   ]
  },
  {
   "cell_type": "code",
   "execution_count": 7,
   "id": "2fe6d225-d1b7-4ef8-9252-1618e681b86a",
   "metadata": {},
   "outputs": [
    {
     "data": {
      "text/plain": [
       "g_from_params (generic function with 1 method)"
      ]
     },
     "execution_count": 7,
     "metadata": {},
     "output_type": "execute_result"
    }
   ],
   "source": [
    "function g_from_params(Jpm,B)\n",
    "    return [3/2 *Jpm^3 + 5/4 * Jpm^2  * (B' * geom.pyro[mu]/√3)^2 for mu=1:4]\n",
    "end"
   ]
  },
  {
   "cell_type": "code",
   "execution_count": 24,
   "id": "97539e85-3d05-4667-a9b5-8c94c3e0d083",
   "metadata": {},
   "outputs": [
    {
     "data": {
      "text/plain": [
       "4-element Vector{Float64}:\n",
       "  6.187500000000001e-6\n",
       " -3.812499999999999e-6\n",
       " -3.812499999999999e-6\n",
       " -3.812499999999999e-6"
      ]
     },
     "execution_count": 24,
     "metadata": {},
     "output_type": "execute_result"
    }
   ],
   "source": [
    "g_from_params(-0.015, [1,1,1].*0.2/√3)"
   ]
  },
  {
   "cell_type": "markdown",
   "id": "ebe1b225-9d22-40a7-b0f2-5abe062c2831",
   "metadata": {},
   "source": [
    "A given g-state is uniquely specified by the ratio\n",
    "\n",
    "$$ J_{\\pm}/B^2 := a $$\n",
    "\n",
    "In the 111 direction, $a = 5\\frac{x/9 - 1}{1-x}$, where $x = g_0/g_1$.\n"
   ]
  },
  {
   "cell_type": "code",
   "execution_count": 423,
   "id": "bbded7ca-8cf8-46ec-82fe-b9232231a81d",
   "metadata": {},
   "outputs": [
    {
     "data": {
      "image/svg+xml": [
       "<?xml version=\"1.0\" encoding=\"utf-8\"?>\n",
       "<svg xmlns=\"http://www.w3.org/2000/svg\" xmlns:xlink=\"http://www.w3.org/1999/xlink\" width=\"600\" height=\"400\" viewBox=\"0 0 2400 1600\">\n",
       "<defs>\n",
       "  <clipPath id=\"clip240\">\n",
       "    <rect x=\"0\" y=\"0\" width=\"2400\" height=\"1600\"/>\n",
       "  </clipPath>\n",
       "</defs>\n",
       "<path clip-path=\"url(#clip240)\" d=\"M0 1600 L2400 1600 L2400 0 L0 0  Z\" fill=\"#ffffff\" fill-rule=\"evenodd\" fill-opacity=\"1\"/>\n",
       "<defs>\n",
       "  <clipPath id=\"clip241\">\n",
       "    <rect x=\"480\" y=\"0\" width=\"1681\" height=\"1600\"/>\n",
       "  </clipPath>\n",
       "</defs>\n",
       "<path clip-path=\"url(#clip240)\" d=\"M193.936 1486.45 L2352.76 1486.45 L2352.76 47.2441 L193.936 47.2441  Z\" fill=\"#ffffff\" fill-rule=\"evenodd\" fill-opacity=\"1\"/>\n",
       "<defs>\n",
       "  <clipPath id=\"clip242\">\n",
       "    <rect x=\"193\" y=\"47\" width=\"2160\" height=\"1440\"/>\n",
       "  </clipPath>\n",
       "</defs>\n",
       "<polyline clip-path=\"url(#clip242)\" style=\"stroke:#000000; stroke-linecap:round; stroke-linejoin:round; stroke-width:2; stroke-opacity:0.1; fill:none\" points=\"268.96,1486.45 268.96,47.2441 \"/>\n",
       "<polyline clip-path=\"url(#clip242)\" style=\"stroke:#000000; stroke-linecap:round; stroke-linejoin:round; stroke-width:2; stroke-opacity:0.1; fill:none\" points=\"603.755,1486.45 603.755,47.2441 \"/>\n",
       "<polyline clip-path=\"url(#clip242)\" style=\"stroke:#000000; stroke-linecap:round; stroke-linejoin:round; stroke-width:2; stroke-opacity:0.1; fill:none\" points=\"938.551,1486.45 938.551,47.2441 \"/>\n",
       "<polyline clip-path=\"url(#clip242)\" style=\"stroke:#000000; stroke-linecap:round; stroke-linejoin:round; stroke-width:2; stroke-opacity:0.1; fill:none\" points=\"1273.35,1486.45 1273.35,47.2441 \"/>\n",
       "<polyline clip-path=\"url(#clip242)\" style=\"stroke:#000000; stroke-linecap:round; stroke-linejoin:round; stroke-width:2; stroke-opacity:0.1; fill:none\" points=\"1608.14,1486.45 1608.14,47.2441 \"/>\n",
       "<polyline clip-path=\"url(#clip242)\" style=\"stroke:#000000; stroke-linecap:round; stroke-linejoin:round; stroke-width:2; stroke-opacity:0.1; fill:none\" points=\"1942.94,1486.45 1942.94,47.2441 \"/>\n",
       "<polyline clip-path=\"url(#clip242)\" style=\"stroke:#000000; stroke-linecap:round; stroke-linejoin:round; stroke-width:2; stroke-opacity:0.1; fill:none\" points=\"2277.73,1486.45 2277.73,47.2441 \"/>\n",
       "<polyline clip-path=\"url(#clip240)\" style=\"stroke:#000000; stroke-linecap:round; stroke-linejoin:round; stroke-width:4; stroke-opacity:1; fill:none\" points=\"193.936,1486.45 2352.76,1486.45 \"/>\n",
       "<polyline clip-path=\"url(#clip240)\" style=\"stroke:#000000; stroke-linecap:round; stroke-linejoin:round; stroke-width:4; stroke-opacity:1; fill:none\" points=\"268.96,1486.45 268.96,1467.55 \"/>\n",
       "<polyline clip-path=\"url(#clip240)\" style=\"stroke:#000000; stroke-linecap:round; stroke-linejoin:round; stroke-width:4; stroke-opacity:1; fill:none\" points=\"603.755,1486.45 603.755,1467.55 \"/>\n",
       "<polyline clip-path=\"url(#clip240)\" style=\"stroke:#000000; stroke-linecap:round; stroke-linejoin:round; stroke-width:4; stroke-opacity:1; fill:none\" points=\"938.551,1486.45 938.551,1467.55 \"/>\n",
       "<polyline clip-path=\"url(#clip240)\" style=\"stroke:#000000; stroke-linecap:round; stroke-linejoin:round; stroke-width:4; stroke-opacity:1; fill:none\" points=\"1273.35,1486.45 1273.35,1467.55 \"/>\n",
       "<polyline clip-path=\"url(#clip240)\" style=\"stroke:#000000; stroke-linecap:round; stroke-linejoin:round; stroke-width:4; stroke-opacity:1; fill:none\" points=\"1608.14,1486.45 1608.14,1467.55 \"/>\n",
       "<polyline clip-path=\"url(#clip240)\" style=\"stroke:#000000; stroke-linecap:round; stroke-linejoin:round; stroke-width:4; stroke-opacity:1; fill:none\" points=\"1942.94,1486.45 1942.94,1467.55 \"/>\n",
       "<polyline clip-path=\"url(#clip240)\" style=\"stroke:#000000; stroke-linecap:round; stroke-linejoin:round; stroke-width:4; stroke-opacity:1; fill:none\" points=\"2277.73,1486.45 2277.73,1467.55 \"/>\n",
       "<path clip-path=\"url(#clip240)\" d=\"M238.427 1532.02 L268.103 1532.02 L268.103 1535.95 L238.427 1535.95 L238.427 1532.02 Z\" fill=\"#000000\" fill-rule=\"nonzero\" fill-opacity=\"1\" /><path clip-path=\"url(#clip240)\" d=\"M292.362 1530.21 Q295.719 1530.93 297.594 1533.2 Q299.492 1535.47 299.492 1538.8 Q299.492 1543.92 295.973 1546.72 Q292.455 1549.52 285.974 1549.52 Q283.798 1549.52 281.483 1549.08 Q279.191 1548.66 276.737 1547.81 L276.737 1543.29 Q278.682 1544.43 280.997 1545.01 Q283.311 1545.58 285.835 1545.58 Q290.233 1545.58 292.524 1543.85 Q294.839 1542.11 294.839 1538.8 Q294.839 1535.75 292.686 1534.03 Q290.557 1532.3 286.737 1532.3 L282.71 1532.3 L282.71 1528.45 L286.923 1528.45 Q290.372 1528.45 292.2 1527.09 Q294.029 1525.7 294.029 1523.11 Q294.029 1520.45 292.131 1519.03 Q290.256 1517.6 286.737 1517.6 Q284.816 1517.6 282.617 1518.01 Q280.418 1518.43 277.779 1519.31 L277.779 1515.14 Q280.441 1514.4 282.756 1514.03 Q285.094 1513.66 287.154 1513.66 Q292.478 1513.66 295.58 1516.09 Q298.682 1518.5 298.682 1522.62 Q298.682 1525.49 297.038 1527.48 Q295.395 1529.45 292.362 1530.21 Z\" fill=\"#000000\" fill-rule=\"nonzero\" fill-opacity=\"1\" /><path clip-path=\"url(#clip240)\" d=\"M573.697 1532.02 L603.373 1532.02 L603.373 1535.95 L573.697 1535.95 L573.697 1532.02 Z\" fill=\"#000000\" fill-rule=\"nonzero\" fill-opacity=\"1\" /><path clip-path=\"url(#clip240)\" d=\"M617.493 1544.91 L633.813 1544.91 L633.813 1548.85 L611.869 1548.85 L611.869 1544.91 Q614.531 1542.16 619.114 1537.53 Q623.72 1532.88 624.901 1531.53 Q627.146 1529.01 628.026 1527.27 Q628.929 1525.51 628.929 1523.82 Q628.929 1521.07 626.984 1519.33 Q625.063 1517.6 621.961 1517.6 Q619.762 1517.6 617.308 1518.36 Q614.878 1519.13 612.1 1520.68 L612.1 1515.95 Q614.924 1514.82 617.378 1514.24 Q619.831 1513.66 621.868 1513.66 Q627.239 1513.66 630.433 1516.35 Q633.628 1519.03 633.628 1523.52 Q633.628 1525.65 632.817 1527.57 Q632.03 1529.47 629.924 1532.07 Q629.345 1532.74 626.243 1535.95 Q623.142 1539.15 617.493 1544.91 Z\" fill=\"#000000\" fill-rule=\"nonzero\" fill-opacity=\"1\" /><path clip-path=\"url(#clip240)\" d=\"M908.308 1532.02 L937.983 1532.02 L937.983 1535.95 L908.308 1535.95 L908.308 1532.02 Z\" fill=\"#000000\" fill-rule=\"nonzero\" fill-opacity=\"1\" /><path clip-path=\"url(#clip240)\" d=\"M948.886 1544.91 L956.525 1544.91 L956.525 1518.55 L948.215 1520.21 L948.215 1515.95 L956.479 1514.29 L961.155 1514.29 L961.155 1544.91 L968.793 1544.91 L968.793 1548.85 L948.886 1548.85 L948.886 1544.91 Z\" fill=\"#000000\" fill-rule=\"nonzero\" fill-opacity=\"1\" /><path clip-path=\"url(#clip240)\" d=\"M1273.35 1517.37 Q1269.73 1517.37 1267.91 1520.93 Q1266.1 1524.47 1266.1 1531.6 Q1266.1 1538.71 1267.91 1542.27 Q1269.73 1545.82 1273.35 1545.82 Q1276.98 1545.82 1278.79 1542.27 Q1280.61 1538.71 1280.61 1531.6 Q1280.61 1524.47 1278.79 1520.93 Q1276.98 1517.37 1273.35 1517.37 M1273.35 1513.66 Q1279.16 1513.66 1282.21 1518.27 Q1285.29 1522.85 1285.29 1531.6 Q1285.29 1540.33 1282.21 1544.94 Q1279.16 1549.52 1273.35 1549.52 Q1267.54 1549.52 1264.46 1544.94 Q1261.4 1540.33 1261.4 1531.6 Q1261.4 1522.85 1264.46 1518.27 Q1267.54 1513.66 1273.35 1513.66 Z\" fill=\"#000000\" fill-rule=\"nonzero\" fill-opacity=\"1\" /><path clip-path=\"url(#clip240)\" d=\"M1598.52 1544.91 L1606.16 1544.91 L1606.16 1518.55 L1597.85 1520.21 L1597.85 1515.95 L1606.12 1514.29 L1610.79 1514.29 L1610.79 1544.91 L1618.43 1544.91 L1618.43 1548.85 L1598.52 1548.85 L1598.52 1544.91 Z\" fill=\"#000000\" fill-rule=\"nonzero\" fill-opacity=\"1\" /><path clip-path=\"url(#clip240)\" d=\"M1937.59 1544.91 L1953.91 1544.91 L1953.91 1548.85 L1931.96 1548.85 L1931.96 1544.91 Q1934.63 1542.16 1939.21 1537.53 Q1943.82 1532.88 1945 1531.53 Q1947.24 1529.01 1948.12 1527.27 Q1949.02 1525.51 1949.02 1523.82 Q1949.02 1521.07 1947.08 1519.33 Q1945.16 1517.6 1942.06 1517.6 Q1939.86 1517.6 1937.4 1518.36 Q1934.97 1519.13 1932.2 1520.68 L1932.2 1515.95 Q1935.02 1514.82 1937.47 1514.24 Q1939.93 1513.66 1941.96 1513.66 Q1947.33 1513.66 1950.53 1516.35 Q1953.72 1519.03 1953.72 1523.52 Q1953.72 1525.65 1952.91 1527.57 Q1952.13 1529.47 1950.02 1532.07 Q1949.44 1532.74 1946.34 1535.95 Q1943.24 1539.15 1937.59 1544.91 Z\" fill=\"#000000\" fill-rule=\"nonzero\" fill-opacity=\"1\" /><path clip-path=\"url(#clip240)\" d=\"M2281.98 1530.21 Q2285.34 1530.93 2287.21 1533.2 Q2289.11 1535.47 2289.11 1538.8 Q2289.11 1543.92 2285.59 1546.72 Q2282.07 1549.52 2275.59 1549.52 Q2273.42 1549.52 2271.1 1549.08 Q2268.81 1548.66 2266.35 1547.81 L2266.35 1543.29 Q2268.3 1544.43 2270.61 1545.01 Q2272.93 1545.58 2275.45 1545.58 Q2279.85 1545.58 2282.14 1543.85 Q2284.46 1542.11 2284.46 1538.8 Q2284.46 1535.75 2282.3 1534.03 Q2280.17 1532.3 2276.35 1532.3 L2272.33 1532.3 L2272.33 1528.45 L2276.54 1528.45 Q2279.99 1528.45 2281.82 1527.09 Q2283.65 1525.7 2283.65 1523.11 Q2283.65 1520.45 2281.75 1519.03 Q2279.87 1517.6 2276.35 1517.6 Q2274.43 1517.6 2272.23 1518.01 Q2270.04 1518.43 2267.4 1519.31 L2267.4 1515.14 Q2270.06 1514.4 2272.37 1514.03 Q2274.71 1513.66 2276.77 1513.66 Q2282.1 1513.66 2285.2 1516.09 Q2288.3 1518.5 2288.3 1522.62 Q2288.3 1525.49 2286.66 1527.48 Q2285.01 1529.45 2281.98 1530.21 Z\" fill=\"#000000\" fill-rule=\"nonzero\" fill-opacity=\"1\" /><polyline clip-path=\"url(#clip242)\" style=\"stroke:#000000; stroke-linecap:round; stroke-linejoin:round; stroke-width:2; stroke-opacity:0.1; fill:none\" points=\"193.936,1365.64 2352.76,1365.64 \"/>\n",
       "<polyline clip-path=\"url(#clip242)\" style=\"stroke:#000000; stroke-linecap:round; stroke-linejoin:round; stroke-width:2; stroke-opacity:0.1; fill:none\" points=\"193.936,1166.04 2352.76,1166.04 \"/>\n",
       "<polyline clip-path=\"url(#clip242)\" style=\"stroke:#000000; stroke-linecap:round; stroke-linejoin:round; stroke-width:2; stroke-opacity:0.1; fill:none\" points=\"193.936,966.444 2352.76,966.444 \"/>\n",
       "<polyline clip-path=\"url(#clip242)\" style=\"stroke:#000000; stroke-linecap:round; stroke-linejoin:round; stroke-width:2; stroke-opacity:0.1; fill:none\" points=\"193.936,766.846 2352.76,766.846 \"/>\n",
       "<polyline clip-path=\"url(#clip242)\" style=\"stroke:#000000; stroke-linecap:round; stroke-linejoin:round; stroke-width:2; stroke-opacity:0.1; fill:none\" points=\"193.936,567.248 2352.76,567.248 \"/>\n",
       "<polyline clip-path=\"url(#clip242)\" style=\"stroke:#000000; stroke-linecap:round; stroke-linejoin:round; stroke-width:2; stroke-opacity:0.1; fill:none\" points=\"193.936,367.65 2352.76,367.65 \"/>\n",
       "<polyline clip-path=\"url(#clip242)\" style=\"stroke:#000000; stroke-linecap:round; stroke-linejoin:round; stroke-width:2; stroke-opacity:0.1; fill:none\" points=\"193.936,168.053 2352.76,168.053 \"/>\n",
       "<polyline clip-path=\"url(#clip240)\" style=\"stroke:#000000; stroke-linecap:round; stroke-linejoin:round; stroke-width:4; stroke-opacity:1; fill:none\" points=\"193.936,1486.45 193.936,47.2441 \"/>\n",
       "<polyline clip-path=\"url(#clip240)\" style=\"stroke:#000000; stroke-linecap:round; stroke-linejoin:round; stroke-width:4; stroke-opacity:1; fill:none\" points=\"193.936,1365.64 212.834,1365.64 \"/>\n",
       "<polyline clip-path=\"url(#clip240)\" style=\"stroke:#000000; stroke-linecap:round; stroke-linejoin:round; stroke-width:4; stroke-opacity:1; fill:none\" points=\"193.936,1166.04 212.834,1166.04 \"/>\n",
       "<polyline clip-path=\"url(#clip240)\" style=\"stroke:#000000; stroke-linecap:round; stroke-linejoin:round; stroke-width:4; stroke-opacity:1; fill:none\" points=\"193.936,966.444 212.834,966.444 \"/>\n",
       "<polyline clip-path=\"url(#clip240)\" style=\"stroke:#000000; stroke-linecap:round; stroke-linejoin:round; stroke-width:4; stroke-opacity:1; fill:none\" points=\"193.936,766.846 212.834,766.846 \"/>\n",
       "<polyline clip-path=\"url(#clip240)\" style=\"stroke:#000000; stroke-linecap:round; stroke-linejoin:round; stroke-width:4; stroke-opacity:1; fill:none\" points=\"193.936,567.248 212.834,567.248 \"/>\n",
       "<polyline clip-path=\"url(#clip240)\" style=\"stroke:#000000; stroke-linecap:round; stroke-linejoin:round; stroke-width:4; stroke-opacity:1; fill:none\" points=\"193.936,367.65 212.834,367.65 \"/>\n",
       "<polyline clip-path=\"url(#clip240)\" style=\"stroke:#000000; stroke-linecap:round; stroke-linejoin:round; stroke-width:4; stroke-opacity:1; fill:none\" points=\"193.936,168.053 212.834,168.053 \"/>\n",
       "<path clip-path=\"url(#clip240)\" d=\"M51.9875 1366.09 L81.6633 1366.09 L81.6633 1370.03 L51.9875 1370.03 L51.9875 1366.09 Z\" fill=\"#000000\" fill-rule=\"nonzero\" fill-opacity=\"1\" /><path clip-path=\"url(#clip240)\" d=\"M90.5752 1348.36 L112.797 1348.36 L112.797 1350.35 L100.251 1382.92 L95.3669 1382.92 L107.172 1352.29 L90.5752 1352.29 L90.5752 1348.36 Z\" fill=\"#000000\" fill-rule=\"nonzero\" fill-opacity=\"1\" /><path clip-path=\"url(#clip240)\" d=\"M121.918 1377.04 L126.802 1377.04 L126.802 1382.92 L121.918 1382.92 L121.918 1377.04 Z\" fill=\"#000000\" fill-rule=\"nonzero\" fill-opacity=\"1\" /><path clip-path=\"url(#clip240)\" d=\"M137.033 1348.36 L155.39 1348.36 L155.39 1352.29 L141.316 1352.29 L141.316 1360.77 Q142.334 1360.42 143.353 1360.26 Q144.371 1360.07 145.39 1360.07 Q151.177 1360.07 154.556 1363.24 Q157.936 1366.41 157.936 1371.83 Q157.936 1377.41 154.464 1380.51 Q150.992 1383.59 144.672 1383.59 Q142.496 1383.59 140.228 1383.22 Q137.982 1382.85 135.575 1382.11 L135.575 1377.41 Q137.658 1378.54 139.881 1379.1 Q142.103 1379.66 144.58 1379.66 Q148.584 1379.66 150.922 1377.55 Q153.26 1375.44 153.26 1371.83 Q153.26 1368.22 150.922 1366.11 Q148.584 1364.01 144.58 1364.01 Q142.705 1364.01 140.83 1364.42 Q138.978 1364.84 137.033 1365.72 L137.033 1348.36 Z\" fill=\"#000000\" fill-rule=\"nonzero\" fill-opacity=\"1\" /><path clip-path=\"url(#clip240)\" d=\"M50.9921 1166.49 L80.6679 1166.49 L80.6679 1170.43 L50.9921 1170.43 L50.9921 1166.49 Z\" fill=\"#000000\" fill-rule=\"nonzero\" fill-opacity=\"1\" /><path clip-path=\"url(#clip240)\" d=\"M90.8067 1148.76 L109.163 1148.76 L109.163 1152.7 L95.0891 1152.7 L95.0891 1161.17 Q96.1076 1160.82 97.1261 1160.66 Q98.1447 1160.47 99.1632 1160.47 Q104.95 1160.47 108.33 1163.65 Q111.709 1166.82 111.709 1172.23 Q111.709 1177.81 108.237 1180.91 Q104.765 1183.99 98.4456 1183.99 Q96.2697 1183.99 94.0012 1183.62 Q91.7558 1183.25 89.3484 1182.51 L89.3484 1177.81 Q91.4317 1178.95 93.6539 1179.5 Q95.8761 1180.06 98.353 1180.06 Q102.358 1180.06 104.696 1177.95 Q107.033 1175.84 107.033 1172.23 Q107.033 1168.62 104.696 1166.52 Q102.358 1164.41 98.353 1164.41 Q96.478 1164.41 94.603 1164.83 Q92.7512 1165.24 90.8067 1166.12 L90.8067 1148.76 Z\" fill=\"#000000\" fill-rule=\"nonzero\" fill-opacity=\"1\" /><path clip-path=\"url(#clip240)\" d=\"M120.922 1177.44 L125.807 1177.44 L125.807 1183.32 L120.922 1183.32 L120.922 1177.44 Z\" fill=\"#000000\" fill-rule=\"nonzero\" fill-opacity=\"1\" /><path clip-path=\"url(#clip240)\" d=\"M145.992 1151.84 Q142.381 1151.84 140.552 1155.41 Q138.746 1158.95 138.746 1166.08 Q138.746 1173.18 140.552 1176.75 Q142.381 1180.29 145.992 1180.29 Q149.626 1180.29 151.431 1176.75 Q153.26 1173.18 153.26 1166.08 Q153.26 1158.95 151.431 1155.41 Q149.626 1151.84 145.992 1151.84 M145.992 1148.14 Q151.802 1148.14 154.857 1152.74 Q157.936 1157.33 157.936 1166.08 Q157.936 1174.8 154.857 1179.41 Q151.802 1183.99 145.992 1183.99 Q140.181 1183.99 137.103 1179.41 Q134.047 1174.8 134.047 1166.08 Q134.047 1157.33 137.103 1152.74 Q140.181 1148.14 145.992 1148.14 Z\" fill=\"#000000\" fill-rule=\"nonzero\" fill-opacity=\"1\" /><path clip-path=\"url(#clip240)\" d=\"M51.9875 966.895 L81.6633 966.895 L81.6633 970.83 L51.9875 970.83 L51.9875 966.895 Z\" fill=\"#000000\" fill-rule=\"nonzero\" fill-opacity=\"1\" /><path clip-path=\"url(#clip240)\" d=\"M95.7836 979.789 L112.103 979.789 L112.103 983.724 L90.1586 983.724 L90.1586 979.789 Q92.8206 977.034 97.4039 972.404 Q102.01 967.752 103.191 966.409 Q105.436 963.886 106.316 962.15 Q107.219 960.391 107.219 958.701 Q107.219 955.946 105.274 954.21 Q103.353 952.474 100.251 952.474 Q98.0521 952.474 95.5984 953.238 Q93.1678 954.002 90.3901 955.553 L90.3901 950.83 Q93.2141 949.696 95.6678 949.117 Q98.1215 948.539 100.159 948.539 Q105.529 948.539 108.723 951.224 Q111.918 953.909 111.918 958.4 Q111.918 960.529 111.108 962.451 Q110.321 964.349 108.214 966.941 Q107.635 967.613 104.534 970.83 Q101.432 974.025 95.7836 979.789 Z\" fill=\"#000000\" fill-rule=\"nonzero\" fill-opacity=\"1\" /><path clip-path=\"url(#clip240)\" d=\"M121.918 977.844 L126.802 977.844 L126.802 983.724 L121.918 983.724 L121.918 977.844 Z\" fill=\"#000000\" fill-rule=\"nonzero\" fill-opacity=\"1\" /><path clip-path=\"url(#clip240)\" d=\"M137.033 949.164 L155.39 949.164 L155.39 953.099 L141.316 953.099 L141.316 961.571 Q142.334 961.224 143.353 961.062 Q144.371 960.877 145.39 960.877 Q151.177 960.877 154.556 964.048 Q157.936 967.219 157.936 972.636 Q157.936 978.215 154.464 981.316 Q150.992 984.395 144.672 984.395 Q142.496 984.395 140.228 984.025 Q137.982 983.654 135.575 982.914 L135.575 978.215 Q137.658 979.349 139.881 979.904 Q142.103 980.46 144.58 980.46 Q148.584 980.46 150.922 978.353 Q153.26 976.247 153.26 972.636 Q153.26 969.025 150.922 966.918 Q148.584 964.812 144.58 964.812 Q142.705 964.812 140.83 965.228 Q138.978 965.645 137.033 966.525 L137.033 949.164 Z\" fill=\"#000000\" fill-rule=\"nonzero\" fill-opacity=\"1\" /><path clip-path=\"url(#clip240)\" d=\"M100.76 752.645 Q97.1493 752.645 95.3206 756.209 Q93.515 759.751 93.515 766.881 Q93.515 773.987 95.3206 777.552 Q97.1493 781.094 100.76 781.094 Q104.395 781.094 106.2 777.552 Q108.029 773.987 108.029 766.881 Q108.029 759.751 106.2 756.209 Q104.395 752.645 100.76 752.645 M100.76 748.941 Q106.571 748.941 109.626 753.547 Q112.705 758.131 112.705 766.881 Q112.705 775.608 109.626 780.214 Q106.571 784.797 100.76 784.797 Q94.9502 784.797 91.8715 780.214 Q88.816 775.608 88.816 766.881 Q88.816 758.131 91.8715 753.547 Q94.9502 748.941 100.76 748.941 Z\" fill=\"#000000\" fill-rule=\"nonzero\" fill-opacity=\"1\" /><path clip-path=\"url(#clip240)\" d=\"M120.922 778.246 L125.807 778.246 L125.807 784.126 L120.922 784.126 L120.922 778.246 Z\" fill=\"#000000\" fill-rule=\"nonzero\" fill-opacity=\"1\" /><path clip-path=\"url(#clip240)\" d=\"M145.992 752.645 Q142.381 752.645 140.552 756.209 Q138.746 759.751 138.746 766.881 Q138.746 773.987 140.552 777.552 Q142.381 781.094 145.992 781.094 Q149.626 781.094 151.431 777.552 Q153.26 773.987 153.26 766.881 Q153.26 759.751 151.431 756.209 Q149.626 752.645 145.992 752.645 M145.992 748.941 Q151.802 748.941 154.857 753.547 Q157.936 758.131 157.936 766.881 Q157.936 775.608 154.857 780.214 Q151.802 784.797 145.992 784.797 Q140.181 784.797 137.103 780.214 Q134.047 775.608 134.047 766.881 Q134.047 758.131 137.103 753.547 Q140.181 748.941 145.992 748.941 Z\" fill=\"#000000\" fill-rule=\"nonzero\" fill-opacity=\"1\" /><path clip-path=\"url(#clip240)\" d=\"M95.7836 580.593 L112.103 580.593 L112.103 584.528 L90.1586 584.528 L90.1586 580.593 Q92.8206 577.838 97.4039 573.209 Q102.01 568.556 103.191 567.213 Q105.436 564.69 106.316 562.954 Q107.219 561.195 107.219 559.505 Q107.219 556.751 105.274 555.014 Q103.353 553.278 100.251 553.278 Q98.0521 553.278 95.5984 554.042 Q93.1678 554.806 90.3901 556.357 L90.3901 551.635 Q93.2141 550.501 95.6678 549.922 Q98.1215 549.343 100.159 549.343 Q105.529 549.343 108.723 552.028 Q111.918 554.714 111.918 559.204 Q111.918 561.334 111.108 563.255 Q110.321 565.153 108.214 567.746 Q107.635 568.417 104.534 571.635 Q101.432 574.829 95.7836 580.593 Z\" fill=\"#000000\" fill-rule=\"nonzero\" fill-opacity=\"1\" /><path clip-path=\"url(#clip240)\" d=\"M121.918 578.649 L126.802 578.649 L126.802 584.528 L121.918 584.528 L121.918 578.649 Z\" fill=\"#000000\" fill-rule=\"nonzero\" fill-opacity=\"1\" /><path clip-path=\"url(#clip240)\" d=\"M137.033 549.968 L155.39 549.968 L155.39 553.903 L141.316 553.903 L141.316 562.376 Q142.334 562.028 143.353 561.866 Q144.371 561.681 145.39 561.681 Q151.177 561.681 154.556 564.852 Q157.936 568.024 157.936 573.44 Q157.936 579.019 154.464 582.121 Q150.992 585.2 144.672 585.2 Q142.496 585.2 140.228 584.829 Q137.982 584.459 135.575 583.718 L135.575 579.019 Q137.658 580.153 139.881 580.709 Q142.103 581.264 144.58 581.264 Q148.584 581.264 150.922 579.158 Q153.26 577.051 153.26 573.44 Q153.26 569.829 150.922 567.723 Q148.584 565.616 144.58 565.616 Q142.705 565.616 140.83 566.033 Q138.978 566.45 137.033 567.329 L137.033 549.968 Z\" fill=\"#000000\" fill-rule=\"nonzero\" fill-opacity=\"1\" /><path clip-path=\"url(#clip240)\" d=\"M90.8067 350.37 L109.163 350.37 L109.163 354.306 L95.0891 354.306 L95.0891 362.778 Q96.1076 362.431 97.1261 362.269 Q98.1447 362.083 99.1632 362.083 Q104.95 362.083 108.33 365.255 Q111.709 368.426 111.709 373.843 Q111.709 379.421 108.237 382.523 Q104.765 385.602 98.4456 385.602 Q96.2697 385.602 94.0012 385.231 Q91.7558 384.861 89.3484 384.12 L89.3484 379.421 Q91.4317 380.555 93.6539 381.111 Q95.8761 381.667 98.353 381.667 Q102.358 381.667 104.696 379.56 Q107.033 377.454 107.033 373.843 Q107.033 370.231 104.696 368.125 Q102.358 366.019 98.353 366.019 Q96.478 366.019 94.603 366.435 Q92.7512 366.852 90.8067 367.731 L90.8067 350.37 Z\" fill=\"#000000\" fill-rule=\"nonzero\" fill-opacity=\"1\" /><path clip-path=\"url(#clip240)\" d=\"M120.922 379.051 L125.807 379.051 L125.807 384.93 L120.922 384.93 L120.922 379.051 Z\" fill=\"#000000\" fill-rule=\"nonzero\" fill-opacity=\"1\" /><path clip-path=\"url(#clip240)\" d=\"M145.992 353.449 Q142.381 353.449 140.552 357.014 Q138.746 360.556 138.746 367.685 Q138.746 374.792 140.552 378.356 Q142.381 381.898 145.992 381.898 Q149.626 381.898 151.431 378.356 Q153.26 374.792 153.26 367.685 Q153.26 360.556 151.431 357.014 Q149.626 353.449 145.992 353.449 M145.992 349.745 Q151.802 349.745 154.857 354.352 Q157.936 358.935 157.936 367.685 Q157.936 376.412 154.857 381.018 Q151.802 385.602 145.992 385.602 Q140.181 385.602 137.103 381.018 Q134.047 376.412 134.047 367.685 Q134.047 358.935 137.103 354.352 Q140.181 349.745 145.992 349.745 Z\" fill=\"#000000\" fill-rule=\"nonzero\" fill-opacity=\"1\" /><path clip-path=\"url(#clip240)\" d=\"M90.5752 150.773 L112.797 150.773 L112.797 152.763 L100.251 185.333 L95.3669 185.333 L107.172 154.708 L90.5752 154.708 L90.5752 150.773 Z\" fill=\"#000000\" fill-rule=\"nonzero\" fill-opacity=\"1\" /><path clip-path=\"url(#clip240)\" d=\"M121.918 179.453 L126.802 179.453 L126.802 185.333 L121.918 185.333 L121.918 179.453 Z\" fill=\"#000000\" fill-rule=\"nonzero\" fill-opacity=\"1\" /><path clip-path=\"url(#clip240)\" d=\"M137.033 150.773 L155.39 150.773 L155.39 154.708 L141.316 154.708 L141.316 163.18 Q142.334 162.833 143.353 162.671 Q144.371 162.486 145.39 162.486 Q151.177 162.486 154.556 165.657 Q157.936 168.828 157.936 174.245 Q157.936 179.823 154.464 182.925 Q150.992 186.004 144.672 186.004 Q142.496 186.004 140.228 185.634 Q137.982 185.263 135.575 184.522 L135.575 179.823 Q137.658 180.958 139.881 181.513 Q142.103 182.069 144.58 182.069 Q148.584 182.069 150.922 179.962 Q153.26 177.856 153.26 174.245 Q153.26 170.634 150.922 168.527 Q148.584 166.421 144.58 166.421 Q142.705 166.421 140.83 166.837 Q138.978 167.254 137.033 168.134 L137.033 150.773 Z\" fill=\"#000000\" fill-rule=\"nonzero\" fill-opacity=\"1\" /><polyline clip-path=\"url(#clip242)\" style=\"stroke:#009af9; stroke-linecap:round; stroke-linejoin:round; stroke-width:4; stroke-opacity:1; fill:none\" points=\"255.035,87.9763 302.398,492.061 349.761,596.904 397.125,644.724 444.488,671.891 491.851,689.277 539.215,701.268 586.578,709.969 633.941,716.519 681.305,721.582 728.668,725.576 776.031,728.771 823.394,731.354 870.758,733.455 918.121,735.166 965.484,736.556 1012.85,737.675 1060.21,738.56 1107.57,739.239 1154.94,739.733 1202.3,740.055 1249.66,740.213 1297.03,740.213 1344.39,740.055 1391.75,739.733 1439.12,739.239 1486.48,738.56 1533.84,737.675 1581.21,736.556 1628.57,735.166 1675.93,733.455 1723.3,731.354 1770.66,728.771 1818.02,725.576 1865.39,721.582 1912.75,716.519 1960.11,709.969 2007.48,701.268 2054.84,689.277 2102.2,671.891 2149.57,644.724 2196.93,596.904 2244.29,492.061 2291.66,87.9763 \"/>\n",
       "<polyline clip-path=\"url(#clip242)\" style=\"stroke:#e26f46; stroke-linecap:round; stroke-linejoin:round; stroke-width:4; stroke-opacity:1; fill:none\" points=\"255.035,1445.72 302.398,1041.63 349.761,936.788 397.125,888.968 444.488,861.801 491.851,844.415 539.215,832.424 586.578,823.723 633.941,817.173 681.305,812.11 728.668,808.116 776.031,804.921 823.394,802.338 870.758,800.237 918.121,798.526 965.484,797.136 1012.85,796.017 1060.21,795.132 1107.57,794.453 1154.94,793.959 1202.3,793.637 1249.66,793.479 1297.03,793.479 1344.39,793.637 1391.75,793.959 1439.12,794.453 1486.48,795.132 1533.84,796.017 1581.21,797.136 1628.57,798.526 1675.93,800.237 1723.3,802.338 1770.66,804.921 1818.02,808.116 1865.39,812.11 1912.75,817.173 1960.11,823.723 2007.48,832.424 2054.84,844.415 2102.2,861.801 2149.57,888.968 2196.93,936.788 2244.29,1041.63 2291.66,1445.72 \"/>\n",
       "<path clip-path=\"url(#clip240)\" d=\"M2012.48 250.738 L2280.8 250.738 L2280.8 95.2176 L2012.48 95.2176  Z\" fill=\"#ffffff\" fill-rule=\"evenodd\" fill-opacity=\"1\"/>\n",
       "<polyline clip-path=\"url(#clip240)\" style=\"stroke:#000000; stroke-linecap:round; stroke-linejoin:round; stroke-width:4; stroke-opacity:1; fill:none\" points=\"2012.48,250.738 2280.8,250.738 2280.8,95.2176 2012.48,95.2176 2012.48,250.738 \"/>\n",
       "<polyline clip-path=\"url(#clip240)\" style=\"stroke:#009af9; stroke-linecap:round; stroke-linejoin:round; stroke-width:4; stroke-opacity:1; fill:none\" points=\"2036.47,147.058 2180.39,147.058 \"/>\n",
       "<path clip-path=\"url(#clip240)\" d=\"M2218.22 166.745 Q2216.42 171.375 2214.7 172.787 Q2212.99 174.199 2210.12 174.199 L2206.72 174.199 L2206.72 170.634 L2209.22 170.634 Q2210.98 170.634 2211.95 169.8 Q2212.92 168.967 2214.1 165.865 L2214.86 163.921 L2204.38 138.412 L2208.89 138.412 L2216.99 158.689 L2225.1 138.412 L2229.61 138.412 L2218.22 166.745 Z\" fill=\"#000000\" fill-rule=\"nonzero\" fill-opacity=\"1\" /><path clip-path=\"url(#clip240)\" d=\"M2236.9 160.402 L2244.54 160.402 L2244.54 134.037 L2236.23 135.703 L2236.23 131.444 L2244.49 129.778 L2249.17 129.778 L2249.17 160.402 L2256.81 160.402 L2256.81 164.338 L2236.9 164.338 L2236.9 160.402 Z\" fill=\"#000000\" fill-rule=\"nonzero\" fill-opacity=\"1\" /><polyline clip-path=\"url(#clip240)\" style=\"stroke:#e26f46; stroke-linecap:round; stroke-linejoin:round; stroke-width:4; stroke-opacity:1; fill:none\" points=\"2036.47,198.898 2180.39,198.898 \"/>\n",
       "<path clip-path=\"url(#clip240)\" d=\"M2218.22 218.585 Q2216.42 223.215 2214.7 224.627 Q2212.99 226.039 2210.12 226.039 L2206.72 226.039 L2206.72 222.474 L2209.22 222.474 Q2210.98 222.474 2211.95 221.64 Q2212.92 220.807 2214.1 217.705 L2214.86 215.761 L2204.38 190.252 L2208.89 190.252 L2216.99 210.529 L2225.1 190.252 L2229.61 190.252 L2218.22 218.585 Z\" fill=\"#000000\" fill-rule=\"nonzero\" fill-opacity=\"1\" /><path clip-path=\"url(#clip240)\" d=\"M2240.12 212.242 L2256.44 212.242 L2256.44 216.178 L2234.49 216.178 L2234.49 212.242 Q2237.16 209.488 2241.74 204.858 Q2246.35 200.205 2247.53 198.863 Q2249.77 196.34 2250.65 194.604 Q2251.55 192.844 2251.55 191.155 Q2251.55 188.4 2249.61 186.664 Q2247.69 184.928 2244.59 184.928 Q2242.39 184.928 2239.93 185.692 Q2237.5 186.455 2234.73 188.006 L2234.73 183.284 Q2237.55 182.15 2240 181.571 Q2242.46 180.993 2244.49 180.993 Q2249.86 180.993 2253.06 183.678 Q2256.25 186.363 2256.25 190.854 Q2256.25 192.983 2255.44 194.905 Q2254.66 196.803 2252.55 199.395 Q2251.97 200.067 2248.87 203.284 Q2245.77 206.479 2240.12 212.242 Z\" fill=\"#000000\" fill-rule=\"nonzero\" fill-opacity=\"1\" /></svg>\n"
      ]
     },
     "execution_count": 423,
     "metadata": {},
     "output_type": "execute_result"
    }
   ],
   "source": [
    "x = Φ0 -> ( 1 - 2*cos((3π/2 - Φ0)*2/3) )^-1;\n",
    "x2 = Φ0 -> (1-4*cos(Φ0/3)^2)^-1\n",
    "phi = range(-π+0.1,π-0.1,44)\n",
    "\n",
    "plot()\n",
    "plot!(phi, x.(phi))\n",
    "plot!(phi, x2.(phi))\n",
    "# ylims!(-20,20)"
   ]
  },
  {
   "cell_type": "code",
   "execution_count": 63,
   "id": "07ae7229-0072-4ddc-9b87-2b72c1d0c6d0",
   "metadata": {},
   "outputs": [
    {
     "data": {
      "text/plain": [
       "FF_111_B"
      ]
     },
     "execution_count": 63,
     "metadata": {},
     "output_type": "execute_result"
    }
   ],
   "source": [
    "\"\"\"\n",
    "FF_111_B(desired_Φ, Jpm)\n",
    "-> B\n",
    "\n",
    "x = g0/g1 <0\n",
    "\n",
    "\n",
    "Returns the (111) field needed to realise the prescribed field\n",
    "\"\"\"\n",
    "function FF_111_B(desired_Φ0, Jpm)\n",
    "    # x = Φ0 -> ( 1 - 2*cos((π/2 - Φ0)*2/3) )^-1;\n",
    "    \n",
    "    xp = (1-4*cos(desired_Φ0/3)^2)^-1\n",
    "    # a = xp->  5*(xp/9 -1) / ;\n",
    "    B = sqrt(Jpm* 6*(1-xp)/ (xp*5/9 - 5) )\n",
    "    return B\n",
    "end\n",
    "\n",
    "    "
   ]
  },
  {
   "cell_type": "code",
   "execution_count": 68,
   "id": "646a59ee-5724-424f-833d-93291da81eea",
   "metadata": {},
   "outputs": [
    {
     "name": "stdout",
     "output_type": "stream",
     "text": [
      "[0.0005279849151015215, -0.001274668342766498, -0.001274668342766498, -0.001274668342766498]\n",
      "[0.375, -0.125]\n"
     ]
    },
    {
     "data": {
      "text/plain": [
       "1×3 Matrix{Float64}:\n",
       " 1.17806  -0.392687  -0.392687"
      ]
     },
     "execution_count": 68,
     "metadata": {},
     "output_type": "execute_result"
    }
   ],
   "source": [
    "Jpm = -0.10\n",
    "Φ0 = π - 5π/8\n",
    "B = FF_111_B(Φ0, Jpm)\n",
    "g = g_from_params(Jpm, B*[1,1,1]/√3)\n",
    "println(g)\n",
    "println([Φ0./π, -Φ0./3π])\n",
    "best_flux_fast( g).minimizer"
   ]
  },
  {
   "cell_type": "code",
   "execution_count": 12,
   "id": "54476958-9176-457e-9fdf-1ebbcccab827",
   "metadata": {},
   "outputs": [],
   "source": [
    "using LaTeXStrings"
   ]
  },
  {
   "cell_type": "code",
   "execution_count": 23,
   "id": "86f32514-bba9-4031-ac10-b380aeafb7f3",
   "metadata": {},
   "outputs": [
    {
     "data": {
      "text/plain": [
       "\"/Users/alaricsanders/Desktop/figure_out/flux_Jpm=-0p2.pdf\""
      ]
     },
     "execution_count": 23,
     "metadata": {},
     "output_type": "execute_result"
    }
   ],
   "source": [
    "# pyplot()\n",
    "\n",
    "# scalefontsizes(1.3)\n",
    "Jpm = -0.02\n",
    "B_vals = range(0,0.6,300)\n",
    "Plots.scalefontsizes()\n",
    "Plots.scalefontsizes(1.8)\n",
    "\n",
    "plot()\n",
    "plot!(rectangle(0., -2π, x1,    4π), linewidth=0, alpha=0.2,color=\"#EDF2EF\")\n",
    "plot!(rectangle(x1, -2π, x2-x1, 4π), linewidth=0, alpha=0.2,color=\"#F97068\")\n",
    "plot!(rectangle(x2, -2π, 2-x2,  4π), linewidth=0, alpha=0.2,color=\"#212738\")\n",
    "\n",
    "res = reduce(vcat, map(b -> best_flux_fast( g_from_params(Jpm, b*[1,1,1]/√3) ).minimizer, B_vals))\n",
    "\n",
    "plot!( B_vals,   abs.(res)[:,2], label=L\"\\Phi_{1,2,3}\", color=:green)\n",
    "plot!( B_vals, -abs.(res)[:,1], label=L\"\\Phi_{0}\", color=:blue)\n",
    "\n",
    "plot!( B_vals, -abs.(res)[:,2], label=nothing, ls=:dash, color=:green)\n",
    "plot!( B_vals,  abs.(res)[:,1], label=nothing, ls=:dash, color=:blue)\n",
    "\n",
    "tix = range(-π,π,7)\n",
    "yticks!(tix, map(x->\"\\$$(x)\\$\", split(\"-π,-2π/3,-π/3,0,π/3,2π/3,π\",',')), fontsize=15)\n",
    "hline!([π/3,-π/3], label=false, color=:black,lw=1,alpha=0.5)\n",
    "# annotate!(0.01,π/3+0.1, L\"π/3\", :left, fontfamily=plot_font)\n",
    "plot!(; annotations=[\n",
    "        (0.1,-2π/3, text(L\"U(1)_0\")),\n",
    "        (0.3,-2π/3+0.1, text(L\"\\mathrm{FF}\")),\n",
    "        (0.55,-2π/3, text(L\"U(1)_\\pi\"))\n",
    "        ])\n",
    "\n",
    "rectangle(x,y, w, h) = Shape(x .+ [0,w,w,0], y .+ [0,0,h,h])\n",
    "\n",
    "x1 = 0.174\n",
    "x2 = 0.464\n",
    "\n",
    "\n",
    "xlims!(0,maximum(B_vals))\n",
    "ylims!(-π-0.1,π+0.1)\n",
    "\n",
    "\n",
    "xlabel!(L\"B_{111}/J_{y}\")\n",
    "ylabel!(\"Flux\")\n",
    "title!(\"\\$J_\\\\pm = $(Jpm)J_{y}\\$\")\n",
    "savefig(\"/Users/alaricsanders/Desktop/figure_out/flux_Jpm=-0p2.pdf\")\n"
   ]
  },
  {
   "cell_type": "code",
   "execution_count": 450,
   "id": "f422e3b8-c4f2-490e-be6d-db4b5896e3e6",
   "metadata": {},
   "outputs": [
    {
     "name": "stdout",
     "output_type": "stream",
     "text": [
      "-0.01928448546004269\t 2.2959374783133795\t3.141592652649826\t0.8456551743364464\n",
      "-0.013748495130968652\t 2.4340926120283903\t2.432178685387746\t0.00191392664064427\n",
      "-0.8194318337701567\t 2.3792540015708954\t3.14159265266851\t0.7623386510976147\n",
      "-0.16697140454249293\t 2.324680498600713\t3.141592652701005\t0.8169121541002919\n",
      "-0.8089440863584048\t 2.4015719779306206\t3.141592652653696\t0.7400206747230755\n"
     ]
    }
   ],
   "source": [
    "# Correctness check\n",
    "for n in 1:100\n",
    "    Jpm = -rand()\n",
    "    Φ0 = π*( 1 - 0.3*rand() )\n",
    "    B = FF_111_B(Φ0, Jpm)\n",
    "    g = g_from_params(Jpm, B*[1,1,1]/√3)\n",
    "    phi = abs.(best_flux_fast(g).minimizer)\n",
    "    if abs(phi[1]-Φ0) > 1e-3\n",
    "        println( \"$(Jpm)\\t $(Φ0)\\t$(phi[1])\\t$(abs(phi[1]-Φ0))\" )\n",
    "    end\n",
    "end\n",
    "\n",
    "# more or less works"
   ]
  },
  {
   "cell_type": "code",
   "execution_count": 451,
   "id": "0f76f681-c38a-4898-bb78-006a911296f3",
   "metadata": {},
   "outputs": [
    {
     "data": {
      "image/svg+xml": [
       "<?xml version=\"1.0\" encoding=\"utf-8\"?>\n",
       "<svg xmlns=\"http://www.w3.org/2000/svg\" xmlns:xlink=\"http://www.w3.org/1999/xlink\" width=\"600\" height=\"400\" viewBox=\"0 0 2400 1600\">\n",
       "<defs>\n",
       "  <clipPath id=\"clip320\">\n",
       "    <rect x=\"0\" y=\"0\" width=\"2400\" height=\"1600\"/>\n",
       "  </clipPath>\n",
       "</defs>\n",
       "<path clip-path=\"url(#clip320)\" d=\"M0 1600 L2400 1600 L2400 0 L0 0  Z\" fill=\"#ffffff\" fill-rule=\"evenodd\" fill-opacity=\"1\"/>\n",
       "<defs>\n",
       "  <clipPath id=\"clip321\">\n",
       "    <rect x=\"480\" y=\"0\" width=\"1681\" height=\"1600\"/>\n",
       "  </clipPath>\n",
       "</defs>\n",
       "<path clip-path=\"url(#clip320)\" d=\"M186.274 1486.45 L2352.76 1486.45 L2352.76 47.2441 L186.274 47.2441  Z\" fill=\"#ffffff\" fill-rule=\"evenodd\" fill-opacity=\"1\"/>\n",
       "<defs>\n",
       "  <clipPath id=\"clip322\">\n",
       "    <rect x=\"186\" y=\"47\" width=\"2167\" height=\"1440\"/>\n",
       "  </clipPath>\n",
       "</defs>\n",
       "<polyline clip-path=\"url(#clip322)\" style=\"stroke:#000000; stroke-linecap:round; stroke-linejoin:round; stroke-width:2; stroke-opacity:0.1; fill:none\" points=\"247.59,1486.45 247.59,47.2441 \"/>\n",
       "<polyline clip-path=\"url(#clip322)\" style=\"stroke:#000000; stroke-linecap:round; stroke-linejoin:round; stroke-width:2; stroke-opacity:0.1; fill:none\" points=\"758.552,1486.45 758.552,47.2441 \"/>\n",
       "<polyline clip-path=\"url(#clip322)\" style=\"stroke:#000000; stroke-linecap:round; stroke-linejoin:round; stroke-width:2; stroke-opacity:0.1; fill:none\" points=\"1269.51,1486.45 1269.51,47.2441 \"/>\n",
       "<polyline clip-path=\"url(#clip322)\" style=\"stroke:#000000; stroke-linecap:round; stroke-linejoin:round; stroke-width:2; stroke-opacity:0.1; fill:none\" points=\"1780.48,1486.45 1780.48,47.2441 \"/>\n",
       "<polyline clip-path=\"url(#clip322)\" style=\"stroke:#000000; stroke-linecap:round; stroke-linejoin:round; stroke-width:2; stroke-opacity:0.1; fill:none\" points=\"2291.44,1486.45 2291.44,47.2441 \"/>\n",
       "<polyline clip-path=\"url(#clip320)\" style=\"stroke:#000000; stroke-linecap:round; stroke-linejoin:round; stroke-width:4; stroke-opacity:1; fill:none\" points=\"186.274,1486.45 2352.76,1486.45 \"/>\n",
       "<polyline clip-path=\"url(#clip320)\" style=\"stroke:#000000; stroke-linecap:round; stroke-linejoin:round; stroke-width:4; stroke-opacity:1; fill:none\" points=\"247.59,1486.45 247.59,1467.55 \"/>\n",
       "<polyline clip-path=\"url(#clip320)\" style=\"stroke:#000000; stroke-linecap:round; stroke-linejoin:round; stroke-width:4; stroke-opacity:1; fill:none\" points=\"758.552,1486.45 758.552,1467.55 \"/>\n",
       "<polyline clip-path=\"url(#clip320)\" style=\"stroke:#000000; stroke-linecap:round; stroke-linejoin:round; stroke-width:4; stroke-opacity:1; fill:none\" points=\"1269.51,1486.45 1269.51,1467.55 \"/>\n",
       "<polyline clip-path=\"url(#clip320)\" style=\"stroke:#000000; stroke-linecap:round; stroke-linejoin:round; stroke-width:4; stroke-opacity:1; fill:none\" points=\"1780.48,1486.45 1780.48,1467.55 \"/>\n",
       "<polyline clip-path=\"url(#clip320)\" style=\"stroke:#000000; stroke-linecap:round; stroke-linejoin:round; stroke-width:4; stroke-opacity:1; fill:none\" points=\"2291.44,1486.45 2291.44,1467.55 \"/>\n",
       "<path clip-path=\"url(#clip320)\" d=\"M179.037 1532.02 L208.712 1532.02 L208.712 1535.95 L179.037 1535.95 L179.037 1532.02 Z\" fill=\"#000000\" fill-rule=\"nonzero\" fill-opacity=\"1\" /><path clip-path=\"url(#clip320)\" d=\"M219.615 1544.91 L227.254 1544.91 L227.254 1518.55 L218.944 1520.21 L218.944 1515.95 L227.208 1514.29 L231.884 1514.29 L231.884 1544.91 L239.522 1544.91 L239.522 1548.85 L219.615 1548.85 L219.615 1544.91 Z\" fill=\"#000000\" fill-rule=\"nonzero\" fill-opacity=\"1\" /><path clip-path=\"url(#clip320)\" d=\"M248.967 1542.97 L253.851 1542.97 L253.851 1548.85 L248.967 1548.85 L248.967 1542.97 Z\" fill=\"#000000\" fill-rule=\"nonzero\" fill-opacity=\"1\" /><path clip-path=\"url(#clip320)\" d=\"M274.036 1517.37 Q270.425 1517.37 268.596 1520.93 Q266.791 1524.47 266.791 1531.6 Q266.791 1538.71 268.596 1542.27 Q270.425 1545.82 274.036 1545.82 Q277.67 1545.82 279.476 1542.27 Q281.305 1538.71 281.305 1531.6 Q281.305 1524.47 279.476 1520.93 Q277.67 1517.37 274.036 1517.37 M274.036 1513.66 Q279.846 1513.66 282.902 1518.27 Q285.981 1522.85 285.981 1531.6 Q285.981 1540.33 282.902 1544.94 Q279.846 1549.52 274.036 1549.52 Q268.226 1549.52 265.147 1544.94 Q262.092 1540.33 262.092 1531.6 Q262.092 1522.85 265.147 1518.27 Q268.226 1513.66 274.036 1513.66 Z\" fill=\"#000000\" fill-rule=\"nonzero\" fill-opacity=\"1\" /><path clip-path=\"url(#clip320)\" d=\"M304.198 1517.37 Q300.587 1517.37 298.758 1520.93 Q296.953 1524.47 296.953 1531.6 Q296.953 1538.71 298.758 1542.27 Q300.587 1545.82 304.198 1545.82 Q307.832 1545.82 309.638 1542.27 Q311.466 1538.71 311.466 1531.6 Q311.466 1524.47 309.638 1520.93 Q307.832 1517.37 304.198 1517.37 M304.198 1513.66 Q310.008 1513.66 313.064 1518.27 Q316.142 1522.85 316.142 1531.6 Q316.142 1540.33 313.064 1544.94 Q310.008 1549.52 304.198 1549.52 Q298.388 1549.52 295.309 1544.94 Q292.254 1540.33 292.254 1531.6 Q292.254 1522.85 295.309 1518.27 Q298.388 1513.66 304.198 1513.66 Z\" fill=\"#000000\" fill-rule=\"nonzero\" fill-opacity=\"1\" /><path clip-path=\"url(#clip320)\" d=\"M690.497 1532.02 L720.173 1532.02 L720.173 1535.95 L690.497 1535.95 L690.497 1532.02 Z\" fill=\"#000000\" fill-rule=\"nonzero\" fill-opacity=\"1\" /><path clip-path=\"url(#clip320)\" d=\"M740.265 1517.37 Q736.654 1517.37 734.826 1520.93 Q733.02 1524.47 733.02 1531.6 Q733.02 1538.71 734.826 1542.27 Q736.654 1545.82 740.265 1545.82 Q743.9 1545.82 745.705 1542.27 Q747.534 1538.71 747.534 1531.6 Q747.534 1524.47 745.705 1520.93 Q743.9 1517.37 740.265 1517.37 M740.265 1513.66 Q746.075 1513.66 749.131 1518.27 Q752.21 1522.85 752.21 1531.6 Q752.21 1540.33 749.131 1544.94 Q746.075 1549.52 740.265 1549.52 Q734.455 1549.52 731.376 1544.94 Q728.321 1540.33 728.321 1531.6 Q728.321 1522.85 731.376 1518.27 Q734.455 1513.66 740.265 1513.66 Z\" fill=\"#000000\" fill-rule=\"nonzero\" fill-opacity=\"1\" /><path clip-path=\"url(#clip320)\" d=\"M760.427 1542.97 L765.311 1542.97 L765.311 1548.85 L760.427 1548.85 L760.427 1542.97 Z\" fill=\"#000000\" fill-rule=\"nonzero\" fill-opacity=\"1\" /><path clip-path=\"url(#clip320)\" d=\"M774.316 1514.29 L796.538 1514.29 L796.538 1516.28 L783.992 1548.85 L779.108 1548.85 L790.913 1518.22 L774.316 1518.22 L774.316 1514.29 Z\" fill=\"#000000\" fill-rule=\"nonzero\" fill-opacity=\"1\" /><path clip-path=\"url(#clip320)\" d=\"M805.705 1514.29 L824.061 1514.29 L824.061 1518.22 L809.987 1518.22 L809.987 1526.7 Q811.006 1526.35 812.024 1526.19 Q813.043 1526 814.061 1526 Q819.848 1526 823.228 1529.17 Q826.607 1532.34 826.607 1537.76 Q826.607 1543.34 823.135 1546.44 Q819.663 1549.52 813.344 1549.52 Q811.168 1549.52 808.899 1549.15 Q806.654 1548.78 804.246 1548.04 L804.246 1543.34 Q806.33 1544.47 808.552 1545.03 Q810.774 1545.58 813.251 1545.58 Q817.256 1545.58 819.594 1543.48 Q821.932 1541.37 821.932 1537.76 Q821.932 1534.15 819.594 1532.04 Q817.256 1529.94 813.251 1529.94 Q811.376 1529.94 809.501 1530.35 Q807.649 1530.77 805.705 1531.65 L805.705 1514.29 Z\" fill=\"#000000\" fill-rule=\"nonzero\" fill-opacity=\"1\" /><path clip-path=\"url(#clip320)\" d=\"M1200.96 1532.02 L1230.64 1532.02 L1230.64 1535.95 L1200.96 1535.95 L1200.96 1532.02 Z\" fill=\"#000000\" fill-rule=\"nonzero\" fill-opacity=\"1\" /><path clip-path=\"url(#clip320)\" d=\"M1250.73 1517.37 Q1247.12 1517.37 1245.29 1520.93 Q1243.49 1524.47 1243.49 1531.6 Q1243.49 1538.71 1245.29 1542.27 Q1247.12 1545.82 1250.73 1545.82 Q1254.36 1545.82 1256.17 1542.27 Q1258 1538.71 1258 1531.6 Q1258 1524.47 1256.17 1520.93 Q1254.36 1517.37 1250.73 1517.37 M1250.73 1513.66 Q1256.54 1513.66 1259.6 1518.27 Q1262.67 1522.85 1262.67 1531.6 Q1262.67 1540.33 1259.6 1544.94 Q1256.54 1549.52 1250.73 1549.52 Q1244.92 1549.52 1241.84 1544.94 Q1238.79 1540.33 1238.79 1531.6 Q1238.79 1522.85 1241.84 1518.27 Q1244.92 1513.66 1250.73 1513.66 Z\" fill=\"#000000\" fill-rule=\"nonzero\" fill-opacity=\"1\" /><path clip-path=\"url(#clip320)\" d=\"M1270.89 1542.97 L1275.78 1542.97 L1275.78 1548.85 L1270.89 1548.85 L1270.89 1542.97 Z\" fill=\"#000000\" fill-rule=\"nonzero\" fill-opacity=\"1\" /><path clip-path=\"url(#clip320)\" d=\"M1286.01 1514.29 L1304.36 1514.29 L1304.36 1518.22 L1290.29 1518.22 L1290.29 1526.7 Q1291.31 1526.35 1292.33 1526.19 Q1293.35 1526 1294.36 1526 Q1300.15 1526 1303.53 1529.17 Q1306.91 1532.34 1306.91 1537.76 Q1306.91 1543.34 1303.44 1546.44 Q1299.97 1549.52 1293.65 1549.52 Q1291.47 1549.52 1289.2 1549.15 Q1286.96 1548.78 1284.55 1548.04 L1284.55 1543.34 Q1286.63 1544.47 1288.86 1545.03 Q1291.08 1545.58 1293.55 1545.58 Q1297.56 1545.58 1299.9 1543.48 Q1302.23 1541.37 1302.23 1537.76 Q1302.23 1534.15 1299.9 1532.04 Q1297.56 1529.94 1293.55 1529.94 Q1291.68 1529.94 1289.8 1530.35 Q1287.95 1530.77 1286.01 1531.65 L1286.01 1514.29 Z\" fill=\"#000000\" fill-rule=\"nonzero\" fill-opacity=\"1\" /><path clip-path=\"url(#clip320)\" d=\"M1326.12 1517.37 Q1322.51 1517.37 1320.68 1520.93 Q1318.88 1524.47 1318.88 1531.6 Q1318.88 1538.71 1320.68 1542.27 Q1322.51 1545.82 1326.12 1545.82 Q1329.76 1545.82 1331.56 1542.27 Q1333.39 1538.71 1333.39 1531.6 Q1333.39 1524.47 1331.56 1520.93 Q1329.76 1517.37 1326.12 1517.37 M1326.12 1513.66 Q1331.93 1513.66 1334.99 1518.27 Q1338.07 1522.85 1338.07 1531.6 Q1338.07 1540.33 1334.99 1544.94 Q1331.93 1549.52 1326.12 1549.52 Q1320.31 1549.52 1317.23 1544.94 Q1314.18 1540.33 1314.18 1531.6 Q1314.18 1522.85 1317.23 1518.27 Q1320.31 1513.66 1326.12 1513.66 Z\" fill=\"#000000\" fill-rule=\"nonzero\" fill-opacity=\"1\" /><path clip-path=\"url(#clip320)\" d=\"M1712.42 1532.02 L1742.1 1532.02 L1742.1 1535.95 L1712.42 1535.95 L1712.42 1532.02 Z\" fill=\"#000000\" fill-rule=\"nonzero\" fill-opacity=\"1\" /><path clip-path=\"url(#clip320)\" d=\"M1762.19 1517.37 Q1758.58 1517.37 1756.75 1520.93 Q1754.95 1524.47 1754.95 1531.6 Q1754.95 1538.71 1756.75 1542.27 Q1758.58 1545.82 1762.19 1545.82 Q1765.82 1545.82 1767.63 1542.27 Q1769.46 1538.71 1769.46 1531.6 Q1769.46 1524.47 1767.63 1520.93 Q1765.82 1517.37 1762.19 1517.37 M1762.19 1513.66 Q1768 1513.66 1771.06 1518.27 Q1774.14 1522.85 1774.14 1531.6 Q1774.14 1540.33 1771.06 1544.94 Q1768 1549.52 1762.19 1549.52 Q1756.38 1549.52 1753.3 1544.94 Q1750.25 1540.33 1750.25 1531.6 Q1750.25 1522.85 1753.3 1518.27 Q1756.38 1513.66 1762.19 1513.66 Z\" fill=\"#000000\" fill-rule=\"nonzero\" fill-opacity=\"1\" /><path clip-path=\"url(#clip320)\" d=\"M1782.35 1542.97 L1787.24 1542.97 L1787.24 1548.85 L1782.35 1548.85 L1782.35 1542.97 Z\" fill=\"#000000\" fill-rule=\"nonzero\" fill-opacity=\"1\" /><path clip-path=\"url(#clip320)\" d=\"M1801.45 1544.91 L1817.77 1544.91 L1817.77 1548.85 L1795.82 1548.85 L1795.82 1544.91 Q1798.49 1542.16 1803.07 1537.53 Q1807.68 1532.88 1808.86 1531.53 Q1811.1 1529.01 1811.98 1527.27 Q1812.88 1525.51 1812.88 1523.82 Q1812.88 1521.07 1810.94 1519.33 Q1809.02 1517.6 1805.92 1517.6 Q1803.72 1517.6 1801.26 1518.36 Q1798.83 1519.13 1796.06 1520.68 L1796.06 1515.95 Q1798.88 1514.82 1801.33 1514.24 Q1803.79 1513.66 1805.82 1513.66 Q1811.2 1513.66 1814.39 1516.35 Q1817.58 1519.03 1817.58 1523.52 Q1817.58 1525.65 1816.77 1527.57 Q1815.99 1529.47 1813.88 1532.07 Q1813.3 1532.74 1810.2 1535.95 Q1807.1 1539.15 1801.45 1544.91 Z\" fill=\"#000000\" fill-rule=\"nonzero\" fill-opacity=\"1\" /><path clip-path=\"url(#clip320)\" d=\"M1827.63 1514.29 L1845.99 1514.29 L1845.99 1518.22 L1831.91 1518.22 L1831.91 1526.7 Q1832.93 1526.35 1833.95 1526.19 Q1834.97 1526 1835.99 1526 Q1841.77 1526 1845.15 1529.17 Q1848.53 1532.34 1848.53 1537.76 Q1848.53 1543.34 1845.06 1546.44 Q1841.59 1549.52 1835.27 1549.52 Q1833.09 1549.52 1830.82 1549.15 Q1828.58 1548.78 1826.17 1548.04 L1826.17 1543.34 Q1828.26 1544.47 1830.48 1545.03 Q1832.7 1545.58 1835.18 1545.58 Q1839.18 1545.58 1841.52 1543.48 Q1843.86 1541.37 1843.86 1537.76 Q1843.86 1534.15 1841.52 1532.04 Q1839.18 1529.94 1835.18 1529.94 Q1833.3 1529.94 1831.43 1530.35 Q1829.57 1530.77 1827.63 1531.65 L1827.63 1514.29 Z\" fill=\"#000000\" fill-rule=\"nonzero\" fill-opacity=\"1\" /><path clip-path=\"url(#clip320)\" d=\"M2253.74 1517.37 Q2250.13 1517.37 2248.3 1520.93 Q2246.5 1524.47 2246.5 1531.6 Q2246.5 1538.71 2248.3 1542.27 Q2250.13 1545.82 2253.74 1545.82 Q2257.38 1545.82 2259.18 1542.27 Q2261.01 1538.71 2261.01 1531.6 Q2261.01 1524.47 2259.18 1520.93 Q2257.38 1517.37 2253.74 1517.37 M2253.74 1513.66 Q2259.55 1513.66 2262.61 1518.27 Q2265.69 1522.85 2265.69 1531.6 Q2265.69 1540.33 2262.61 1544.94 Q2259.55 1549.52 2253.74 1549.52 Q2247.93 1549.52 2244.85 1544.94 Q2241.8 1540.33 2241.8 1531.6 Q2241.8 1522.85 2244.85 1518.27 Q2247.93 1513.66 2253.74 1513.66 Z\" fill=\"#000000\" fill-rule=\"nonzero\" fill-opacity=\"1\" /><path clip-path=\"url(#clip320)\" d=\"M2273.91 1542.97 L2278.79 1542.97 L2278.79 1548.85 L2273.91 1548.85 L2273.91 1542.97 Z\" fill=\"#000000\" fill-rule=\"nonzero\" fill-opacity=\"1\" /><path clip-path=\"url(#clip320)\" d=\"M2298.98 1517.37 Q2295.36 1517.37 2293.54 1520.93 Q2291.73 1524.47 2291.73 1531.6 Q2291.73 1538.71 2293.54 1542.27 Q2295.36 1545.82 2298.98 1545.82 Q2302.61 1545.82 2304.41 1542.27 Q2306.24 1538.71 2306.24 1531.6 Q2306.24 1524.47 2304.41 1520.93 Q2302.61 1517.37 2298.98 1517.37 M2298.98 1513.66 Q2304.79 1513.66 2307.84 1518.27 Q2310.92 1522.85 2310.92 1531.6 Q2310.92 1540.33 2307.84 1544.94 Q2304.79 1549.52 2298.98 1549.52 Q2293.16 1549.52 2290.09 1544.94 Q2287.03 1540.33 2287.03 1531.6 Q2287.03 1522.85 2290.09 1518.27 Q2293.16 1513.66 2298.98 1513.66 Z\" fill=\"#000000\" fill-rule=\"nonzero\" fill-opacity=\"1\" /><path clip-path=\"url(#clip320)\" d=\"M2329.14 1517.37 Q2325.53 1517.37 2323.7 1520.93 Q2321.89 1524.47 2321.89 1531.6 Q2321.89 1538.71 2323.7 1542.27 Q2325.53 1545.82 2329.14 1545.82 Q2332.77 1545.82 2334.58 1542.27 Q2336.41 1538.71 2336.41 1531.6 Q2336.41 1524.47 2334.58 1520.93 Q2332.77 1517.37 2329.14 1517.37 M2329.14 1513.66 Q2334.95 1513.66 2338 1518.27 Q2341.08 1522.85 2341.08 1531.6 Q2341.08 1540.33 2338 1544.94 Q2334.95 1549.52 2329.14 1549.52 Q2323.33 1549.52 2320.25 1544.94 Q2317.19 1540.33 2317.19 1531.6 Q2317.19 1522.85 2320.25 1518.27 Q2323.33 1513.66 2329.14 1513.66 Z\" fill=\"#000000\" fill-rule=\"nonzero\" fill-opacity=\"1\" /><polyline clip-path=\"url(#clip322)\" style=\"stroke:#000000; stroke-linecap:round; stroke-linejoin:round; stroke-width:2; stroke-opacity:0.1; fill:none\" points=\"186.274,1445.72 2352.76,1445.72 \"/>\n",
       "<polyline clip-path=\"url(#clip322)\" style=\"stroke:#000000; stroke-linecap:round; stroke-linejoin:round; stroke-width:2; stroke-opacity:0.1; fill:none\" points=\"186.274,1201.47 2352.76,1201.47 \"/>\n",
       "<polyline clip-path=\"url(#clip322)\" style=\"stroke:#000000; stroke-linecap:round; stroke-linejoin:round; stroke-width:2; stroke-opacity:0.1; fill:none\" points=\"186.274,957.231 2352.76,957.231 \"/>\n",
       "<polyline clip-path=\"url(#clip322)\" style=\"stroke:#000000; stroke-linecap:round; stroke-linejoin:round; stroke-width:2; stroke-opacity:0.1; fill:none\" points=\"186.274,712.988 2352.76,712.988 \"/>\n",
       "<polyline clip-path=\"url(#clip322)\" style=\"stroke:#000000; stroke-linecap:round; stroke-linejoin:round; stroke-width:2; stroke-opacity:0.1; fill:none\" points=\"186.274,468.746 2352.76,468.746 \"/>\n",
       "<polyline clip-path=\"url(#clip322)\" style=\"stroke:#000000; stroke-linecap:round; stroke-linejoin:round; stroke-width:2; stroke-opacity:0.1; fill:none\" points=\"186.274,224.503 2352.76,224.503 \"/>\n",
       "<polyline clip-path=\"url(#clip320)\" style=\"stroke:#000000; stroke-linecap:round; stroke-linejoin:round; stroke-width:4; stroke-opacity:1; fill:none\" points=\"186.274,1486.45 186.274,47.2441 \"/>\n",
       "<polyline clip-path=\"url(#clip320)\" style=\"stroke:#000000; stroke-linecap:round; stroke-linejoin:round; stroke-width:4; stroke-opacity:1; fill:none\" points=\"186.274,1445.72 205.172,1445.72 \"/>\n",
       "<polyline clip-path=\"url(#clip320)\" style=\"stroke:#000000; stroke-linecap:round; stroke-linejoin:round; stroke-width:4; stroke-opacity:1; fill:none\" points=\"186.274,1201.47 205.172,1201.47 \"/>\n",
       "<polyline clip-path=\"url(#clip320)\" style=\"stroke:#000000; stroke-linecap:round; stroke-linejoin:round; stroke-width:4; stroke-opacity:1; fill:none\" points=\"186.274,957.231 205.172,957.231 \"/>\n",
       "<polyline clip-path=\"url(#clip320)\" style=\"stroke:#000000; stroke-linecap:round; stroke-linejoin:round; stroke-width:4; stroke-opacity:1; fill:none\" points=\"186.274,712.988 205.172,712.988 \"/>\n",
       "<polyline clip-path=\"url(#clip320)\" style=\"stroke:#000000; stroke-linecap:round; stroke-linejoin:round; stroke-width:4; stroke-opacity:1; fill:none\" points=\"186.274,468.746 205.172,468.746 \"/>\n",
       "<polyline clip-path=\"url(#clip320)\" style=\"stroke:#000000; stroke-linecap:round; stroke-linejoin:round; stroke-width:4; stroke-opacity:1; fill:none\" points=\"186.274,224.503 205.172,224.503 \"/>\n",
       "<path clip-path=\"url(#clip320)\" d=\"M62.9365 1431.51 Q59.3254 1431.51 57.4967 1435.08 Q55.6912 1438.62 55.6912 1445.75 Q55.6912 1452.86 57.4967 1456.42 Q59.3254 1459.96 62.9365 1459.96 Q66.5707 1459.96 68.3763 1456.42 Q70.205 1452.86 70.205 1445.75 Q70.205 1438.62 68.3763 1435.08 Q66.5707 1431.51 62.9365 1431.51 M62.9365 1427.81 Q68.7467 1427.81 71.8022 1432.42 Q74.8809 1437 74.8809 1445.75 Q74.8809 1454.48 71.8022 1459.08 Q68.7467 1463.67 62.9365 1463.67 Q57.1264 1463.67 54.0477 1459.08 Q50.9921 1454.48 50.9921 1445.75 Q50.9921 1437 54.0477 1432.42 Q57.1264 1427.81 62.9365 1427.81 Z\" fill=\"#000000\" fill-rule=\"nonzero\" fill-opacity=\"1\" /><path clip-path=\"url(#clip320)\" d=\"M83.0984 1457.12 L87.9827 1457.12 L87.9827 1463 L83.0984 1463 L83.0984 1457.12 Z\" fill=\"#000000\" fill-rule=\"nonzero\" fill-opacity=\"1\" /><path clip-path=\"url(#clip320)\" d=\"M108.168 1431.51 Q104.557 1431.51 102.728 1435.08 Q100.922 1438.62 100.922 1445.75 Q100.922 1452.86 102.728 1456.42 Q104.557 1459.96 108.168 1459.96 Q111.802 1459.96 113.608 1456.42 Q115.436 1452.86 115.436 1445.75 Q115.436 1438.62 113.608 1435.08 Q111.802 1431.51 108.168 1431.51 M108.168 1427.81 Q113.978 1427.81 117.033 1432.42 Q120.112 1437 120.112 1445.75 Q120.112 1454.48 117.033 1459.08 Q113.978 1463.67 108.168 1463.67 Q102.358 1463.67 99.2789 1459.08 Q96.2234 1454.48 96.2234 1445.75 Q96.2234 1437 99.2789 1432.42 Q102.358 1427.81 108.168 1427.81 Z\" fill=\"#000000\" fill-rule=\"nonzero\" fill-opacity=\"1\" /><path clip-path=\"url(#clip320)\" d=\"M138.33 1431.51 Q134.719 1431.51 132.89 1435.08 Q131.084 1438.62 131.084 1445.75 Q131.084 1452.86 132.89 1456.42 Q134.719 1459.96 138.33 1459.96 Q141.964 1459.96 143.769 1456.42 Q145.598 1452.86 145.598 1445.75 Q145.598 1438.62 143.769 1435.08 Q141.964 1431.51 138.33 1431.51 M138.33 1427.81 Q144.14 1427.81 147.195 1432.42 Q150.274 1437 150.274 1445.75 Q150.274 1454.48 147.195 1459.08 Q144.14 1463.67 138.33 1463.67 Q132.519 1463.67 129.441 1459.08 Q126.385 1454.48 126.385 1445.75 Q126.385 1437 129.441 1432.42 Q132.519 1427.81 138.33 1427.81 Z\" fill=\"#000000\" fill-rule=\"nonzero\" fill-opacity=\"1\" /><path clip-path=\"url(#clip320)\" d=\"M63.9319 1187.27 Q60.3208 1187.27 58.4921 1190.84 Q56.6865 1194.38 56.6865 1201.51 Q56.6865 1208.61 58.4921 1212.18 Q60.3208 1215.72 63.9319 1215.72 Q67.5661 1215.72 69.3717 1212.18 Q71.2004 1208.61 71.2004 1201.51 Q71.2004 1194.38 69.3717 1190.84 Q67.5661 1187.27 63.9319 1187.27 M63.9319 1183.57 Q69.742 1183.57 72.7976 1188.17 Q75.8763 1192.76 75.8763 1201.51 Q75.8763 1210.23 72.7976 1214.84 Q69.742 1219.42 63.9319 1219.42 Q58.1217 1219.42 55.043 1214.84 Q51.9875 1210.23 51.9875 1201.51 Q51.9875 1192.76 55.043 1188.17 Q58.1217 1183.57 63.9319 1183.57 Z\" fill=\"#000000\" fill-rule=\"nonzero\" fill-opacity=\"1\" /><path clip-path=\"url(#clip320)\" d=\"M84.0938 1212.87 L88.978 1212.87 L88.978 1218.75 L84.0938 1218.75 L84.0938 1212.87 Z\" fill=\"#000000\" fill-rule=\"nonzero\" fill-opacity=\"1\" /><path clip-path=\"url(#clip320)\" d=\"M103.191 1214.82 L119.51 1214.82 L119.51 1218.75 L97.566 1218.75 L97.566 1214.82 Q100.228 1212.06 104.811 1207.43 Q109.418 1202.78 110.598 1201.44 Q112.844 1198.92 113.723 1197.18 Q114.626 1195.42 114.626 1193.73 Q114.626 1190.98 112.682 1189.24 Q110.76 1187.5 107.658 1187.5 Q105.459 1187.5 103.006 1188.27 Q100.575 1189.03 97.7974 1190.58 L97.7974 1185.86 Q100.621 1184.73 103.075 1184.15 Q105.529 1183.57 107.566 1183.57 Q112.936 1183.57 116.131 1186.25 Q119.325 1188.94 119.325 1193.43 Q119.325 1195.56 118.515 1197.48 Q117.728 1199.38 115.621 1201.97 Q115.043 1202.64 111.941 1205.86 Q108.839 1209.05 103.191 1214.82 Z\" fill=\"#000000\" fill-rule=\"nonzero\" fill-opacity=\"1\" /><path clip-path=\"url(#clip320)\" d=\"M129.371 1184.19 L147.728 1184.19 L147.728 1188.13 L133.654 1188.13 L133.654 1196.6 Q134.672 1196.25 135.691 1196.09 Q136.709 1195.91 137.728 1195.91 Q143.515 1195.91 146.894 1199.08 Q150.274 1202.25 150.274 1207.67 Q150.274 1213.24 146.802 1216.35 Q143.33 1219.42 137.01 1219.42 Q134.834 1219.42 132.566 1219.05 Q130.32 1218.68 127.913 1217.94 L127.913 1213.24 Q129.996 1214.38 132.219 1214.93 Q134.441 1215.49 136.918 1215.49 Q140.922 1215.49 143.26 1213.38 Q145.598 1211.28 145.598 1207.67 Q145.598 1204.05 143.26 1201.95 Q140.922 1199.84 136.918 1199.84 Q135.043 1199.84 133.168 1200.26 Q131.316 1200.67 129.371 1201.55 L129.371 1184.19 Z\" fill=\"#000000\" fill-rule=\"nonzero\" fill-opacity=\"1\" /><path clip-path=\"url(#clip320)\" d=\"M62.9365 943.029 Q59.3254 943.029 57.4967 946.594 Q55.6912 950.136 55.6912 957.265 Q55.6912 964.372 57.4967 967.937 Q59.3254 971.478 62.9365 971.478 Q66.5707 971.478 68.3763 967.937 Q70.205 964.372 70.205 957.265 Q70.205 950.136 68.3763 946.594 Q66.5707 943.029 62.9365 943.029 M62.9365 939.326 Q68.7467 939.326 71.8022 943.932 Q74.8809 948.515 74.8809 957.265 Q74.8809 965.992 71.8022 970.599 Q68.7467 975.182 62.9365 975.182 Q57.1264 975.182 54.0477 970.599 Q50.9921 965.992 50.9921 957.265 Q50.9921 948.515 54.0477 943.932 Q57.1264 939.326 62.9365 939.326 Z\" fill=\"#000000\" fill-rule=\"nonzero\" fill-opacity=\"1\" /><path clip-path=\"url(#clip320)\" d=\"M83.0984 968.631 L87.9827 968.631 L87.9827 974.511 L83.0984 974.511 L83.0984 968.631 Z\" fill=\"#000000\" fill-rule=\"nonzero\" fill-opacity=\"1\" /><path clip-path=\"url(#clip320)\" d=\"M98.2141 939.951 L116.57 939.951 L116.57 943.886 L102.496 943.886 L102.496 952.358 Q103.515 952.011 104.534 951.849 Q105.552 951.664 106.571 951.664 Q112.358 951.664 115.737 954.835 Q119.117 958.006 119.117 963.423 Q119.117 969.001 115.645 972.103 Q112.172 975.182 105.853 975.182 Q103.677 975.182 101.409 974.812 Q99.1632 974.441 96.7558 973.7 L96.7558 969.001 Q98.8391 970.136 101.061 970.691 Q103.284 971.247 105.76 971.247 Q109.765 971.247 112.103 969.14 Q114.441 967.034 114.441 963.423 Q114.441 959.812 112.103 957.705 Q109.765 955.599 105.76 955.599 Q103.885 955.599 102.01 956.015 Q100.159 956.432 98.2141 957.312 L98.2141 939.951 Z\" fill=\"#000000\" fill-rule=\"nonzero\" fill-opacity=\"1\" /><path clip-path=\"url(#clip320)\" d=\"M138.33 943.029 Q134.719 943.029 132.89 946.594 Q131.084 950.136 131.084 957.265 Q131.084 964.372 132.89 967.937 Q134.719 971.478 138.33 971.478 Q141.964 971.478 143.769 967.937 Q145.598 964.372 145.598 957.265 Q145.598 950.136 143.769 946.594 Q141.964 943.029 138.33 943.029 M138.33 939.326 Q144.14 939.326 147.195 943.932 Q150.274 948.515 150.274 957.265 Q150.274 965.992 147.195 970.599 Q144.14 975.182 138.33 975.182 Q132.519 975.182 129.441 970.599 Q126.385 965.992 126.385 957.265 Q126.385 948.515 129.441 943.932 Q132.519 939.326 138.33 939.326 Z\" fill=\"#000000\" fill-rule=\"nonzero\" fill-opacity=\"1\" /><path clip-path=\"url(#clip320)\" d=\"M63.9319 698.787 Q60.3208 698.787 58.4921 702.352 Q56.6865 705.893 56.6865 713.023 Q56.6865 720.129 58.4921 723.694 Q60.3208 727.236 63.9319 727.236 Q67.5661 727.236 69.3717 723.694 Q71.2004 720.129 71.2004 713.023 Q71.2004 705.893 69.3717 702.352 Q67.5661 698.787 63.9319 698.787 M63.9319 695.083 Q69.742 695.083 72.7976 699.69 Q75.8763 704.273 75.8763 713.023 Q75.8763 721.75 72.7976 726.356 Q69.742 730.939 63.9319 730.939 Q58.1217 730.939 55.043 726.356 Q51.9875 721.75 51.9875 713.023 Q51.9875 704.273 55.043 699.69 Q58.1217 695.083 63.9319 695.083 Z\" fill=\"#000000\" fill-rule=\"nonzero\" fill-opacity=\"1\" /><path clip-path=\"url(#clip320)\" d=\"M84.0938 724.389 L88.978 724.389 L88.978 730.268 L84.0938 730.268 L84.0938 724.389 Z\" fill=\"#000000\" fill-rule=\"nonzero\" fill-opacity=\"1\" /><path clip-path=\"url(#clip320)\" d=\"M97.9826 695.708 L120.205 695.708 L120.205 697.699 L107.658 730.268 L102.774 730.268 L114.58 699.643 L97.9826 699.643 L97.9826 695.708 Z\" fill=\"#000000\" fill-rule=\"nonzero\" fill-opacity=\"1\" /><path clip-path=\"url(#clip320)\" d=\"M129.371 695.708 L147.728 695.708 L147.728 699.643 L133.654 699.643 L133.654 708.115 Q134.672 707.768 135.691 707.606 Q136.709 707.421 137.728 707.421 Q143.515 707.421 146.894 710.592 Q150.274 713.764 150.274 719.18 Q150.274 724.759 146.802 727.861 Q143.33 730.939 137.01 730.939 Q134.834 730.939 132.566 730.569 Q130.32 730.199 127.913 729.458 L127.913 724.759 Q129.996 725.893 132.219 726.449 Q134.441 727.004 136.918 727.004 Q140.922 727.004 143.26 724.898 Q145.598 722.791 145.598 719.18 Q145.598 715.569 143.26 713.463 Q140.922 711.356 136.918 711.356 Q135.043 711.356 133.168 711.773 Q131.316 712.189 129.371 713.069 L129.371 695.708 Z\" fill=\"#000000\" fill-rule=\"nonzero\" fill-opacity=\"1\" /><path clip-path=\"url(#clip320)\" d=\"M53.7467 482.09 L61.3856 482.09 L61.3856 455.725 L53.0754 457.391 L53.0754 453.132 L61.3393 451.466 L66.0152 451.466 L66.0152 482.09 L73.654 482.09 L73.654 486.026 L53.7467 486.026 L53.7467 482.09 Z\" fill=\"#000000\" fill-rule=\"nonzero\" fill-opacity=\"1\" /><path clip-path=\"url(#clip320)\" d=\"M83.0984 480.146 L87.9827 480.146 L87.9827 486.026 L83.0984 486.026 L83.0984 480.146 Z\" fill=\"#000000\" fill-rule=\"nonzero\" fill-opacity=\"1\" /><path clip-path=\"url(#clip320)\" d=\"M108.168 454.544 Q104.557 454.544 102.728 458.109 Q100.922 461.651 100.922 468.78 Q100.922 475.887 102.728 479.452 Q104.557 482.993 108.168 482.993 Q111.802 482.993 113.608 479.452 Q115.436 475.887 115.436 468.78 Q115.436 461.651 113.608 458.109 Q111.802 454.544 108.168 454.544 M108.168 450.841 Q113.978 450.841 117.033 455.447 Q120.112 460.03 120.112 468.78 Q120.112 477.507 117.033 482.114 Q113.978 486.697 108.168 486.697 Q102.358 486.697 99.2789 482.114 Q96.2234 477.507 96.2234 468.78 Q96.2234 460.03 99.2789 455.447 Q102.358 450.841 108.168 450.841 Z\" fill=\"#000000\" fill-rule=\"nonzero\" fill-opacity=\"1\" /><path clip-path=\"url(#clip320)\" d=\"M138.33 454.544 Q134.719 454.544 132.89 458.109 Q131.084 461.651 131.084 468.78 Q131.084 475.887 132.89 479.452 Q134.719 482.993 138.33 482.993 Q141.964 482.993 143.769 479.452 Q145.598 475.887 145.598 468.78 Q145.598 461.651 143.769 458.109 Q141.964 454.544 138.33 454.544 M138.33 450.841 Q144.14 450.841 147.195 455.447 Q150.274 460.03 150.274 468.78 Q150.274 477.507 147.195 482.114 Q144.14 486.697 138.33 486.697 Q132.519 486.697 129.441 482.114 Q126.385 477.507 126.385 468.78 Q126.385 460.03 129.441 455.447 Q132.519 450.841 138.33 450.841 Z\" fill=\"#000000\" fill-rule=\"nonzero\" fill-opacity=\"1\" /><path clip-path=\"url(#clip320)\" d=\"M54.7421 237.848 L62.381 237.848 L62.381 211.482 L54.0708 213.149 L54.0708 208.89 L62.3347 207.223 L67.0106 207.223 L67.0106 237.848 L74.6494 237.848 L74.6494 241.783 L54.7421 241.783 L54.7421 237.848 Z\" fill=\"#000000\" fill-rule=\"nonzero\" fill-opacity=\"1\" /><path clip-path=\"url(#clip320)\" d=\"M84.0938 235.903 L88.978 235.903 L88.978 241.783 L84.0938 241.783 L84.0938 235.903 Z\" fill=\"#000000\" fill-rule=\"nonzero\" fill-opacity=\"1\" /><path clip-path=\"url(#clip320)\" d=\"M103.191 237.848 L119.51 237.848 L119.51 241.783 L97.566 241.783 L97.566 237.848 Q100.228 235.093 104.811 230.464 Q109.418 225.811 110.598 224.468 Q112.844 221.945 113.723 220.209 Q114.626 218.45 114.626 216.76 Q114.626 214.005 112.682 212.269 Q110.76 210.533 107.658 210.533 Q105.459 210.533 103.006 211.297 Q100.575 212.061 97.7974 213.612 L97.7974 208.89 Q100.621 207.755 103.075 207.177 Q105.529 206.598 107.566 206.598 Q112.936 206.598 116.131 209.283 Q119.325 211.968 119.325 216.459 Q119.325 218.589 118.515 220.51 Q117.728 222.408 115.621 225.001 Q115.043 225.672 111.941 228.89 Q108.839 232.084 103.191 237.848 Z\" fill=\"#000000\" fill-rule=\"nonzero\" fill-opacity=\"1\" /><path clip-path=\"url(#clip320)\" d=\"M129.371 207.223 L147.728 207.223 L147.728 211.158 L133.654 211.158 L133.654 219.63 Q134.672 219.283 135.691 219.121 Q136.709 218.936 137.728 218.936 Q143.515 218.936 146.894 222.107 Q150.274 225.279 150.274 230.695 Q150.274 236.274 146.802 239.376 Q143.33 242.454 137.01 242.454 Q134.834 242.454 132.566 242.084 Q130.32 241.714 127.913 240.973 L127.913 236.274 Q129.996 237.408 132.219 237.964 Q134.441 238.519 136.918 238.519 Q140.922 238.519 143.26 236.413 Q145.598 234.306 145.598 230.695 Q145.598 227.084 143.26 224.978 Q140.922 222.871 136.918 222.871 Q135.043 222.871 133.168 223.288 Q131.316 223.704 129.371 224.584 L129.371 207.223 Z\" fill=\"#000000\" fill-rule=\"nonzero\" fill-opacity=\"1\" /><polyline clip-path=\"url(#clip322)\" style=\"stroke:#009af9; stroke-linecap:round; stroke-linejoin:round; stroke-width:4; stroke-opacity:1; fill:none\" points=\"247.59,87.9763 268.234,94.851 288.879,101.761 309.524,108.706 330.169,115.688 350.814,122.707 371.459,129.763 392.104,136.857 412.749,143.99 433.394,151.162 454.039,158.374 474.684,165.627 495.329,172.921 515.974,180.257 536.619,187.636 557.264,195.058 577.909,202.525 598.554,210.036 619.199,217.594 639.844,225.199 660.489,232.851 681.134,240.552 701.779,248.302 722.424,256.103 743.069,263.955 763.713,271.86 784.358,279.818 805.003,287.832 825.648,295.901 846.293,304.027 866.938,312.211 887.583,320.455 908.228,328.759 928.873,337.126 949.518,345.557 970.163,354.052 990.808,362.614 1011.45,371.245 1032.1,379.945 1052.74,388.717 1073.39,397.562 1094.03,406.483 1114.68,415.481 1135.32,424.558 1155.97,433.716 1176.61,442.959 1197.26,452.287 1217.9,461.703 1238.55,471.211 1259.19,480.812 1279.84,490.51 1300.48,500.307 1321.13,510.207 1341.77,520.213 1362.42,530.328 1383.06,540.556 1403.71,550.901 1424.35,561.367 1445,571.959 1465.64,582.68 1486.29,593.536 1506.93,604.532 1527.58,615.674 1548.22,626.968 1568.87,638.42 1589.51,650.036 1610.16,661.824 1630.8,673.793 1651.45,685.95 1672.09,698.305 1692.74,710.867 1713.38,723.648 1734.03,736.659 1754.67,749.914 1775.32,763.426 1795.96,777.211 1816.61,791.286 1837.25,805.671 1857.9,820.387 1878.54,835.457 1899.19,850.909 1919.83,866.774 1940.48,883.085 1961.12,899.884 1981.77,917.216 2002.41,935.137 2023.06,953.71 2043.7,973.012 2064.35,993.136 2084.99,1014.2 2105.64,1036.34 2126.28,1059.75 2146.93,1084.68 2167.57,1111.46 2188.22,1140.59 2208.86,1172.8 2229.51,1209.36 2250.15,1252.74 2270.8,1309.26 2291.44,1445.72 \"/>\n",
       "<path clip-path=\"url(#clip320)\" d=\"M2011.46 198.898 L2280.54 198.898 L2280.54 95.2176 L2011.46 95.2176  Z\" fill=\"#ffffff\" fill-rule=\"evenodd\" fill-opacity=\"1\"/>\n",
       "<polyline clip-path=\"url(#clip320)\" style=\"stroke:#000000; stroke-linecap:round; stroke-linejoin:round; stroke-width:4; stroke-opacity:1; fill:none\" points=\"2011.46,198.898 2280.54,198.898 2280.54,95.2176 2011.46,95.2176 2011.46,198.898 \"/>\n",
       "<polyline clip-path=\"url(#clip320)\" style=\"stroke:#009af9; stroke-linecap:round; stroke-linejoin:round; stroke-width:4; stroke-opacity:1; fill:none\" points=\"2035.53,147.058 2179.97,147.058 \"/>\n",
       "<path clip-path=\"url(#clip320)\" d=\"M2217.88 166.745 Q2216.07 171.375 2214.36 172.787 Q2212.65 174.199 2209.78 174.199 L2206.38 174.199 L2206.38 170.634 L2208.88 170.634 Q2210.63 170.634 2211.61 169.8 Q2212.58 168.967 2213.76 165.865 L2214.52 163.921 L2204.04 138.412 L2208.55 138.412 L2216.65 158.689 L2224.76 138.412 L2229.27 138.412 L2217.88 166.745 Z\" fill=\"#000000\" fill-rule=\"nonzero\" fill-opacity=\"1\" /><path clip-path=\"url(#clip320)\" d=\"M2236.56 160.402 L2244.2 160.402 L2244.2 134.037 L2235.89 135.703 L2235.89 131.444 L2244.15 129.778 L2248.83 129.778 L2248.83 160.402 L2256.47 160.402 L2256.47 164.338 L2236.56 164.338 L2236.56 160.402 Z\" fill=\"#000000\" fill-rule=\"nonzero\" fill-opacity=\"1\" /></svg>\n"
      ]
     },
     "execution_count": 451,
     "metadata": {},
     "output_type": "execute_result"
    }
   ],
   "source": [
    "Jpm_vals = range(-1,0,100)\n",
    "\n",
    "plot(Jpm_vals, FF_111_B.(2π/3, Jpm_vals))"
   ]
  },
  {
   "cell_type": "code",
   "execution_count": 379,
   "id": "17256089-8db3-49da-b5d8-1e016265b798",
   "metadata": {},
   "outputs": [
    {
     "data": {
      "text/plain": [
       "4-element Vector{Float64}:\n",
       "  0.003085679882812502\n",
       " -0.0041571466796874994\n",
       " -0.0041571466796874994\n",
       " -0.0041571466796874994"
      ]
     },
     "execution_count": 379,
     "metadata": {},
     "output_type": "execute_result"
    }
   ],
   "source": [
    "# best_flux_fast(g_from_params(Jpm, 0.53825*[1,1,1]/√3)).minimizer/π\n",
    "g_from_params(Jpm, 0.53825*[1,1,1]/√3)"
   ]
  },
  {
   "cell_type": "code",
   "execution_count": 235,
   "id": "874cc270-3622-4aa6-930a-27eab5c3965a",
   "metadata": {},
   "outputs": [
    {
     "data": {
      "image/svg+xml": [
       "<?xml version=\"1.0\" encoding=\"utf-8\"?>\n",
       "<svg xmlns=\"http://www.w3.org/2000/svg\" xmlns:xlink=\"http://www.w3.org/1999/xlink\" width=\"600\" height=\"400\" viewBox=\"0 0 2400 1600\">\n",
       "<defs>\n",
       "  <clipPath id=\"clip800\">\n",
       "    <rect x=\"0\" y=\"0\" width=\"2400\" height=\"1600\"/>\n",
       "  </clipPath>\n",
       "</defs>\n",
       "<path clip-path=\"url(#clip800)\" d=\"M0 1600 L2400 1600 L2400 0 L0 0  Z\" fill=\"#ffffff\" fill-rule=\"evenodd\" fill-opacity=\"1\"/>\n",
       "<defs>\n",
       "  <clipPath id=\"clip801\">\n",
       "    <rect x=\"480\" y=\"0\" width=\"1681\" height=\"1600\"/>\n",
       "  </clipPath>\n",
       "</defs>\n",
       "<path clip-path=\"url(#clip800)\" d=\"M219.736 1422.82 L2352.76 1422.82 L2352.76 47.2441 L219.736 47.2441  Z\" fill=\"#ffffff\" fill-rule=\"evenodd\" fill-opacity=\"1\"/>\n",
       "<defs>\n",
       "  <clipPath id=\"clip802\">\n",
       "    <rect x=\"219\" y=\"47\" width=\"2134\" height=\"1377\"/>\n",
       "  </clipPath>\n",
       "</defs>\n",
       "<polyline clip-path=\"url(#clip802)\" style=\"stroke:#000000; stroke-linecap:round; stroke-linejoin:round; stroke-width:2; stroke-opacity:0.1; fill:none\" points=\"280.104,1422.82 280.104,47.2441 \"/>\n",
       "<polyline clip-path=\"url(#clip802)\" style=\"stroke:#000000; stroke-linecap:round; stroke-linejoin:round; stroke-width:2; stroke-opacity:0.1; fill:none\" points=\"783.175,1422.82 783.175,47.2441 \"/>\n",
       "<polyline clip-path=\"url(#clip802)\" style=\"stroke:#000000; stroke-linecap:round; stroke-linejoin:round; stroke-width:2; stroke-opacity:0.1; fill:none\" points=\"1286.25,1422.82 1286.25,47.2441 \"/>\n",
       "<polyline clip-path=\"url(#clip802)\" style=\"stroke:#000000; stroke-linecap:round; stroke-linejoin:round; stroke-width:2; stroke-opacity:0.1; fill:none\" points=\"1789.32,1422.82 1789.32,47.2441 \"/>\n",
       "<polyline clip-path=\"url(#clip802)\" style=\"stroke:#000000; stroke-linecap:round; stroke-linejoin:round; stroke-width:2; stroke-opacity:0.1; fill:none\" points=\"2292.39,1422.82 2292.39,47.2441 \"/>\n",
       "<polyline clip-path=\"url(#clip800)\" style=\"stroke:#000000; stroke-linecap:round; stroke-linejoin:round; stroke-width:4; stroke-opacity:1; fill:none\" points=\"219.736,1422.82 2352.76,1422.82 \"/>\n",
       "<polyline clip-path=\"url(#clip800)\" style=\"stroke:#000000; stroke-linecap:round; stroke-linejoin:round; stroke-width:4; stroke-opacity:1; fill:none\" points=\"280.104,1422.82 280.104,1403.93 \"/>\n",
       "<polyline clip-path=\"url(#clip800)\" style=\"stroke:#000000; stroke-linecap:round; stroke-linejoin:round; stroke-width:4; stroke-opacity:1; fill:none\" points=\"783.175,1422.82 783.175,1403.93 \"/>\n",
       "<polyline clip-path=\"url(#clip800)\" style=\"stroke:#000000; stroke-linecap:round; stroke-linejoin:round; stroke-width:4; stroke-opacity:1; fill:none\" points=\"1286.25,1422.82 1286.25,1403.93 \"/>\n",
       "<polyline clip-path=\"url(#clip800)\" style=\"stroke:#000000; stroke-linecap:round; stroke-linejoin:round; stroke-width:4; stroke-opacity:1; fill:none\" points=\"1789.32,1422.82 1789.32,1403.93 \"/>\n",
       "<polyline clip-path=\"url(#clip800)\" style=\"stroke:#000000; stroke-linecap:round; stroke-linejoin:round; stroke-width:4; stroke-opacity:1; fill:none\" points=\"2292.39,1422.82 2292.39,1403.93 \"/>\n",
       "<path clip-path=\"url(#clip800)\" d=\"M211.551 1468.4 L241.227 1468.4 L241.227 1472.33 L211.551 1472.33 L211.551 1468.4 Z\" fill=\"#000000\" fill-rule=\"nonzero\" fill-opacity=\"1\" /><path clip-path=\"url(#clip800)\" d=\"M252.13 1481.29 L259.769 1481.29 L259.769 1454.92 L251.459 1456.59 L251.459 1452.33 L259.722 1450.66 L264.398 1450.66 L264.398 1481.29 L272.037 1481.29 L272.037 1485.22 L252.13 1485.22 L252.13 1481.29 Z\" fill=\"#000000\" fill-rule=\"nonzero\" fill-opacity=\"1\" /><path clip-path=\"url(#clip800)\" d=\"M281.482 1479.34 L286.366 1479.34 L286.366 1485.22 L281.482 1485.22 L281.482 1479.34 Z\" fill=\"#000000\" fill-rule=\"nonzero\" fill-opacity=\"1\" /><path clip-path=\"url(#clip800)\" d=\"M306.551 1453.74 Q302.94 1453.74 301.111 1457.31 Q299.306 1460.85 299.306 1467.98 Q299.306 1475.09 301.111 1478.65 Q302.94 1482.19 306.551 1482.19 Q310.185 1482.19 311.991 1478.65 Q313.819 1475.09 313.819 1467.98 Q313.819 1460.85 311.991 1457.31 Q310.185 1453.74 306.551 1453.74 M306.551 1450.04 Q312.361 1450.04 315.417 1454.65 Q318.495 1459.23 318.495 1467.98 Q318.495 1476.71 315.417 1481.31 Q312.361 1485.9 306.551 1485.9 Q300.741 1485.9 297.662 1481.31 Q294.607 1476.71 294.607 1467.98 Q294.607 1459.23 297.662 1454.65 Q300.741 1450.04 306.551 1450.04 Z\" fill=\"#000000\" fill-rule=\"nonzero\" fill-opacity=\"1\" /><path clip-path=\"url(#clip800)\" d=\"M336.713 1453.74 Q333.102 1453.74 331.273 1457.31 Q329.467 1460.85 329.467 1467.98 Q329.467 1475.09 331.273 1478.65 Q333.102 1482.19 336.713 1482.19 Q340.347 1482.19 342.153 1478.65 Q343.981 1475.09 343.981 1467.98 Q343.981 1460.85 342.153 1457.31 Q340.347 1453.74 336.713 1453.74 M336.713 1450.04 Q342.523 1450.04 345.578 1454.65 Q348.657 1459.23 348.657 1467.98 Q348.657 1476.71 345.578 1481.31 Q342.523 1485.9 336.713 1485.9 Q330.903 1485.9 327.824 1481.31 Q324.768 1476.71 324.768 1467.98 Q324.768 1459.23 327.824 1454.65 Q330.903 1450.04 336.713 1450.04 Z\" fill=\"#000000\" fill-rule=\"nonzero\" fill-opacity=\"1\" /><path clip-path=\"url(#clip800)\" d=\"M715.12 1468.4 L744.796 1468.4 L744.796 1472.33 L715.12 1472.33 L715.12 1468.4 Z\" fill=\"#000000\" fill-rule=\"nonzero\" fill-opacity=\"1\" /><path clip-path=\"url(#clip800)\" d=\"M764.888 1453.74 Q761.277 1453.74 759.448 1457.31 Q757.643 1460.85 757.643 1467.98 Q757.643 1475.09 759.448 1478.65 Q761.277 1482.19 764.888 1482.19 Q768.522 1482.19 770.328 1478.65 Q772.157 1475.09 772.157 1467.98 Q772.157 1460.85 770.328 1457.31 Q768.522 1453.74 764.888 1453.74 M764.888 1450.04 Q770.698 1450.04 773.754 1454.65 Q776.833 1459.23 776.833 1467.98 Q776.833 1476.71 773.754 1481.31 Q770.698 1485.9 764.888 1485.9 Q759.078 1485.9 755.999 1481.31 Q752.944 1476.71 752.944 1467.98 Q752.944 1459.23 755.999 1454.65 Q759.078 1450.04 764.888 1450.04 Z\" fill=\"#000000\" fill-rule=\"nonzero\" fill-opacity=\"1\" /><path clip-path=\"url(#clip800)\" d=\"M785.05 1479.34 L789.934 1479.34 L789.934 1485.22 L785.05 1485.22 L785.05 1479.34 Z\" fill=\"#000000\" fill-rule=\"nonzero\" fill-opacity=\"1\" /><path clip-path=\"url(#clip800)\" d=\"M798.939 1450.66 L821.161 1450.66 L821.161 1452.65 L808.615 1485.22 L803.731 1485.22 L815.536 1454.6 L798.939 1454.6 L798.939 1450.66 Z\" fill=\"#000000\" fill-rule=\"nonzero\" fill-opacity=\"1\" /><path clip-path=\"url(#clip800)\" d=\"M830.328 1450.66 L848.684 1450.66 L848.684 1454.6 L834.61 1454.6 L834.61 1463.07 Q835.628 1462.72 836.647 1462.56 Q837.666 1462.38 838.684 1462.38 Q844.471 1462.38 847.851 1465.55 Q851.23 1468.72 851.23 1474.14 Q851.23 1479.71 847.758 1482.82 Q844.286 1485.9 837.966 1485.9 Q835.791 1485.9 833.522 1485.53 Q831.277 1485.15 828.869 1484.41 L828.869 1479.71 Q830.953 1480.85 833.175 1481.4 Q835.397 1481.96 837.874 1481.96 Q841.878 1481.96 844.216 1479.85 Q846.554 1477.75 846.554 1474.14 Q846.554 1470.53 844.216 1468.42 Q841.878 1466.31 837.874 1466.31 Q835.999 1466.31 834.124 1466.73 Q832.272 1467.15 830.328 1468.03 L830.328 1450.66 Z\" fill=\"#000000\" fill-rule=\"nonzero\" fill-opacity=\"1\" /><path clip-path=\"url(#clip800)\" d=\"M1217.69 1468.4 L1247.37 1468.4 L1247.37 1472.33 L1217.69 1472.33 L1217.69 1468.4 Z\" fill=\"#000000\" fill-rule=\"nonzero\" fill-opacity=\"1\" /><path clip-path=\"url(#clip800)\" d=\"M1267.46 1453.74 Q1263.85 1453.74 1262.02 1457.31 Q1260.22 1460.85 1260.22 1467.98 Q1260.22 1475.09 1262.02 1478.65 Q1263.85 1482.19 1267.46 1482.19 Q1271.1 1482.19 1272.9 1478.65 Q1274.73 1475.09 1274.73 1467.98 Q1274.73 1460.85 1272.9 1457.31 Q1271.1 1453.74 1267.46 1453.74 M1267.46 1450.04 Q1273.27 1450.04 1276.33 1454.65 Q1279.41 1459.23 1279.41 1467.98 Q1279.41 1476.71 1276.33 1481.31 Q1273.27 1485.9 1267.46 1485.9 Q1261.65 1485.9 1258.57 1481.31 Q1255.52 1476.71 1255.52 1467.98 Q1255.52 1459.23 1258.57 1454.65 Q1261.65 1450.04 1267.46 1450.04 Z\" fill=\"#000000\" fill-rule=\"nonzero\" fill-opacity=\"1\" /><path clip-path=\"url(#clip800)\" d=\"M1287.62 1479.34 L1292.51 1479.34 L1292.51 1485.22 L1287.62 1485.22 L1287.62 1479.34 Z\" fill=\"#000000\" fill-rule=\"nonzero\" fill-opacity=\"1\" /><path clip-path=\"url(#clip800)\" d=\"M1302.74 1450.66 L1321.1 1450.66 L1321.1 1454.6 L1307.02 1454.6 L1307.02 1463.07 Q1308.04 1462.72 1309.06 1462.56 Q1310.08 1462.38 1311.1 1462.38 Q1316.88 1462.38 1320.26 1465.55 Q1323.64 1468.72 1323.64 1474.14 Q1323.64 1479.71 1320.17 1482.82 Q1316.7 1485.9 1310.38 1485.9 Q1308.2 1485.9 1305.93 1485.53 Q1303.69 1485.15 1301.28 1484.41 L1301.28 1479.71 Q1303.36 1480.85 1305.59 1481.4 Q1307.81 1481.96 1310.29 1481.96 Q1314.29 1481.96 1316.63 1479.85 Q1318.97 1477.75 1318.97 1474.14 Q1318.97 1470.53 1316.63 1468.42 Q1314.29 1466.31 1310.29 1466.31 Q1308.41 1466.31 1306.54 1466.73 Q1304.68 1467.15 1302.74 1468.03 L1302.74 1450.66 Z\" fill=\"#000000\" fill-rule=\"nonzero\" fill-opacity=\"1\" /><path clip-path=\"url(#clip800)\" d=\"M1342.85 1453.74 Q1339.24 1453.74 1337.41 1457.31 Q1335.61 1460.85 1335.61 1467.98 Q1335.61 1475.09 1337.41 1478.65 Q1339.24 1482.19 1342.85 1482.19 Q1346.49 1482.19 1348.29 1478.65 Q1350.12 1475.09 1350.12 1467.98 Q1350.12 1460.85 1348.29 1457.31 Q1346.49 1453.74 1342.85 1453.74 M1342.85 1450.04 Q1348.66 1450.04 1351.72 1454.65 Q1354.8 1459.23 1354.8 1467.98 Q1354.8 1476.71 1351.72 1481.31 Q1348.66 1485.9 1342.85 1485.9 Q1337.04 1485.9 1333.97 1481.31 Q1330.91 1476.71 1330.91 1467.98 Q1330.91 1459.23 1333.97 1454.65 Q1337.04 1450.04 1342.85 1450.04 Z\" fill=\"#000000\" fill-rule=\"nonzero\" fill-opacity=\"1\" /><path clip-path=\"url(#clip800)\" d=\"M1721.26 1468.4 L1750.94 1468.4 L1750.94 1472.33 L1721.26 1472.33 L1721.26 1468.4 Z\" fill=\"#000000\" fill-rule=\"nonzero\" fill-opacity=\"1\" /><path clip-path=\"url(#clip800)\" d=\"M1771.03 1453.74 Q1767.42 1453.74 1765.59 1457.31 Q1763.78 1460.85 1763.78 1467.98 Q1763.78 1475.09 1765.59 1478.65 Q1767.42 1482.19 1771.03 1482.19 Q1774.66 1482.19 1776.47 1478.65 Q1778.3 1475.09 1778.3 1467.98 Q1778.3 1460.85 1776.47 1457.31 Q1774.66 1453.74 1771.03 1453.74 M1771.03 1450.04 Q1776.84 1450.04 1779.9 1454.65 Q1782.97 1459.23 1782.97 1467.98 Q1782.97 1476.71 1779.9 1481.31 Q1776.84 1485.9 1771.03 1485.9 Q1765.22 1485.9 1762.14 1481.31 Q1759.09 1476.71 1759.09 1467.98 Q1759.09 1459.23 1762.14 1454.65 Q1765.22 1450.04 1771.03 1450.04 Z\" fill=\"#000000\" fill-rule=\"nonzero\" fill-opacity=\"1\" /><path clip-path=\"url(#clip800)\" d=\"M1791.19 1479.34 L1796.08 1479.34 L1796.08 1485.22 L1791.19 1485.22 L1791.19 1479.34 Z\" fill=\"#000000\" fill-rule=\"nonzero\" fill-opacity=\"1\" /><path clip-path=\"url(#clip800)\" d=\"M1810.29 1481.29 L1826.61 1481.29 L1826.61 1485.22 L1804.66 1485.22 L1804.66 1481.29 Q1807.33 1478.53 1811.91 1473.9 Q1816.52 1469.25 1817.7 1467.91 Q1819.94 1465.39 1820.82 1463.65 Q1821.72 1461.89 1821.72 1460.2 Q1821.72 1457.45 1819.78 1455.71 Q1817.86 1453.97 1814.76 1453.97 Q1812.56 1453.97 1810.1 1454.74 Q1807.67 1455.5 1804.9 1457.05 L1804.9 1452.33 Q1807.72 1451.2 1810.17 1450.62 Q1812.63 1450.04 1814.66 1450.04 Q1820.03 1450.04 1823.23 1452.72 Q1826.42 1455.41 1826.42 1459.9 Q1826.42 1462.03 1825.61 1463.95 Q1824.83 1465.85 1822.72 1468.44 Q1822.14 1469.11 1819.04 1472.33 Q1815.94 1475.53 1810.29 1481.29 Z\" fill=\"#000000\" fill-rule=\"nonzero\" fill-opacity=\"1\" /><path clip-path=\"url(#clip800)\" d=\"M1836.47 1450.66 L1854.83 1450.66 L1854.83 1454.6 L1840.75 1454.6 L1840.75 1463.07 Q1841.77 1462.72 1842.79 1462.56 Q1843.81 1462.38 1844.83 1462.38 Q1850.61 1462.38 1853.99 1465.55 Q1857.37 1468.72 1857.37 1474.14 Q1857.37 1479.71 1853.9 1482.82 Q1850.43 1485.9 1844.11 1485.9 Q1841.93 1485.9 1839.66 1485.53 Q1837.42 1485.15 1835.01 1484.41 L1835.01 1479.71 Q1837.09 1480.85 1839.32 1481.4 Q1841.54 1481.96 1844.02 1481.96 Q1848.02 1481.96 1850.36 1479.85 Q1852.7 1477.75 1852.7 1474.14 Q1852.7 1470.53 1850.36 1468.42 Q1848.02 1466.31 1844.02 1466.31 Q1842.14 1466.31 1840.27 1466.73 Q1838.41 1467.15 1836.47 1468.03 L1836.47 1450.66 Z\" fill=\"#000000\" fill-rule=\"nonzero\" fill-opacity=\"1\" /><path clip-path=\"url(#clip800)\" d=\"M2254.69 1453.74 Q2251.08 1453.74 2249.25 1457.31 Q2247.45 1460.85 2247.45 1467.98 Q2247.45 1475.09 2249.25 1478.65 Q2251.08 1482.19 2254.69 1482.19 Q2258.33 1482.19 2260.13 1478.65 Q2261.96 1475.09 2261.96 1467.98 Q2261.96 1460.85 2260.13 1457.31 Q2258.33 1453.74 2254.69 1453.74 M2254.69 1450.04 Q2260.5 1450.04 2263.56 1454.65 Q2266.64 1459.23 2266.64 1467.98 Q2266.64 1476.71 2263.56 1481.31 Q2260.5 1485.9 2254.69 1485.9 Q2248.88 1485.9 2245.8 1481.31 Q2242.75 1476.71 2242.75 1467.98 Q2242.75 1459.23 2245.8 1454.65 Q2248.88 1450.04 2254.69 1450.04 Z\" fill=\"#000000\" fill-rule=\"nonzero\" fill-opacity=\"1\" /><path clip-path=\"url(#clip800)\" d=\"M2274.85 1479.34 L2279.74 1479.34 L2279.74 1485.22 L2274.85 1485.22 L2274.85 1479.34 Z\" fill=\"#000000\" fill-rule=\"nonzero\" fill-opacity=\"1\" /><path clip-path=\"url(#clip800)\" d=\"M2299.92 1453.74 Q2296.31 1453.74 2294.48 1457.31 Q2292.68 1460.85 2292.68 1467.98 Q2292.68 1475.09 2294.48 1478.65 Q2296.31 1482.19 2299.92 1482.19 Q2303.56 1482.19 2305.36 1478.65 Q2307.19 1475.09 2307.19 1467.98 Q2307.19 1460.85 2305.36 1457.31 Q2303.56 1453.74 2299.92 1453.74 M2299.92 1450.04 Q2305.73 1450.04 2308.79 1454.65 Q2311.87 1459.23 2311.87 1467.98 Q2311.87 1476.71 2308.79 1481.31 Q2305.73 1485.9 2299.92 1485.9 Q2294.11 1485.9 2291.03 1481.31 Q2287.98 1476.71 2287.98 1467.98 Q2287.98 1459.23 2291.03 1454.65 Q2294.11 1450.04 2299.92 1450.04 Z\" fill=\"#000000\" fill-rule=\"nonzero\" fill-opacity=\"1\" /><path clip-path=\"url(#clip800)\" d=\"M2330.08 1453.74 Q2326.47 1453.74 2324.64 1457.31 Q2322.84 1460.85 2322.84 1467.98 Q2322.84 1475.09 2324.64 1478.65 Q2326.47 1482.19 2330.08 1482.19 Q2333.72 1482.19 2335.52 1478.65 Q2337.35 1475.09 2337.35 1467.98 Q2337.35 1460.85 2335.52 1457.31 Q2333.72 1453.74 2330.08 1453.74 M2330.08 1450.04 Q2335.89 1450.04 2338.95 1454.65 Q2342.03 1459.23 2342.03 1467.98 Q2342.03 1476.71 2338.95 1481.31 Q2335.89 1485.9 2330.08 1485.9 Q2324.27 1485.9 2321.2 1481.31 Q2318.14 1476.71 2318.14 1467.98 Q2318.14 1459.23 2321.2 1454.65 Q2324.27 1450.04 2330.08 1450.04 Z\" fill=\"#000000\" fill-rule=\"nonzero\" fill-opacity=\"1\" /><path clip-path=\"url(#clip800)\" d=\"M1215.19 1508.11 Q1215.19 1508.72 1214.93 1509.01 Q1214.67 1509.27 1214.38 1509.33 Q1214.09 1509.36 1213.42 1509.36 Q1212.03 1509.36 1211.29 1509.46 Q1210.55 1509.56 1210.1 1509.97 Q1209.65 1510.36 1209.49 1510.75 Q1209.36 1511.13 1209.13 1512.13 L1201.4 1542.92 Q1200.21 1547.66 1195.9 1550.75 Q1191.58 1553.81 1186.85 1553.81 Q1182.98 1553.81 1180.53 1551.78 Q1178.12 1549.72 1178.12 1546.63 Q1178.12 1545.05 1178.63 1543.92 Q1179.15 1542.79 1179.92 1542.28 Q1180.69 1541.76 1181.34 1541.57 Q1182.02 1541.34 1182.56 1541.34 Q1183.63 1541.34 1184.53 1542.02 Q1185.46 1542.7 1185.46 1544.11 Q1185.46 1545.69 1184.24 1547.01 Q1183.01 1548.33 1181.18 1548.33 Q1180.57 1548.33 1180.37 1548.27 Q1180.86 1549.85 1182.11 1550.84 Q1183.37 1551.81 1184.46 1552.1 Q1185.59 1552.36 1186.65 1552.36 Q1189.42 1552.36 1192.22 1549.68 Q1195.03 1547.01 1196.15 1542.47 L1203.72 1512.2 Q1203.98 1511.17 1203.98 1510.81 Q1203.98 1510.14 1203.56 1509.91 Q1203.17 1509.65 1201.95 1509.49 Q1200.31 1509.36 1198.12 1509.36 Q1197.35 1509.36 1197.02 1509.36 Q1196.7 1509.33 1196.38 1509.27 Q1196.06 1509.2 1195.96 1509.07 Q1195.86 1508.91 1195.86 1508.62 Q1195.86 1508.01 1196.12 1507.72 Q1196.38 1507.4 1196.6 1507.37 Q1196.83 1507.3 1197.25 1507.3 L1206.94 1507.5 Q1207.78 1507.5 1210.61 1507.4 Q1213.45 1507.3 1214.29 1507.3 Q1215.19 1507.3 1215.19 1508.11 Z\" fill=\"#000000\" fill-rule=\"nonzero\" fill-opacity=\"1\" /><path clip-path=\"url(#clip800)\" d=\"M1221.86 1571.12 Q1221.86 1570.24 1223.15 1570.2 L1236.27 1570.2 L1236.27 1557.59 L1223.24 1557.59 Q1221.86 1557.59 1221.86 1556.67 Q1221.86 1555.75 1223.24 1555.75 L1236.27 1555.75 L1236.27 1542.74 Q1236.27 1541.36 1237.19 1541.36 Q1238.12 1541.34 1238.12 1542.74 L1238.12 1555.75 L1251.12 1555.75 Q1252.5 1555.75 1252.5 1556.67 Q1252.52 1557.59 1251.12 1557.59 L1238.12 1557.59 L1238.12 1570.2 L1251.12 1570.2 Q1252.5 1570.2 1252.5 1571.12 Q1252.52 1572.05 1251.17 1572.05 L1223.24 1572.05 Q1221.86 1572.05 1221.86 1571.12 Z\" fill=\"#000000\" fill-rule=\"nonzero\" fill-opacity=\"1\" /><path clip-path=\"url(#clip800)\" d=\"M1264.47 1567.91 Q1264.47 1567.59 1264.73 1566.88 L1288.01 1504.66 Q1288.01 1504.6 1288.17 1504.24 Q1288.34 1503.89 1288.43 1503.66 Q1288.53 1503.4 1288.72 1503.21 Q1288.95 1503.02 1289.21 1503.02 Q1289.85 1503.02 1289.85 1503.82 Q1289.85 1503.89 1289.66 1504.66 L1266.31 1566.95 Q1265.92 1568.07 1265.66 1568.4 Q1265.44 1568.72 1265.05 1568.72 Q1264.47 1568.72 1264.47 1567.91 Z\" fill=\"#000000\" fill-rule=\"nonzero\" fill-opacity=\"1\" /><path clip-path=\"url(#clip800)\" d=\"M1334.2 1508.11 Q1334.2 1508.72 1333.95 1509.01 Q1333.69 1509.27 1333.4 1509.33 Q1333.11 1509.36 1332.43 1509.36 Q1331.05 1509.36 1330.31 1509.46 Q1329.57 1509.56 1329.12 1509.97 Q1328.66 1510.36 1328.5 1510.75 Q1328.38 1511.13 1328.15 1512.13 L1320.42 1542.92 Q1319.23 1547.66 1314.91 1550.75 Q1310.6 1553.81 1305.86 1553.81 Q1302 1553.81 1299.55 1551.78 Q1297.14 1549.72 1297.14 1546.63 Q1297.14 1545.05 1297.65 1543.92 Q1298.17 1542.79 1298.94 1542.28 Q1299.71 1541.76 1300.36 1541.57 Q1301.03 1541.34 1301.58 1541.34 Q1302.64 1541.34 1303.54 1542.02 Q1304.48 1542.7 1304.48 1544.11 Q1304.48 1545.69 1303.25 1547.01 Q1302.03 1548.33 1300.19 1548.33 Q1299.58 1548.33 1299.39 1548.27 Q1299.87 1549.85 1301.13 1550.84 Q1302.38 1551.81 1303.48 1552.1 Q1304.61 1552.36 1305.67 1552.36 Q1308.44 1552.36 1311.24 1549.68 Q1314.04 1547.01 1315.17 1542.47 L1322.74 1512.2 Q1323 1511.17 1323 1510.81 Q1323 1510.14 1322.58 1509.91 Q1322.19 1509.65 1320.97 1509.49 Q1319.33 1509.36 1317.14 1509.36 Q1316.36 1509.36 1316.04 1509.36 Q1315.72 1509.33 1315.4 1509.27 Q1315.07 1509.2 1314.98 1509.07 Q1314.88 1508.91 1314.88 1508.62 Q1314.88 1508.01 1315.14 1507.72 Q1315.4 1507.4 1315.62 1507.37 Q1315.85 1507.3 1316.27 1507.3 L1325.96 1507.5 Q1326.8 1507.5 1329.63 1507.4 Q1332.47 1507.3 1333.3 1507.3 Q1334.2 1507.3 1334.2 1508.11 Z\" fill=\"#000000\" fill-rule=\"nonzero\" fill-opacity=\"1\" /><path clip-path=\"url(#clip800)\" d=\"M1362.18 1547.28 Q1362.18 1547.59 1361.98 1548.34 L1357.56 1565.97 Q1356.59 1569.89 1353.44 1572.64 Q1350.3 1575.39 1346.74 1575.39 Q1344.6 1575.39 1343.22 1574.24 Q1341.85 1573.11 1341.85 1571.38 Q1341.85 1569.85 1342.66 1569.1 Q1343.47 1568.38 1344.44 1568.38 Q1344.76 1568.38 1345.09 1568.47 Q1345.43 1568.56 1345.79 1568.94 Q1346.15 1569.33 1346.15 1569.98 Q1346.15 1571.04 1345.23 1571.87 Q1344.78 1572.26 1344.35 1572.35 Q1343.94 1572.44 1343.25 1572.44 Q1343.52 1573.07 1344.01 1573.5 Q1344.51 1573.93 1345.07 1574.08 Q1345.64 1574.26 1346 1574.31 Q1346.38 1574.38 1346.74 1574.38 Q1349.63 1574.38 1351.83 1571.47 Q1352.49 1570.59 1352.96 1569.71 Q1353.46 1568.85 1353.82 1567.79 Q1354.18 1566.76 1354.34 1566.19 Q1354.52 1565.63 1354.83 1564.34 Q1352.74 1566.44 1350.17 1566.44 Q1349.08 1566.44 1348.12 1566.15 Q1347.17 1565.86 1346.33 1565.25 Q1345.5 1564.62 1345 1563.51 Q1344.53 1562.41 1344.53 1560.94 Q1344.53 1559.39 1345.14 1557.27 Q1345.75 1555.15 1347.21 1551.25 Q1348 1549.06 1348 1548 Q1348 1547.48 1347.89 1547.17 Q1347.78 1546.83 1347.55 1546.72 Q1347.33 1546.58 1347.19 1546.56 Q1347.08 1546.53 1346.85 1546.53 Q1345.52 1546.53 1344.28 1547.89 Q1343.04 1549.24 1342.19 1552.26 Q1342.01 1552.82 1341.89 1552.96 Q1341.78 1553.1 1341.44 1553.1 Q1340.88 1553.07 1340.88 1552.62 Q1340.88 1552.44 1341.08 1551.74 Q1341.28 1551.02 1341.76 1549.96 Q1342.25 1548.88 1342.93 1547.91 Q1343.61 1546.92 1344.67 1546.22 Q1345.75 1545.52 1346.99 1545.52 Q1348.68 1545.52 1349.72 1546.63 Q1350.78 1547.71 1350.78 1549.31 Q1350.78 1549.96 1350.59 1550.55 Q1350.44 1551.11 1349.85 1552.62 Q1347.48 1558.71 1347.48 1561.68 Q1347.48 1562.41 1347.6 1563.01 Q1347.73 1563.6 1348.02 1564.19 Q1348.32 1564.75 1348.9 1565.09 Q1349.51 1565.4 1350.35 1565.4 Q1351.41 1565.4 1352.4 1564.91 Q1353.41 1564.39 1354.04 1563.69 Q1354.7 1562.99 1355.08 1562.41 Q1355.49 1561.8 1355.58 1561.48 L1357.65 1553.19 L1358.58 1549.49 Q1359 1547.48 1359.21 1546.99 Q1359.48 1546.51 1359.95 1546.26 Q1360.42 1546.02 1360.83 1546.02 Q1361.39 1546.02 1361.78 1546.35 Q1362.18 1546.69 1362.18 1547.28 Z\" fill=\"#000000\" fill-rule=\"nonzero\" fill-opacity=\"1\" /><path clip-path=\"url(#clip800)\" d=\"M1386.24 1547.28 Q1386.24 1547.59 1386.04 1548.34 L1381.62 1565.97 Q1380.65 1569.89 1377.49 1572.64 Q1374.36 1575.39 1370.8 1575.39 Q1368.66 1575.39 1367.28 1574.24 Q1365.91 1573.11 1365.91 1571.38 Q1365.91 1569.85 1366.72 1569.1 Q1367.53 1568.38 1368.5 1568.38 Q1368.82 1568.38 1369.15 1568.47 Q1369.49 1568.56 1369.85 1568.94 Q1370.21 1569.33 1370.21 1569.98 Q1370.21 1571.04 1369.29 1571.87 Q1368.84 1572.26 1368.41 1572.35 Q1368 1572.44 1367.3 1572.44 Q1367.58 1573.07 1368.07 1573.5 Q1368.57 1573.93 1369.13 1574.08 Q1369.69 1574.26 1370.06 1574.31 Q1370.44 1574.38 1370.8 1574.38 Q1373.68 1574.38 1375.89 1571.47 Q1376.55 1570.59 1377.02 1569.71 Q1377.52 1568.85 1377.88 1567.79 Q1378.24 1566.76 1378.4 1566.19 Q1378.58 1565.63 1378.89 1564.34 Q1376.8 1566.44 1374.23 1566.44 Q1373.14 1566.44 1372.17 1566.15 Q1371.23 1565.86 1370.39 1565.25 Q1369.56 1564.62 1369.06 1563.51 Q1368.59 1562.41 1368.59 1560.94 Q1368.59 1559.39 1369.2 1557.27 Q1369.81 1555.15 1371.27 1551.25 Q1372.06 1549.06 1372.06 1548 Q1372.06 1547.48 1371.95 1547.17 Q1371.84 1546.83 1371.61 1546.72 Q1371.39 1546.58 1371.25 1546.56 Q1371.14 1546.53 1370.91 1546.53 Q1369.58 1546.53 1368.34 1547.89 Q1367.1 1549.24 1366.25 1552.26 Q1366.06 1552.82 1365.95 1552.96 Q1365.84 1553.1 1365.5 1553.1 Q1364.94 1553.07 1364.94 1552.62 Q1364.94 1552.44 1365.14 1551.74 Q1365.34 1551.02 1365.82 1549.96 Q1366.31 1548.88 1366.99 1547.91 Q1367.67 1546.92 1368.73 1546.22 Q1369.81 1545.52 1371.05 1545.52 Q1372.74 1545.52 1373.77 1546.63 Q1374.83 1547.71 1374.83 1549.31 Q1374.83 1549.96 1374.65 1550.55 Q1374.5 1551.11 1373.91 1552.62 Q1371.54 1558.71 1371.54 1561.68 Q1371.54 1562.41 1371.66 1563.01 Q1371.79 1563.6 1372.08 1564.19 Q1372.38 1564.75 1372.96 1565.09 Q1373.57 1565.4 1374.41 1565.4 Q1375.47 1565.4 1376.46 1564.91 Q1377.47 1564.39 1378.1 1563.69 Q1378.76 1562.99 1379.14 1562.41 Q1379.55 1561.8 1379.64 1561.48 L1381.71 1553.19 L1382.63 1549.49 Q1383.06 1547.48 1383.27 1546.99 Q1383.54 1546.51 1384.01 1546.26 Q1384.48 1546.02 1384.89 1546.02 Q1385.45 1546.02 1385.84 1546.35 Q1386.24 1546.69 1386.24 1547.28 Z\" fill=\"#000000\" fill-rule=\"nonzero\" fill-opacity=\"1\" /><polyline clip-path=\"url(#clip802)\" style=\"stroke:#000000; stroke-linecap:round; stroke-linejoin:round; stroke-width:2; stroke-opacity:0.1; fill:none\" points=\"219.736,1383.89 2352.76,1383.89 \"/>\n",
       "<polyline clip-path=\"url(#clip802)\" style=\"stroke:#000000; stroke-linecap:round; stroke-linejoin:round; stroke-width:2; stroke-opacity:0.1; fill:none\" points=\"219.736,1019.12 2352.76,1019.12 \"/>\n",
       "<polyline clip-path=\"url(#clip802)\" style=\"stroke:#000000; stroke-linecap:round; stroke-linejoin:round; stroke-width:2; stroke-opacity:0.1; fill:none\" points=\"219.736,654.354 2352.76,654.354 \"/>\n",
       "<polyline clip-path=\"url(#clip802)\" style=\"stroke:#000000; stroke-linecap:round; stroke-linejoin:round; stroke-width:2; stroke-opacity:0.1; fill:none\" points=\"219.736,289.584 2352.76,289.584 \"/>\n",
       "<polyline clip-path=\"url(#clip800)\" style=\"stroke:#000000; stroke-linecap:round; stroke-linejoin:round; stroke-width:4; stroke-opacity:1; fill:none\" points=\"219.736,1422.82 219.736,47.2441 \"/>\n",
       "<polyline clip-path=\"url(#clip800)\" style=\"stroke:#000000; stroke-linecap:round; stroke-linejoin:round; stroke-width:4; stroke-opacity:1; fill:none\" points=\"219.736,1383.89 238.633,1383.89 \"/>\n",
       "<polyline clip-path=\"url(#clip800)\" style=\"stroke:#000000; stroke-linecap:round; stroke-linejoin:round; stroke-width:4; stroke-opacity:1; fill:none\" points=\"219.736,1019.12 238.633,1019.12 \"/>\n",
       "<polyline clip-path=\"url(#clip800)\" style=\"stroke:#000000; stroke-linecap:round; stroke-linejoin:round; stroke-width:4; stroke-opacity:1; fill:none\" points=\"219.736,654.354 238.633,654.354 \"/>\n",
       "<polyline clip-path=\"url(#clip800)\" style=\"stroke:#000000; stroke-linecap:round; stroke-linejoin:round; stroke-width:4; stroke-opacity:1; fill:none\" points=\"219.736,289.584 238.633,289.584 \"/>\n",
       "<path clip-path=\"url(#clip800)\" d=\"M126.56 1369.69 Q122.949 1369.69 121.12 1373.26 Q119.315 1376.8 119.315 1383.93 Q119.315 1391.03 121.12 1394.6 Q122.949 1398.14 126.56 1398.14 Q130.194 1398.14 132 1394.6 Q133.829 1391.03 133.829 1383.93 Q133.829 1376.8 132 1373.26 Q130.194 1369.69 126.56 1369.69 M126.56 1365.99 Q132.37 1365.99 135.426 1370.59 Q138.505 1375.18 138.505 1383.93 Q138.505 1392.65 135.426 1397.26 Q132.37 1401.84 126.56 1401.84 Q120.75 1401.84 117.671 1397.26 Q114.616 1392.65 114.616 1383.93 Q114.616 1375.18 117.671 1370.59 Q120.75 1365.99 126.56 1365.99 Z\" fill=\"#000000\" fill-rule=\"nonzero\" fill-opacity=\"1\" /><path clip-path=\"url(#clip800)\" d=\"M146.722 1395.29 L151.606 1395.29 L151.606 1401.17 L146.722 1401.17 L146.722 1395.29 Z\" fill=\"#000000\" fill-rule=\"nonzero\" fill-opacity=\"1\" /><path clip-path=\"url(#clip800)\" d=\"M171.791 1369.69 Q168.18 1369.69 166.352 1373.26 Q164.546 1376.8 164.546 1383.93 Q164.546 1391.03 166.352 1394.6 Q168.18 1398.14 171.791 1398.14 Q175.426 1398.14 177.231 1394.6 Q179.06 1391.03 179.06 1383.93 Q179.06 1376.8 177.231 1373.26 Q175.426 1369.69 171.791 1369.69 M171.791 1365.99 Q177.602 1365.99 180.657 1370.59 Q183.736 1375.18 183.736 1383.93 Q183.736 1392.65 180.657 1397.26 Q177.602 1401.84 171.791 1401.84 Q165.981 1401.84 162.903 1397.26 Q159.847 1392.65 159.847 1383.93 Q159.847 1375.18 162.903 1370.59 Q165.981 1365.99 171.791 1365.99 Z\" fill=\"#000000\" fill-rule=\"nonzero\" fill-opacity=\"1\" /><path clip-path=\"url(#clip800)\" d=\"M127.787 1004.92 Q124.176 1004.92 122.347 1008.49 Q120.542 1012.03 120.542 1019.16 Q120.542 1026.26 122.347 1029.83 Q124.176 1033.37 127.787 1033.37 Q131.421 1033.37 133.227 1029.83 Q135.055 1026.26 135.055 1019.16 Q135.055 1012.03 133.227 1008.49 Q131.421 1004.92 127.787 1004.92 M127.787 1001.22 Q133.597 1001.22 136.653 1005.82 Q139.731 1010.41 139.731 1019.16 Q139.731 1027.88 136.653 1032.49 Q133.597 1037.07 127.787 1037.07 Q121.977 1037.07 118.898 1032.49 Q115.843 1027.88 115.843 1019.16 Q115.843 1010.41 118.898 1005.82 Q121.977 1001.22 127.787 1001.22 Z\" fill=\"#000000\" fill-rule=\"nonzero\" fill-opacity=\"1\" /><path clip-path=\"url(#clip800)\" d=\"M147.949 1030.52 L152.833 1030.52 L152.833 1036.4 L147.949 1036.4 L147.949 1030.52 Z\" fill=\"#000000\" fill-rule=\"nonzero\" fill-opacity=\"1\" /><path clip-path=\"url(#clip800)\" d=\"M163.828 1032.47 L171.467 1032.47 L171.467 1006.1 L163.157 1007.77 L163.157 1003.51 L171.421 1001.84 L176.097 1001.84 L176.097 1032.47 L183.736 1032.47 L183.736 1036.4 L163.828 1036.4 L163.828 1032.47 Z\" fill=\"#000000\" fill-rule=\"nonzero\" fill-opacity=\"1\" /><path clip-path=\"url(#clip800)\" d=\"M128.157 640.153 Q124.546 640.153 122.718 643.717 Q120.912 647.259 120.912 654.389 Q120.912 661.495 122.718 665.06 Q124.546 668.601 128.157 668.601 Q131.792 668.601 133.597 665.06 Q135.426 661.495 135.426 654.389 Q135.426 647.259 133.597 643.717 Q131.792 640.153 128.157 640.153 M128.157 636.449 Q133.968 636.449 137.023 641.055 Q140.102 645.639 140.102 654.389 Q140.102 663.115 137.023 667.722 Q133.968 672.305 128.157 672.305 Q122.347 672.305 119.269 667.722 Q116.213 663.115 116.213 654.389 Q116.213 645.639 119.269 641.055 Q122.347 636.449 128.157 636.449 Z\" fill=\"#000000\" fill-rule=\"nonzero\" fill-opacity=\"1\" /><path clip-path=\"url(#clip800)\" d=\"M148.319 665.754 L153.204 665.754 L153.204 671.634 L148.319 671.634 L148.319 665.754 Z\" fill=\"#000000\" fill-rule=\"nonzero\" fill-opacity=\"1\" /><path clip-path=\"url(#clip800)\" d=\"M167.416 667.699 L183.736 667.699 L183.736 671.634 L161.791 671.634 L161.791 667.699 Q164.453 664.944 169.037 660.314 Q173.643 655.662 174.824 654.319 Q177.069 651.796 177.949 650.06 Q178.852 648.301 178.852 646.611 Q178.852 643.856 176.907 642.12 Q174.986 640.384 171.884 640.384 Q169.685 640.384 167.231 641.148 Q164.801 641.912 162.023 643.463 L162.023 638.74 Q164.847 637.606 167.301 637.028 Q169.754 636.449 171.791 636.449 Q177.162 636.449 180.356 639.134 Q183.551 641.819 183.551 646.31 Q183.551 648.44 182.74 650.361 Q181.953 652.259 179.847 654.852 Q179.268 655.523 176.166 658.74 Q173.065 661.935 167.416 667.699 Z\" fill=\"#000000\" fill-rule=\"nonzero\" fill-opacity=\"1\" /><path clip-path=\"url(#clip800)\" d=\"M127.208 275.383 Q123.597 275.383 121.769 278.948 Q119.963 282.49 119.963 289.619 Q119.963 296.726 121.769 300.29 Q123.597 303.832 127.208 303.832 Q130.843 303.832 132.648 300.29 Q134.477 296.726 134.477 289.619 Q134.477 282.49 132.648 278.948 Q130.843 275.383 127.208 275.383 M127.208 271.679 Q133.018 271.679 136.074 276.286 Q139.153 280.869 139.153 289.619 Q139.153 298.346 136.074 302.952 Q133.018 307.536 127.208 307.536 Q121.398 307.536 118.319 302.952 Q115.264 298.346 115.264 289.619 Q115.264 280.869 118.319 276.286 Q121.398 271.679 127.208 271.679 Z\" fill=\"#000000\" fill-rule=\"nonzero\" fill-opacity=\"1\" /><path clip-path=\"url(#clip800)\" d=\"M147.37 300.985 L152.254 300.985 L152.254 306.864 L147.37 306.864 L147.37 300.985 Z\" fill=\"#000000\" fill-rule=\"nonzero\" fill-opacity=\"1\" /><path clip-path=\"url(#clip800)\" d=\"M176.606 288.23 Q179.963 288.948 181.838 291.216 Q183.736 293.485 183.736 296.818 Q183.736 301.934 180.217 304.735 Q176.699 307.536 170.217 307.536 Q168.041 307.536 165.727 307.096 Q163.435 306.679 160.981 305.823 L160.981 301.309 Q162.926 302.443 165.241 303.022 Q167.555 303.601 170.078 303.601 Q174.477 303.601 176.768 301.864 Q179.083 300.128 179.083 296.818 Q179.083 293.763 176.93 292.05 Q174.801 290.314 170.981 290.314 L166.953 290.314 L166.953 286.471 L171.166 286.471 Q174.615 286.471 176.444 285.105 Q178.273 283.716 178.273 281.124 Q178.273 278.462 176.375 277.05 Q174.5 275.615 170.981 275.615 Q169.06 275.615 166.861 276.031 Q164.662 276.448 162.023 277.327 L162.023 273.161 Q164.685 272.42 167 272.05 Q169.338 271.679 171.398 271.679 Q176.722 271.679 179.824 274.11 Q182.926 276.517 182.926 280.638 Q182.926 283.508 181.282 285.499 Q179.639 287.466 176.606 288.23 Z\" fill=\"#000000\" fill-rule=\"nonzero\" fill-opacity=\"1\" /><path clip-path=\"url(#clip800)\" d=\"M26.9169 815.285 Q29.9121 815.285 32.6174 817.346 Q35.2905 819.375 36.9974 822.467 Q38.6721 825.559 39.3162 829.069 Q39.8637 824.335 42.4402 821.597 Q45.0166 818.828 48.6237 818.828 Q51.0391 818.828 53.5834 820.245 Q56.0955 821.629 58.1566 824.013 Q60.2178 826.364 61.5382 829.842 Q62.8587 833.288 62.8587 837.056 L62.8587 860.599 Q62.8587 861.339 62.8265 861.629 Q62.7943 861.919 62.6332 862.144 Q62.4722 862.37 62.118 862.37 Q61.4738 862.37 61.184 862.144 Q60.8941 861.887 60.8619 861.597 Q60.8297 861.307 60.8297 860.599 Q60.8297 858.988 60.7331 858.022 Q60.6365 857.056 60.5077 856.444 Q60.3466 855.8 59.8957 855.478 Q59.4449 855.124 59.0584 854.962 Q58.6397 854.801 57.7058 854.576 L22.2793 845.752 Q21.2165 845.494 21.0555 845.494 Q20.4436 845.494 20.2825 845.88 Q20.0893 846.235 19.9927 847.265 L19.8639 849.777 Q19.8639 850.55 19.8317 850.872 Q19.7995 851.162 19.6384 851.388 Q19.4774 851.613 19.1231 851.613 Q18.2214 851.613 18.0281 851.227 Q17.8027 850.808 17.8027 849.713 L17.8027 827.555 Q17.8027 821.855 20.4436 818.57 Q23.0522 815.285 26.9169 815.285 M26.6593 821.275 Q25.4355 821.275 24.3405 821.597 Q23.2455 821.919 22.1827 822.692 Q21.1199 823.433 20.508 824.914 Q19.8639 826.396 19.8639 828.457 L19.8639 836.992 Q19.8639 839.085 20.2503 839.6 Q20.6046 840.083 22.3759 840.534 L38.7043 844.624 L38.7043 834.995 Q38.7043 832.064 37.6415 829.488 Q36.5787 826.879 34.8718 825.108 Q33.1327 823.336 30.9749 822.306 Q28.8171 821.275 26.6593 821.275 M47.883 824.979 Q46.9168 824.979 45.9828 825.14 Q45.0488 825.301 43.9538 825.816 Q42.8588 826.331 42.0537 827.137 Q41.2486 827.942 40.7011 829.359 Q40.1536 830.744 40.1536 832.547 L40.1536 845.011 L58.5753 849.584 Q59.7669 849.906 60.089 849.906 Q60.4432 849.906 60.5721 849.745 Q60.6687 849.552 60.7331 849.037 Q60.8297 848.457 60.8297 847.587 L60.8297 838.634 Q60.8297 835.8 59.7347 833.224 Q58.6075 830.647 56.804 828.876 Q55.0005 827.072 52.6494 826.042 Q50.2984 824.979 47.883 824.979 Z\" fill=\"#000000\" fill-rule=\"nonzero\" fill-opacity=\"1\" /><path clip-path=\"url(#clip800)\" d=\"M54.7812 808.705 L53.3384 808.705 Q53.3384 803.159 50.3851 800.296 Q50.3851 799.507 50.5654 799.372 Q50.7458 799.236 51.5799 799.236 L77.4831 799.236 Q78.8583 799.236 79.2866 798.56 Q79.715 797.884 79.715 794.93 L79.715 793.465 L81.1353 793.465 Q81 795.088 81 800.95 Q81 806.811 81.1353 808.412 L79.715 808.412 L79.715 806.946 Q79.715 804.038 79.3092 803.339 Q78.8808 802.64 77.4831 802.64 L53.5638 802.64 Q54.7812 805.053 54.7812 808.705 Z\" fill=\"#000000\" fill-rule=\"nonzero\" fill-opacity=\"1\" /><path clip-path=\"url(#clip800)\" d=\"M54.7812 788.105 L53.3384 788.105 Q53.3384 782.559 50.3851 779.696 Q50.3851 778.907 50.5654 778.772 Q50.7458 778.637 51.5799 778.637 L77.4831 778.637 Q78.8583 778.637 79.2866 777.96 Q79.715 777.284 79.715 774.331 L79.715 772.865 L81.1353 772.865 Q81 774.489 81 780.35 Q81 786.211 81.1353 787.812 L79.715 787.812 L79.715 786.347 Q79.715 783.439 79.3092 782.74 Q78.8808 782.041 77.4831 782.041 L53.5638 782.041 Q54.7812 784.453 54.7812 788.105 Z\" fill=\"#000000\" fill-rule=\"nonzero\" fill-opacity=\"1\" /><path clip-path=\"url(#clip800)\" d=\"M54.7812 767.506 L53.3384 767.506 Q53.3384 761.96 50.3851 759.097 Q50.3851 758.308 50.5654 758.172 Q50.7458 758.037 51.5799 758.037 L77.4831 758.037 Q78.8583 758.037 79.2866 757.361 Q79.715 756.684 79.715 753.731 L79.715 752.266 L81.1353 752.266 Q81 753.889 81 759.75 Q81 765.612 81.1353 767.212 L79.715 767.212 L79.715 765.747 Q79.715 762.839 79.3092 762.14 Q78.8808 761.441 77.4831 761.441 L53.5638 761.441 Q54.7812 763.853 54.7812 767.506 Z\" fill=\"#000000\" fill-rule=\"nonzero\" fill-opacity=\"1\" /><path clip-path=\"url(#clip800)\" d=\"M78.4141 737.601 Q78.0921 737.601 77.3835 737.343 L15.1618 714.058 Q15.0974 714.058 14.7431 713.897 Q14.3889 713.736 14.1634 713.64 Q13.9058 713.543 13.7125 713.35 Q13.5193 713.124 13.5193 712.867 Q13.5193 712.222 14.3245 712.222 Q14.3889 712.222 15.1618 712.416 L77.4479 735.765 Q78.5751 736.151 78.8972 736.409 Q79.2193 736.635 79.2193 737.021 Q79.2193 737.601 78.4141 737.601 Z\" fill=\"#000000\" fill-rule=\"nonzero\" fill-opacity=\"1\" /><path clip-path=\"url(#clip800)\" d=\"M18.6078 667.868 Q19.2197 667.868 19.5096 668.125 Q19.7672 668.383 19.8317 668.673 Q19.8639 668.963 19.8639 669.639 Q19.8639 671.024 19.9605 671.765 Q20.0571 672.505 20.4758 672.956 Q20.8622 673.407 21.2487 673.568 Q21.6352 673.697 22.6336 673.922 L53.4224 681.652 Q58.1566 682.843 61.2484 687.159 Q64.308 691.475 64.308 696.209 Q64.308 700.074 62.279 702.521 Q60.2178 704.937 57.126 704.937 Q55.548 704.937 54.4208 704.421 Q53.2935 703.906 52.7783 703.133 Q52.263 702.36 52.0697 701.716 Q51.8443 701.04 51.8443 700.492 Q51.8443 699.429 52.5206 698.528 Q53.1969 697.594 54.614 697.594 Q56.1921 697.594 57.5125 698.818 Q58.833 700.041 58.833 701.877 Q58.833 702.489 58.7685 702.682 Q60.3466 702.199 61.345 700.943 Q62.3112 699.687 62.601 698.592 Q62.8587 697.465 62.8587 696.402 Q62.8587 693.632 60.1856 690.83 Q57.5125 688.029 52.9715 686.901 L22.698 679.333 Q21.6674 679.075 21.3131 679.075 Q20.6368 679.075 20.4114 679.494 Q20.1537 679.88 19.9927 681.104 Q19.8639 682.747 19.8639 684.937 Q19.8639 685.71 19.8639 686.032 Q19.8317 686.354 19.7672 686.676 Q19.7028 686.998 19.574 687.095 Q19.413 687.191 19.1231 687.191 Q18.5112 687.191 18.2214 686.934 Q17.8993 686.676 17.8671 686.45 Q17.8027 686.225 17.8027 685.806 L17.9959 676.112 Q17.9959 675.275 17.8993 672.441 Q17.8027 669.607 17.8027 668.769 Q17.8027 667.868 18.6078 667.868 Z\" fill=\"#000000\" fill-rule=\"nonzero\" fill-opacity=\"1\" /><path clip-path=\"url(#clip800)\" d=\"M57.7797 639.889 Q58.0953 639.889 58.8393 640.092 L76.4688 644.511 Q80.3915 645.48 83.1418 648.636 Q85.8922 651.77 85.8922 655.332 Q85.8922 657.474 84.7425 658.849 Q83.6153 660.224 81.8794 660.224 Q80.3464 660.224 79.6024 659.413 Q78.881 658.601 78.881 657.632 Q78.881 657.316 78.9712 656.978 Q79.0613 656.64 79.4446 656.279 Q79.8278 655.918 80.4816 655.918 Q81.5412 655.918 82.3753 656.843 Q82.7586 657.293 82.8488 657.722 Q82.9389 658.128 82.9389 658.826 Q83.5702 658.556 83.9985 658.06 Q84.4268 657.564 84.5847 657 Q84.765 656.437 84.8101 656.076 Q84.8777 655.693 84.8777 655.332 Q84.8777 652.446 81.9695 650.237 Q81.0903 649.583 80.2111 649.11 Q79.3544 648.614 78.2948 648.253 Q77.2578 647.893 76.6942 647.735 Q76.1306 647.554 74.8456 647.239 Q76.9422 649.335 76.9422 651.905 Q76.9422 652.987 76.6491 653.957 Q76.3561 654.904 75.7474 655.738 Q75.1161 656.572 74.0115 657.068 Q72.9068 657.541 71.4414 657.541 Q69.8859 657.541 67.7668 656.933 Q65.6476 656.324 61.7475 654.859 Q59.5607 654.07 58.5011 654.07 Q57.9826 654.07 57.667 654.182 Q57.3288 654.295 57.2161 654.52 Q57.0808 654.746 57.0583 654.881 Q57.0358 654.994 57.0358 655.219 Q57.0358 656.549 58.3884 657.789 Q59.7411 659.029 62.762 659.886 Q63.3256 660.066 63.4608 660.179 Q63.5961 660.292 63.5961 660.63 Q63.5736 661.194 63.1227 661.194 Q62.9423 661.194 62.2434 660.991 Q61.522 660.788 60.4625 660.314 Q59.3803 659.818 58.411 659.142 Q57.419 658.466 56.7201 657.406 Q56.0213 656.324 56.0213 655.084 Q56.0213 653.393 57.1259 652.356 Q58.2081 651.297 59.8087 651.297 Q60.4625 651.297 61.0486 651.477 Q61.6122 651.635 63.1227 652.221 Q69.2096 654.588 72.1854 654.588 Q72.9068 654.588 73.5155 654.475 Q74.1016 654.34 74.6878 654.047 Q75.2514 653.754 75.5896 653.168 Q75.9052 652.559 75.9052 651.725 Q75.9052 650.665 75.4092 649.673 Q74.8907 648.659 74.1918 648.028 Q73.493 647.374 72.9068 646.991 Q72.2981 646.585 71.9825 646.495 L63.6863 644.421 L59.989 643.496 Q57.9826 643.068 57.4866 642.865 Q57.0132 642.595 56.7652 642.121 Q56.5172 641.648 56.5172 641.242 Q56.5172 640.678 56.8554 640.295 Q57.1936 639.889 57.7797 639.889 Z\" fill=\"#000000\" fill-rule=\"nonzero\" fill-opacity=\"1\" /><path clip-path=\"url(#clip800)\" d=\"M57.7797 615.83 Q58.0953 615.83 58.8393 616.033 L76.4688 620.452 Q80.3915 621.421 83.1418 624.577 Q85.8922 627.711 85.8922 631.273 Q85.8922 633.415 84.7425 634.79 Q83.6153 636.165 81.8794 636.165 Q80.3464 636.165 79.6024 635.353 Q78.881 634.542 78.881 633.572 Q78.881 633.257 78.9712 632.919 Q79.0613 632.58 79.4446 632.22 Q79.8278 631.859 80.4816 631.859 Q81.5412 631.859 82.3753 632.783 Q82.7586 633.234 82.8488 633.663 Q82.9389 634.068 82.9389 634.767 Q83.5702 634.497 83.9985 634.001 Q84.4268 633.505 84.5847 632.941 Q84.765 632.378 84.8101 632.017 Q84.8777 631.634 84.8777 631.273 Q84.8777 628.387 81.9695 626.178 Q81.0903 625.524 80.2111 625.051 Q79.3544 624.555 78.2948 624.194 Q77.2578 623.833 76.6942 623.676 Q76.1306 623.495 74.8456 623.18 Q76.9422 625.276 76.9422 627.846 Q76.9422 628.928 76.6491 629.898 Q76.3561 630.845 75.7474 631.679 Q75.1161 632.513 74.0115 633.009 Q72.9068 633.482 71.4414 633.482 Q69.8859 633.482 67.7668 632.874 Q65.6476 632.265 61.7475 630.8 Q59.5607 630.01 58.5011 630.01 Q57.9826 630.01 57.667 630.123 Q57.3288 630.236 57.2161 630.461 Q57.0808 630.687 57.0583 630.822 Q57.0358 630.935 57.0358 631.16 Q57.0358 632.49 58.3884 633.73 Q59.7411 634.97 62.762 635.827 Q63.3256 636.007 63.4608 636.12 Q63.5961 636.233 63.5961 636.571 Q63.5736 637.134 63.1227 637.134 Q62.9423 637.134 62.2434 636.931 Q61.522 636.729 60.4625 636.255 Q59.3803 635.759 58.411 635.083 Q57.419 634.407 56.7201 633.347 Q56.0213 632.265 56.0213 631.025 Q56.0213 629.334 57.1259 628.297 Q58.2081 627.238 59.8087 627.238 Q60.4625 627.238 61.0486 627.418 Q61.6122 627.576 63.1227 628.162 Q69.2096 630.529 72.1854 630.529 Q72.9068 630.529 73.5155 630.416 Q74.1016 630.281 74.6878 629.988 Q75.2514 629.695 75.5896 629.109 Q75.9052 628.5 75.9052 627.666 Q75.9052 626.606 75.4092 625.614 Q74.8907 624.6 74.1918 623.969 Q73.493 623.315 72.9068 622.932 Q72.2981 622.526 71.9825 622.436 L63.6863 620.362 L59.989 619.437 Q57.9826 619.009 57.4866 618.806 Q57.0132 618.536 56.7652 618.062 Q56.5172 617.589 56.5172 617.183 Q56.5172 616.619 56.8554 616.236 Q57.1936 615.83 57.7797 615.83 Z\" fill=\"#000000\" fill-rule=\"nonzero\" fill-opacity=\"1\" /><polyline clip-path=\"url(#clip802)\" style=\"stroke:#009af9; stroke-linecap:round; stroke-linejoin:round; stroke-width:4; stroke-opacity:1; fill:none\" points=\"280.104,86.1756 286.834,88.3475 293.564,90.5231 300.294,92.7023 307.024,94.8852 313.754,97.0718 320.485,99.2622 327.215,101.456 333.945,103.654 340.675,105.856 347.405,108.061 354.135,110.27 360.865,112.483 367.595,114.7 374.325,116.921 381.055,119.146 387.785,121.374 394.515,123.607 401.245,125.844 407.975,128.084 414.705,130.329 421.435,132.577 428.165,134.83 434.895,137.086 441.625,139.347 448.355,141.612 455.085,143.881 461.815,146.154 468.546,148.432 475.276,150.713 482.006,152.999 488.736,155.289 495.466,157.583 502.196,159.882 508.926,162.185 515.656,164.492 522.386,166.804 529.116,169.12 535.846,171.44 542.576,173.765 549.306,176.095 556.036,178.429 562.766,180.767 569.496,183.11 576.226,185.458 582.956,187.81 589.686,190.167 596.416,192.528 603.146,194.894 609.876,197.265 616.606,199.641 623.337,202.021 630.067,204.406 636.797,206.796 643.527,209.191 650.257,211.591 656.987,213.996 663.717,216.406 670.447,218.82 677.177,221.24 683.907,223.665 690.637,226.094 697.367,228.529 704.097,230.969 710.827,233.415 717.557,235.865 724.287,238.321 731.017,240.782 737.747,243.248 744.477,245.72 751.207,248.197 757.937,250.679 764.667,253.167 771.397,255.66 778.128,258.159 784.858,260.663 791.588,263.173 798.318,265.689 805.048,268.21 811.778,270.737 818.508,273.27 825.238,275.809 831.968,278.353 838.698,280.903 845.428,283.46 852.158,286.022 858.888,288.59 865.618,291.164 872.348,293.744 879.078,296.331 885.808,298.923 892.538,301.522 899.268,304.127 905.998,306.738 912.728,309.356 919.458,311.98 926.188,314.61 932.919,317.247 939.649,319.891 946.379,322.541 953.109,325.197 959.839,327.861 966.569,330.531 973.299,333.208 980.029,335.892 986.759,338.582 993.489,341.28 1000.22,343.984 1006.95,346.696 1013.68,349.415 1020.41,352.141 1027.14,354.874 1033.87,357.614 1040.6,360.362 1047.33,363.117 1054.06,365.88 1060.79,368.65 1067.52,371.427 1074.25,374.213 1080.98,377.006 1087.71,379.807 1094.44,382.615 1101.17,385.432 1107.9,388.256 1114.63,391.089 1121.36,393.929 1128.09,396.778 1134.82,399.635 1141.55,402.501 1148.28,405.375 1155.01,408.257 1161.74,411.148 1168.47,414.047 1175.2,416.955 1181.93,419.872 1188.66,422.798 1195.39,425.732 1202.12,428.676 1208.85,431.629 1215.58,434.591 1222.31,437.562 1229.04,440.542 1235.77,443.532 1242.5,446.532 1249.23,449.541 1255.96,452.56 1262.69,455.589 1269.42,458.628 1276.15,461.676 1282.88,464.735 1289.61,467.804 1296.34,470.883 1303.07,473.973 1309.8,477.073 1316.53,480.184 1323.26,483.306 1329.99,486.438 1336.72,489.582 1343.45,492.736 1350.18,495.902 1356.91,499.079 1363.64,502.268 1370.37,505.468 1377.1,508.679 1383.83,511.903 1390.56,515.139 1397.29,518.386 1404.02,521.646 1410.75,524.919 1417.48,528.203 1424.21,531.501 1430.94,534.811 1437.67,538.134 1444.4,541.471 1451.13,544.82 1457.86,548.183 1464.59,551.56 1471.32,554.95 1478.05,558.355 1484.78,561.773 1491.51,565.206 1498.24,568.653 1504.97,572.115 1511.7,575.591 1518.43,579.083 1525.16,582.59 1531.89,586.112 1538.62,589.65 1545.35,593.203 1552.08,596.773 1558.81,600.359 1565.54,603.961 1572.27,607.581 1579,611.217 1585.73,614.87 1592.46,618.541 1599.19,622.229 1605.92,625.936 1612.65,629.66 1619.38,633.404 1626.11,637.165 1632.84,640.946 1639.57,644.747 1646.3,648.566 1653.03,652.406 1659.76,656.266 1666.49,660.147 1673.22,664.049 1679.95,667.972 1686.68,671.916 1693.41,675.883 1700.14,679.871 1706.87,683.883 1713.6,687.918 1720.33,691.976 1727.06,696.058 1733.79,700.165 1740.52,704.296 1747.25,708.452 1753.98,712.635 1760.71,716.843 1767.44,721.079 1774.17,725.341 1780.9,729.631 1787.63,733.95 1794.36,738.298 1801.09,742.674 1807.82,747.082 1814.55,751.519 1821.28,755.988 1828.01,760.49 1834.74,765.023 1841.47,769.591 1848.2,774.192 1854.93,778.829 1861.66,783.501 1868.39,788.21 1875.12,792.957 1881.85,797.742 1888.58,802.566 1895.31,807.431 1902.04,812.337 1908.77,817.286 1915.5,822.278 1922.23,827.315 1928.97,832.398 1935.7,837.528 1942.43,842.707 1949.16,847.936 1955.89,853.217 1962.62,858.55 1969.35,863.939 1976.08,869.383 1982.81,874.886 1989.54,880.449 1996.27,886.075 2003,891.764 2009.73,897.52 2016.46,903.345 2023.19,909.242 2029.92,915.212 2036.65,921.26 2043.38,927.388 2050.11,933.599 2056.84,939.897 2063.57,946.286 2070.3,952.769 2077.03,959.352 2083.76,966.038 2090.49,972.833 2097.22,979.742 2103.95,986.771 2110.68,993.927 2117.41,1001.22 2124.14,1008.65 2130.87,1016.23 2137.6,1023.97 2144.33,1031.88 2151.06,1039.98 2157.79,1048.26 2164.52,1056.76 2171.25,1065.49 2177.98,1074.46 2184.71,1083.7 2191.44,1093.23 2198.17,1103.09 2204.9,1113.3 2211.63,1123.92 2218.36,1134.98 2225.09,1146.57 2231.82,1158.75 2238.55,1171.62 2245.28,1185.33 2252.01,1200.06 2258.74,1216.08 2265.47,1233.79 2272.2,1253.9 2278.93,1277.76 2285.66,1308.84 2292.39,1383.89 \"/>\n",
       "<polyline clip-path=\"url(#clip802)\" style=\"stroke:#e26f46; stroke-linecap:round; stroke-linejoin:round; stroke-width:4; stroke-opacity:1; fill:none\" points=\"280.104,196.949 286.834,198.935 293.564,200.925 300.294,202.918 307.024,204.915 313.754,206.915 320.485,208.918 327.215,210.925 333.945,212.935 340.675,214.949 347.405,216.966 354.135,218.987 360.865,221.011 367.595,223.039 374.325,225.07 381.055,227.105 387.785,229.143 394.515,231.185 401.245,233.231 407.975,235.28 414.705,237.333 421.435,239.389 428.165,241.45 434.895,243.514 441.625,245.582 448.355,247.653 455.085,249.728 461.815,251.808 468.546,253.89 475.276,255.977 482.006,258.068 488.736,260.163 495.466,262.261 502.196,264.363 508.926,266.47 515.656,268.58 522.386,270.694 529.116,272.813 535.846,274.935 542.576,277.062 549.306,279.192 556.036,281.327 562.766,283.466 569.496,285.609 576.226,287.756 582.956,289.907 589.686,292.063 596.416,294.223 603.146,296.387 609.876,298.556 616.606,300.728 623.337,302.906 630.067,305.087 636.797,307.273 643.527,309.464 650.257,311.659 656.987,313.858 663.717,316.062 670.447,318.271 677.177,320.484 683.907,322.702 690.637,324.924 697.367,327.151 704.097,329.383 710.827,331.619 717.557,333.861 724.287,336.107 731.017,338.358 737.747,340.613 744.477,342.874 751.207,345.139 757.937,347.41 764.667,349.685 771.397,351.966 778.128,354.252 784.858,356.542 791.588,358.838 798.318,361.139 805.048,363.445 811.778,365.756 818.508,368.073 825.238,370.395 831.968,372.722 838.698,375.054 845.428,377.392 852.158,379.736 858.888,382.085 865.618,384.439 872.348,386.799 879.078,389.165 885.808,391.536 892.538,393.913 899.268,396.296 905.998,398.684 912.728,401.078 919.458,403.478 926.188,405.884 932.919,408.296 939.649,410.714 946.379,413.138 953.109,415.568 959.839,418.004 966.569,420.446 973.299,422.894 980.029,425.349 986.759,427.81 993.489,430.277 1000.22,432.751 1006.95,435.231 1013.68,437.718 1020.41,440.211 1027.14,442.711 1033.87,445.217 1040.6,447.73 1047.33,450.25 1054.06,452.777 1060.79,455.311 1067.52,457.851 1074.25,460.399 1080.98,462.954 1087.71,465.515 1094.44,468.084 1101.17,470.66 1107.9,473.244 1114.63,475.835 1121.36,478.433 1128.09,481.038 1134.82,483.652 1141.55,486.272 1148.28,488.901 1155.01,491.537 1161.74,494.181 1168.47,496.833 1175.2,499.493 1181.93,502.161 1188.66,504.837 1195.39,507.521 1202.12,510.213 1208.85,512.914 1215.58,515.623 1222.31,518.341 1229.04,521.067 1235.77,523.802 1242.5,526.545 1249.23,529.297 1255.96,532.059 1262.69,534.829 1269.42,537.608 1276.15,540.397 1282.88,543.194 1289.61,546.001 1296.34,548.818 1303.07,551.644 1309.8,554.479 1316.53,557.325 1323.26,560.18 1329.99,563.045 1336.72,565.92 1343.45,568.805 1350.18,571.701 1356.91,574.607 1363.64,577.523 1370.37,580.45 1377.1,583.388 1383.83,586.336 1390.56,589.295 1397.29,592.266 1404.02,595.248 1410.75,598.241 1417.48,601.245 1424.21,604.261 1430.94,607.289 1437.67,610.328 1444.4,613.38 1451.13,616.443 1457.86,619.519 1464.59,622.608 1471.32,625.709 1478.05,628.823 1484.78,631.949 1491.51,635.089 1498.24,638.242 1504.97,641.408 1511.7,644.588 1518.43,647.781 1525.16,650.989 1531.89,654.21 1538.62,657.446 1545.35,660.697 1552.08,663.962 1558.81,667.241 1565.54,670.536 1572.27,673.847 1579,677.172 1585.73,680.514 1592.46,683.871 1599.19,687.245 1605.92,690.635 1612.65,694.042 1619.38,697.465 1626.11,700.906 1632.84,704.364 1639.57,707.84 1646.3,711.334 1653.03,714.846 1659.76,718.377 1666.49,721.926 1673.22,725.495 1679.95,729.083 1686.68,732.69 1693.41,736.318 1700.14,739.967 1706.87,743.636 1713.6,747.326 1720.33,751.038 1727.06,754.772 1733.79,758.528 1740.52,762.306 1747.25,766.108 1753.98,769.933 1760.71,773.783 1767.44,777.656 1774.17,781.555 1780.9,785.479 1787.63,789.429 1794.36,793.405 1801.09,797.409 1807.82,801.44 1814.55,805.499 1821.28,809.586 1828.01,813.703 1834.74,817.85 1841.47,822.028 1848.2,826.236 1854.93,830.477 1861.66,834.751 1868.39,839.058 1875.12,843.399 1881.85,847.776 1888.58,852.188 1895.31,856.638 1902.04,861.125 1908.77,865.651 1915.5,870.217 1922.23,874.824 1928.97,879.474 1935.7,884.166 1942.43,888.903 1949.16,893.685 1955.89,898.515 1962.62,903.393 1969.35,908.322 1976.08,913.302 1982.81,918.335 1989.54,923.423 1996.27,928.568 2003,933.772 2009.73,939.037 2016.46,944.365 2023.19,949.758 2029.92,955.219 2036.65,960.75 2043.38,966.355 2050.11,972.036 2056.84,977.797 2063.57,983.64 2070.3,989.57 2077.03,995.591 2083.76,1001.71 2090.49,1007.92 2097.22,1014.24 2103.95,1020.67 2110.68,1027.21 2117.41,1033.88 2124.14,1040.68 2130.87,1047.61 2137.6,1054.69 2144.33,1061.93 2151.06,1069.33 2157.79,1076.91 2164.52,1084.69 2171.25,1092.67 2177.98,1100.87 2184.71,1109.32 2191.44,1118.04 2198.17,1127.06 2204.9,1136.4 2211.63,1146.11 2218.36,1156.23 2225.09,1166.83 2231.82,1177.96 2238.55,1189.74 2245.28,1202.28 2252.01,1215.75 2258.74,1230.4 2265.47,1246.61 2272.2,1265 2278.93,1286.82 2285.66,1315.25 2292.39,1383.89 \"/>\n",
       "<polyline clip-path=\"url(#clip802)\" style=\"stroke:#3da44d; stroke-linecap:round; stroke-linejoin:round; stroke-width:4; stroke-opacity:1; fill:none\" points=\"280.104,519.24 286.834,520.687 293.564,522.137 300.294,523.589 307.024,525.043 313.754,526.5 320.485,527.959 327.215,529.421 333.945,530.886 340.675,532.352 347.405,533.822 354.135,535.294 360.865,536.768 367.595,538.246 374.325,539.725 381.055,541.208 387.785,542.692 394.515,544.18 401.245,545.67 407.975,547.163 414.705,548.658 421.435,550.157 428.165,551.658 434.895,553.161 441.625,554.667 448.355,556.176 455.085,557.688 461.815,559.203 468.546,560.72 475.276,562.24 482.006,563.763 488.736,565.289 495.466,566.818 502.196,568.349 508.926,569.884 515.656,571.421 522.386,572.961 529.116,574.505 535.846,576.051 542.576,577.6 549.306,579.152 556.036,580.707 562.766,582.265 569.496,583.826 576.226,585.39 582.956,586.957 589.686,588.528 596.416,590.101 603.146,591.678 609.876,593.257 616.606,594.84 623.337,596.426 630.067,598.016 636.797,599.608 643.527,601.204 650.257,602.803 656.987,604.405 663.717,606.01 670.447,607.619 677.177,609.231 683.907,610.847 690.637,612.466 697.367,614.088 704.097,615.714 710.827,617.343 717.557,618.976 724.287,620.612 731.017,622.252 737.747,623.895 744.477,625.542 751.207,627.192 757.937,628.846 764.667,630.504 771.397,632.165 778.128,633.83 784.858,635.499 791.588,637.171 798.318,638.847 805.048,640.527 811.778,642.211 818.508,643.899 825.238,645.59 831.968,647.285 838.698,648.985 845.428,650.688 852.158,652.395 858.888,654.106 865.618,655.821 872.348,657.54 879.078,659.263 885.808,660.991 892.538,662.722 899.268,664.458 905.998,666.198 912.728,667.942 919.458,669.69 926.188,671.443 932.919,673.2 939.649,674.961 946.379,676.727 953.109,678.497 959.839,680.272 966.569,682.051 973.299,683.834 980.029,685.623 986.759,687.415 993.489,689.213 1000.22,691.015 1006.95,692.821 1013.68,694.633 1020.41,696.449 1027.14,698.27 1033.87,700.096 1040.6,701.927 1047.33,703.763 1054.06,705.603 1060.79,707.449 1067.52,709.3 1074.25,711.155 1080.98,713.016 1087.71,714.883 1094.44,716.754 1101.17,718.631 1107.9,720.512 1114.63,722.4 1121.36,724.292 1128.09,726.191 1134.82,728.094 1141.55,730.003 1148.28,731.918 1155.01,733.839 1161.74,735.765 1168.47,737.696 1175.2,739.634 1181.93,741.578 1188.66,743.527 1195.39,745.482 1202.12,747.444 1208.85,749.411 1215.58,751.384 1222.31,753.364 1229.04,755.35 1235.77,757.342 1242.5,759.341 1249.23,761.346 1255.96,763.357 1262.69,765.375 1269.42,767.4 1276.15,769.431 1282.88,771.469 1289.61,773.514 1296.34,775.566 1303.07,777.624 1309.8,779.69 1316.53,781.763 1323.26,783.843 1329.99,785.93 1336.72,788.024 1343.45,790.126 1350.18,792.235 1356.91,794.352 1363.64,796.477 1370.37,798.609 1377.1,800.749 1383.83,802.897 1390.56,805.053 1397.29,807.217 1404.02,809.389 1410.75,811.569 1417.48,813.757 1424.21,815.955 1430.94,818.16 1437.67,820.374 1444.4,822.597 1451.13,824.829 1457.86,827.07 1464.59,829.32 1471.32,831.579 1478.05,833.847 1484.78,836.125 1491.51,838.412 1498.24,840.708 1504.97,843.015 1511.7,845.331 1518.43,847.658 1525.16,849.994 1531.89,852.341 1538.62,854.698 1545.35,857.066 1552.08,859.445 1558.81,861.834 1565.54,864.234 1572.27,866.646 1579,869.068 1585.73,871.502 1592.46,873.948 1599.19,876.406 1605.92,878.875 1612.65,881.357 1619.38,883.851 1626.11,886.358 1632.84,888.877 1639.57,891.409 1646.3,893.954 1653.03,896.512 1659.76,899.084 1666.49,901.67 1673.22,904.27 1679.95,906.883 1686.68,909.512 1693.41,912.154 1700.14,914.812 1706.87,917.485 1713.6,920.173 1720.33,922.877 1727.06,925.597 1733.79,928.333 1740.52,931.086 1747.25,933.855 1753.98,936.642 1760.71,939.446 1767.44,942.268 1774.17,945.108 1780.9,947.966 1787.63,950.844 1794.36,953.741 1801.09,956.657 1807.82,959.593 1814.55,962.55 1821.28,965.528 1828.01,968.527 1834.74,971.548 1841.47,974.591 1848.2,977.657 1854.93,980.746 1861.66,983.859 1868.39,986.997 1875.12,990.16 1881.85,993.348 1888.58,996.562 1895.31,999.803 1902.04,1003.07 1908.77,1006.37 1915.5,1009.7 1922.23,1013.05 1928.97,1016.44 1935.7,1019.86 1942.43,1023.31 1949.16,1026.79 1955.89,1030.31 1962.62,1033.86 1969.35,1037.45 1976.08,1041.08 1982.81,1044.75 1989.54,1048.45 1996.27,1052.2 2003,1055.99 2009.73,1059.83 2016.46,1063.71 2023.19,1067.64 2029.92,1071.62 2036.65,1075.65 2043.38,1079.73 2050.11,1083.87 2056.84,1088.06 2063.57,1092.32 2070.3,1096.64 2077.03,1101.03 2083.76,1105.48 2090.49,1110.01 2097.22,1114.61 2103.95,1119.3 2110.68,1124.06 2117.41,1128.92 2124.14,1133.87 2130.87,1138.92 2137.6,1144.08 2144.33,1149.35 2151.06,1154.74 2157.79,1160.27 2164.52,1165.93 2171.25,1171.74 2177.98,1177.72 2184.71,1183.88 2191.44,1190.23 2198.17,1196.79 2204.9,1203.6 2211.63,1210.67 2218.36,1218.05 2225.09,1225.77 2231.82,1233.88 2238.55,1242.46 2245.28,1251.59 2252.01,1261.41 2258.74,1272.08 2265.47,1283.88 2272.2,1297.28 2278.93,1313.18 2285.66,1333.89 2292.39,1383.89 \"/>\n",
       "<path clip-path=\"url(#clip800)\" d=\"M2017.98 300.457 L2281.66 300.457 L2281.66 93.0968 L2017.98 93.0968  Z\" fill=\"#ffffff\" fill-rule=\"evenodd\" fill-opacity=\"1\"/>\n",
       "<polyline clip-path=\"url(#clip800)\" style=\"stroke:#000000; stroke-linecap:round; stroke-linejoin:round; stroke-width:4; stroke-opacity:1; fill:none\" points=\"2017.98,300.457 2281.66,300.457 2281.66,93.0968 2017.98,93.0968 2017.98,300.457 \"/>\n",
       "<polyline clip-path=\"url(#clip800)\" style=\"stroke:#009af9; stroke-linecap:round; stroke-linejoin:round; stroke-width:4; stroke-opacity:1; fill:none\" points=\"2041.68,144.937 2183.88,144.937 \"/>\n",
       "<path clip-path=\"url(#clip800)\" d=\"M2219.92 143.073 Q2216.77 143.073 2214.92 145.226 Q2213.09 147.379 2213.09 151.129 Q2213.09 154.856 2214.92 157.032 Q2216.77 159.184 2219.92 159.184 Q2223.07 159.184 2224.9 157.032 Q2226.75 154.856 2226.75 151.129 Q2226.75 147.379 2224.9 145.226 Q2223.07 143.073 2219.92 143.073 M2229.21 128.421 L2229.21 132.68 Q2227.45 131.847 2225.64 131.407 Q2223.86 130.967 2222.1 130.967 Q2217.47 130.967 2215.02 134.092 Q2212.58 137.217 2212.24 143.536 Q2213.6 141.522 2215.66 140.458 Q2217.72 139.37 2220.2 139.37 Q2225.41 139.37 2228.42 142.541 Q2231.45 145.689 2231.45 151.129 Q2231.45 156.453 2228.3 159.67 Q2225.15 162.888 2219.92 162.888 Q2213.93 162.888 2210.76 158.305 Q2207.58 153.698 2207.58 144.971 Q2207.58 136.777 2211.47 131.916 Q2215.36 127.032 2221.91 127.032 Q2223.67 127.032 2225.46 127.379 Q2227.26 127.726 2229.21 128.421 Z\" fill=\"#000000\" fill-rule=\"nonzero\" fill-opacity=\"1\" /><polyline clip-path=\"url(#clip800)\" style=\"stroke:#e26f46; stroke-linecap:round; stroke-linejoin:round; stroke-width:4; stroke-opacity:1; fill:none\" points=\"2041.68,196.777 2183.88,196.777 \"/>\n",
       "<path clip-path=\"url(#clip800)\" d=\"M2209.81 213.339 L2209.81 209.08 Q2211.57 209.913 2213.37 210.353 Q2215.18 210.793 2216.91 210.793 Q2221.54 210.793 2223.97 207.691 Q2226.43 204.566 2226.77 198.224 Q2225.43 200.214 2223.37 201.279 Q2221.31 202.344 2218.81 202.344 Q2213.63 202.344 2210.59 199.219 Q2207.58 196.071 2207.58 190.631 Q2207.58 185.307 2210.73 182.089 Q2213.88 178.872 2219.11 178.872 Q2225.11 178.872 2228.26 183.478 Q2231.43 188.062 2231.43 196.811 Q2231.43 204.983 2227.54 209.867 Q2223.67 214.728 2217.12 214.728 Q2215.36 214.728 2213.56 214.381 Q2211.75 214.034 2209.81 213.339 M2219.11 198.686 Q2222.26 198.686 2224.09 196.534 Q2225.94 194.381 2225.94 190.631 Q2225.94 186.904 2224.09 184.751 Q2222.26 182.575 2219.11 182.575 Q2215.96 182.575 2214.11 184.751 Q2212.28 186.904 2212.28 190.631 Q2212.28 194.381 2214.11 196.534 Q2215.96 198.686 2219.11 198.686 Z\" fill=\"#000000\" fill-rule=\"nonzero\" fill-opacity=\"1\" /><polyline clip-path=\"url(#clip800)\" style=\"stroke:#3da44d; stroke-linecap:round; stroke-linejoin:round; stroke-width:4; stroke-opacity:1; fill:none\" points=\"2041.68,248.617 2183.88,248.617 \"/>\n",
       "<path clip-path=\"url(#clip800)\" d=\"M2208.26 261.962 L2215.9 261.962 L2215.9 235.596 L2207.58 237.263 L2207.58 233.003 L2215.85 231.337 L2220.52 231.337 L2220.52 261.962 L2228.16 261.962 L2228.16 265.897 L2208.26 265.897 L2208.26 261.962 Z\" fill=\"#000000\" fill-rule=\"nonzero\" fill-opacity=\"1\" /><path clip-path=\"url(#clip800)\" d=\"M2241.64 261.962 L2257.96 261.962 L2257.96 265.897 L2236.01 265.897 L2236.01 261.962 Q2238.67 259.207 2243.26 254.577 Q2247.86 249.925 2249.04 248.582 Q2251.29 246.059 2252.17 244.323 Q2253.07 242.564 2253.07 240.874 Q2253.07 238.119 2251.13 236.383 Q2249.21 234.647 2246.1 234.647 Q2243.9 234.647 2241.45 235.411 Q2239.02 236.175 2236.24 237.726 L2236.24 233.003 Q2239.07 231.869 2241.52 231.29 Q2243.97 230.712 2246.01 230.712 Q2251.38 230.712 2254.58 233.397 Q2257.77 236.082 2257.77 240.573 Q2257.77 242.702 2256.96 244.624 Q2256.17 246.522 2254.07 249.114 Q2253.49 249.786 2250.39 253.003 Q2247.28 256.198 2241.64 261.962 Z\" fill=\"#000000\" fill-rule=\"nonzero\" fill-opacity=\"1\" /></svg>\n"
      ]
     },
     "execution_count": 235,
     "metadata": {},
     "output_type": "execute_result"
    }
   ],
   "source": [
    "using Plots\n",
    "using LaTeXStrings\n",
    "jpp = range(-1,0,300)\n",
    "\n",
    "plot(jpp, FF_111_B.(6 * Φelem, jpp), label=\"6\")\n",
    "plot!(jpp, FF_111_B.(9 * Φelem, jpp), label=\"9\")\n",
    "plot!(jpp, FF_111_B.(12 * Φelem, jpp), label=\"12\")\n",
    "ylabel!(L\"B_{111}/J_{yy}\")\n",
    "xlabel!(L\"J_{\\pm}/J_{yy}\")"
   ]
  },
  {
   "cell_type": "code",
   "execution_count": 489,
   "id": "0beeed77-baa7-40d0-9d87-ae2fc2c4ca73",
   "metadata": {},
   "outputs": [
    {
     "data": {
      "image/svg+xml": [
       "<?xml version=\"1.0\" encoding=\"utf-8\"?>\n",
       "<svg xmlns=\"http://www.w3.org/2000/svg\" xmlns:xlink=\"http://www.w3.org/1999/xlink\" width=\"600\" height=\"400\" viewBox=\"0 0 2400 1600\">\n",
       "<defs>\n",
       "  <clipPath id=\"clip520\">\n",
       "    <rect x=\"0\" y=\"0\" width=\"2400\" height=\"1600\"/>\n",
       "  </clipPath>\n",
       "</defs>\n",
       "<path clip-path=\"url(#clip520)\" d=\"M0 1600 L2400 1600 L2400 0 L0 0  Z\" fill=\"#ffffff\" fill-rule=\"evenodd\" fill-opacity=\"1\"/>\n",
       "<defs>\n",
       "  <clipPath id=\"clip521\">\n",
       "    <rect x=\"480\" y=\"0\" width=\"1681\" height=\"1600\"/>\n",
       "  </clipPath>\n",
       "</defs>\n",
       "<path clip-path=\"url(#clip520)\" d=\"M148.057 1486.45 L2352.76 1486.45 L2352.76 47.2441 L148.057 47.2441  Z\" fill=\"#ffffff\" fill-rule=\"evenodd\" fill-opacity=\"1\"/>\n",
       "<defs>\n",
       "  <clipPath id=\"clip522\">\n",
       "    <rect x=\"148\" y=\"47\" width=\"2206\" height=\"1440\"/>\n",
       "  </clipPath>\n",
       "</defs>\n",
       "<polyline clip-path=\"url(#clip522)\" style=\"stroke:#000000; stroke-linecap:round; stroke-linejoin:round; stroke-width:2; stroke-opacity:0.1; fill:none\" points=\"210.454,1486.45 210.454,47.2441 \"/>\n",
       "<polyline clip-path=\"url(#clip522)\" style=\"stroke:#000000; stroke-linecap:round; stroke-linejoin:round; stroke-width:2; stroke-opacity:0.1; fill:none\" points=\"730.43,1486.45 730.43,47.2441 \"/>\n",
       "<polyline clip-path=\"url(#clip522)\" style=\"stroke:#000000; stroke-linecap:round; stroke-linejoin:round; stroke-width:2; stroke-opacity:0.1; fill:none\" points=\"1250.41,1486.45 1250.41,47.2441 \"/>\n",
       "<polyline clip-path=\"url(#clip522)\" style=\"stroke:#000000; stroke-linecap:round; stroke-linejoin:round; stroke-width:2; stroke-opacity:0.1; fill:none\" points=\"1770.38,1486.45 1770.38,47.2441 \"/>\n",
       "<polyline clip-path=\"url(#clip522)\" style=\"stroke:#000000; stroke-linecap:round; stroke-linejoin:round; stroke-width:2; stroke-opacity:0.1; fill:none\" points=\"2290.36,1486.45 2290.36,47.2441 \"/>\n",
       "<polyline clip-path=\"url(#clip520)\" style=\"stroke:#000000; stroke-linecap:round; stroke-linejoin:round; stroke-width:4; stroke-opacity:1; fill:none\" points=\"148.057,1486.45 2352.76,1486.45 \"/>\n",
       "<polyline clip-path=\"url(#clip520)\" style=\"stroke:#000000; stroke-linecap:round; stroke-linejoin:round; stroke-width:4; stroke-opacity:1; fill:none\" points=\"210.454,1486.45 210.454,1467.55 \"/>\n",
       "<polyline clip-path=\"url(#clip520)\" style=\"stroke:#000000; stroke-linecap:round; stroke-linejoin:round; stroke-width:4; stroke-opacity:1; fill:none\" points=\"730.43,1486.45 730.43,1467.55 \"/>\n",
       "<polyline clip-path=\"url(#clip520)\" style=\"stroke:#000000; stroke-linecap:round; stroke-linejoin:round; stroke-width:4; stroke-opacity:1; fill:none\" points=\"1250.41,1486.45 1250.41,1467.55 \"/>\n",
       "<polyline clip-path=\"url(#clip520)\" style=\"stroke:#000000; stroke-linecap:round; stroke-linejoin:round; stroke-width:4; stroke-opacity:1; fill:none\" points=\"1770.38,1486.45 1770.38,1467.55 \"/>\n",
       "<polyline clip-path=\"url(#clip520)\" style=\"stroke:#000000; stroke-linecap:round; stroke-linejoin:round; stroke-width:4; stroke-opacity:1; fill:none\" points=\"2290.36,1486.45 2290.36,1467.55 \"/>\n",
       "<path clip-path=\"url(#clip520)\" d=\"M157.676 1517.37 Q154.065 1517.37 152.236 1520.93 Q150.431 1524.47 150.431 1531.6 Q150.431 1538.71 152.236 1542.27 Q154.065 1545.82 157.676 1545.82 Q161.311 1545.82 163.116 1542.27 Q164.945 1538.71 164.945 1531.6 Q164.945 1524.47 163.116 1520.93 Q161.311 1517.37 157.676 1517.37 M157.676 1513.66 Q163.486 1513.66 166.542 1518.27 Q169.621 1522.85 169.621 1531.6 Q169.621 1540.33 166.542 1544.94 Q163.486 1549.52 157.676 1549.52 Q151.866 1549.52 148.787 1544.94 Q145.732 1540.33 145.732 1531.6 Q145.732 1522.85 148.787 1518.27 Q151.866 1513.66 157.676 1513.66 Z\" fill=\"#000000\" fill-rule=\"nonzero\" fill-opacity=\"1\" /><path clip-path=\"url(#clip520)\" d=\"M177.838 1542.97 L182.722 1542.97 L182.722 1548.85 L177.838 1548.85 L177.838 1542.97 Z\" fill=\"#000000\" fill-rule=\"nonzero\" fill-opacity=\"1\" /><path clip-path=\"url(#clip520)\" d=\"M193.718 1544.91 L201.357 1544.91 L201.357 1518.55 L193.046 1520.21 L193.046 1515.95 L201.31 1514.29 L205.986 1514.29 L205.986 1544.91 L213.625 1544.91 L213.625 1548.85 L193.718 1548.85 L193.718 1544.91 Z\" fill=\"#000000\" fill-rule=\"nonzero\" fill-opacity=\"1\" /><path clip-path=\"url(#clip520)\" d=\"M233.069 1517.37 Q229.458 1517.37 227.63 1520.93 Q225.824 1524.47 225.824 1531.6 Q225.824 1538.71 227.63 1542.27 Q229.458 1545.82 233.069 1545.82 Q236.704 1545.82 238.509 1542.27 Q240.338 1538.71 240.338 1531.6 Q240.338 1524.47 238.509 1520.93 Q236.704 1517.37 233.069 1517.37 M233.069 1513.66 Q238.88 1513.66 241.935 1518.27 Q245.014 1522.85 245.014 1531.6 Q245.014 1540.33 241.935 1544.94 Q238.88 1549.52 233.069 1549.52 Q227.259 1549.52 224.181 1544.94 Q221.125 1540.33 221.125 1531.6 Q221.125 1522.85 224.181 1518.27 Q227.259 1513.66 233.069 1513.66 Z\" fill=\"#000000\" fill-rule=\"nonzero\" fill-opacity=\"1\" /><path clip-path=\"url(#clip520)\" d=\"M263.231 1517.37 Q259.62 1517.37 257.791 1520.93 Q255.986 1524.47 255.986 1531.6 Q255.986 1538.71 257.791 1542.27 Q259.62 1545.82 263.231 1545.82 Q266.865 1545.82 268.671 1542.27 Q270.5 1538.71 270.5 1531.6 Q270.5 1524.47 268.671 1520.93 Q266.865 1517.37 263.231 1517.37 M263.231 1513.66 Q269.041 1513.66 272.097 1518.27 Q275.176 1522.85 275.176 1531.6 Q275.176 1540.33 272.097 1544.94 Q269.041 1549.52 263.231 1549.52 Q257.421 1549.52 254.342 1544.94 Q251.287 1540.33 251.287 1531.6 Q251.287 1522.85 254.342 1518.27 Q257.421 1513.66 263.231 1513.66 Z\" fill=\"#000000\" fill-rule=\"nonzero\" fill-opacity=\"1\" /><path clip-path=\"url(#clip520)\" d=\"M678.15 1517.37 Q674.539 1517.37 672.71 1520.93 Q670.905 1524.47 670.905 1531.6 Q670.905 1538.71 672.71 1542.27 Q674.539 1545.82 678.15 1545.82 Q681.784 1545.82 683.59 1542.27 Q685.419 1538.71 685.419 1531.6 Q685.419 1524.47 683.59 1520.93 Q681.784 1517.37 678.15 1517.37 M678.15 1513.66 Q683.96 1513.66 687.016 1518.27 Q690.095 1522.85 690.095 1531.6 Q690.095 1540.33 687.016 1544.94 Q683.96 1549.52 678.15 1549.52 Q672.34 1549.52 669.261 1544.94 Q666.206 1540.33 666.206 1531.6 Q666.206 1522.85 669.261 1518.27 Q672.34 1513.66 678.15 1513.66 Z\" fill=\"#000000\" fill-rule=\"nonzero\" fill-opacity=\"1\" /><path clip-path=\"url(#clip520)\" d=\"M698.312 1542.97 L703.196 1542.97 L703.196 1548.85 L698.312 1548.85 L698.312 1542.97 Z\" fill=\"#000000\" fill-rule=\"nonzero\" fill-opacity=\"1\" /><path clip-path=\"url(#clip520)\" d=\"M714.192 1544.91 L721.831 1544.91 L721.831 1518.55 L713.52 1520.21 L713.52 1515.95 L721.784 1514.29 L726.46 1514.29 L726.46 1544.91 L734.099 1544.91 L734.099 1548.85 L714.192 1548.85 L714.192 1544.91 Z\" fill=\"#000000\" fill-rule=\"nonzero\" fill-opacity=\"1\" /><path clip-path=\"url(#clip520)\" d=\"M747.571 1544.91 L763.89 1544.91 L763.89 1548.85 L741.946 1548.85 L741.946 1544.91 Q744.608 1542.16 749.191 1537.53 Q753.798 1532.88 754.978 1531.53 Q757.224 1529.01 758.103 1527.27 Q759.006 1525.51 759.006 1523.82 Q759.006 1521.07 757.062 1519.33 Q755.141 1517.6 752.039 1517.6 Q749.84 1517.6 747.386 1518.36 Q744.955 1519.13 742.178 1520.68 L742.178 1515.95 Q745.002 1514.82 747.455 1514.24 Q749.909 1513.66 751.946 1513.66 Q757.316 1513.66 760.511 1516.35 Q763.705 1519.03 763.705 1523.52 Q763.705 1525.65 762.895 1527.57 Q762.108 1529.47 760.002 1532.07 Q759.423 1532.74 756.321 1535.95 Q753.219 1539.15 747.571 1544.91 Z\" fill=\"#000000\" fill-rule=\"nonzero\" fill-opacity=\"1\" /><path clip-path=\"url(#clip520)\" d=\"M773.752 1514.29 L792.108 1514.29 L792.108 1518.22 L778.034 1518.22 L778.034 1526.7 Q779.052 1526.35 780.071 1526.19 Q781.089 1526 782.108 1526 Q787.895 1526 791.275 1529.17 Q794.654 1532.34 794.654 1537.76 Q794.654 1543.34 791.182 1546.44 Q787.71 1549.52 781.39 1549.52 Q779.214 1549.52 776.946 1549.15 Q774.701 1548.78 772.293 1548.04 L772.293 1543.34 Q774.377 1544.47 776.599 1545.03 Q778.821 1545.58 781.298 1545.58 Q785.302 1545.58 787.64 1543.48 Q789.978 1541.37 789.978 1537.76 Q789.978 1534.15 787.64 1532.04 Q785.302 1529.94 781.298 1529.94 Q779.423 1529.94 777.548 1530.35 Q775.696 1530.77 773.752 1531.65 L773.752 1514.29 Z\" fill=\"#000000\" fill-rule=\"nonzero\" fill-opacity=\"1\" /><path clip-path=\"url(#clip520)\" d=\"M1197.63 1517.37 Q1194.02 1517.37 1192.19 1520.93 Q1190.38 1524.47 1190.38 1531.6 Q1190.38 1538.71 1192.19 1542.27 Q1194.02 1545.82 1197.63 1545.82 Q1201.26 1545.82 1203.07 1542.27 Q1204.9 1538.71 1204.9 1531.6 Q1204.9 1524.47 1203.07 1520.93 Q1201.26 1517.37 1197.63 1517.37 M1197.63 1513.66 Q1203.44 1513.66 1206.49 1518.27 Q1209.57 1522.85 1209.57 1531.6 Q1209.57 1540.33 1206.49 1544.94 Q1203.44 1549.52 1197.63 1549.52 Q1191.82 1549.52 1188.74 1544.94 Q1185.68 1540.33 1185.68 1531.6 Q1185.68 1522.85 1188.74 1518.27 Q1191.82 1513.66 1197.63 1513.66 Z\" fill=\"#000000\" fill-rule=\"nonzero\" fill-opacity=\"1\" /><path clip-path=\"url(#clip520)\" d=\"M1217.79 1542.97 L1222.67 1542.97 L1222.67 1548.85 L1217.79 1548.85 L1217.79 1542.97 Z\" fill=\"#000000\" fill-rule=\"nonzero\" fill-opacity=\"1\" /><path clip-path=\"url(#clip520)\" d=\"M1233.67 1544.91 L1241.31 1544.91 L1241.31 1518.55 L1233 1520.21 L1233 1515.95 L1241.26 1514.29 L1245.94 1514.29 L1245.94 1544.91 L1253.58 1544.91 L1253.58 1548.85 L1233.67 1548.85 L1233.67 1544.91 Z\" fill=\"#000000\" fill-rule=\"nonzero\" fill-opacity=\"1\" /><path clip-path=\"url(#clip520)\" d=\"M1263.07 1514.29 L1281.42 1514.29 L1281.42 1518.22 L1267.35 1518.22 L1267.35 1526.7 Q1268.37 1526.35 1269.39 1526.19 Q1270.41 1526 1271.42 1526 Q1277.21 1526 1280.59 1529.17 Q1283.97 1532.34 1283.97 1537.76 Q1283.97 1543.34 1280.5 1546.44 Q1277.03 1549.52 1270.71 1549.52 Q1268.53 1549.52 1266.26 1549.15 Q1264.02 1548.78 1261.61 1548.04 L1261.61 1543.34 Q1263.69 1544.47 1265.92 1545.03 Q1268.14 1545.58 1270.61 1545.58 Q1274.62 1545.58 1276.96 1543.48 Q1279.29 1541.37 1279.29 1537.76 Q1279.29 1534.15 1276.96 1532.04 Q1274.62 1529.94 1270.61 1529.94 Q1268.74 1529.94 1266.86 1530.35 Q1265.01 1530.77 1263.07 1531.65 L1263.07 1514.29 Z\" fill=\"#000000\" fill-rule=\"nonzero\" fill-opacity=\"1\" /><path clip-path=\"url(#clip520)\" d=\"M1303.18 1517.37 Q1299.57 1517.37 1297.74 1520.93 Q1295.94 1524.47 1295.94 1531.6 Q1295.94 1538.71 1297.74 1542.27 Q1299.57 1545.82 1303.18 1545.82 Q1306.82 1545.82 1308.62 1542.27 Q1310.45 1538.71 1310.45 1531.6 Q1310.45 1524.47 1308.62 1520.93 Q1306.82 1517.37 1303.18 1517.37 M1303.18 1513.66 Q1308.99 1513.66 1312.05 1518.27 Q1315.13 1522.85 1315.13 1531.6 Q1315.13 1540.33 1312.05 1544.94 Q1308.99 1549.52 1303.18 1549.52 Q1297.37 1549.52 1294.29 1544.94 Q1291.24 1540.33 1291.24 1531.6 Q1291.24 1522.85 1294.29 1518.27 Q1297.37 1513.66 1303.18 1513.66 Z\" fill=\"#000000\" fill-rule=\"nonzero\" fill-opacity=\"1\" /><path clip-path=\"url(#clip520)\" d=\"M1718.1 1517.37 Q1714.49 1517.37 1712.66 1520.93 Q1710.86 1524.47 1710.86 1531.6 Q1710.86 1538.71 1712.66 1542.27 Q1714.49 1545.82 1718.1 1545.82 Q1721.74 1545.82 1723.54 1542.27 Q1725.37 1538.71 1725.37 1531.6 Q1725.37 1524.47 1723.54 1520.93 Q1721.74 1517.37 1718.1 1517.37 M1718.1 1513.66 Q1723.91 1513.66 1726.97 1518.27 Q1730.05 1522.85 1730.05 1531.6 Q1730.05 1540.33 1726.97 1544.94 Q1723.91 1549.52 1718.1 1549.52 Q1712.29 1549.52 1709.21 1544.94 Q1706.16 1540.33 1706.16 1531.6 Q1706.16 1522.85 1709.21 1518.27 Q1712.29 1513.66 1718.1 1513.66 Z\" fill=\"#000000\" fill-rule=\"nonzero\" fill-opacity=\"1\" /><path clip-path=\"url(#clip520)\" d=\"M1738.26 1542.97 L1743.15 1542.97 L1743.15 1548.85 L1738.26 1548.85 L1738.26 1542.97 Z\" fill=\"#000000\" fill-rule=\"nonzero\" fill-opacity=\"1\" /><path clip-path=\"url(#clip520)\" d=\"M1754.14 1544.91 L1761.78 1544.91 L1761.78 1518.55 L1753.47 1520.21 L1753.47 1515.95 L1761.74 1514.29 L1766.41 1514.29 L1766.41 1544.91 L1774.05 1544.91 L1774.05 1548.85 L1754.14 1548.85 L1754.14 1544.91 Z\" fill=\"#000000\" fill-rule=\"nonzero\" fill-opacity=\"1\" /><path clip-path=\"url(#clip520)\" d=\"M1782.32 1514.29 L1804.54 1514.29 L1804.54 1516.28 L1791.99 1548.85 L1787.11 1548.85 L1798.91 1518.22 L1782.32 1518.22 L1782.32 1514.29 Z\" fill=\"#000000\" fill-rule=\"nonzero\" fill-opacity=\"1\" /><path clip-path=\"url(#clip520)\" d=\"M1813.7 1514.29 L1832.06 1514.29 L1832.06 1518.22 L1817.99 1518.22 L1817.99 1526.7 Q1819 1526.35 1820.02 1526.19 Q1821.04 1526 1822.06 1526 Q1827.85 1526 1831.23 1529.17 Q1834.61 1532.34 1834.61 1537.76 Q1834.61 1543.34 1831.13 1546.44 Q1827.66 1549.52 1821.34 1549.52 Q1819.17 1549.52 1816.9 1549.15 Q1814.65 1548.78 1812.25 1548.04 L1812.25 1543.34 Q1814.33 1544.47 1816.55 1545.03 Q1818.77 1545.58 1821.25 1545.58 Q1825.25 1545.58 1827.59 1543.48 Q1829.93 1541.37 1829.93 1537.76 Q1829.93 1534.15 1827.59 1532.04 Q1825.25 1529.94 1821.25 1529.94 Q1819.38 1529.94 1817.5 1530.35 Q1815.65 1530.77 1813.7 1531.65 L1813.7 1514.29 Z\" fill=\"#000000\" fill-rule=\"nonzero\" fill-opacity=\"1\" /><path clip-path=\"url(#clip520)\" d=\"M2237.58 1517.37 Q2233.97 1517.37 2232.14 1520.93 Q2230.34 1524.47 2230.34 1531.6 Q2230.34 1538.71 2232.14 1542.27 Q2233.97 1545.82 2237.58 1545.82 Q2241.22 1545.82 2243.02 1542.27 Q2244.85 1538.71 2244.85 1531.6 Q2244.85 1524.47 2243.02 1520.93 Q2241.22 1517.37 2237.58 1517.37 M2237.58 1513.66 Q2243.39 1513.66 2246.45 1518.27 Q2249.53 1522.85 2249.53 1531.6 Q2249.53 1540.33 2246.45 1544.94 Q2243.39 1549.52 2237.58 1549.52 Q2231.77 1549.52 2228.69 1544.94 Q2225.64 1540.33 2225.64 1531.6 Q2225.64 1522.85 2228.69 1518.27 Q2231.77 1513.66 2237.58 1513.66 Z\" fill=\"#000000\" fill-rule=\"nonzero\" fill-opacity=\"1\" /><path clip-path=\"url(#clip520)\" d=\"M2257.74 1542.97 L2262.63 1542.97 L2262.63 1548.85 L2257.74 1548.85 L2257.74 1542.97 Z\" fill=\"#000000\" fill-rule=\"nonzero\" fill-opacity=\"1\" /><path clip-path=\"url(#clip520)\" d=\"M2276.84 1544.91 L2293.16 1544.91 L2293.16 1548.85 L2271.22 1548.85 L2271.22 1544.91 Q2273.88 1542.16 2278.46 1537.53 Q2283.07 1532.88 2284.25 1531.53 Q2286.49 1529.01 2287.37 1527.27 Q2288.28 1525.51 2288.28 1523.82 Q2288.28 1521.07 2286.33 1519.33 Q2284.41 1517.6 2281.31 1517.6 Q2279.11 1517.6 2276.66 1518.36 Q2274.22 1519.13 2271.45 1520.68 L2271.45 1515.95 Q2274.27 1514.82 2276.72 1514.24 Q2279.18 1513.66 2281.22 1513.66 Q2286.59 1513.66 2289.78 1516.35 Q2292.97 1519.03 2292.97 1523.52 Q2292.97 1525.65 2292.16 1527.57 Q2291.38 1529.47 2289.27 1532.07 Q2288.69 1532.74 2285.59 1535.95 Q2282.49 1539.15 2276.84 1544.91 Z\" fill=\"#000000\" fill-rule=\"nonzero\" fill-opacity=\"1\" /><path clip-path=\"url(#clip520)\" d=\"M2312.97 1517.37 Q2309.36 1517.37 2307.53 1520.93 Q2305.73 1524.47 2305.73 1531.6 Q2305.73 1538.71 2307.53 1542.27 Q2309.36 1545.82 2312.97 1545.82 Q2316.61 1545.82 2318.41 1542.27 Q2320.24 1538.71 2320.24 1531.6 Q2320.24 1524.47 2318.41 1520.93 Q2316.61 1517.37 2312.97 1517.37 M2312.97 1513.66 Q2318.78 1513.66 2321.84 1518.27 Q2324.92 1522.85 2324.92 1531.6 Q2324.92 1540.33 2321.84 1544.94 Q2318.78 1549.52 2312.97 1549.52 Q2307.16 1549.52 2304.09 1544.94 Q2301.03 1540.33 2301.03 1531.6 Q2301.03 1522.85 2304.09 1518.27 Q2307.16 1513.66 2312.97 1513.66 Z\" fill=\"#000000\" fill-rule=\"nonzero\" fill-opacity=\"1\" /><path clip-path=\"url(#clip520)\" d=\"M2343.14 1517.37 Q2339.53 1517.37 2337.7 1520.93 Q2335.89 1524.47 2335.89 1531.6 Q2335.89 1538.71 2337.7 1542.27 Q2339.53 1545.82 2343.14 1545.82 Q2346.77 1545.82 2348.58 1542.27 Q2350.4 1538.71 2350.4 1531.6 Q2350.4 1524.47 2348.58 1520.93 Q2346.77 1517.37 2343.14 1517.37 M2343.14 1513.66 Q2348.95 1513.66 2352 1518.27 Q2355.08 1522.85 2355.08 1531.6 Q2355.08 1540.33 2352 1544.94 Q2348.95 1549.52 2343.14 1549.52 Q2337.33 1549.52 2334.25 1544.94 Q2331.19 1540.33 2331.19 1531.6 Q2331.19 1522.85 2334.25 1518.27 Q2337.33 1513.66 2343.14 1513.66 Z\" fill=\"#000000\" fill-rule=\"nonzero\" fill-opacity=\"1\" /><polyline clip-path=\"url(#clip522)\" style=\"stroke:#000000; stroke-linecap:round; stroke-linejoin:round; stroke-width:2; stroke-opacity:0.1; fill:none\" points=\"148.057,1415.57 2352.76,1415.57 \"/>\n",
       "<polyline clip-path=\"url(#clip522)\" style=\"stroke:#000000; stroke-linecap:round; stroke-linejoin:round; stroke-width:2; stroke-opacity:0.1; fill:none\" points=\"148.057,1199.35 2352.76,1199.35 \"/>\n",
       "<polyline clip-path=\"url(#clip522)\" style=\"stroke:#000000; stroke-linecap:round; stroke-linejoin:round; stroke-width:2; stroke-opacity:0.1; fill:none\" points=\"148.057,983.137 2352.76,983.137 \"/>\n",
       "<polyline clip-path=\"url(#clip522)\" style=\"stroke:#000000; stroke-linecap:round; stroke-linejoin:round; stroke-width:2; stroke-opacity:0.1; fill:none\" points=\"148.057,766.922 2352.76,766.922 \"/>\n",
       "<polyline clip-path=\"url(#clip522)\" style=\"stroke:#000000; stroke-linecap:round; stroke-linejoin:round; stroke-width:2; stroke-opacity:0.1; fill:none\" points=\"148.057,550.707 2352.76,550.707 \"/>\n",
       "<polyline clip-path=\"url(#clip522)\" style=\"stroke:#000000; stroke-linecap:round; stroke-linejoin:round; stroke-width:2; stroke-opacity:0.1; fill:none\" points=\"148.057,334.492 2352.76,334.492 \"/>\n",
       "<polyline clip-path=\"url(#clip522)\" style=\"stroke:#000000; stroke-linecap:round; stroke-linejoin:round; stroke-width:2; stroke-opacity:0.1; fill:none\" points=\"148.057,118.277 2352.76,118.277 \"/>\n",
       "<polyline clip-path=\"url(#clip520)\" style=\"stroke:#000000; stroke-linecap:round; stroke-linejoin:round; stroke-width:4; stroke-opacity:1; fill:none\" points=\"148.057,1486.45 148.057,47.2441 \"/>\n",
       "<polyline clip-path=\"url(#clip520)\" style=\"stroke:#000000; stroke-linecap:round; stroke-linejoin:round; stroke-width:4; stroke-opacity:1; fill:none\" points=\"148.057,1415.57 166.954,1415.57 \"/>\n",
       "<polyline clip-path=\"url(#clip520)\" style=\"stroke:#000000; stroke-linecap:round; stroke-linejoin:round; stroke-width:4; stroke-opacity:1; fill:none\" points=\"148.057,1199.35 166.954,1199.35 \"/>\n",
       "<polyline clip-path=\"url(#clip520)\" style=\"stroke:#000000; stroke-linecap:round; stroke-linejoin:round; stroke-width:4; stroke-opacity:1; fill:none\" points=\"148.057,983.137 166.954,983.137 \"/>\n",
       "<polyline clip-path=\"url(#clip520)\" style=\"stroke:#000000; stroke-linecap:round; stroke-linejoin:round; stroke-width:4; stroke-opacity:1; fill:none\" points=\"148.057,766.922 166.954,766.922 \"/>\n",
       "<polyline clip-path=\"url(#clip520)\" style=\"stroke:#000000; stroke-linecap:round; stroke-linejoin:round; stroke-width:4; stroke-opacity:1; fill:none\" points=\"148.057,550.707 166.954,550.707 \"/>\n",
       "<polyline clip-path=\"url(#clip520)\" style=\"stroke:#000000; stroke-linecap:round; stroke-linejoin:round; stroke-width:4; stroke-opacity:1; fill:none\" points=\"148.057,334.492 166.954,334.492 \"/>\n",
       "<polyline clip-path=\"url(#clip520)\" style=\"stroke:#000000; stroke-linecap:round; stroke-linejoin:round; stroke-width:4; stroke-opacity:1; fill:none\" points=\"148.057,118.277 166.954,118.277 \"/>\n",
       "<path clip-path=\"url(#clip520)\" d=\"M50.9921 1416.02 L80.6679 1416.02 L80.6679 1419.95 L50.9921 1419.95 L50.9921 1416.02 Z\" fill=\"#000000\" fill-rule=\"nonzero\" fill-opacity=\"1\" /><path clip-path=\"url(#clip520)\" d=\"M104.927 1414.21 Q108.283 1414.93 110.158 1417.2 Q112.057 1419.47 112.057 1422.8 Q112.057 1427.92 108.538 1430.72 Q105.02 1433.52 98.5382 1433.52 Q96.3623 1433.52 94.0475 1433.08 Q91.7558 1432.66 89.3021 1431.81 L89.3021 1427.29 Q91.2465 1428.43 93.5613 1429 Q95.8761 1429.58 98.3993 1429.58 Q102.797 1429.58 105.089 1427.85 Q107.404 1426.11 107.404 1422.8 Q107.404 1419.75 105.251 1418.03 Q103.121 1416.3 99.3021 1416.3 L95.2743 1416.3 L95.2743 1412.45 L99.4872 1412.45 Q102.936 1412.45 104.765 1411.09 Q106.594 1409.7 106.594 1407.11 Q106.594 1404.44 104.696 1403.03 Q102.821 1401.6 99.3021 1401.6 Q97.3808 1401.6 95.1817 1402.01 Q92.9826 1402.43 90.3438 1403.31 L90.3438 1399.14 Q93.0058 1398.4 95.3206 1398.03 Q97.6585 1397.66 99.7187 1397.66 Q105.043 1397.66 108.145 1400.09 Q111.246 1402.5 111.246 1406.62 Q111.246 1409.49 109.603 1411.48 Q107.959 1413.45 104.927 1414.21 Z\" fill=\"#000000\" fill-rule=\"nonzero\" fill-opacity=\"1\" /><path clip-path=\"url(#clip520)\" d=\"M51.9412 1199.8 L81.617 1199.8 L81.617 1203.74 L51.9412 1203.74 L51.9412 1199.8 Z\" fill=\"#000000\" fill-rule=\"nonzero\" fill-opacity=\"1\" /><path clip-path=\"url(#clip520)\" d=\"M95.7373 1212.7 L112.057 1212.7 L112.057 1216.63 L90.1123 1216.63 L90.1123 1212.7 Q92.7743 1209.94 97.3576 1205.31 Q101.964 1200.66 103.145 1199.32 Q105.39 1196.79 106.27 1195.06 Q107.172 1193.3 107.172 1191.61 Q107.172 1188.85 105.228 1187.12 Q103.307 1185.38 100.205 1185.38 Q98.0058 1185.38 95.5521 1186.15 Q93.1215 1186.91 90.3438 1188.46 L90.3438 1183.74 Q93.1678 1182.6 95.6215 1182.03 Q98.0752 1181.45 100.112 1181.45 Q105.483 1181.45 108.677 1184.13 Q111.871 1186.82 111.871 1191.31 Q111.871 1193.44 111.061 1195.36 Q110.274 1197.26 108.168 1199.85 Q107.589 1200.52 104.487 1203.74 Q101.385 1206.93 95.7373 1212.7 Z\" fill=\"#000000\" fill-rule=\"nonzero\" fill-opacity=\"1\" /><path clip-path=\"url(#clip520)\" d=\"M51.5708 983.588 L81.2466 983.588 L81.2466 987.524 L51.5708 987.524 L51.5708 983.588 Z\" fill=\"#000000\" fill-rule=\"nonzero\" fill-opacity=\"1\" /><path clip-path=\"url(#clip520)\" d=\"M92.1493 996.482 L99.7882 996.482 L99.7882 970.116 L91.478 971.783 L91.478 967.524 L99.7419 965.857 L104.418 965.857 L104.418 996.482 L112.057 996.482 L112.057 1000.42 L92.1493 1000.42 L92.1493 996.482 Z\" fill=\"#000000\" fill-rule=\"nonzero\" fill-opacity=\"1\" /><path clip-path=\"url(#clip520)\" d=\"M100.112 752.721 Q96.5011 752.721 94.6724 756.286 Q92.8669 759.827 92.8669 766.957 Q92.8669 774.063 94.6724 777.628 Q96.5011 781.17 100.112 781.17 Q103.746 781.17 105.552 777.628 Q107.381 774.063 107.381 766.957 Q107.381 759.827 105.552 756.286 Q103.746 752.721 100.112 752.721 M100.112 749.017 Q105.922 749.017 108.978 753.624 Q112.057 758.207 112.057 766.957 Q112.057 775.684 108.978 780.29 Q105.922 784.873 100.112 784.873 Q94.3021 784.873 91.2234 780.29 Q88.1679 775.684 88.1679 766.957 Q88.1679 758.207 91.2234 753.624 Q94.3021 749.017 100.112 749.017 Z\" fill=\"#000000\" fill-rule=\"nonzero\" fill-opacity=\"1\" /><path clip-path=\"url(#clip520)\" d=\"M92.1493 564.052 L99.7882 564.052 L99.7882 537.686 L91.478 539.353 L91.478 535.094 L99.7419 533.427 L104.418 533.427 L104.418 564.052 L112.057 564.052 L112.057 567.987 L92.1493 567.987 L92.1493 564.052 Z\" fill=\"#000000\" fill-rule=\"nonzero\" fill-opacity=\"1\" /><path clip-path=\"url(#clip520)\" d=\"M95.7373 347.837 L112.057 347.837 L112.057 351.772 L90.1123 351.772 L90.1123 347.837 Q92.7743 345.082 97.3576 340.453 Q101.964 335.8 103.145 334.458 Q105.39 331.934 106.27 330.198 Q107.172 328.439 107.172 326.749 Q107.172 323.995 105.228 322.259 Q103.307 320.522 100.205 320.522 Q98.0058 320.522 95.5521 321.286 Q93.1215 322.05 90.3438 323.601 L90.3438 318.879 Q93.1678 317.745 95.6215 317.166 Q98.0752 316.587 100.112 316.587 Q105.483 316.587 108.677 319.272 Q111.871 321.958 111.871 326.448 Q111.871 328.578 111.061 330.499 Q110.274 332.397 108.168 334.99 Q107.589 335.661 104.487 338.879 Q101.385 342.073 95.7373 347.837 Z\" fill=\"#000000\" fill-rule=\"nonzero\" fill-opacity=\"1\" /><path clip-path=\"url(#clip520)\" d=\"M104.927 116.923 Q108.283 117.641 110.158 119.909 Q112.057 122.178 112.057 125.511 Q112.057 130.627 108.538 133.428 Q105.02 136.229 98.5382 136.229 Q96.3623 136.229 94.0475 135.789 Q91.7558 135.372 89.3021 134.516 L89.3021 130.002 Q91.2465 131.136 93.5613 131.715 Q95.8761 132.293 98.3993 132.293 Q102.797 132.293 105.089 130.557 Q107.404 128.821 107.404 125.511 Q107.404 122.456 105.251 120.743 Q103.121 119.007 99.3021 119.007 L95.2743 119.007 L95.2743 115.164 L99.4872 115.164 Q102.936 115.164 104.765 113.798 Q106.594 112.409 106.594 109.817 Q106.594 107.155 104.696 105.743 Q102.821 104.308 99.3021 104.308 Q97.3808 104.308 95.1817 104.724 Q92.9826 105.141 90.3438 106.02 L90.3438 101.854 Q93.0058 101.113 95.3206 100.743 Q97.6585 100.372 99.7187 100.372 Q105.043 100.372 108.145 102.803 Q111.246 105.21 111.246 109.331 Q111.246 112.201 109.603 114.192 Q107.959 116.159 104.927 116.923 Z\" fill=\"#000000\" fill-rule=\"nonzero\" fill-opacity=\"1\" /><polyline clip-path=\"url(#clip522)\" style=\"stroke:#009af9; stroke-linecap:round; stroke-linejoin:round; stroke-width:4; stroke-opacity:1; fill:none\" points=\"210.454,766.922 231.463,766.922 252.472,766.922 273.481,766.922 294.49,766.922 315.499,766.922 336.509,766.922 357.518,766.922 378.527,766.922 399.536,766.922 420.545,766.922 441.554,766.922 462.563,766.922 483.573,766.922 504.582,766.922 525.591,766.922 546.6,766.922 567.609,766.922 588.618,766.922 609.627,766.922 630.637,766.922 651.646,766.922 672.655,766.922 693.664,766.922 714.673,766.922 735.682,766.922 756.691,766.922 777.701,766.922 798.71,766.922 819.719,766.922 840.728,766.922 861.737,766.922 882.746,766.922 903.755,766.922 924.765,424.401 945.774,109.895 966.783,93.333 987.792,88.3846 1008.8,97.2387 1029.81,88.5684 1050.82,88.5908 1071.83,91.0132 1092.84,88.7003 1113.85,88.518 1134.86,89.3926 1155.87,88.0876 1176.87,88.0511 1197.88,88.0459 1218.89,1445.72 1239.9,88.3065 1260.91,88.7081 1281.92,88.851 1302.93,87.9763 1323.94,88.5408 1344.95,88.1008 1365.96,88.4739 1386.97,88.4823 1407.97,88.3292 1428.98,88.3459 1449.99,88.4848 1471,88.7625 1492.01,89.4225 1513.02,88.9301 1534.03,88.4598 1555.04,88.823 1576.05,88.1986 1597.06,88.2878 1618.07,88.0048 1639.08,1445.71 1660.08,88.1363 1681.09,88.1324 1702.1,88.1268 1723.11,88.122 1744.12,88.8851 1765.13,88.5329 1786.14,88.5489 1807.15,88.5603 1828.16,88.5577 1849.17,88.1746 1870.18,88.4094 1891.19,88.1266 1912.19,88.1738 1933.2,88.3791 1954.21,88.3542 1975.22,88.3581 1996.23,88.5929 2017.24,88.5999 2038.25,88.4136 2059.26,88.4185 2080.27,88.3986 2101.28,88.4008 2122.29,88.4383 2143.29,88.0685 2164.3,88.1808 2185.31,88.0349 2206.32,88.0392 2227.33,88.4128 2248.34,1445.71 2269.35,88.1873 2290.36,88.1611 \"/>\n",
       "<path clip-path=\"url(#clip520)\" d=\"M221.547 198.898 L494.447 198.898 L494.447 95.2176 L221.547 95.2176  Z\" fill=\"#ffffff\" fill-rule=\"evenodd\" fill-opacity=\"1\"/>\n",
       "<polyline clip-path=\"url(#clip520)\" style=\"stroke:#000000; stroke-linecap:round; stroke-linejoin:round; stroke-width:4; stroke-opacity:1; fill:none\" points=\"221.547,198.898 494.447,198.898 494.447,95.2176 221.547,95.2176 221.547,198.898 \"/>\n",
       "<polyline clip-path=\"url(#clip520)\" style=\"stroke:#009af9; stroke-linecap:round; stroke-linejoin:round; stroke-width:4; stroke-opacity:1; fill:none\" points=\"246.043,147.058 393.023,147.058 \"/>\n",
       "<path clip-path=\"url(#clip520)\" d=\"M431.362 166.745 Q429.557 171.375 427.844 172.787 Q426.131 174.199 423.261 174.199 L419.858 174.199 L419.858 170.634 L422.358 170.634 Q424.117 170.634 425.089 169.8 Q426.061 168.967 427.242 165.865 L428.006 163.921 L417.52 138.412 L422.034 138.412 L430.136 158.689 L438.237 138.412 L442.751 138.412 L431.362 166.745 Z\" fill=\"#000000\" fill-rule=\"nonzero\" fill-opacity=\"1\" /><path clip-path=\"url(#clip520)\" d=\"M450.043 160.402 L457.682 160.402 L457.682 134.037 L449.372 135.703 L449.372 131.444 L457.635 129.778 L462.311 129.778 L462.311 160.402 L469.95 160.402 L469.95 164.338 L450.043 164.338 L450.043 160.402 Z\" fill=\"#000000\" fill-rule=\"nonzero\" fill-opacity=\"1\" /></svg>\n"
      ]
     },
     "execution_count": 489,
     "metadata": {},
     "output_type": "execute_result"
    }
   ],
   "source": [
    "bb = range(0.1,0.2,100)\n",
    "y = [best_flux_fast(g_from_params(-0.01, b*[1,1,0]/√2)).minimizer[1] for b in bb ]\n",
    "plot(bb,y)"
   ]
  },
  {
   "cell_type": "code",
   "execution_count": null,
   "id": "40b582b3-7e45-46ea-8761-5503796b36ab",
   "metadata": {},
   "outputs": [],
   "source": []
  }
 ],
 "metadata": {
  "kernelspec": {
   "display_name": "Julia 1.10.4",
   "language": "julia",
   "name": "julia-1.10"
  },
  "language_info": {
   "file_extension": ".jl",
   "mimetype": "application/julia",
   "name": "julia",
   "version": "1.10.4"
  }
 },
 "nbformat": 4,
 "nbformat_minor": 5
}
