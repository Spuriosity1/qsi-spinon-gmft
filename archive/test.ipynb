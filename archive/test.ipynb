{
 "cells": [
  {
   "cell_type": "code",
   "execution_count": 2,
   "id": "9d654d97-bce6-43ee-a6b4-53513b6e1669",
   "metadata": {},
   "outputs": [],
   "source": [
    "include(\"src/PyrochloreGeometry.jl\")\n",
    "import .PyrochloreGeometry as geom\n",
    "using LinearAlgebra"
   ]
  },
  {
   "cell_type": "code",
   "execution_count": 17,
   "id": "ebd2bd0a-e14b-48bf-a46b-fee23fd082c5",
   "metadata": {},
   "outputs": [
    {
     "data": {
      "text/plain": [
       "4×4 Matrix{ComplexF64}:\n",
       "      1.0+0.0im           0.81047-0.000914408im  …  0.810371-0.000824677im\n",
       "  0.81047+0.000914408im       1.0+0.0im             0.810971+0.000116386im\n",
       " 0.810307+0.000985923im  0.811021+0.000100799im     0.810714+0.000276465im\n",
       " 0.810371+0.000824677im  0.810971-0.000116386im          1.0+0.0im"
      ]
     },
     "execution_count": 17,
     "metadata": {},
     "output_type": "execute_result"
    }
   ],
   "source": [
    "nsample = 1000000\n",
    "L = 100000\n",
    "Klist = rand(-L:L,nsample,3)/L *π\n",
    "b = 2 .*geom.pyro\n",
    "\n",
    "W = zeros(ComplexF64,4,4)\n",
    "for mu=1:4, nu=1:4\n",
    "    f = k -> exp(-1im/2 * k' *(b[mu] - b[nu])/8) \n",
    "    W[mu,nu] = sum( map( f , eachrow(Klist) ) )/nsample\n",
    "end\n",
    "W"
   ]
  },
  {
   "cell_type": "code",
   "execution_count": 4,
   "id": "ff8f2816-fd1c-4edf-8f65-6849852647ee",
   "metadata": {},
   "outputs": [
    {
     "data": {
      "text/plain": [
       "4×4 Matrix{StaticArraysCore.SVector{3, Float64}}:\n",
       " [0.0, 0.0, 0.0]      [0.0, 0.25, 0.25]   …  [0.25, 0.25, 0.0]\n",
       " [0.0, -0.25, -0.25]  [0.0, 0.0, 0.0]        [0.25, 0.0, -0.25]\n",
       " [-0.25, 0.0, -0.25]  [-0.25, 0.25, 0.0]     [0.0, 0.25, -0.25]\n",
       " [-0.25, -0.25, 0.0]  [-0.25, 0.0, 0.25]     [0.0, 0.0, 0.0]"
      ]
     },
     "execution_count": 4,
     "metadata": {},
     "output_type": "execute_result"
    }
   ],
   "source": [
    "[(b[mu] - b[nu]) for mu=1:4, nu=1:4]/2 /8"
   ]
  },
  {
   "cell_type": "code",
   "execution_count": 16,
   "id": "a821590f-5df9-4d8b-950b-4ef07e225cf8",
   "metadata": {},
   "outputs": [
    {
     "data": {
      "text/plain": [
       "0.8105694691387021"
      ]
     },
     "execution_count": 16,
     "metadata": {},
     "output_type": "execute_result"
    }
   ],
   "source": [
    " ((8/2π)*sin(π/4))^2"
   ]
  },
  {
   "cell_type": "code",
   "execution_count": 15,
   "id": "1900d3d7-2645-4457-91ab-0d3c496e1aba",
   "metadata": {},
   "outputs": [
    {
     "data": {
      "text/plain": [
       "4×4 Matrix{Float64}:\n",
       " 0.729769  0.900316  0.900316  0.900316\n",
       " 0.900316  0.729769  0.900316  0.900316\n",
       " 0.900316  0.900316  0.729769  0.900316\n",
       " 0.900316  0.900316  0.900316  0.729769"
      ]
     },
     "execution_count": 15,
     "metadata": {},
     "output_type": "execute_result"
    }
   ],
   "source": []
  },
  {
   "cell_type": "code",
   "execution_count": null,
   "id": "278e03b1-d028-4320-97b5-3e6493cf411e",
   "metadata": {},
   "outputs": [],
   "source": []
  }
 ],
 "metadata": {
  "kernelspec": {
   "display_name": "Julia 1.10.4",
   "language": "julia",
   "name": "julia-1.10"
  },
  "language_info": {
   "file_extension": ".jl",
   "mimetype": "application/julia",
   "name": "julia",
   "version": "1.10.4"
  }
 },
 "nbformat": 4,
 "nbformat_minor": 5
}
