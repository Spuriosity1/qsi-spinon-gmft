{
 "cells": [
  {
   "cell_type": "code",
   "execution_count": 1,
   "id": "969f3722-7d29-4dc6-a1cc-4be132b2f63c",
   "metadata": {},
   "outputs": [
    {
     "data": {
      "text/plain": [
       "Main.BZmath"
      ]
     },
     "execution_count": 1,
     "metadata": {},
     "output_type": "execute_result"
    }
   ],
   "source": [
    "include(\"src/SpinonStructure.jl\")\n",
    "include(\"src/BZMath.jl\")\n",
    "# include(\"PyrochloreGeometry.jl\")\n",
    "# import .PyrochloreGeometry as geom\n"
   ]
  },
  {
   "cell_type": "code",
   "execution_count": 2,
   "id": "581544a0-4cf3-469f-a08b-dd22601a1a41",
   "metadata": {},
   "outputs": [],
   "source": [
    "\n",
    "using .BZmath\n",
    "using .SpinonStructure\n",
    "using LinearAlgebra\n",
    "using StaticArrays\n",
    "using BenchmarkTools\n",
    "using Plots\n",
    "# using Rotations\n",
    "# import RandomMatrices"
   ]
  },
  {
   "cell_type": "code",
   "execution_count": 3,
   "id": "a5ba955c-875d-4d41-9879-461e35d11e91",
   "metadata": {},
   "outputs": [
    {
     "data": {
      "text/plain": [
       "M_analytic_0flux_doubled (generic function with 1 method)"
      ]
     },
     "execution_count": 3,
     "metadata": {},
     "output_type": "execute_result"
    }
   ],
   "source": [
    "\n",
    "\n",
    "function M_analytic_0flux(Jpm, k)\n",
    "    n = [1,0,0]\n",
    "    n ./= norm(n)\n",
    "    \n",
    "    # R = AngleAxis(π/8, n...)\n",
    "    R = AngleAxis(0, n...)\n",
    "    e = Jpm/2*( cos( k'*R*[0,4,4]) + cos( k'*R*[4,0,4]) + cos( k'*R*[4,4,0]) + cos( k'*R*[0,4,-4]) + cos( k'*R*[4,0,-4]) + cos( k'*R*[4,-4,0]) )\n",
    "    \n",
    "    return e\n",
    "end\n",
    "\n",
    "\n",
    "\n",
    "function M_analytic_0flux_doubled(Jpm, k)\n",
    "    n = [1,0,0]\n",
    "    n ./= norm(n)\n",
    "    \n",
    "    # R = AngleAxis(π/8, n...)\n",
    "    R = AngleAxis(0, n...)\n",
    "    e = Jpm/2*( cos( k'*R*[0,4,4]) + cos( k'*R*[4,0,4]) + cos( k'*R*[4,4,0]) + cos( k'*R*[0,4,-4]) + cos( k'*R*[4,0,-4]) + cos( k'*R*[4,-4,0]) )\n",
    "    u = rand(RandomMatrices.Haar(2),2)\n",
    "    return adjoint(u)*diagm([e,e])*u\n",
    "end\n"
   ]
  },
  {
   "cell_type": "code",
   "execution_count": 4,
   "id": "e67b60dd-9b86-488b-accd-7be1c601e66b",
   "metadata": {
    "scrolled": true
   },
   "outputs": [
    {
     "data": {
      "text/plain": [
       "BenchmarkTools.Trial: 10000 samples with 873 evaluations.\n",
       " Range \u001b[90m(\u001b[39m\u001b[36m\u001b[1mmin\u001b[22m\u001b[39m … \u001b[35mmax\u001b[39m\u001b[90m):  \u001b[39m\u001b[36m\u001b[1m134.403 ns\u001b[22m\u001b[39m … \u001b[35m 23.445 μs\u001b[39m  \u001b[90m┊\u001b[39m GC \u001b[90m(\u001b[39mmin … max\u001b[90m): \u001b[39m0.00% … 99.15%\n",
       " Time  \u001b[90m(\u001b[39m\u001b[34m\u001b[1mmedian\u001b[22m\u001b[39m\u001b[90m):     \u001b[39m\u001b[34m\u001b[1m137.267 ns               \u001b[22m\u001b[39m\u001b[90m┊\u001b[39m GC \u001b[90m(\u001b[39mmedian\u001b[90m):    \u001b[39m0.00%\n",
       " Time  \u001b[90m(\u001b[39m\u001b[32m\u001b[1mmean\u001b[22m\u001b[39m ± \u001b[32mσ\u001b[39m\u001b[90m):   \u001b[39m\u001b[32m\u001b[1m147.231 ns\u001b[22m\u001b[39m ± \u001b[32m248.426 ns\u001b[39m  \u001b[90m┊\u001b[39m GC \u001b[90m(\u001b[39mmean ± σ\u001b[90m):  \u001b[39m4.16% ±  4.71%\n",
       "\n",
       "  \u001b[39m▂\u001b[39m▆\u001b[39m▅\u001b[39m▄\u001b[39m▇\u001b[39m█\u001b[34m▅\u001b[39m\u001b[39m▄\u001b[39m▃\u001b[39m▃\u001b[39m▆\u001b[39m▅\u001b[39m▂\u001b[39m▁\u001b[39m▁\u001b[39m▂\u001b[39m▃\u001b[39m▂\u001b[39m▁\u001b[39m▁\u001b[39m▁\u001b[39m▁\u001b[39m▂\u001b[39m▁\u001b[39m▁\u001b[39m \u001b[32m \u001b[39m\u001b[39m▁\u001b[39m▂\u001b[39m▁\u001b[39m▁\u001b[39m▁\u001b[39m▁\u001b[39m▂\u001b[39m▂\u001b[39m▁\u001b[39m▁\u001b[39m▂\u001b[39m▁\u001b[39m▁\u001b[39m▁\u001b[39m▁\u001b[39m \u001b[39m \u001b[39m \u001b[39m \u001b[39m \u001b[39m \u001b[39m \u001b[39m \u001b[39m \u001b[39m \u001b[39m \u001b[39m \u001b[39m \u001b[39m \u001b[39m \u001b[39m \u001b[39m \u001b[39m \u001b[39m \u001b[39m \u001b[39m▂\n",
       "  \u001b[39m█\u001b[39m█\u001b[39m█\u001b[39m█\u001b[39m█\u001b[39m█\u001b[34m█\u001b[39m\u001b[39m█\u001b[39m█\u001b[39m█\u001b[39m█\u001b[39m█\u001b[39m█\u001b[39m█\u001b[39m█\u001b[39m█\u001b[39m█\u001b[39m█\u001b[39m█\u001b[39m█\u001b[39m█\u001b[39m█\u001b[39m█\u001b[39m█\u001b[39m█\u001b[39m█\u001b[32m█\u001b[39m\u001b[39m█\u001b[39m█\u001b[39m█\u001b[39m█\u001b[39m█\u001b[39m█\u001b[39m█\u001b[39m█\u001b[39m█\u001b[39m█\u001b[39m█\u001b[39m█\u001b[39m█\u001b[39m█\u001b[39m█\u001b[39m█\u001b[39m█\u001b[39m█\u001b[39m█\u001b[39m▇\u001b[39m▇\u001b[39m▇\u001b[39m▇\u001b[39m▇\u001b[39m▇\u001b[39m▆\u001b[39m▇\u001b[39m▇\u001b[39m▆\u001b[39m▇\u001b[39m▄\u001b[39m▅\u001b[39m▄\u001b[39m▅\u001b[39m \u001b[39m█\n",
       "  134 ns\u001b[90m        \u001b[39m\u001b[90mHistogram: \u001b[39m\u001b[90m\u001b[1mlog(\u001b[22m\u001b[39m\u001b[90mfrequency\u001b[39m\u001b[90m\u001b[1m)\u001b[22m\u001b[39m\u001b[90m by time\u001b[39m        164 ns \u001b[0m\u001b[1m<\u001b[22m\n",
       "\n",
       " Memory estimate\u001b[90m: \u001b[39m\u001b[33m182 bytes\u001b[39m, allocs estimate\u001b[90m: \u001b[39m\u001b[33m6\u001b[39m."
      ]
     },
     "execution_count": 4,
     "metadata": {},
     "output_type": "execute_result"
    }
   ],
   "source": [
    "lat_test = geom.PyroPrimitive(4,4*4,16)\n",
    "\n",
    "@benchmark geom.tetra_idx(lat_test, lat_test.tetra_sites[1+abs(rand(Int64)) % length(lat_test.tetra_sites)] )\n"
   ]
  },
  {
   "cell_type": "code",
   "execution_count": 5,
   "id": "2f851fd9-8ad7-4fef-ae2c-519c0bbe70cd",
   "metadata": {},
   "outputs": [
    {
     "data": {
      "text/plain": [
       "BenchmarkTools.Trial: 10000 samples with 900 evaluations.\n",
       " Range \u001b[90m(\u001b[39m\u001b[36m\u001b[1mmin\u001b[22m\u001b[39m … \u001b[35mmax\u001b[39m\u001b[90m):  \u001b[39m\u001b[36m\u001b[1m124.769 ns\u001b[22m\u001b[39m … \u001b[35m111.114 μs\u001b[39m  \u001b[90m┊\u001b[39m GC \u001b[90m(\u001b[39mmin … max\u001b[90m): \u001b[39m0.00% … 99.83%\n",
       " Time  \u001b[90m(\u001b[39m\u001b[34m\u001b[1mmedian\u001b[22m\u001b[39m\u001b[90m):     \u001b[39m\u001b[34m\u001b[1m134.073 ns               \u001b[22m\u001b[39m\u001b[90m┊\u001b[39m GC \u001b[90m(\u001b[39mmedian\u001b[90m):    \u001b[39m0.00%\n",
       " Time  \u001b[90m(\u001b[39m\u001b[32m\u001b[1mmean\u001b[22m\u001b[39m ± \u001b[32mσ\u001b[39m\u001b[90m):   \u001b[39m\u001b[32m\u001b[1m147.871 ns\u001b[22m\u001b[39m ± \u001b[32m  1.111 μs\u001b[39m  \u001b[90m┊\u001b[39m GC \u001b[90m(\u001b[39mmean ± σ\u001b[90m):  \u001b[39m8.01% ±  2.71%\n",
       "\n",
       "  \u001b[39m \u001b[39m \u001b[39m \u001b[39m \u001b[39m \u001b[39m \u001b[39m▇\u001b[39m█\u001b[39m \u001b[39m \u001b[39m \u001b[39m \u001b[39m \u001b[39m \u001b[39m \u001b[39m \u001b[39m \u001b[39m \u001b[34m \u001b[39m\u001b[39m \u001b[39m \u001b[39m \u001b[39m \u001b[39m \u001b[39m \u001b[39m \u001b[39m \u001b[39m \u001b[39m \u001b[39m \u001b[39m \u001b[39m \u001b[39m \u001b[39m \u001b[39m \u001b[39m \u001b[39m \u001b[39m \u001b[39m \u001b[39m \u001b[39m \u001b[39m \u001b[39m \u001b[39m \u001b[32m \u001b[39m\u001b[39m \u001b[39m \u001b[39m \u001b[39m \u001b[39m \u001b[39m \u001b[39m \u001b[39m \u001b[39m \u001b[39m \u001b[39m \u001b[39m \u001b[39m \u001b[39m \u001b[39m \u001b[39m \u001b[39m \u001b[39m \n",
       "  \u001b[39m▂\u001b[39m▂\u001b[39m▄\u001b[39m▄\u001b[39m▅\u001b[39m▄\u001b[39m█\u001b[39m█\u001b[39m▅\u001b[39m▄\u001b[39m▅\u001b[39m▆\u001b[39m▇\u001b[39m▄\u001b[39m▃\u001b[39m▄\u001b[39m▅\u001b[39m▇\u001b[34m▇\u001b[39m\u001b[39m▅\u001b[39m▅\u001b[39m▆\u001b[39m▆\u001b[39m▅\u001b[39m▅\u001b[39m▅\u001b[39m▄\u001b[39m▅\u001b[39m▄\u001b[39m▄\u001b[39m▄\u001b[39m▃\u001b[39m▄\u001b[39m▃\u001b[39m▄\u001b[39m▃\u001b[39m▃\u001b[39m▃\u001b[39m▃\u001b[39m▃\u001b[39m▂\u001b[39m▂\u001b[39m▂\u001b[39m▂\u001b[32m▂\u001b[39m\u001b[39m▂\u001b[39m▂\u001b[39m▁\u001b[39m▁\u001b[39m▁\u001b[39m▁\u001b[39m▁\u001b[39m▁\u001b[39m▁\u001b[39m▁\u001b[39m▁\u001b[39m▁\u001b[39m▁\u001b[39m▁\u001b[39m▁\u001b[39m▁\u001b[39m \u001b[39m▃\n",
       "  125 ns\u001b[90m           Histogram: frequency by time\u001b[39m          157 ns \u001b[0m\u001b[1m<\u001b[22m\n",
       "\n",
       " Memory estimate\u001b[90m: \u001b[39m\u001b[33m128 bytes\u001b[39m, allocs estimate\u001b[90m: \u001b[39m\u001b[33m5\u001b[39m."
      ]
     },
     "execution_count": 5,
     "metadata": {},
     "output_type": "execute_result"
    }
   ],
   "source": [
    "lat_test = geom.PyroFCC(4)\n",
    "\n",
    "@benchmark geom.tetra_idx(lat_test, lat_test.tetra_sites[1+abs(rand(Int64)) % length(lat_test.tetra_sites)] )"
   ]
  },
  {
   "cell_type": "code",
   "execution_count": 6,
   "id": "16596ab8-4058-4892-ad13-196ed0f55b1d",
   "metadata": {},
   "outputs": [],
   "source": [
    "lat_test = geom.PyroPrimitive(4,4*4,16)\n",
    "for (J, t) in enumerate(lat_test.tetra_sites)\n",
    "    J2 = geom.tetra_idx(lat_test, t-geom.primitive_basis*lat_test.L)\n",
    "    if J2 != J\n",
    "        println(\"Error: $(J) -> $(J2)\")\n",
    "    end\n",
    "end"
   ]
  },
  {
   "cell_type": "code",
   "execution_count": 7,
   "id": "587fafb9-1275-4f8c-82fa-2c4489ab75c7",
   "metadata": {},
   "outputs": [
    {
     "name": "stdout",
     "output_type": "stream",
     "text": [
      "1\n",
      "2\n",
      "3\n",
      "4\n"
     ]
    }
   ],
   "source": [
    "for mu=1:4\n",
    "    tmp = geom.fcc_Dy[mu] + geom.diamond[1] + 8 .*[4, -9, -11]\n",
    "    # tmp = tetra_pos .& 0x4\n",
    "    println(1 + ( (tmp[2]&0x4) >> 2 | (tmp[1]&0x4 )>> 1  ))\n",
    "end"
   ]
  },
  {
   "cell_type": "code",
   "execution_count": 8,
   "id": "50307c73-7fbb-4f32-8819-7bd5460e73b7",
   "metadata": {},
   "outputs": [],
   "source": [
    "high_symmetry_points = Dict(\n",
    "    \"\\\\Gamma\"=> [0.,0.,0.],\n",
    "    \"X\"=> [1.,0.,0.],\n",
    "    \"W\"=> [1.,0.5,0.],\n",
    "    \"K\"=> [0.75,0.75,0.],\n",
    "    \"L\"=> [0.5,0.5,0.5],\n",
    "    \"U\"=> [1.0, 0.25,0.25]\n",
    ")\n",
    "\n",
    "high_symmetry_points_2 = Dict(\n",
    "    \"\\\\Gamma\"=> [0.,0.,0.],\n",
    "    \"X\"=> [1.,0.,0.],\n",
    "    \"W\"=> [1.,0.5,0.],\n",
    "    \"K\"=> [0.75,0.75,0.],\n",
    "    \"L\"=> [0.5,0.5,0.5],\n",
    "    \"U\"=> [1.0, 0.25,0.25]\n",
    ")\n",
    "\n",
    "path = generate_path(high_symmetry_points, split(\"\\\\Gamma X W K \\\\Gamma L U W\"), points_per_unit=30, K_units=4π/8);"
   ]
  },
  {
   "cell_type": "code",
   "execution_count": 9,
   "id": "c3e84460-d22e-4656-ae33-f8ab15991819",
   "metadata": {},
   "outputs": [
    {
     "data": {
      "text/plain": [
       "SimulationParameters([0.0 0.0 0.0 0.0], -0.046, [0.0, 0.0, 0.0], Main.SpinonStructure.PyrochloreGeometry.PyroPrimitive([1, 1, 1], SVector{3, Int64}[[0, 0, 0], [2, 2, 2]], SVector{3, Int64}[[1, 1, 1], [1, -1, -1], [-1, 1, -1], [-1, -1, 1]]), 2.0, 10000, \"TEST_0flux\")"
      ]
     },
     "execution_count": 9,
     "metadata": {},
     "output_type": "execute_result"
    }
   ],
   "source": [
    "lat_min = geom.PyroPrimitive(1,1,1)\n",
    "sim_0 = SimulationParameters(\"TEST_0flux\", lattice=lat_min, A=zeros(1,4), Jpm=-0.046, B=[0.,0.,0.])\n"
   ]
  },
  {
   "cell_type": "code",
   "execution_count": 10,
   "id": "91cb2f25-2b36-412f-8039-0fbbc90ca4e1",
   "metadata": {},
   "outputs": [
    {
     "data": {
      "text/plain": [
       "0.14163831240678004"
      ]
     },
     "execution_count": 10,
     "metadata": {},
     "output_type": "execute_result"
    }
   ],
   "source": [
    "λ_0 = SpinonStructure.calc_lambda(sim_0)\n",
    "    "
   ]
  },
  {
   "cell_type": "code",
   "execution_count": 11,
   "id": "ad1b918a-76fd-433d-859c-b1d9dd39c058",
   "metadata": {},
   "outputs": [],
   "source": [
    "path = generate_path(geom.high_symmetry_points, split(\"\\\\Gamma X W K \\\\Gamma L U W\"), points_per_unit=150, K_units=2π/8);\n"
   ]
  },
  {
   "cell_type": "code",
   "execution_count": 12,
   "id": "0007b74d-0199-45b7-8554-1ad7b9426673",
   "metadata": {},
   "outputs": [
    {
     "data": {
      "text/plain": [
       "plot_spinons (generic function with 1 method)"
      ]
     },
     "execution_count": 12,
     "metadata": {},
     "output_type": "execute_result"
    }
   ],
   "source": [
    "using Printf\n",
    "\n",
    "\n",
    "\n",
    "\n",
    "function plot_spinons(f;color=:black)\n",
    "    E = reduce(vcat, map(f, path.K )')\n",
    "\n",
    "    plot!(path.t,E,legend=false,color=color,lw=0.5)\n",
    "    xticks!(path.ticks_t, path.ticks_label)\n",
    "    ylims!(0.,maximum(E))\n",
    "\n",
    "    # bstr = @sprintf(\"[%.3f,%.3f,%.3f]\",sim.B[1],sim.B[2],sim.B[3])  \n",
    "    # if norm( abs.(sim.B/norm(sim.B))- [1,1,1]/√3) < 1e-8\n",
    "    #     bstr = @sprintf(\"%.3f [1,1,1]/\\\\sqrt{3}\", norm(sim.B) )\n",
    "    # elseif norm( abs.(sim.B/norm(sim.B))- [1,1,0]/√2) < 1e-8\n",
    "    #     bstr = @sprintf(\"%.3f [1,1,0]/\\\\sqrt{2}\", norm(sim.B))\n",
    "    # end\n",
    "    # title!(@sprintf(\"\\$J_\\\\pm=%.3fJ_{yy}, B=%s J_{yy}\\$\",sim.Jpm,bstr)  )\n",
    "    # savefig(@sprintf(\"figures/dispersion_%s?J_pm=%.3f?B=[%.3f,%.3f,%.3f].pdf\",sim.name,sim.Jpm,sim.B[1],sim.B[2],sim.B[3])  )\n",
    "    \n",
    "    return plot!()\n",
    "end"
   ]
  },
  {
   "cell_type": "code",
   "execution_count": 13,
   "id": "3dcd2219-7ad1-49cc-8791-001192ce1c5d",
   "metadata": {},
   "outputs": [
    {
     "data": {
      "text/plain": [
       "spinon_dispersion_analytic (generic function with 1 method)"
      ]
     },
     "execution_count": 13,
     "metadata": {},
     "output_type": "execute_result"
    }
   ],
   "source": [
    "function spinon_dispersion_analytic(k, sim)\n",
    "    ϵ = M_analytic_0flux(sim.Jpm, k)\n",
    "    return sqrt( 2 .*(ϵ + sim.λ))\n",
    "end\n",
    "plot()\n",
    "f1 = k-> spinon_dispersion(k, sim_0, λ_0 )[1]\n",
    "f_analy = k-> spinon_dispersion_analytic(k,sim_0)\n",
    "plot_spinons(f1,color=:red)"
   ]
  },
  {
   "cell_type": "code",
   "execution_count": 14,
   "id": "94ab6455-d1d0-41f9-bbca-15d7f5f753f4",
   "metadata": {},
   "outputs": [
    {
     "data": {
      "image/png": "[encoded data removed]",
      "image/svg+xml": [
       "<?xml version=\"1.0\" encoding=\"utf-8\"?>\n",
       "<svg xmlns=\"http://www.w3.org/2000/svg\" xmlns:xlink=\"http://www.w3.org/1999/xlink\" width=\"600\" height=\"400\" viewBox=\"0 0 2400 1600\">\n",
       "<defs>\n",
       "  <clipPath id=\"clip040\">\n",
       "    <rect x=\"0\" y=\"0\" width=\"2400\" height=\"1600\"/>\n",
       "  </clipPath>\n",
       "</defs>\n",
       "<path clip-path=\"url(#clip040)\" d=\"M0 1600 L2400 1600 L2400 8.88178e-14 L0 8.88178e-14  Z\" fill=\"#ffffff\" fill-rule=\"evenodd\" fill-opacity=\"1\"/>\n",
       "<defs>\n",
       "  <clipPath id=\"clip041\">\n",
       "    <rect x=\"480\" y=\"0\" width=\"1681\" height=\"1600\"/>\n",
       "  </clipPath>\n",
       "</defs>\n",
       "<path clip-path=\"url(#clip040)\" d=\"M156.598 1486.45 L2352.76 1486.45 L2352.76 47.2441 L156.598 47.2441  Z\" fill=\"#ffffff\" fill-rule=\"evenodd\" fill-opacity=\"1\"/>\n",
       "<defs>\n",
       "  <clipPath id=\"clip042\">\n",
       "    <rect x=\"156\" y=\"47\" width=\"2197\" height=\"1440\"/>\n",
       "  </clipPath>\n",
       "</defs>\n",
       "<polyline clip-path=\"url(#clip042)\" style=\"stroke:#000000; stroke-linecap:round; stroke-linejoin:round; stroke-width:2; stroke-opacity:0.1; fill:none\" points=\"218.754,1486.45 218.754,47.2441 \"/>\n",
       "<polyline clip-path=\"url(#clip042)\" style=\"stroke:#000000; stroke-linecap:round; stroke-linejoin:round; stroke-width:2; stroke-opacity:0.1; fill:none\" points=\"655.284,1486.45 655.284,47.2441 \"/>\n",
       "<polyline clip-path=\"url(#clip042)\" style=\"stroke:#000000; stroke-linecap:round; stroke-linejoin:round; stroke-width:2; stroke-opacity:0.1; fill:none\" points=\"873.55,1486.45 873.55,47.2441 \"/>\n",
       "<polyline clip-path=\"url(#clip042)\" style=\"stroke:#000000; stroke-linecap:round; stroke-linejoin:round; stroke-width:2; stroke-opacity:0.1; fill:none\" points=\"1027.89,1486.45 1027.89,47.2441 \"/>\n",
       "<polyline clip-path=\"url(#clip042)\" style=\"stroke:#000000; stroke-linecap:round; stroke-linejoin:round; stroke-width:2; stroke-opacity:0.1; fill:none\" points=\"1490.9,1486.45 1490.9,47.2441 \"/>\n",
       "<polyline clip-path=\"url(#clip042)\" style=\"stroke:#000000; stroke-linecap:round; stroke-linejoin:round; stroke-width:2; stroke-opacity:0.1; fill:none\" points=\"1868.94,1486.45 1868.94,47.2441 \"/>\n",
       "<polyline clip-path=\"url(#clip042)\" style=\"stroke:#000000; stroke-linecap:round; stroke-linejoin:round; stroke-width:2; stroke-opacity:0.1; fill:none\" points=\"2136.26,1486.45 2136.26,47.2441 \"/>\n",
       "<polyline clip-path=\"url(#clip042)\" style=\"stroke:#000000; stroke-linecap:round; stroke-linejoin:round; stroke-width:2; stroke-opacity:0.1; fill:none\" points=\"2290.6,1486.45 2290.6,47.2441 \"/>\n",
       "<polyline clip-path=\"url(#clip040)\" style=\"stroke:#000000; stroke-linecap:round; stroke-linejoin:round; stroke-width:4; stroke-opacity:1; fill:none\" points=\"156.598,1486.45 2352.76,1486.45 \"/>\n",
       "<polyline clip-path=\"url(#clip040)\" style=\"stroke:#000000; stroke-linecap:round; stroke-linejoin:round; stroke-width:4; stroke-opacity:1; fill:none\" points=\"218.754,1486.45 218.754,1467.55 \"/>\n",
       "<polyline clip-path=\"url(#clip040)\" style=\"stroke:#000000; stroke-linecap:round; stroke-linejoin:round; stroke-width:4; stroke-opacity:1; fill:none\" points=\"655.284,1486.45 655.284,1467.55 \"/>\n",
       "<polyline clip-path=\"url(#clip040)\" style=\"stroke:#000000; stroke-linecap:round; stroke-linejoin:round; stroke-width:4; stroke-opacity:1; fill:none\" points=\"873.55,1486.45 873.55,1467.55 \"/>\n",
       "<polyline clip-path=\"url(#clip040)\" style=\"stroke:#000000; stroke-linecap:round; stroke-linejoin:round; stroke-width:4; stroke-opacity:1; fill:none\" points=\"1027.89,1486.45 1027.89,1467.55 \"/>\n",
       "<polyline clip-path=\"url(#clip040)\" style=\"stroke:#000000; stroke-linecap:round; stroke-linejoin:round; stroke-width:4; stroke-opacity:1; fill:none\" points=\"1490.9,1486.45 1490.9,1467.55 \"/>\n",
       "<polyline clip-path=\"url(#clip040)\" style=\"stroke:#000000; stroke-linecap:round; stroke-linejoin:round; stroke-width:4; stroke-opacity:1; fill:none\" points=\"1868.94,1486.45 1868.94,1467.55 \"/>\n",
       "<polyline clip-path=\"url(#clip040)\" style=\"stroke:#000000; stroke-linecap:round; stroke-linejoin:round; stroke-width:4; stroke-opacity:1; fill:none\" points=\"2136.26,1486.45 2136.26,1467.55 \"/>\n",
       "<polyline clip-path=\"url(#clip040)\" style=\"stroke:#000000; stroke-linecap:round; stroke-linejoin:round; stroke-width:4; stroke-opacity:1; fill:none\" points=\"2290.6,1486.45 2290.6,1467.55 \"/>\n",
       "<path clip-path=\"url(#clip040)\" d=\"M208.001 1544.36 L208.001 1509.8 L229.506 1509.8 L229.506 1513.73 L212.677 1513.73 L212.677 1544.36 L208.001 1544.36 Z\" fill=\"#000000\" fill-rule=\"nonzero\" fill-opacity=\"1\" /><path clip-path=\"url(#clip040)\" d=\"M642.067 1514.29 L647.09 1514.29 L655.678 1527.14 L664.312 1514.29 L669.335 1514.29 L658.224 1530.89 L670.076 1548.85 L665.053 1548.85 L655.331 1534.15 L645.539 1548.85 L640.493 1548.85 L652.831 1530.4 L642.067 1514.29 Z\" fill=\"#000000\" fill-rule=\"nonzero\" fill-opacity=\"1\" /><path clip-path=\"url(#clip040)\" d=\"M851.675 1514.29 L856.397 1514.29 L863.666 1543.5 L870.911 1514.29 L876.165 1514.29 L883.434 1543.5 L890.679 1514.29 L895.425 1514.29 L886.744 1548.85 L880.865 1548.85 L873.573 1518.85 L866.212 1548.85 L860.332 1548.85 L851.675 1514.29 Z\" fill=\"#000000\" fill-rule=\"nonzero\" fill-opacity=\"1\" /><path clip-path=\"url(#clip040)\" d=\"M1014.17 1514.29 L1018.85 1514.29 L1018.85 1528.89 L1034.36 1514.29 L1040.38 1514.29 L1023.22 1530.4 L1041.6 1548.85 L1035.44 1548.85 L1018.85 1532.2 L1018.85 1548.85 L1014.17 1548.85 L1014.17 1514.29 Z\" fill=\"#000000\" fill-rule=\"nonzero\" fill-opacity=\"1\" /><path clip-path=\"url(#clip040)\" d=\"M1480.15 1544.36 L1480.15 1509.8 L1501.65 1509.8 L1501.65 1513.73 L1484.82 1513.73 L1484.82 1544.36 L1480.15 1544.36 Z\" fill=\"#000000\" fill-rule=\"nonzero\" fill-opacity=\"1\" /><path clip-path=\"url(#clip040)\" d=\"M1858.19 1514.29 L1862.87 1514.29 L1862.87 1544.91 L1879.7 1544.91 L1879.7 1548.85 L1858.19 1548.85 L1858.19 1514.29 Z\" fill=\"#000000\" fill-rule=\"nonzero\" fill-opacity=\"1\" /><path clip-path=\"url(#clip040)\" d=\"M2123.03 1514.29 L2127.73 1514.29 L2127.73 1535.28 Q2127.73 1540.84 2129.75 1543.29 Q2131.76 1545.72 2136.28 1545.72 Q2140.77 1545.72 2142.78 1543.29 Q2144.79 1540.84 2144.79 1535.28 L2144.79 1514.29 L2149.49 1514.29 L2149.49 1535.86 Q2149.49 1542.62 2146.14 1546.07 Q2142.8 1549.52 2136.28 1549.52 Q2129.72 1549.52 2126.37 1546.07 Q2123.03 1542.62 2123.03 1535.86 L2123.03 1514.29 Z\" fill=\"#000000\" fill-rule=\"nonzero\" fill-opacity=\"1\" /><path clip-path=\"url(#clip040)\" d=\"M2268.73 1514.29 L2273.45 1514.29 L2280.72 1543.5 L2287.96 1514.29 L2293.22 1514.29 L2300.48 1543.5 L2307.73 1514.29 L2312.48 1514.29 L2303.79 1548.85 L2297.92 1548.85 L2290.62 1518.85 L2283.26 1548.85 L2277.38 1548.85 L2268.73 1514.29 Z\" fill=\"#000000\" fill-rule=\"nonzero\" fill-opacity=\"1\" /><polyline clip-path=\"url(#clip042)\" style=\"stroke:#000000; stroke-linecap:round; stroke-linejoin:round; stroke-width:2; stroke-opacity:0.1; fill:none\" points=\"156.598,1486.45 2352.76,1486.45 \"/>\n",
       "<polyline clip-path=\"url(#clip042)\" style=\"stroke:#000000; stroke-linecap:round; stroke-linejoin:round; stroke-width:2; stroke-opacity:0.1; fill:none\" points=\"156.598,1251.51 2352.76,1251.51 \"/>\n",
       "<polyline clip-path=\"url(#clip042)\" style=\"stroke:#000000; stroke-linecap:round; stroke-linejoin:round; stroke-width:2; stroke-opacity:0.1; fill:none\" points=\"156.598,1016.58 2352.76,1016.58 \"/>\n",
       "<polyline clip-path=\"url(#clip042)\" style=\"stroke:#000000; stroke-linecap:round; stroke-linejoin:round; stroke-width:2; stroke-opacity:0.1; fill:none\" points=\"156.598,781.645 2352.76,781.645 \"/>\n",
       "<polyline clip-path=\"url(#clip042)\" style=\"stroke:#000000; stroke-linecap:round; stroke-linejoin:round; stroke-width:2; stroke-opacity:0.1; fill:none\" points=\"156.598,546.71 2352.76,546.71 \"/>\n",
       "<polyline clip-path=\"url(#clip042)\" style=\"stroke:#000000; stroke-linecap:round; stroke-linejoin:round; stroke-width:2; stroke-opacity:0.1; fill:none\" points=\"156.598,311.776 2352.76,311.776 \"/>\n",
       "<polyline clip-path=\"url(#clip042)\" style=\"stroke:#000000; stroke-linecap:round; stroke-linejoin:round; stroke-width:2; stroke-opacity:0.1; fill:none\" points=\"156.598,76.8417 2352.76,76.8417 \"/>\n",
       "<polyline clip-path=\"url(#clip040)\" style=\"stroke:#000000; stroke-linecap:round; stroke-linejoin:round; stroke-width:4; stroke-opacity:1; fill:none\" points=\"156.598,1486.45 156.598,47.2441 \"/>\n",
       "<polyline clip-path=\"url(#clip040)\" style=\"stroke:#000000; stroke-linecap:round; stroke-linejoin:round; stroke-width:4; stroke-opacity:1; fill:none\" points=\"156.598,1486.45 175.496,1486.45 \"/>\n",
       "<polyline clip-path=\"url(#clip040)\" style=\"stroke:#000000; stroke-linecap:round; stroke-linejoin:round; stroke-width:4; stroke-opacity:1; fill:none\" points=\"156.598,1251.51 175.496,1251.51 \"/>\n",
       "<polyline clip-path=\"url(#clip040)\" style=\"stroke:#000000; stroke-linecap:round; stroke-linejoin:round; stroke-width:4; stroke-opacity:1; fill:none\" points=\"156.598,1016.58 175.496,1016.58 \"/>\n",
       "<polyline clip-path=\"url(#clip040)\" style=\"stroke:#000000; stroke-linecap:round; stroke-linejoin:round; stroke-width:4; stroke-opacity:1; fill:none\" points=\"156.598,781.645 175.496,781.645 \"/>\n",
       "<polyline clip-path=\"url(#clip040)\" style=\"stroke:#000000; stroke-linecap:round; stroke-linejoin:round; stroke-width:4; stroke-opacity:1; fill:none\" points=\"156.598,546.71 175.496,546.71 \"/>\n",
       "<polyline clip-path=\"url(#clip040)\" style=\"stroke:#000000; stroke-linecap:round; stroke-linejoin:round; stroke-width:4; stroke-opacity:1; fill:none\" points=\"156.598,311.776 175.496,311.776 \"/>\n",
       "<polyline clip-path=\"url(#clip040)\" style=\"stroke:#000000; stroke-linecap:round; stroke-linejoin:round; stroke-width:4; stroke-opacity:1; fill:none\" points=\"156.598,76.8417 175.496,76.8417 \"/>\n",
       "<path clip-path=\"url(#clip040)\" d=\"M63.4226 1472.25 Q59.8115 1472.25 57.9828 1475.81 Q56.1773 1479.35 56.1773 1486.48 Q56.1773 1493.59 57.9828 1497.15 Q59.8115 1500.7 63.4226 1500.7 Q67.0569 1500.7 68.8624 1497.15 Q70.6911 1493.59 70.6911 1486.48 Q70.6911 1479.35 68.8624 1475.81 Q67.0569 1472.25 63.4226 1472.25 M63.4226 1468.54 Q69.2328 1468.54 72.2883 1473.15 Q75.367 1477.73 75.367 1486.48 Q75.367 1495.21 72.2883 1499.82 Q69.2328 1504.4 63.4226 1504.4 Q57.6125 1504.4 54.5338 1499.82 Q51.4782 1495.21 51.4782 1486.48 Q51.4782 1477.73 54.5338 1473.15 Q57.6125 1468.54 63.4226 1468.54 Z\" fill=\"#000000\" fill-rule=\"nonzero\" fill-opacity=\"1\" /><path clip-path=\"url(#clip040)\" d=\"M83.5845 1497.85 L88.4688 1497.85 L88.4688 1503.73 L83.5845 1503.73 L83.5845 1497.85 Z\" fill=\"#000000\" fill-rule=\"nonzero\" fill-opacity=\"1\" /><path clip-path=\"url(#clip040)\" d=\"M108.654 1472.25 Q105.043 1472.25 103.214 1475.81 Q101.409 1479.35 101.409 1486.48 Q101.409 1493.59 103.214 1497.15 Q105.043 1500.7 108.654 1500.7 Q112.288 1500.7 114.094 1497.15 Q115.922 1493.59 115.922 1486.48 Q115.922 1479.35 114.094 1475.81 Q112.288 1472.25 108.654 1472.25 M108.654 1468.54 Q114.464 1468.54 117.52 1473.15 Q120.598 1477.73 120.598 1486.48 Q120.598 1495.21 117.52 1499.82 Q114.464 1504.4 108.654 1504.4 Q102.844 1504.4 99.765 1499.82 Q96.7095 1495.21 96.7095 1486.48 Q96.7095 1477.73 99.765 1473.15 Q102.844 1468.54 108.654 1468.54 Z\" fill=\"#000000\" fill-rule=\"nonzero\" fill-opacity=\"1\" /><path clip-path=\"url(#clip040)\" d=\"M64.6495 1237.31 Q61.0384 1237.31 59.2097 1240.88 Q57.4041 1244.42 57.4041 1251.55 Q57.4041 1258.65 59.2097 1262.22 Q61.0384 1265.76 64.6495 1265.76 Q68.2837 1265.76 70.0892 1262.22 Q71.9179 1258.65 71.9179 1251.55 Q71.9179 1244.42 70.0892 1240.88 Q68.2837 1237.31 64.6495 1237.31 M64.6495 1233.61 Q70.4596 1233.61 73.5152 1238.21 Q76.5938 1242.8 76.5938 1251.55 Q76.5938 1260.28 73.5152 1264.88 Q70.4596 1269.46 64.6495 1269.46 Q58.8393 1269.46 55.7606 1264.88 Q52.7051 1260.28 52.7051 1251.55 Q52.7051 1242.8 55.7606 1238.21 Q58.8393 1233.61 64.6495 1233.61 Z\" fill=\"#000000\" fill-rule=\"nonzero\" fill-opacity=\"1\" /><path clip-path=\"url(#clip040)\" d=\"M84.8114 1262.91 L89.6956 1262.91 L89.6956 1268.79 L84.8114 1268.79 L84.8114 1262.91 Z\" fill=\"#000000\" fill-rule=\"nonzero\" fill-opacity=\"1\" /><path clip-path=\"url(#clip040)\" d=\"M100.691 1264.86 L108.33 1264.86 L108.33 1238.49 L100.02 1240.16 L100.02 1235.9 L108.283 1234.23 L112.959 1234.23 L112.959 1264.86 L120.598 1264.86 L120.598 1268.79 L100.691 1268.79 L100.691 1264.86 Z\" fill=\"#000000\" fill-rule=\"nonzero\" fill-opacity=\"1\" /><path clip-path=\"url(#clip040)\" d=\"M65.0198 1002.38 Q61.4087 1002.38 59.58 1005.94 Q57.7745 1009.48 57.7745 1016.61 Q57.7745 1023.72 59.58 1027.29 Q61.4087 1030.83 65.0198 1030.83 Q68.6541 1030.83 70.4596 1027.29 Q72.2883 1023.72 72.2883 1016.61 Q72.2883 1009.48 70.4596 1005.94 Q68.6541 1002.38 65.0198 1002.38 M65.0198 998.674 Q70.83 998.674 73.8855 1003.28 Q76.9642 1007.86 76.9642 1016.61 Q76.9642 1025.34 73.8855 1029.95 Q70.83 1034.53 65.0198 1034.53 Q59.2097 1034.53 56.131 1029.95 Q53.0754 1025.34 53.0754 1016.61 Q53.0754 1007.86 56.131 1003.28 Q59.2097 998.674 65.0198 998.674 Z\" fill=\"#000000\" fill-rule=\"nonzero\" fill-opacity=\"1\" /><path clip-path=\"url(#clip040)\" d=\"M85.1818 1027.98 L90.066 1027.98 L90.066 1033.86 L85.1818 1033.86 L85.1818 1027.98 Z\" fill=\"#000000\" fill-rule=\"nonzero\" fill-opacity=\"1\" /><path clip-path=\"url(#clip040)\" d=\"M104.279 1029.92 L120.598 1029.92 L120.598 1033.86 L98.6539 1033.86 L98.6539 1029.92 Q101.316 1027.17 105.899 1022.54 Q110.506 1017.89 111.686 1016.54 Q113.932 1014.02 114.811 1012.29 Q115.714 1010.53 115.714 1008.84 Q115.714 1006.08 113.77 1004.35 Q111.848 1002.61 108.746 1002.61 Q106.547 1002.61 104.094 1003.37 Q101.663 1004.14 98.8854 1005.69 L98.8854 1000.97 Q101.709 999.832 104.163 999.253 Q106.617 998.674 108.654 998.674 Q114.024 998.674 117.219 1001.36 Q120.413 1004.04 120.413 1008.54 Q120.413 1010.66 119.603 1012.59 Q118.816 1014.48 116.709 1017.08 Q116.131 1017.75 113.029 1020.97 Q109.927 1024.16 104.279 1029.92 Z\" fill=\"#000000\" fill-rule=\"nonzero\" fill-opacity=\"1\" /><path clip-path=\"url(#clip040)\" d=\"M64.0708 767.443 Q60.4597 767.443 58.631 771.008 Q56.8254 774.55 56.8254 781.68 Q56.8254 788.786 58.631 792.351 Q60.4597 795.892 64.0708 795.892 Q67.705 795.892 69.5105 792.351 Q71.3392 788.786 71.3392 781.68 Q71.3392 774.55 69.5105 771.008 Q67.705 767.443 64.0708 767.443 M64.0708 763.74 Q69.8809 763.74 72.9365 768.346 Q76.0151 772.93 76.0151 781.68 Q76.0151 790.406 72.9365 795.013 Q69.8809 799.596 64.0708 799.596 Q58.2606 799.596 55.1819 795.013 Q52.1264 790.406 52.1264 781.68 Q52.1264 772.93 55.1819 768.346 Q58.2606 763.74 64.0708 763.74 Z\" fill=\"#000000\" fill-rule=\"nonzero\" fill-opacity=\"1\" /><path clip-path=\"url(#clip040)\" d=\"M84.2327 793.045 L89.1169 793.045 L89.1169 798.925 L84.2327 798.925 L84.2327 793.045 Z\" fill=\"#000000\" fill-rule=\"nonzero\" fill-opacity=\"1\" /><path clip-path=\"url(#clip040)\" d=\"M113.469 780.291 Q116.825 781.008 118.7 783.277 Q120.598 785.545 120.598 788.879 Q120.598 793.994 117.08 796.795 Q113.561 799.596 107.08 799.596 Q104.904 799.596 102.589 799.156 Q100.297 798.74 97.8437 797.883 L97.8437 793.369 Q99.7882 794.504 102.103 795.082 Q104.418 795.661 106.941 795.661 Q111.339 795.661 113.631 793.925 Q115.945 792.189 115.945 788.879 Q115.945 785.823 113.793 784.11 Q111.663 782.374 107.844 782.374 L103.816 782.374 L103.816 778.531 L108.029 778.531 Q111.478 778.531 113.307 777.166 Q115.135 775.777 115.135 773.184 Q115.135 770.522 113.237 769.11 Q111.362 767.675 107.844 767.675 Q105.922 767.675 103.723 768.092 Q101.524 768.508 98.8854 769.388 L98.8854 765.221 Q101.547 764.481 103.862 764.11 Q106.2 763.74 108.26 763.74 Q113.584 763.74 116.686 766.17 Q119.788 768.578 119.788 772.698 Q119.788 775.568 118.145 777.559 Q116.501 779.527 113.469 780.291 Z\" fill=\"#000000\" fill-rule=\"nonzero\" fill-opacity=\"1\" /><path clip-path=\"url(#clip040)\" d=\"M62.9365 532.509 Q59.3254 532.509 57.4967 536.074 Q55.6912 539.616 55.6912 546.745 Q55.6912 553.852 57.4967 557.416 Q59.3254 560.958 62.9365 560.958 Q66.5707 560.958 68.3763 557.416 Q70.205 553.852 70.205 546.745 Q70.205 539.616 68.3763 536.074 Q66.5707 532.509 62.9365 532.509 M62.9365 528.805 Q68.7467 528.805 71.8022 533.412 Q74.8809 537.995 74.8809 546.745 Q74.8809 555.472 71.8022 560.078 Q68.7467 564.662 62.9365 564.662 Q57.1264 564.662 54.0477 560.078 Q50.9921 555.472 50.9921 546.745 Q50.9921 537.995 54.0477 533.412 Q57.1264 528.805 62.9365 528.805 Z\" fill=\"#000000\" fill-rule=\"nonzero\" fill-opacity=\"1\" /><path clip-path=\"url(#clip040)\" d=\"M83.0984 558.111 L87.9827 558.111 L87.9827 563.99 L83.0984 563.99 L83.0984 558.111 Z\" fill=\"#000000\" fill-rule=\"nonzero\" fill-opacity=\"1\" /><path clip-path=\"url(#clip040)\" d=\"M111.015 533.504 L99.2095 551.953 L111.015 551.953 L111.015 533.504 M109.788 529.43 L115.668 529.43 L115.668 551.953 L120.598 551.953 L120.598 555.842 L115.668 555.842 L115.668 563.99 L111.015 563.99 L111.015 555.842 L95.4132 555.842 L95.4132 551.328 L109.788 529.43 Z\" fill=\"#000000\" fill-rule=\"nonzero\" fill-opacity=\"1\" /><path clip-path=\"url(#clip040)\" d=\"M64.418 297.575 Q60.8069 297.575 58.9782 301.14 Q57.1726 304.681 57.1726 311.811 Q57.1726 318.917 58.9782 322.482 Q60.8069 326.024 64.418 326.024 Q68.0522 326.024 69.8578 322.482 Q71.6865 318.917 71.6865 311.811 Q71.6865 304.681 69.8578 301.14 Q68.0522 297.575 64.418 297.575 M64.418 293.871 Q70.2281 293.871 73.2837 298.478 Q76.3624 303.061 76.3624 311.811 Q76.3624 320.538 73.2837 325.144 Q70.2281 329.727 64.418 329.727 Q58.6078 329.727 55.5291 325.144 Q52.4736 320.538 52.4736 311.811 Q52.4736 303.061 55.5291 298.478 Q58.6078 293.871 64.418 293.871 Z\" fill=\"#000000\" fill-rule=\"nonzero\" fill-opacity=\"1\" /><path clip-path=\"url(#clip040)\" d=\"M84.5799 323.176 L89.4641 323.176 L89.4641 329.056 L84.5799 329.056 L84.5799 323.176 Z\" fill=\"#000000\" fill-rule=\"nonzero\" fill-opacity=\"1\" /><path clip-path=\"url(#clip040)\" d=\"M99.6956 294.496 L118.052 294.496 L118.052 298.431 L103.978 298.431 L103.978 306.903 Q104.996 306.556 106.015 306.394 Q107.033 306.209 108.052 306.209 Q113.839 306.209 117.219 309.38 Q120.598 312.552 120.598 317.968 Q120.598 323.547 117.126 326.649 Q113.654 329.727 107.334 329.727 Q105.159 329.727 102.89 329.357 Q100.645 328.987 98.2372 328.246 L98.2372 323.547 Q100.321 324.681 102.543 325.237 Q104.765 325.792 107.242 325.792 Q111.246 325.792 113.584 323.686 Q115.922 321.579 115.922 317.968 Q115.922 314.357 113.584 312.251 Q111.246 310.144 107.242 310.144 Q105.367 310.144 103.492 310.561 Q101.64 310.977 99.6956 311.857 L99.6956 294.496 Z\" fill=\"#000000\" fill-rule=\"nonzero\" fill-opacity=\"1\" /><path clip-path=\"url(#clip040)\" d=\"M63.2606 62.6404 Q59.6495 62.6404 57.8208 66.2052 Q56.0152 69.7469 56.0152 76.8765 Q56.0152 83.9829 57.8208 87.5477 Q59.6495 91.0893 63.2606 91.0893 Q66.8948 91.0893 68.7004 87.5477 Q70.5291 83.9829 70.5291 76.8765 Q70.5291 69.7469 68.7004 66.2052 Q66.8948 62.6404 63.2606 62.6404 M63.2606 58.9367 Q69.0707 58.9367 72.1263 63.5432 Q75.205 68.1265 75.205 76.8765 Q75.205 85.6033 72.1263 90.2097 Q69.0707 94.793 63.2606 94.793 Q57.4504 94.793 54.3717 90.2097 Q51.3162 85.6033 51.3162 76.8765 Q51.3162 68.1265 54.3717 63.5432 Q57.4504 58.9367 63.2606 58.9367 Z\" fill=\"#000000\" fill-rule=\"nonzero\" fill-opacity=\"1\" /><path clip-path=\"url(#clip040)\" d=\"M83.4225 88.2421 L88.3067 88.2421 L88.3067 94.1217 L83.4225 94.1217 L83.4225 88.2421 Z\" fill=\"#000000\" fill-rule=\"nonzero\" fill-opacity=\"1\" /><path clip-path=\"url(#clip040)\" d=\"M109.071 74.9783 Q105.922 74.9783 104.071 77.1311 Q102.242 79.2838 102.242 83.0338 Q102.242 86.7607 104.071 88.9366 Q105.922 91.0893 109.071 91.0893 Q112.219 91.0893 114.047 88.9366 Q115.899 86.7607 115.899 83.0338 Q115.899 79.2838 114.047 77.1311 Q112.219 74.9783 109.071 74.9783 M118.353 60.3256 L118.353 64.5849 Q116.594 63.7515 114.788 63.3117 Q113.006 62.8719 111.246 62.8719 Q106.617 62.8719 104.163 65.9969 Q101.733 69.1219 101.385 75.4413 Q102.751 73.4274 104.811 72.3626 Q106.871 71.2746 109.348 71.2746 Q114.557 71.2746 117.566 74.4459 Q120.598 77.594 120.598 83.0338 Q120.598 88.3579 117.45 91.5754 Q114.302 94.793 109.071 94.793 Q103.075 94.793 99.9039 90.2097 Q96.7326 85.6033 96.7326 76.8765 Q96.7326 68.6821 100.621 63.821 Q104.51 58.9367 111.061 58.9367 Q112.82 58.9367 114.603 59.284 Q116.408 59.6312 118.353 60.3256 Z\" fill=\"#000000\" fill-rule=\"nonzero\" fill-opacity=\"1\" /><polyline clip-path=\"url(#clip042)\" style=\"stroke:#ff0000; stroke-linecap:round; stroke-linejoin:round; stroke-width:2; stroke-opacity:1; fill:none\" points=\"218.754,1286.04 218.754,1286.04 221.664,1285.49 224.574,1283.83 227.484,1281.1 230.394,1277.34 233.305,1272.61 236.215,1266.97 239.125,1260.49 242.035,1253.24 244.945,1245.3 247.856,1236.74 250.766,1227.61 253.676,1217.99 256.586,1207.93 259.497,1197.47 262.407,1186.67 265.317,1175.56 268.227,1164.18 271.137,1152.56 274.048,1140.74 276.958,1128.73 279.868,1116.56 282.778,1104.25 285.688,1091.82 288.599,1079.28 291.509,1066.66 294.419,1053.95 297.329,1041.19 300.239,1028.36 303.15,1015.49 306.06,1002.59 308.97,989.657 311.88,976.705 314.79,963.74 317.701,950.769 320.611,937.797 323.521,924.83 326.431,911.873 329.341,898.931 332.252,886.008 335.162,873.109 338.072,860.238 340.982,847.398 343.892,834.593 346.803,821.827 349.713,809.103 352.623,796.423 355.533,783.792 358.443,771.211 361.354,758.683 364.264,746.212 367.174,733.8 370.084,721.448 372.995,709.16 375.905,696.938 378.815,684.784 381.725,672.7 384.635,660.689 387.546,648.752 390.456,636.891 393.366,625.108 396.276,613.406 399.186,601.785 402.097,590.249 405.007,578.798 407.917,567.434 410.827,556.16 413.737,544.976 416.648,533.884 419.558,522.887 422.468,511.984 425.378,501.179 428.288,490.473 431.199,479.866 434.109,469.361 437.019,458.958 439.929,448.66 442.839,438.467 445.75,428.382 448.66,418.405 451.57,408.537 454.48,398.781 457.39,389.136 460.301,379.605 463.211,370.189 466.121,360.888 469.031,351.705 471.941,342.639 474.852,333.693 477.762,324.868 480.672,316.164 483.582,307.583 486.492,299.125 489.403,290.792 492.313,282.585 495.223,274.505 498.133,266.552 501.044,258.729 503.954,251.035 506.864,243.471 509.774,236.039 512.684,228.74 515.595,221.574 518.505,214.542 521.415,207.645 524.325,200.884 527.235,194.26 530.146,187.773 533.056,181.425 535.966,175.215 538.876,169.145 541.786,163.216 544.697,157.428 547.607,151.782 550.517,146.278 553.427,140.917 556.337,135.701 559.248,130.628 562.158,125.701 565.068,120.919 567.978,116.283 570.888,111.795 573.799,107.453 576.709,103.259 579.619,99.2134 582.529,95.3165 585.439,91.5687 588.35,87.9705 591.26,84.5223 594.17,81.2246 597.08,78.0777 599.99,75.0819 602.901,72.2377 605.811,69.5453 608.721,67.0051 611.631,64.6174 614.542,62.3824 617.452,60.3005 620.362,58.3717 623.272,56.5965 626.182,54.9749 629.093,53.5072 632.003,52.1935 634.913,51.0341 637.823,50.0289 640.733,49.1782 643.644,48.482 646.554,47.9405 649.464,47.5536 652.374,47.3215 655.284,47.2441 658.195,47.2441 661.105,47.2441 664.015,47.2441 666.925,47.2441 669.835,47.2441 672.746,47.2441 675.656,47.2441 678.566,47.2441 681.476,47.2441 684.386,47.2441 687.297,47.2441 690.207,47.2441 693.117,47.2441 696.027,47.2441 698.937,47.2441 701.848,47.2441 704.758,47.2441 707.668,47.2441 710.578,47.2441 713.488,47.2441 716.399,47.2441 719.309,47.2441 722.219,47.2441 725.129,47.2441 728.04,47.2441 730.95,47.2441 733.86,47.2441 736.77,47.2441 739.68,47.2441 742.591,47.2441 745.501,47.2441 748.411,47.2441 751.321,47.2441 754.231,47.2441 757.142,47.2441 760.052,47.2441 762.962,47.2441 765.872,47.2441 768.782,47.2441 771.693,47.2441 774.603,47.2441 777.513,47.2441 780.423,47.2441 783.333,47.2441 786.244,47.2441 789.154,47.2441 792.064,47.2441 794.974,47.2441 797.884,47.2441 800.795,47.2441 803.705,47.2441 806.615,47.2441 809.525,47.2441 812.435,47.2441 815.346,47.2441 818.256,47.2441 821.166,47.2441 824.076,47.2441 826.986,47.2441 829.897,47.2441 832.807,47.2441 835.717,47.2441 838.627,47.2441 841.538,47.2441 844.448,47.2441 847.358,47.2441 850.268,47.2441 853.178,47.2441 856.089,47.2441 858.999,47.2441 861.909,47.2441 864.819,47.2441 867.729,47.2441 870.64,47.2441 873.55,47.2441 873.646,47.2441 876.556,47.2644 879.466,47.3216 882.376,47.414 885.287,47.5399 888.197,47.6975 891.107,47.8851 894.017,48.101 896.927,48.3434 899.838,48.6107 902.748,48.9011 905.658,49.2129 908.568,49.5444 911.478,49.894 914.389,50.26 917.299,50.6407 920.209,51.0345 923.119,51.4397 926.03,51.8549 928.94,52.2783 931.85,52.7084 934.76,53.1437 937.67,53.5828 940.581,54.024 943.491,54.466 946.401,54.9073 949.311,55.3465 952.221,55.7824 955.132,56.2135 958.042,56.6386 960.952,57.0565 963.862,57.4658 966.772,57.8656 969.683,58.2545 972.593,58.6317 975.503,58.9959 978.413,59.3463 981.323,59.6818 984.234,60.0016 987.144,60.3048 990.054,60.5907 992.964,60.8584 995.874,61.1074 998.785,61.3368 1001.69,61.5462 1004.61,61.7351 1007.52,61.9028 1010.43,62.0491 1013.34,62.1734 1016.25,62.2756 1019.16,62.3554 1022.07,62.4125 1024.98,62.4468 1027.89,62.4583 1028.17,62.5669 1031.09,63.6946 1034,64.8802 1036.91,66.1255 1039.82,67.4318 1042.73,68.801 1045.64,70.2346 1048.55,71.7342 1051.46,73.3014 1054.37,74.9378 1057.28,76.645 1060.19,78.4245 1063.1,80.2779 1066.01,82.2068 1068.92,84.2126 1071.83,86.297 1074.74,88.4613 1077.65,90.7071 1080.56,93.0359 1083.47,95.449 1086.38,97.9479 1089.29,100.534 1092.2,103.209 1095.11,105.974 1098.02,108.83 1100.93,111.778 1103.84,114.821 1106.75,117.959 1109.66,121.193 1112.57,124.525 1115.48,127.956 1118.39,131.486 1121.3,135.118 1124.21,138.852 1127.12,142.69 1130.03,146.632 1132.94,150.679 1135.85,154.833 1138.76,159.094 1141.67,163.463 1144.58,167.941 1147.49,172.53 1150.4,177.229 1153.31,182.04 1156.22,186.963 1159.13,191.999 1162.04,197.149 1164.95,202.414 1167.86,207.793 1170.77,213.289 1173.69,218.9 1176.6,224.628 1179.51,230.474 1182.42,236.437 1185.33,242.518 1188.24,248.717 1191.15,255.035 1194.06,261.472 1196.97,268.028 1199.88,274.704 1202.79,281.5 1205.7,288.415 1208.61,295.45 1211.52,302.605 1214.43,309.879 1217.34,317.274 1220.25,324.789 1223.16,332.423 1226.07,340.177 1228.98,348.05 1231.89,356.042 1234.8,364.154 1237.71,372.384 1240.62,380.732 1243.53,389.198 1246.44,397.781 1249.35,406.482 1252.26,415.299 1255.17,424.232 1258.08,433.28 1260.99,442.443 1263.9,451.72 1266.81,461.11 1269.72,470.612 1272.63,480.227 1275.54,489.952 1278.45,499.787 1281.36,509.731 1284.27,519.783 1287.18,529.942 1290.09,540.206 1293,550.576 1295.91,561.049 1298.82,571.624 1301.73,582.3 1304.64,593.076 1307.55,603.95 1310.46,614.92 1313.37,625.986 1316.29,637.146 1319.2,648.398 1322.11,659.74 1325.02,671.17 1327.93,682.688 1330.84,694.29 1333.75,705.975 1336.66,717.741 1339.57,729.585 1342.48,741.506 1345.39,753.501 1348.3,765.568 1351.21,777.704 1354.12,789.906 1357.03,802.172 1359.94,814.499 1362.85,826.884 1365.76,839.324 1368.67,851.815 1371.58,864.354 1374.49,876.937 1377.4,889.56 1380.31,902.219 1383.22,914.91 1386.13,927.628 1389.04,940.368 1391.95,953.125 1394.86,965.892 1397.77,978.664 1400.68,991.435 1403.59,1004.2 1406.5,1016.94 1409.41,1029.66 1412.32,1042.34 1415.23,1054.98 1418.14,1067.57 1421.05,1080.08 1423.96,1092.52 1426.87,1104.85 1429.78,1117.08 1432.69,1129.17 1435.6,1141.11 1438.51,1152.88 1441.42,1164.44 1444.33,1175.77 1447.24,1186.84 1450.15,1197.6 1453.06,1208.03 1455.98,1218.07 1458.89,1227.67 1461.8,1236.78 1464.71,1245.33 1467.62,1253.26 1470.53,1260.5 1473.44,1266.98 1476.35,1272.61 1479.26,1277.35 1482.17,1281.1 1485.08,1283.83 1487.99,1285.49 1490.9,1286.04 1493.53,1285.59 1496.44,1284.04 1499.35,1281.41 1502.26,1277.75 1505.17,1273.11 1508.08,1267.56 1510.99,1261.16 1513.9,1253.99 1516.81,1246.13 1519.72,1237.64 1522.63,1228.59 1525.54,1219.04 1528.45,1209.05 1531.36,1198.67 1534.27,1187.94 1537.18,1176.92 1540.09,1165.63 1543,1154.1 1545.91,1142.38 1548.82,1130.48 1551.73,1118.43 1554.64,1106.25 1557.55,1093.95 1560.46,1081.57 1563.37,1069.1 1566.28,1056.57 1569.19,1043.98 1572.1,1031.35 1575.01,1018.7 1577.92,1006.02 1580.83,993.325 1583.74,980.629 1586.65,967.935 1589.56,955.252 1592.47,942.585 1595.38,929.94 1598.3,917.324 1601.21,904.741 1604.12,892.196 1607.03,879.694 1609.94,867.24 1612.85,854.838 1615.76,842.492 1618.67,830.205 1621.58,817.982 1624.49,805.826 1627.4,793.74 1630.31,781.728 1633.22,769.793 1636.13,757.937 1639.04,746.165 1641.95,734.478 1644.86,722.879 1647.77,711.371 1650.68,699.957 1653.59,688.639 1656.5,677.42 1659.41,666.301 1662.32,655.286 1665.23,644.376 1668.14,633.574 1671.05,622.882 1673.96,612.302 1676.87,601.836 1679.78,591.486 1682.69,581.255 1685.6,571.143 1688.51,561.153 1691.42,551.286 1694.33,541.546 1697.24,531.932 1700.15,522.447 1703.06,513.094 1705.97,503.872 1708.88,494.785 1711.79,485.833 1714.7,477.018 1717.61,468.342 1720.52,459.806 1723.43,451.412 1726.34,443.16 1729.25,435.054 1732.16,427.093 1735.07,419.279 1737.98,411.614 1740.9,404.098 1743.81,396.733 1746.72,389.521 1749.63,382.462 1752.54,375.558 1755.45,368.809 1758.36,362.218 1761.27,355.784 1764.18,349.509 1767.09,343.394 1770,337.44 1772.91,331.648 1775.82,326.019 1778.73,320.554 1781.64,315.254 1784.55,310.119 1787.46,305.15 1790.37,300.348 1793.28,295.715 1796.19,291.25 1799.1,286.954 1802.01,282.829 1804.92,278.874 1807.83,275.091 1810.74,271.479 1813.65,268.04 1816.56,264.774 1819.47,261.682 1822.38,258.764 1825.29,256.02 1828.2,253.452 1831.11,251.058 1834.02,248.841 1836.93,246.799 1839.84,244.934 1842.75,243.246 1845.66,241.735 1848.57,240.401 1851.48,239.244 1854.39,238.265 1857.3,237.464 1860.21,236.841 1863.12,236.396 1866.03,236.128 1868.94,236.039 1871.43,236.007 1874.35,235.886 1877.26,235.676 1880.17,235.378 1883.08,234.992 1885.99,234.517 1888.9,233.955 1891.81,233.306 1894.72,232.572 1897.63,231.752 1900.54,230.847 1903.45,229.859 1906.36,228.789 1909.27,227.637 1912.18,226.406 1915.09,225.096 1918,223.708 1920.91,222.245 1923.82,220.708 1926.73,219.098 1929.64,217.417 1932.55,215.667 1935.46,213.85 1938.37,211.967 1941.28,210.021 1944.19,208.014 1947.1,205.947 1950.01,203.824 1952.92,201.645 1955.83,199.413 1958.74,197.131 1961.65,194.801 1964.56,192.425 1967.47,190.005 1970.38,187.545 1973.29,185.046 1976.2,182.511 1979.11,179.943 1982.02,177.344 1984.93,174.716 1987.84,172.063 1990.75,169.386 1993.66,166.689 1996.57,163.974 1999.48,161.244 2002.39,158.501 2005.3,155.748 2008.21,152.988 2011.12,150.223 2014.03,147.456 2016.95,144.69 2019.86,141.927 2022.77,139.171 2025.68,136.423 2028.59,133.686 2031.5,130.963 2034.41,128.256 2037.32,125.568 2040.23,122.902 2043.14,120.261 2046.05,117.646 2048.96,115.06 2051.87,112.506 2054.78,109.986 2057.69,107.502 2060.6,105.058 2063.51,102.655 2066.42,100.296 2069.33,97.9836 2072.24,95.7194 2075.15,93.5059 2078.06,91.3455 2080.97,89.2404 2083.88,87.1927 2086.79,85.2047 2089.7,83.2784 2092.61,81.4159 2095.52,79.6194 2098.43,77.8908 2101.34,76.2321 2104.25,74.6454 2107.16,73.1324 2110.07,71.6951 2112.98,70.3354 2115.89,69.055 2118.8,67.8558 2121.71,66.7394 2124.62,65.7076 2127.53,64.7619 2130.44,63.9041 2133.35,63.1357 2136.26,62.4583 2136.36,62.4583 2139.27,62.4461 2142.18,62.411 2145.09,62.3531 2148,62.2726 2150.91,62.1697 2153.82,62.0446 2156.73,61.8976 2159.64,61.7292 2162.55,61.5397 2165.46,61.3296 2168.37,61.0995 2171.28,60.8499 2174.19,60.5815 2177.1,60.2951 2180.01,59.9913 2182.92,59.671 2185.83,59.3349 2188.74,58.9841 2191.65,58.6194 2194.56,58.2419 2197.47,57.8525 2200.38,57.4525 2203.29,57.0428 2206.2,56.6247 2209.11,56.1994 2212.02,55.7681 2214.94,55.3321 2217.85,54.8927 2220.76,54.4514 2223.67,54.0094 2226.58,53.5682 2229.49,53.1293 2232.4,52.6941 2235.31,52.2642 2238.22,51.841 2241.13,51.4262 2244.04,51.0213 2246.95,50.6279 2249.86,50.2477 2252.77,49.8822 2255.68,49.5332 2258.59,49.2023 2261.5,48.8911 2264.41,48.6015 2267.32,48.335 2270.23,48.0934 2273.14,47.8785 2276.05,47.6918 2278.96,47.5352 2281.87,47.4105 2284.78,47.3192 2287.69,47.2632 2290.6,47.2441 \"/>\n",
       "<polyline clip-path=\"url(#clip042)\" style=\"stroke:#ff0000; stroke-linecap:round; stroke-linejoin:round; stroke-width:2; stroke-opacity:1; fill:none\" points=\"218.754,1286.04 218.754,1286.04 221.664,1285.49 224.574,1283.83 227.484,1281.1 230.394,1277.34 233.305,1272.61 236.215,1266.97 239.125,1260.49 242.035,1253.24 244.945,1245.3 247.856,1236.74 250.766,1227.61 253.676,1217.99 256.586,1207.93 259.497,1197.47 262.407,1186.67 265.317,1175.56 268.227,1164.18 271.137,1152.56 274.048,1140.74 276.958,1128.73 279.868,1116.56 282.778,1104.25 285.688,1091.82 288.599,1079.28 291.509,1066.66 294.419,1053.95 297.329,1041.19 300.239,1028.36 303.15,1015.49 306.06,1002.59 308.97,989.657 311.88,976.705 314.79,963.74 317.701,950.769 320.611,937.797 323.521,924.83 326.431,911.873 329.341,898.931 332.252,886.008 335.162,873.109 338.072,860.238 340.982,847.398 343.892,834.593 346.803,821.827 349.713,809.103 352.623,796.423 355.533,783.792 358.443,771.211 361.354,758.683 364.264,746.212 367.174,733.8 370.084,721.448 372.995,709.16 375.905,696.938 378.815,684.784 381.725,672.7 384.635,660.689 387.546,648.752 390.456,636.891 393.366,625.108 396.276,613.406 399.186,601.785 402.097,590.249 405.007,578.798 407.917,567.434 410.827,556.16 413.737,544.976 416.648,533.884 419.558,522.887 422.468,511.984 425.378,501.179 428.288,490.473 431.199,479.866 434.109,469.361 437.019,458.958 439.929,448.66 442.839,438.467 445.75,428.382 448.66,418.405 451.57,408.537 454.48,398.781 457.39,389.136 460.301,379.605 463.211,370.189 466.121,360.888 469.031,351.705 471.941,342.639 474.852,333.693 477.762,324.868 480.672,316.164 483.582,307.583 486.492,299.125 489.403,290.792 492.313,282.585 495.223,274.505 498.133,266.552 501.044,258.729 503.954,251.035 506.864,243.471 509.774,236.039 512.684,228.74 515.595,221.574 518.505,214.542 521.415,207.645 524.325,200.884 527.235,194.26 530.146,187.773 533.056,181.425 535.966,175.215 538.876,169.145 541.786,163.216 544.697,157.428 547.607,151.782 550.517,146.278 553.427,140.917 556.337,135.701 559.248,130.628 562.158,125.701 565.068,120.919 567.978,116.283 570.888,111.795 573.799,107.453 576.709,103.259 579.619,99.2134 582.529,95.3165 585.439,91.5687 588.35,87.9705 591.26,84.5223 594.17,81.2246 597.08,78.0777 599.99,75.0819 602.901,72.2377 605.811,69.5453 608.721,67.0051 611.631,64.6174 614.542,62.3824 617.452,60.3005 620.362,58.3717 623.272,56.5965 626.182,54.9749 629.093,53.5072 632.003,52.1935 634.913,51.0341 637.823,50.0289 640.733,49.1782 643.644,48.482 646.554,47.9405 649.464,47.5536 652.374,47.3215 655.284,47.2441 658.195,47.2441 661.105,47.2441 664.015,47.2441 666.925,47.2441 669.835,47.2441 672.746,47.2441 675.656,47.2441 678.566,47.2441 681.476,47.2441 684.386,47.2441 687.297,47.2441 690.207,47.2441 693.117,47.2441 696.027,47.2441 698.937,47.2441 701.848,47.2441 704.758,47.2441 707.668,47.2441 710.578,47.2441 713.488,47.2441 716.399,47.2441 719.309,47.2441 722.219,47.2441 725.129,47.2441 728.04,47.2441 730.95,47.2441 733.86,47.2441 736.77,47.2441 739.68,47.2441 742.591,47.2441 745.501,47.2441 748.411,47.2441 751.321,47.2441 754.231,47.2441 757.142,47.2441 760.052,47.2441 762.962,47.2441 765.872,47.2441 768.782,47.2441 771.693,47.2441 774.603,47.2441 777.513,47.2441 780.423,47.2441 783.333,47.2441 786.244,47.2441 789.154,47.2441 792.064,47.2441 794.974,47.2441 797.884,47.2441 800.795,47.2441 803.705,47.2441 806.615,47.2441 809.525,47.2441 812.435,47.2441 815.346,47.2441 818.256,47.2441 821.166,47.2441 824.076,47.2441 826.986,47.2441 829.897,47.2441 832.807,47.2441 835.717,47.2441 838.627,47.2441 841.538,47.2441 844.448,47.2441 847.358,47.2441 850.268,47.2441 853.178,47.2441 856.089,47.2441 858.999,47.2441 861.909,47.2441 864.819,47.2441 867.729,47.2441 870.64,47.2441 873.55,47.2441 873.646,47.2441 876.556,47.2644 879.466,47.3216 882.376,47.414 885.287,47.5399 888.197,47.6975 891.107,47.8851 894.017,48.101 896.927,48.3434 899.838,48.6107 902.748,48.9011 905.658,49.2129 908.568,49.5444 911.478,49.894 914.389,50.26 917.299,50.6407 920.209,51.0345 923.119,51.4397 926.03,51.8549 928.94,52.2783 931.85,52.7084 934.76,53.1437 937.67,53.5828 940.581,54.024 943.491,54.466 946.401,54.9073 949.311,55.3465 952.221,55.7824 955.132,56.2135 958.042,56.6386 960.952,57.0565 963.862,57.4658 966.772,57.8656 969.683,58.2545 972.593,58.6317 975.503,58.9959 978.413,59.3463 981.323,59.6818 984.234,60.0016 987.144,60.3048 990.054,60.5907 992.964,60.8584 995.874,61.1074 998.785,61.3368 1001.69,61.5462 1004.61,61.7351 1007.52,61.9028 1010.43,62.0491 1013.34,62.1734 1016.25,62.2756 1019.16,62.3554 1022.07,62.4125 1024.98,62.4468 1027.89,62.4583 1028.17,62.5669 1031.09,63.6946 1034,64.8802 1036.91,66.1255 1039.82,67.4318 1042.73,68.801 1045.64,70.2346 1048.55,71.7342 1051.46,73.3014 1054.37,74.9378 1057.28,76.645 1060.19,78.4245 1063.1,80.2779 1066.01,82.2068 1068.92,84.2126 1071.83,86.297 1074.74,88.4613 1077.65,90.7071 1080.56,93.0359 1083.47,95.449 1086.38,97.9479 1089.29,100.534 1092.2,103.209 1095.11,105.974 1098.02,108.83 1100.93,111.778 1103.84,114.821 1106.75,117.959 1109.66,121.193 1112.57,124.525 1115.48,127.956 1118.39,131.486 1121.3,135.118 1124.21,138.852 1127.12,142.69 1130.03,146.632 1132.94,150.679 1135.85,154.833 1138.76,159.094 1141.67,163.463 1144.58,167.941 1147.49,172.53 1150.4,177.229 1153.31,182.04 1156.22,186.963 1159.13,191.999 1162.04,197.149 1164.95,202.414 1167.86,207.793 1170.77,213.289 1173.69,218.9 1176.6,224.628 1179.51,230.474 1182.42,236.437 1185.33,242.518 1188.24,248.717 1191.15,255.035 1194.06,261.472 1196.97,268.028 1199.88,274.704 1202.79,281.5 1205.7,288.415 1208.61,295.45 1211.52,302.605 1214.43,309.879 1217.34,317.274 1220.25,324.789 1223.16,332.423 1226.07,340.177 1228.98,348.05 1231.89,356.042 1234.8,364.154 1237.71,372.384 1240.62,380.732 1243.53,389.198 1246.44,397.781 1249.35,406.482 1252.26,415.299 1255.17,424.232 1258.08,433.28 1260.99,442.443 1263.9,451.72 1266.81,461.11 1269.72,470.612 1272.63,480.227 1275.54,489.952 1278.45,499.787 1281.36,509.731 1284.27,519.783 1287.18,529.942 1290.09,540.206 1293,550.576 1295.91,561.049 1298.82,571.624 1301.73,582.3 1304.64,593.076 1307.55,603.95 1310.46,614.92 1313.37,625.986 1316.29,637.146 1319.2,648.398 1322.11,659.74 1325.02,671.17 1327.93,682.688 1330.84,694.29 1333.75,705.975 1336.66,717.741 1339.57,729.585 1342.48,741.506 1345.39,753.501 1348.3,765.568 1351.21,777.704 1354.12,789.906 1357.03,802.172 1359.94,814.499 1362.85,826.884 1365.76,839.324 1368.67,851.815 1371.58,864.354 1374.49,876.937 1377.4,889.56 1380.31,902.219 1383.22,914.91 1386.13,927.628 1389.04,940.368 1391.95,953.125 1394.86,965.892 1397.77,978.664 1400.68,991.435 1403.59,1004.2 1406.5,1016.94 1409.41,1029.66 1412.32,1042.34 1415.23,1054.98 1418.14,1067.57 1421.05,1080.08 1423.96,1092.52 1426.87,1104.85 1429.78,1117.08 1432.69,1129.17 1435.6,1141.11 1438.51,1152.88 1441.42,1164.44 1444.33,1175.77 1447.24,1186.84 1450.15,1197.6 1453.06,1208.03 1455.98,1218.07 1458.89,1227.67 1461.8,1236.78 1464.71,1245.33 1467.62,1253.26 1470.53,1260.5 1473.44,1266.98 1476.35,1272.61 1479.26,1277.35 1482.17,1281.1 1485.08,1283.83 1487.99,1285.49 1490.9,1286.04 1493.53,1285.59 1496.44,1284.04 1499.35,1281.41 1502.26,1277.75 1505.17,1273.11 1508.08,1267.56 1510.99,1261.16 1513.9,1253.99 1516.81,1246.13 1519.72,1237.64 1522.63,1228.59 1525.54,1219.04 1528.45,1209.05 1531.36,1198.67 1534.27,1187.94 1537.18,1176.92 1540.09,1165.63 1543,1154.1 1545.91,1142.38 1548.82,1130.48 1551.73,1118.43 1554.64,1106.25 1557.55,1093.95 1560.46,1081.57 1563.37,1069.1 1566.28,1056.57 1569.19,1043.98 1572.1,1031.35 1575.01,1018.7 1577.92,1006.02 1580.83,993.325 1583.74,980.629 1586.65,967.935 1589.56,955.252 1592.47,942.585 1595.38,929.94 1598.3,917.324 1601.21,904.741 1604.12,892.196 1607.03,879.694 1609.94,867.24 1612.85,854.838 1615.76,842.492 1618.67,830.205 1621.58,817.982 1624.49,805.826 1627.4,793.74 1630.31,781.728 1633.22,769.793 1636.13,757.937 1639.04,746.165 1641.95,734.478 1644.86,722.879 1647.77,711.371 1650.68,699.957 1653.59,688.639 1656.5,677.42 1659.41,666.301 1662.32,655.286 1665.23,644.376 1668.14,633.574 1671.05,622.882 1673.96,612.302 1676.87,601.836 1679.78,591.486 1682.69,581.255 1685.6,571.143 1688.51,561.153 1691.42,551.286 1694.33,541.546 1697.24,531.932 1700.15,522.447 1703.06,513.094 1705.97,503.872 1708.88,494.785 1711.79,485.833 1714.7,477.018 1717.61,468.342 1720.52,459.806 1723.43,451.412 1726.34,443.16 1729.25,435.054 1732.16,427.093 1735.07,419.279 1737.98,411.614 1740.9,404.098 1743.81,396.733 1746.72,389.521 1749.63,382.462 1752.54,375.558 1755.45,368.809 1758.36,362.218 1761.27,355.784 1764.18,349.509 1767.09,343.394 1770,337.44 1772.91,331.648 1775.82,326.019 1778.73,320.554 1781.64,315.254 1784.55,310.119 1787.46,305.15 1790.37,300.348 1793.28,295.715 1796.19,291.25 1799.1,286.954 1802.01,282.829 1804.92,278.874 1807.83,275.091 1810.74,271.479 1813.65,268.04 1816.56,264.774 1819.47,261.682 1822.38,258.764 1825.29,256.02 1828.2,253.452 1831.11,251.058 1834.02,248.841 1836.93,246.799 1839.84,244.934 1842.75,243.246 1845.66,241.735 1848.57,240.401 1851.48,239.244 1854.39,238.265 1857.3,237.464 1860.21,236.841 1863.12,236.396 1866.03,236.128 1868.94,236.039 1871.43,236.007 1874.35,235.886 1877.26,235.676 1880.17,235.378 1883.08,234.992 1885.99,234.517 1888.9,233.955 1891.81,233.306 1894.72,232.572 1897.63,231.752 1900.54,230.847 1903.45,229.859 1906.36,228.789 1909.27,227.637 1912.18,226.406 1915.09,225.096 1918,223.708 1920.91,222.245 1923.82,220.708 1926.73,219.098 1929.64,217.417 1932.55,215.667 1935.46,213.85 1938.37,211.967 1941.28,210.021 1944.19,208.014 1947.1,205.947 1950.01,203.824 1952.92,201.645 1955.83,199.413 1958.74,197.131 1961.65,194.801 1964.56,192.425 1967.47,190.005 1970.38,187.545 1973.29,185.046 1976.2,182.511 1979.11,179.943 1982.02,177.344 1984.93,174.716 1987.84,172.063 1990.75,169.386 1993.66,166.689 1996.57,163.974 1999.48,161.244 2002.39,158.501 2005.3,155.748 2008.21,152.988 2011.12,150.223 2014.03,147.456 2016.95,144.69 2019.86,141.927 2022.77,139.171 2025.68,136.423 2028.59,133.686 2031.5,130.963 2034.41,128.256 2037.32,125.568 2040.23,122.902 2043.14,120.261 2046.05,117.646 2048.96,115.06 2051.87,112.506 2054.78,109.986 2057.69,107.502 2060.6,105.058 2063.51,102.655 2066.42,100.296 2069.33,97.9836 2072.24,95.7194 2075.15,93.5059 2078.06,91.3455 2080.97,89.2404 2083.88,87.1927 2086.79,85.2047 2089.7,83.2784 2092.61,81.4159 2095.52,79.6194 2098.43,77.8908 2101.34,76.2321 2104.25,74.6454 2107.16,73.1324 2110.07,71.6951 2112.98,70.3354 2115.89,69.055 2118.8,67.8558 2121.71,66.7394 2124.62,65.7076 2127.53,64.7619 2130.44,63.9041 2133.35,63.1357 2136.26,62.4583 2136.36,62.4583 2139.27,62.4461 2142.18,62.411 2145.09,62.3531 2148,62.2726 2150.91,62.1697 2153.82,62.0446 2156.73,61.8976 2159.64,61.7292 2162.55,61.5397 2165.46,61.3296 2168.37,61.0995 2171.28,60.8499 2174.19,60.5815 2177.1,60.2951 2180.01,59.9913 2182.92,59.671 2185.83,59.3349 2188.74,58.9841 2191.65,58.6194 2194.56,58.2419 2197.47,57.8525 2200.38,57.4525 2203.29,57.0428 2206.2,56.6247 2209.11,56.1994 2212.02,55.7681 2214.94,55.3321 2217.85,54.8927 2220.76,54.4514 2223.67,54.0094 2226.58,53.5682 2229.49,53.1293 2232.4,52.6941 2235.31,52.2642 2238.22,51.841 2241.13,51.4262 2244.04,51.0213 2246.95,50.6279 2249.86,50.2477 2252.77,49.8822 2255.68,49.5332 2258.59,49.2023 2261.5,48.8911 2264.41,48.6015 2267.32,48.335 2270.23,48.0934 2273.14,47.8785 2276.05,47.6918 2278.96,47.5352 2281.87,47.4105 2284.78,47.3192 2287.69,47.2632 2290.6,47.2441 \"/>\n",
       "</svg>\n"
      ],
      "text/html": [
       "<?xml version=\"1.0\" encoding=\"utf-8\"?>\n",
       "<svg xmlns=\"http://www.w3.org/2000/svg\" xmlns:xlink=\"http://www.w3.org/1999/xlink\" width=\"600\" height=\"400\" viewBox=\"0 0 2400 1600\">\n",
       "<defs>\n",
       "  <clipPath id=\"clip090\">\n",
       "    <rect x=\"0\" y=\"0\" width=\"2400\" height=\"1600\"/>\n",
       "  </clipPath>\n",
       "</defs>\n",
       "<path clip-path=\"url(#clip090)\" d=\"M0 1600 L2400 1600 L2400 8.88178e-14 L0 8.88178e-14  Z\" fill=\"#ffffff\" fill-rule=\"evenodd\" fill-opacity=\"1\"/>\n",
       "<defs>\n",
       "  <clipPath id=\"clip091\">\n",
       "    <rect x=\"480\" y=\"0\" width=\"1681\" height=\"1600\"/>\n",
       "  </clipPath>\n",
       "</defs>\n",
       "<path clip-path=\"url(#clip090)\" d=\"M156.598 1486.45 L2352.76 1486.45 L2352.76 47.2441 L156.598 47.2441  Z\" fill=\"#ffffff\" fill-rule=\"evenodd\" fill-opacity=\"1\"/>\n",
       "<defs>\n",
       "  <clipPath id=\"clip092\">\n",
       "    <rect x=\"156\" y=\"47\" width=\"2197\" height=\"1440\"/>\n",
       "  </clipPath>\n",
       "</defs>\n",
       "<polyline clip-path=\"url(#clip092)\" style=\"stroke:#000000; stroke-linecap:round; stroke-linejoin:round; stroke-width:2; stroke-opacity:0.1; fill:none\" points=\"218.754,1486.45 218.754,47.2441 \"/>\n",
       "<polyline clip-path=\"url(#clip092)\" style=\"stroke:#000000; stroke-linecap:round; stroke-linejoin:round; stroke-width:2; stroke-opacity:0.1; fill:none\" points=\"655.284,1486.45 655.284,47.2441 \"/>\n",
       "<polyline clip-path=\"url(#clip092)\" style=\"stroke:#000000; stroke-linecap:round; stroke-linejoin:round; stroke-width:2; stroke-opacity:0.1; fill:none\" points=\"873.55,1486.45 873.55,47.2441 \"/>\n",
       "<polyline clip-path=\"url(#clip092)\" style=\"stroke:#000000; stroke-linecap:round; stroke-linejoin:round; stroke-width:2; stroke-opacity:0.1; fill:none\" points=\"1027.89,1486.45 1027.89,47.2441 \"/>\n",
       "<polyline clip-path=\"url(#clip092)\" style=\"stroke:#000000; stroke-linecap:round; stroke-linejoin:round; stroke-width:2; stroke-opacity:0.1; fill:none\" points=\"1490.9,1486.45 1490.9,47.2441 \"/>\n",
       "<polyline clip-path=\"url(#clip092)\" style=\"stroke:#000000; stroke-linecap:round; stroke-linejoin:round; stroke-width:2; stroke-opacity:0.1; fill:none\" points=\"1868.94,1486.45 1868.94,47.2441 \"/>\n",
       "<polyline clip-path=\"url(#clip092)\" style=\"stroke:#000000; stroke-linecap:round; stroke-linejoin:round; stroke-width:2; stroke-opacity:0.1; fill:none\" points=\"2136.26,1486.45 2136.26,47.2441 \"/>\n",
       "<polyline clip-path=\"url(#clip092)\" style=\"stroke:#000000; stroke-linecap:round; stroke-linejoin:round; stroke-width:2; stroke-opacity:0.1; fill:none\" points=\"2290.6,1486.45 2290.6,47.2441 \"/>\n",
       "<polyline clip-path=\"url(#clip090)\" style=\"stroke:#000000; stroke-linecap:round; stroke-linejoin:round; stroke-width:4; stroke-opacity:1; fill:none\" points=\"156.598,1486.45 2352.76,1486.45 \"/>\n",
       "<polyline clip-path=\"url(#clip090)\" style=\"stroke:#000000; stroke-linecap:round; stroke-linejoin:round; stroke-width:4; stroke-opacity:1; fill:none\" points=\"218.754,1486.45 218.754,1467.55 \"/>\n",
       "<polyline clip-path=\"url(#clip090)\" style=\"stroke:#000000; stroke-linecap:round; stroke-linejoin:round; stroke-width:4; stroke-opacity:1; fill:none\" points=\"655.284,1486.45 655.284,1467.55 \"/>\n",
       "<polyline clip-path=\"url(#clip090)\" style=\"stroke:#000000; stroke-linecap:round; stroke-linejoin:round; stroke-width:4; stroke-opacity:1; fill:none\" points=\"873.55,1486.45 873.55,1467.55 \"/>\n",
       "<polyline clip-path=\"url(#clip090)\" style=\"stroke:#000000; stroke-linecap:round; stroke-linejoin:round; stroke-width:4; stroke-opacity:1; fill:none\" points=\"1027.89,1486.45 1027.89,1467.55 \"/>\n",
       "<polyline clip-path=\"url(#clip090)\" style=\"stroke:#000000; stroke-linecap:round; stroke-linejoin:round; stroke-width:4; stroke-opacity:1; fill:none\" points=\"1490.9,1486.45 1490.9,1467.55 \"/>\n",
       "<polyline clip-path=\"url(#clip090)\" style=\"stroke:#000000; stroke-linecap:round; stroke-linejoin:round; stroke-width:4; stroke-opacity:1; fill:none\" points=\"1868.94,1486.45 1868.94,1467.55 \"/>\n",
       "<polyline clip-path=\"url(#clip090)\" style=\"stroke:#000000; stroke-linecap:round; stroke-linejoin:round; stroke-width:4; stroke-opacity:1; fill:none\" points=\"2136.26,1486.45 2136.26,1467.55 \"/>\n",
       "<polyline clip-path=\"url(#clip090)\" style=\"stroke:#000000; stroke-linecap:round; stroke-linejoin:round; stroke-width:4; stroke-opacity:1; fill:none\" points=\"2290.6,1486.45 2290.6,1467.55 \"/>\n",
       "<path clip-path=\"url(#clip090)\" d=\"M208.001 1544.36 L208.001 1509.8 L229.506 1509.8 L229.506 1513.73 L212.677 1513.73 L212.677 1544.36 L208.001 1544.36 Z\" fill=\"#000000\" fill-rule=\"nonzero\" fill-opacity=\"1\" /><path clip-path=\"url(#clip090)\" d=\"M642.067 1514.29 L647.09 1514.29 L655.678 1527.14 L664.312 1514.29 L669.335 1514.29 L658.224 1530.89 L670.076 1548.85 L665.053 1548.85 L655.331 1534.15 L645.539 1548.85 L640.493 1548.85 L652.831 1530.4 L642.067 1514.29 Z\" fill=\"#000000\" fill-rule=\"nonzero\" fill-opacity=\"1\" /><path clip-path=\"url(#clip090)\" d=\"M851.675 1514.29 L856.397 1514.29 L863.666 1543.5 L870.911 1514.29 L876.165 1514.29 L883.434 1543.5 L890.679 1514.29 L895.425 1514.29 L886.744 1548.85 L880.865 1548.85 L873.573 1518.85 L866.212 1548.85 L860.332 1548.85 L851.675 1514.29 Z\" fill=\"#000000\" fill-rule=\"nonzero\" fill-opacity=\"1\" /><path clip-path=\"url(#clip090)\" d=\"M1014.17 1514.29 L1018.85 1514.29 L1018.85 1528.89 L1034.36 1514.29 L1040.38 1514.29 L1023.22 1530.4 L1041.6 1548.85 L1035.44 1548.85 L1018.85 1532.2 L1018.85 1548.85 L1014.17 1548.85 L1014.17 1514.29 Z\" fill=\"#000000\" fill-rule=\"nonzero\" fill-opacity=\"1\" /><path clip-path=\"url(#clip090)\" d=\"M1480.15 1544.36 L1480.15 1509.8 L1501.65 1509.8 L1501.65 1513.73 L1484.82 1513.73 L1484.82 1544.36 L1480.15 1544.36 Z\" fill=\"#000000\" fill-rule=\"nonzero\" fill-opacity=\"1\" /><path clip-path=\"url(#clip090)\" d=\"M1858.19 1514.29 L1862.87 1514.29 L1862.87 1544.91 L1879.7 1544.91 L1879.7 1548.85 L1858.19 1548.85 L1858.19 1514.29 Z\" fill=\"#000000\" fill-rule=\"nonzero\" fill-opacity=\"1\" /><path clip-path=\"url(#clip090)\" d=\"M2123.03 1514.29 L2127.73 1514.29 L2127.73 1535.28 Q2127.73 1540.84 2129.75 1543.29 Q2131.76 1545.72 2136.28 1545.72 Q2140.77 1545.72 2142.78 1543.29 Q2144.79 1540.84 2144.79 1535.28 L2144.79 1514.29 L2149.49 1514.29 L2149.49 1535.86 Q2149.49 1542.62 2146.14 1546.07 Q2142.8 1549.52 2136.28 1549.52 Q2129.72 1549.52 2126.37 1546.07 Q2123.03 1542.62 2123.03 1535.86 L2123.03 1514.29 Z\" fill=\"#000000\" fill-rule=\"nonzero\" fill-opacity=\"1\" /><path clip-path=\"url(#clip090)\" d=\"M2268.73 1514.29 L2273.45 1514.29 L2280.72 1543.5 L2287.96 1514.29 L2293.22 1514.29 L2300.48 1543.5 L2307.73 1514.29 L2312.48 1514.29 L2303.79 1548.85 L2297.92 1548.85 L2290.62 1518.85 L2283.26 1548.85 L2277.38 1548.85 L2268.73 1514.29 Z\" fill=\"#000000\" fill-rule=\"nonzero\" fill-opacity=\"1\" /><polyline clip-path=\"url(#clip092)\" style=\"stroke:#000000; stroke-linecap:round; stroke-linejoin:round; stroke-width:2; stroke-opacity:0.1; fill:none\" points=\"156.598,1486.45 2352.76,1486.45 \"/>\n",
       "<polyline clip-path=\"url(#clip092)\" style=\"stroke:#000000; stroke-linecap:round; stroke-linejoin:round; stroke-width:2; stroke-opacity:0.1; fill:none\" points=\"156.598,1251.51 2352.76,1251.51 \"/>\n",
       "<polyline clip-path=\"url(#clip092)\" style=\"stroke:#000000; stroke-linecap:round; stroke-linejoin:round; stroke-width:2; stroke-opacity:0.1; fill:none\" points=\"156.598,1016.58 2352.76,1016.58 \"/>\n",
       "<polyline clip-path=\"url(#clip092)\" style=\"stroke:#000000; stroke-linecap:round; stroke-linejoin:round; stroke-width:2; stroke-opacity:0.1; fill:none\" points=\"156.598,781.645 2352.76,781.645 \"/>\n",
       "<polyline clip-path=\"url(#clip092)\" style=\"stroke:#000000; stroke-linecap:round; stroke-linejoin:round; stroke-width:2; stroke-opacity:0.1; fill:none\" points=\"156.598,546.71 2352.76,546.71 \"/>\n",
       "<polyline clip-path=\"url(#clip092)\" style=\"stroke:#000000; stroke-linecap:round; stroke-linejoin:round; stroke-width:2; stroke-opacity:0.1; fill:none\" points=\"156.598,311.776 2352.76,311.776 \"/>\n",
       "<polyline clip-path=\"url(#clip092)\" style=\"stroke:#000000; stroke-linecap:round; stroke-linejoin:round; stroke-width:2; stroke-opacity:0.1; fill:none\" points=\"156.598,76.8417 2352.76,76.8417 \"/>\n",
       "<polyline clip-path=\"url(#clip090)\" style=\"stroke:#000000; stroke-linecap:round; stroke-linejoin:round; stroke-width:4; stroke-opacity:1; fill:none\" points=\"156.598,1486.45 156.598,47.2441 \"/>\n",
       "<polyline clip-path=\"url(#clip090)\" style=\"stroke:#000000; stroke-linecap:round; stroke-linejoin:round; stroke-width:4; stroke-opacity:1; fill:none\" points=\"156.598,1486.45 175.496,1486.45 \"/>\n",
       "<polyline clip-path=\"url(#clip090)\" style=\"stroke:#000000; stroke-linecap:round; stroke-linejoin:round; stroke-width:4; stroke-opacity:1; fill:none\" points=\"156.598,1251.51 175.496,1251.51 \"/>\n",
       "<polyline clip-path=\"url(#clip090)\" style=\"stroke:#000000; stroke-linecap:round; stroke-linejoin:round; stroke-width:4; stroke-opacity:1; fill:none\" points=\"156.598,1016.58 175.496,1016.58 \"/>\n",
       "<polyline clip-path=\"url(#clip090)\" style=\"stroke:#000000; stroke-linecap:round; stroke-linejoin:round; stroke-width:4; stroke-opacity:1; fill:none\" points=\"156.598,781.645 175.496,781.645 \"/>\n",
       "<polyline clip-path=\"url(#clip090)\" style=\"stroke:#000000; stroke-linecap:round; stroke-linejoin:round; stroke-width:4; stroke-opacity:1; fill:none\" points=\"156.598,546.71 175.496,546.71 \"/>\n",
       "<polyline clip-path=\"url(#clip090)\" style=\"stroke:#000000; stroke-linecap:round; stroke-linejoin:round; stroke-width:4; stroke-opacity:1; fill:none\" points=\"156.598,311.776 175.496,311.776 \"/>\n",
       "<polyline clip-path=\"url(#clip090)\" style=\"stroke:#000000; stroke-linecap:round; stroke-linejoin:round; stroke-width:4; stroke-opacity:1; fill:none\" points=\"156.598,76.8417 175.496,76.8417 \"/>\n",
       "<path clip-path=\"url(#clip090)\" d=\"M63.4226 1472.25 Q59.8115 1472.25 57.9828 1475.81 Q56.1773 1479.35 56.1773 1486.48 Q56.1773 1493.59 57.9828 1497.15 Q59.8115 1500.7 63.4226 1500.7 Q67.0569 1500.7 68.8624 1497.15 Q70.6911 1493.59 70.6911 1486.48 Q70.6911 1479.35 68.8624 1475.81 Q67.0569 1472.25 63.4226 1472.25 M63.4226 1468.54 Q69.2328 1468.54 72.2883 1473.15 Q75.367 1477.73 75.367 1486.48 Q75.367 1495.21 72.2883 1499.82 Q69.2328 1504.4 63.4226 1504.4 Q57.6125 1504.4 54.5338 1499.82 Q51.4782 1495.21 51.4782 1486.48 Q51.4782 1477.73 54.5338 1473.15 Q57.6125 1468.54 63.4226 1468.54 Z\" fill=\"#000000\" fill-rule=\"nonzero\" fill-opacity=\"1\" /><path clip-path=\"url(#clip090)\" d=\"M83.5845 1497.85 L88.4688 1497.85 L88.4688 1503.73 L83.5845 1503.73 L83.5845 1497.85 Z\" fill=\"#000000\" fill-rule=\"nonzero\" fill-opacity=\"1\" /><path clip-path=\"url(#clip090)\" d=\"M108.654 1472.25 Q105.043 1472.25 103.214 1475.81 Q101.409 1479.35 101.409 1486.48 Q101.409 1493.59 103.214 1497.15 Q105.043 1500.7 108.654 1500.7 Q112.288 1500.7 114.094 1497.15 Q115.922 1493.59 115.922 1486.48 Q115.922 1479.35 114.094 1475.81 Q112.288 1472.25 108.654 1472.25 M108.654 1468.54 Q114.464 1468.54 117.52 1473.15 Q120.598 1477.73 120.598 1486.48 Q120.598 1495.21 117.52 1499.82 Q114.464 1504.4 108.654 1504.4 Q102.844 1504.4 99.765 1499.82 Q96.7095 1495.21 96.7095 1486.48 Q96.7095 1477.73 99.765 1473.15 Q102.844 1468.54 108.654 1468.54 Z\" fill=\"#000000\" fill-rule=\"nonzero\" fill-opacity=\"1\" /><path clip-path=\"url(#clip090)\" d=\"M64.6495 1237.31 Q61.0384 1237.31 59.2097 1240.88 Q57.4041 1244.42 57.4041 1251.55 Q57.4041 1258.65 59.2097 1262.22 Q61.0384 1265.76 64.6495 1265.76 Q68.2837 1265.76 70.0892 1262.22 Q71.9179 1258.65 71.9179 1251.55 Q71.9179 1244.42 70.0892 1240.88 Q68.2837 1237.31 64.6495 1237.31 M64.6495 1233.61 Q70.4596 1233.61 73.5152 1238.21 Q76.5938 1242.8 76.5938 1251.55 Q76.5938 1260.28 73.5152 1264.88 Q70.4596 1269.46 64.6495 1269.46 Q58.8393 1269.46 55.7606 1264.88 Q52.7051 1260.28 52.7051 1251.55 Q52.7051 1242.8 55.7606 1238.21 Q58.8393 1233.61 64.6495 1233.61 Z\" fill=\"#000000\" fill-rule=\"nonzero\" fill-opacity=\"1\" /><path clip-path=\"url(#clip090)\" d=\"M84.8114 1262.91 L89.6956 1262.91 L89.6956 1268.79 L84.8114 1268.79 L84.8114 1262.91 Z\" fill=\"#000000\" fill-rule=\"nonzero\" fill-opacity=\"1\" /><path clip-path=\"url(#clip090)\" d=\"M100.691 1264.86 L108.33 1264.86 L108.33 1238.49 L100.02 1240.16 L100.02 1235.9 L108.283 1234.23 L112.959 1234.23 L112.959 1264.86 L120.598 1264.86 L120.598 1268.79 L100.691 1268.79 L100.691 1264.86 Z\" fill=\"#000000\" fill-rule=\"nonzero\" fill-opacity=\"1\" /><path clip-path=\"url(#clip090)\" d=\"M65.0198 1002.38 Q61.4087 1002.38 59.58 1005.94 Q57.7745 1009.48 57.7745 1016.61 Q57.7745 1023.72 59.58 1027.29 Q61.4087 1030.83 65.0198 1030.83 Q68.6541 1030.83 70.4596 1027.29 Q72.2883 1023.72 72.2883 1016.61 Q72.2883 1009.48 70.4596 1005.94 Q68.6541 1002.38 65.0198 1002.38 M65.0198 998.674 Q70.83 998.674 73.8855 1003.28 Q76.9642 1007.86 76.9642 1016.61 Q76.9642 1025.34 73.8855 1029.95 Q70.83 1034.53 65.0198 1034.53 Q59.2097 1034.53 56.131 1029.95 Q53.0754 1025.34 53.0754 1016.61 Q53.0754 1007.86 56.131 1003.28 Q59.2097 998.674 65.0198 998.674 Z\" fill=\"#000000\" fill-rule=\"nonzero\" fill-opacity=\"1\" /><path clip-path=\"url(#clip090)\" d=\"M85.1818 1027.98 L90.066 1027.98 L90.066 1033.86 L85.1818 1033.86 L85.1818 1027.98 Z\" fill=\"#000000\" fill-rule=\"nonzero\" fill-opacity=\"1\" /><path clip-path=\"url(#clip090)\" d=\"M104.279 1029.92 L120.598 1029.92 L120.598 1033.86 L98.6539 1033.86 L98.6539 1029.92 Q101.316 1027.17 105.899 1022.54 Q110.506 1017.89 111.686 1016.54 Q113.932 1014.02 114.811 1012.29 Q115.714 1010.53 115.714 1008.84 Q115.714 1006.08 113.77 1004.35 Q111.848 1002.61 108.746 1002.61 Q106.547 1002.61 104.094 1003.37 Q101.663 1004.14 98.8854 1005.69 L98.8854 1000.97 Q101.709 999.832 104.163 999.253 Q106.617 998.674 108.654 998.674 Q114.024 998.674 117.219 1001.36 Q120.413 1004.04 120.413 1008.54 Q120.413 1010.66 119.603 1012.59 Q118.816 1014.48 116.709 1017.08 Q116.131 1017.75 113.029 1020.97 Q109.927 1024.16 104.279 1029.92 Z\" fill=\"#000000\" fill-rule=\"nonzero\" fill-opacity=\"1\" /><path clip-path=\"url(#clip090)\" d=\"M64.0708 767.443 Q60.4597 767.443 58.631 771.008 Q56.8254 774.55 56.8254 781.68 Q56.8254 788.786 58.631 792.351 Q60.4597 795.892 64.0708 795.892 Q67.705 795.892 69.5105 792.351 Q71.3392 788.786 71.3392 781.68 Q71.3392 774.55 69.5105 771.008 Q67.705 767.443 64.0708 767.443 M64.0708 763.74 Q69.8809 763.74 72.9365 768.346 Q76.0151 772.93 76.0151 781.68 Q76.0151 790.406 72.9365 795.013 Q69.8809 799.596 64.0708 799.596 Q58.2606 799.596 55.1819 795.013 Q52.1264 790.406 52.1264 781.68 Q52.1264 772.93 55.1819 768.346 Q58.2606 763.74 64.0708 763.74 Z\" fill=\"#000000\" fill-rule=\"nonzero\" fill-opacity=\"1\" /><path clip-path=\"url(#clip090)\" d=\"M84.2327 793.045 L89.1169 793.045 L89.1169 798.925 L84.2327 798.925 L84.2327 793.045 Z\" fill=\"#000000\" fill-rule=\"nonzero\" fill-opacity=\"1\" /><path clip-path=\"url(#clip090)\" d=\"M113.469 780.291 Q116.825 781.008 118.7 783.277 Q120.598 785.545 120.598 788.879 Q120.598 793.994 117.08 796.795 Q113.561 799.596 107.08 799.596 Q104.904 799.596 102.589 799.156 Q100.297 798.74 97.8437 797.883 L97.8437 793.369 Q99.7882 794.504 102.103 795.082 Q104.418 795.661 106.941 795.661 Q111.339 795.661 113.631 793.925 Q115.945 792.189 115.945 788.879 Q115.945 785.823 113.793 784.11 Q111.663 782.374 107.844 782.374 L103.816 782.374 L103.816 778.531 L108.029 778.531 Q111.478 778.531 113.307 777.166 Q115.135 775.777 115.135 773.184 Q115.135 770.522 113.237 769.11 Q111.362 767.675 107.844 767.675 Q105.922 767.675 103.723 768.092 Q101.524 768.508 98.8854 769.388 L98.8854 765.221 Q101.547 764.481 103.862 764.11 Q106.2 763.74 108.26 763.74 Q113.584 763.74 116.686 766.17 Q119.788 768.578 119.788 772.698 Q119.788 775.568 118.145 777.559 Q116.501 779.527 113.469 780.291 Z\" fill=\"#000000\" fill-rule=\"nonzero\" fill-opacity=\"1\" /><path clip-path=\"url(#clip090)\" d=\"M62.9365 532.509 Q59.3254 532.509 57.4967 536.074 Q55.6912 539.616 55.6912 546.745 Q55.6912 553.852 57.4967 557.416 Q59.3254 560.958 62.9365 560.958 Q66.5707 560.958 68.3763 557.416 Q70.205 553.852 70.205 546.745 Q70.205 539.616 68.3763 536.074 Q66.5707 532.509 62.9365 532.509 M62.9365 528.805 Q68.7467 528.805 71.8022 533.412 Q74.8809 537.995 74.8809 546.745 Q74.8809 555.472 71.8022 560.078 Q68.7467 564.662 62.9365 564.662 Q57.1264 564.662 54.0477 560.078 Q50.9921 555.472 50.9921 546.745 Q50.9921 537.995 54.0477 533.412 Q57.1264 528.805 62.9365 528.805 Z\" fill=\"#000000\" fill-rule=\"nonzero\" fill-opacity=\"1\" /><path clip-path=\"url(#clip090)\" d=\"M83.0984 558.111 L87.9827 558.111 L87.9827 563.99 L83.0984 563.99 L83.0984 558.111 Z\" fill=\"#000000\" fill-rule=\"nonzero\" fill-opacity=\"1\" /><path clip-path=\"url(#clip090)\" d=\"M111.015 533.504 L99.2095 551.953 L111.015 551.953 L111.015 533.504 M109.788 529.43 L115.668 529.43 L115.668 551.953 L120.598 551.953 L120.598 555.842 L115.668 555.842 L115.668 563.99 L111.015 563.99 L111.015 555.842 L95.4132 555.842 L95.4132 551.328 L109.788 529.43 Z\" fill=\"#000000\" fill-rule=\"nonzero\" fill-opacity=\"1\" /><path clip-path=\"url(#clip090)\" d=\"M64.418 297.575 Q60.8069 297.575 58.9782 301.14 Q57.1726 304.681 57.1726 311.811 Q57.1726 318.917 58.9782 322.482 Q60.8069 326.024 64.418 326.024 Q68.0522 326.024 69.8578 322.482 Q71.6865 318.917 71.6865 311.811 Q71.6865 304.681 69.8578 301.14 Q68.0522 297.575 64.418 297.575 M64.418 293.871 Q70.2281 293.871 73.2837 298.478 Q76.3624 303.061 76.3624 311.811 Q76.3624 320.538 73.2837 325.144 Q70.2281 329.727 64.418 329.727 Q58.6078 329.727 55.5291 325.144 Q52.4736 320.538 52.4736 311.811 Q52.4736 303.061 55.5291 298.478 Q58.6078 293.871 64.418 293.871 Z\" fill=\"#000000\" fill-rule=\"nonzero\" fill-opacity=\"1\" /><path clip-path=\"url(#clip090)\" d=\"M84.5799 323.176 L89.4641 323.176 L89.4641 329.056 L84.5799 329.056 L84.5799 323.176 Z\" fill=\"#000000\" fill-rule=\"nonzero\" fill-opacity=\"1\" /><path clip-path=\"url(#clip090)\" d=\"M99.6956 294.496 L118.052 294.496 L118.052 298.431 L103.978 298.431 L103.978 306.903 Q104.996 306.556 106.015 306.394 Q107.033 306.209 108.052 306.209 Q113.839 306.209 117.219 309.38 Q120.598 312.552 120.598 317.968 Q120.598 323.547 117.126 326.649 Q113.654 329.727 107.334 329.727 Q105.159 329.727 102.89 329.357 Q100.645 328.987 98.2372 328.246 L98.2372 323.547 Q100.321 324.681 102.543 325.237 Q104.765 325.792 107.242 325.792 Q111.246 325.792 113.584 323.686 Q115.922 321.579 115.922 317.968 Q115.922 314.357 113.584 312.251 Q111.246 310.144 107.242 310.144 Q105.367 310.144 103.492 310.561 Q101.64 310.977 99.6956 311.857 L99.6956 294.496 Z\" fill=\"#000000\" fill-rule=\"nonzero\" fill-opacity=\"1\" /><path clip-path=\"url(#clip090)\" d=\"M63.2606 62.6404 Q59.6495 62.6404 57.8208 66.2052 Q56.0152 69.7469 56.0152 76.8765 Q56.0152 83.9829 57.8208 87.5477 Q59.6495 91.0893 63.2606 91.0893 Q66.8948 91.0893 68.7004 87.5477 Q70.5291 83.9829 70.5291 76.8765 Q70.5291 69.7469 68.7004 66.2052 Q66.8948 62.6404 63.2606 62.6404 M63.2606 58.9367 Q69.0707 58.9367 72.1263 63.5432 Q75.205 68.1265 75.205 76.8765 Q75.205 85.6033 72.1263 90.2097 Q69.0707 94.793 63.2606 94.793 Q57.4504 94.793 54.3717 90.2097 Q51.3162 85.6033 51.3162 76.8765 Q51.3162 68.1265 54.3717 63.5432 Q57.4504 58.9367 63.2606 58.9367 Z\" fill=\"#000000\" fill-rule=\"nonzero\" fill-opacity=\"1\" /><path clip-path=\"url(#clip090)\" d=\"M83.4225 88.2421 L88.3067 88.2421 L88.3067 94.1217 L83.4225 94.1217 L83.4225 88.2421 Z\" fill=\"#000000\" fill-rule=\"nonzero\" fill-opacity=\"1\" /><path clip-path=\"url(#clip090)\" d=\"M109.071 74.9783 Q105.922 74.9783 104.071 77.1311 Q102.242 79.2838 102.242 83.0338 Q102.242 86.7607 104.071 88.9366 Q105.922 91.0893 109.071 91.0893 Q112.219 91.0893 114.047 88.9366 Q115.899 86.7607 115.899 83.0338 Q115.899 79.2838 114.047 77.1311 Q112.219 74.9783 109.071 74.9783 M118.353 60.3256 L118.353 64.5849 Q116.594 63.7515 114.788 63.3117 Q113.006 62.8719 111.246 62.8719 Q106.617 62.8719 104.163 65.9969 Q101.733 69.1219 101.385 75.4413 Q102.751 73.4274 104.811 72.3626 Q106.871 71.2746 109.348 71.2746 Q114.557 71.2746 117.566 74.4459 Q120.598 77.594 120.598 83.0338 Q120.598 88.3579 117.45 91.5754 Q114.302 94.793 109.071 94.793 Q103.075 94.793 99.9039 90.2097 Q96.7326 85.6033 96.7326 76.8765 Q96.7326 68.6821 100.621 63.821 Q104.51 58.9367 111.061 58.9367 Q112.82 58.9367 114.603 59.284 Q116.408 59.6312 118.353 60.3256 Z\" fill=\"#000000\" fill-rule=\"nonzero\" fill-opacity=\"1\" /><polyline clip-path=\"url(#clip092)\" style=\"stroke:#ff0000; stroke-linecap:round; stroke-linejoin:round; stroke-width:2; stroke-opacity:1; fill:none\" points=\"218.754,1286.04 218.754,1286.04 221.664,1285.49 224.574,1283.83 227.484,1281.1 230.394,1277.34 233.305,1272.61 236.215,1266.97 239.125,1260.49 242.035,1253.24 244.945,1245.3 247.856,1236.74 250.766,1227.61 253.676,1217.99 256.586,1207.93 259.497,1197.47 262.407,1186.67 265.317,1175.56 268.227,1164.18 271.137,1152.56 274.048,1140.74 276.958,1128.73 279.868,1116.56 282.778,1104.25 285.688,1091.82 288.599,1079.28 291.509,1066.66 294.419,1053.95 297.329,1041.19 300.239,1028.36 303.15,1015.49 306.06,1002.59 308.97,989.657 311.88,976.705 314.79,963.74 317.701,950.769 320.611,937.797 323.521,924.83 326.431,911.873 329.341,898.931 332.252,886.008 335.162,873.109 338.072,860.238 340.982,847.398 343.892,834.593 346.803,821.827 349.713,809.103 352.623,796.423 355.533,783.792 358.443,771.211 361.354,758.683 364.264,746.212 367.174,733.8 370.084,721.448 372.995,709.16 375.905,696.938 378.815,684.784 381.725,672.7 384.635,660.689 387.546,648.752 390.456,636.891 393.366,625.108 396.276,613.406 399.186,601.785 402.097,590.249 405.007,578.798 407.917,567.434 410.827,556.16 413.737,544.976 416.648,533.884 419.558,522.887 422.468,511.984 425.378,501.179 428.288,490.473 431.199,479.866 434.109,469.361 437.019,458.958 439.929,448.66 442.839,438.467 445.75,428.382 448.66,418.405 451.57,408.537 454.48,398.781 457.39,389.136 460.301,379.605 463.211,370.189 466.121,360.888 469.031,351.705 471.941,342.639 474.852,333.693 477.762,324.868 480.672,316.164 483.582,307.583 486.492,299.125 489.403,290.792 492.313,282.585 495.223,274.505 498.133,266.552 501.044,258.729 503.954,251.035 506.864,243.471 509.774,236.039 512.684,228.74 515.595,221.574 518.505,214.542 521.415,207.645 524.325,200.884 527.235,194.26 530.146,187.773 533.056,181.425 535.966,175.215 538.876,169.145 541.786,163.216 544.697,157.428 547.607,151.782 550.517,146.278 553.427,140.917 556.337,135.701 559.248,130.628 562.158,125.701 565.068,120.919 567.978,116.283 570.888,111.795 573.799,107.453 576.709,103.259 579.619,99.2134 582.529,95.3165 585.439,91.5687 588.35,87.9705 591.26,84.5223 594.17,81.2246 597.08,78.0777 599.99,75.0819 602.901,72.2377 605.811,69.5453 608.721,67.0051 611.631,64.6174 614.542,62.3824 617.452,60.3005 620.362,58.3717 623.272,56.5965 626.182,54.9749 629.093,53.5072 632.003,52.1935 634.913,51.0341 637.823,50.0289 640.733,49.1782 643.644,48.482 646.554,47.9405 649.464,47.5536 652.374,47.3215 655.284,47.2441 658.195,47.2441 661.105,47.2441 664.015,47.2441 666.925,47.2441 669.835,47.2441 672.746,47.2441 675.656,47.2441 678.566,47.2441 681.476,47.2441 684.386,47.2441 687.297,47.2441 690.207,47.2441 693.117,47.2441 696.027,47.2441 698.937,47.2441 701.848,47.2441 704.758,47.2441 707.668,47.2441 710.578,47.2441 713.488,47.2441 716.399,47.2441 719.309,47.2441 722.219,47.2441 725.129,47.2441 728.04,47.2441 730.95,47.2441 733.86,47.2441 736.77,47.2441 739.68,47.2441 742.591,47.2441 745.501,47.2441 748.411,47.2441 751.321,47.2441 754.231,47.2441 757.142,47.2441 760.052,47.2441 762.962,47.2441 765.872,47.2441 768.782,47.2441 771.693,47.2441 774.603,47.2441 777.513,47.2441 780.423,47.2441 783.333,47.2441 786.244,47.2441 789.154,47.2441 792.064,47.2441 794.974,47.2441 797.884,47.2441 800.795,47.2441 803.705,47.2441 806.615,47.2441 809.525,47.2441 812.435,47.2441 815.346,47.2441 818.256,47.2441 821.166,47.2441 824.076,47.2441 826.986,47.2441 829.897,47.2441 832.807,47.2441 835.717,47.2441 838.627,47.2441 841.538,47.2441 844.448,47.2441 847.358,47.2441 850.268,47.2441 853.178,47.2441 856.089,47.2441 858.999,47.2441 861.909,47.2441 864.819,47.2441 867.729,47.2441 870.64,47.2441 873.55,47.2441 873.646,47.2441 876.556,47.2644 879.466,47.3216 882.376,47.414 885.287,47.5399 888.197,47.6975 891.107,47.8851 894.017,48.101 896.927,48.3434 899.838,48.6107 902.748,48.9011 905.658,49.2129 908.568,49.5444 911.478,49.894 914.389,50.26 917.299,50.6407 920.209,51.0345 923.119,51.4397 926.03,51.8549 928.94,52.2783 931.85,52.7084 934.76,53.1437 937.67,53.5828 940.581,54.024 943.491,54.466 946.401,54.9073 949.311,55.3465 952.221,55.7824 955.132,56.2135 958.042,56.6386 960.952,57.0565 963.862,57.4658 966.772,57.8656 969.683,58.2545 972.593,58.6317 975.503,58.9959 978.413,59.3463 981.323,59.6818 984.234,60.0016 987.144,60.3048 990.054,60.5907 992.964,60.8584 995.874,61.1074 998.785,61.3368 1001.69,61.5462 1004.61,61.7351 1007.52,61.9028 1010.43,62.0491 1013.34,62.1734 1016.25,62.2756 1019.16,62.3554 1022.07,62.4125 1024.98,62.4468 1027.89,62.4583 1028.17,62.5669 1031.09,63.6946 1034,64.8802 1036.91,66.1255 1039.82,67.4318 1042.73,68.801 1045.64,70.2346 1048.55,71.7342 1051.46,73.3014 1054.37,74.9378 1057.28,76.645 1060.19,78.4245 1063.1,80.2779 1066.01,82.2068 1068.92,84.2126 1071.83,86.297 1074.74,88.4613 1077.65,90.7071 1080.56,93.0359 1083.47,95.449 1086.38,97.9479 1089.29,100.534 1092.2,103.209 1095.11,105.974 1098.02,108.83 1100.93,111.778 1103.84,114.821 1106.75,117.959 1109.66,121.193 1112.57,124.525 1115.48,127.956 1118.39,131.486 1121.3,135.118 1124.21,138.852 1127.12,142.69 1130.03,146.632 1132.94,150.679 1135.85,154.833 1138.76,159.094 1141.67,163.463 1144.58,167.941 1147.49,172.53 1150.4,177.229 1153.31,182.04 1156.22,186.963 1159.13,191.999 1162.04,197.149 1164.95,202.414 1167.86,207.793 1170.77,213.289 1173.69,218.9 1176.6,224.628 1179.51,230.474 1182.42,236.437 1185.33,242.518 1188.24,248.717 1191.15,255.035 1194.06,261.472 1196.97,268.028 1199.88,274.704 1202.79,281.5 1205.7,288.415 1208.61,295.45 1211.52,302.605 1214.43,309.879 1217.34,317.274 1220.25,324.789 1223.16,332.423 1226.07,340.177 1228.98,348.05 1231.89,356.042 1234.8,364.154 1237.71,372.384 1240.62,380.732 1243.53,389.198 1246.44,397.781 1249.35,406.482 1252.26,415.299 1255.17,424.232 1258.08,433.28 1260.99,442.443 1263.9,451.72 1266.81,461.11 1269.72,470.612 1272.63,480.227 1275.54,489.952 1278.45,499.787 1281.36,509.731 1284.27,519.783 1287.18,529.942 1290.09,540.206 1293,550.576 1295.91,561.049 1298.82,571.624 1301.73,582.3 1304.64,593.076 1307.55,603.95 1310.46,614.92 1313.37,625.986 1316.29,637.146 1319.2,648.398 1322.11,659.74 1325.02,671.17 1327.93,682.688 1330.84,694.29 1333.75,705.975 1336.66,717.741 1339.57,729.585 1342.48,741.506 1345.39,753.501 1348.3,765.568 1351.21,777.704 1354.12,789.906 1357.03,802.172 1359.94,814.499 1362.85,826.884 1365.76,839.324 1368.67,851.815 1371.58,864.354 1374.49,876.937 1377.4,889.56 1380.31,902.219 1383.22,914.91 1386.13,927.628 1389.04,940.368 1391.95,953.125 1394.86,965.892 1397.77,978.664 1400.68,991.435 1403.59,1004.2 1406.5,1016.94 1409.41,1029.66 1412.32,1042.34 1415.23,1054.98 1418.14,1067.57 1421.05,1080.08 1423.96,1092.52 1426.87,1104.85 1429.78,1117.08 1432.69,1129.17 1435.6,1141.11 1438.51,1152.88 1441.42,1164.44 1444.33,1175.77 1447.24,1186.84 1450.15,1197.6 1453.06,1208.03 1455.98,1218.07 1458.89,1227.67 1461.8,1236.78 1464.71,1245.33 1467.62,1253.26 1470.53,1260.5 1473.44,1266.98 1476.35,1272.61 1479.26,1277.35 1482.17,1281.1 1485.08,1283.83 1487.99,1285.49 1490.9,1286.04 1493.53,1285.59 1496.44,1284.04 1499.35,1281.41 1502.26,1277.75 1505.17,1273.11 1508.08,1267.56 1510.99,1261.16 1513.9,1253.99 1516.81,1246.13 1519.72,1237.64 1522.63,1228.59 1525.54,1219.04 1528.45,1209.05 1531.36,1198.67 1534.27,1187.94 1537.18,1176.92 1540.09,1165.63 1543,1154.1 1545.91,1142.38 1548.82,1130.48 1551.73,1118.43 1554.64,1106.25 1557.55,1093.95 1560.46,1081.57 1563.37,1069.1 1566.28,1056.57 1569.19,1043.98 1572.1,1031.35 1575.01,1018.7 1577.92,1006.02 1580.83,993.325 1583.74,980.629 1586.65,967.935 1589.56,955.252 1592.47,942.585 1595.38,929.94 1598.3,917.324 1601.21,904.741 1604.12,892.196 1607.03,879.694 1609.94,867.24 1612.85,854.838 1615.76,842.492 1618.67,830.205 1621.58,817.982 1624.49,805.826 1627.4,793.74 1630.31,781.728 1633.22,769.793 1636.13,757.937 1639.04,746.165 1641.95,734.478 1644.86,722.879 1647.77,711.371 1650.68,699.957 1653.59,688.639 1656.5,677.42 1659.41,666.301 1662.32,655.286 1665.23,644.376 1668.14,633.574 1671.05,622.882 1673.96,612.302 1676.87,601.836 1679.78,591.486 1682.69,581.255 1685.6,571.143 1688.51,561.153 1691.42,551.286 1694.33,541.546 1697.24,531.932 1700.15,522.447 1703.06,513.094 1705.97,503.872 1708.88,494.785 1711.79,485.833 1714.7,477.018 1717.61,468.342 1720.52,459.806 1723.43,451.412 1726.34,443.16 1729.25,435.054 1732.16,427.093 1735.07,419.279 1737.98,411.614 1740.9,404.098 1743.81,396.733 1746.72,389.521 1749.63,382.462 1752.54,375.558 1755.45,368.809 1758.36,362.218 1761.27,355.784 1764.18,349.509 1767.09,343.394 1770,337.44 1772.91,331.648 1775.82,326.019 1778.73,320.554 1781.64,315.254 1784.55,310.119 1787.46,305.15 1790.37,300.348 1793.28,295.715 1796.19,291.25 1799.1,286.954 1802.01,282.829 1804.92,278.874 1807.83,275.091 1810.74,271.479 1813.65,268.04 1816.56,264.774 1819.47,261.682 1822.38,258.764 1825.29,256.02 1828.2,253.452 1831.11,251.058 1834.02,248.841 1836.93,246.799 1839.84,244.934 1842.75,243.246 1845.66,241.735 1848.57,240.401 1851.48,239.244 1854.39,238.265 1857.3,237.464 1860.21,236.841 1863.12,236.396 1866.03,236.128 1868.94,236.039 1871.43,236.007 1874.35,235.886 1877.26,235.676 1880.17,235.378 1883.08,234.992 1885.99,234.517 1888.9,233.955 1891.81,233.306 1894.72,232.572 1897.63,231.752 1900.54,230.847 1903.45,229.859 1906.36,228.789 1909.27,227.637 1912.18,226.406 1915.09,225.096 1918,223.708 1920.91,222.245 1923.82,220.708 1926.73,219.098 1929.64,217.417 1932.55,215.667 1935.46,213.85 1938.37,211.967 1941.28,210.021 1944.19,208.014 1947.1,205.947 1950.01,203.824 1952.92,201.645 1955.83,199.413 1958.74,197.131 1961.65,194.801 1964.56,192.425 1967.47,190.005 1970.38,187.545 1973.29,185.046 1976.2,182.511 1979.11,179.943 1982.02,177.344 1984.93,174.716 1987.84,172.063 1990.75,169.386 1993.66,166.689 1996.57,163.974 1999.48,161.244 2002.39,158.501 2005.3,155.748 2008.21,152.988 2011.12,150.223 2014.03,147.456 2016.95,144.69 2019.86,141.927 2022.77,139.171 2025.68,136.423 2028.59,133.686 2031.5,130.963 2034.41,128.256 2037.32,125.568 2040.23,122.902 2043.14,120.261 2046.05,117.646 2048.96,115.06 2051.87,112.506 2054.78,109.986 2057.69,107.502 2060.6,105.058 2063.51,102.655 2066.42,100.296 2069.33,97.9836 2072.24,95.7194 2075.15,93.5059 2078.06,91.3455 2080.97,89.2404 2083.88,87.1927 2086.79,85.2047 2089.7,83.2784 2092.61,81.4159 2095.52,79.6194 2098.43,77.8908 2101.34,76.2321 2104.25,74.6454 2107.16,73.1324 2110.07,71.6951 2112.98,70.3354 2115.89,69.055 2118.8,67.8558 2121.71,66.7394 2124.62,65.7076 2127.53,64.7619 2130.44,63.9041 2133.35,63.1357 2136.26,62.4583 2136.36,62.4583 2139.27,62.4461 2142.18,62.411 2145.09,62.3531 2148,62.2726 2150.91,62.1697 2153.82,62.0446 2156.73,61.8976 2159.64,61.7292 2162.55,61.5397 2165.46,61.3296 2168.37,61.0995 2171.28,60.8499 2174.19,60.5815 2177.1,60.2951 2180.01,59.9913 2182.92,59.671 2185.83,59.3349 2188.74,58.9841 2191.65,58.6194 2194.56,58.2419 2197.47,57.8525 2200.38,57.4525 2203.29,57.0428 2206.2,56.6247 2209.11,56.1994 2212.02,55.7681 2214.94,55.3321 2217.85,54.8927 2220.76,54.4514 2223.67,54.0094 2226.58,53.5682 2229.49,53.1293 2232.4,52.6941 2235.31,52.2642 2238.22,51.841 2241.13,51.4262 2244.04,51.0213 2246.95,50.6279 2249.86,50.2477 2252.77,49.8822 2255.68,49.5332 2258.59,49.2023 2261.5,48.8911 2264.41,48.6015 2267.32,48.335 2270.23,48.0934 2273.14,47.8785 2276.05,47.6918 2278.96,47.5352 2281.87,47.4105 2284.78,47.3192 2287.69,47.2632 2290.6,47.2441 \"/>\n",
       "<polyline clip-path=\"url(#clip092)\" style=\"stroke:#ff0000; stroke-linecap:round; stroke-linejoin:round; stroke-width:2; stroke-opacity:1; fill:none\" points=\"218.754,1286.04 218.754,1286.04 221.664,1285.49 224.574,1283.83 227.484,1281.1 230.394,1277.34 233.305,1272.61 236.215,1266.97 239.125,1260.49 242.035,1253.24 244.945,1245.3 247.856,1236.74 250.766,1227.61 253.676,1217.99 256.586,1207.93 259.497,1197.47 262.407,1186.67 265.317,1175.56 268.227,1164.18 271.137,1152.56 274.048,1140.74 276.958,1128.73 279.868,1116.56 282.778,1104.25 285.688,1091.82 288.599,1079.28 291.509,1066.66 294.419,1053.95 297.329,1041.19 300.239,1028.36 303.15,1015.49 306.06,1002.59 308.97,989.657 311.88,976.705 314.79,963.74 317.701,950.769 320.611,937.797 323.521,924.83 326.431,911.873 329.341,898.931 332.252,886.008 335.162,873.109 338.072,860.238 340.982,847.398 343.892,834.593 346.803,821.827 349.713,809.103 352.623,796.423 355.533,783.792 358.443,771.211 361.354,758.683 364.264,746.212 367.174,733.8 370.084,721.448 372.995,709.16 375.905,696.938 378.815,684.784 381.725,672.7 384.635,660.689 387.546,648.752 390.456,636.891 393.366,625.108 396.276,613.406 399.186,601.785 402.097,590.249 405.007,578.798 407.917,567.434 410.827,556.16 413.737,544.976 416.648,533.884 419.558,522.887 422.468,511.984 425.378,501.179 428.288,490.473 431.199,479.866 434.109,469.361 437.019,458.958 439.929,448.66 442.839,438.467 445.75,428.382 448.66,418.405 451.57,408.537 454.48,398.781 457.39,389.136 460.301,379.605 463.211,370.189 466.121,360.888 469.031,351.705 471.941,342.639 474.852,333.693 477.762,324.868 480.672,316.164 483.582,307.583 486.492,299.125 489.403,290.792 492.313,282.585 495.223,274.505 498.133,266.552 501.044,258.729 503.954,251.035 506.864,243.471 509.774,236.039 512.684,228.74 515.595,221.574 518.505,214.542 521.415,207.645 524.325,200.884 527.235,194.26 530.146,187.773 533.056,181.425 535.966,175.215 538.876,169.145 541.786,163.216 544.697,157.428 547.607,151.782 550.517,146.278 553.427,140.917 556.337,135.701 559.248,130.628 562.158,125.701 565.068,120.919 567.978,116.283 570.888,111.795 573.799,107.453 576.709,103.259 579.619,99.2134 582.529,95.3165 585.439,91.5687 588.35,87.9705 591.26,84.5223 594.17,81.2246 597.08,78.0777 599.99,75.0819 602.901,72.2377 605.811,69.5453 608.721,67.0051 611.631,64.6174 614.542,62.3824 617.452,60.3005 620.362,58.3717 623.272,56.5965 626.182,54.9749 629.093,53.5072 632.003,52.1935 634.913,51.0341 637.823,50.0289 640.733,49.1782 643.644,48.482 646.554,47.9405 649.464,47.5536 652.374,47.3215 655.284,47.2441 658.195,47.2441 661.105,47.2441 664.015,47.2441 666.925,47.2441 669.835,47.2441 672.746,47.2441 675.656,47.2441 678.566,47.2441 681.476,47.2441 684.386,47.2441 687.297,47.2441 690.207,47.2441 693.117,47.2441 696.027,47.2441 698.937,47.2441 701.848,47.2441 704.758,47.2441 707.668,47.2441 710.578,47.2441 713.488,47.2441 716.399,47.2441 719.309,47.2441 722.219,47.2441 725.129,47.2441 728.04,47.2441 730.95,47.2441 733.86,47.2441 736.77,47.2441 739.68,47.2441 742.591,47.2441 745.501,47.2441 748.411,47.2441 751.321,47.2441 754.231,47.2441 757.142,47.2441 760.052,47.2441 762.962,47.2441 765.872,47.2441 768.782,47.2441 771.693,47.2441 774.603,47.2441 777.513,47.2441 780.423,47.2441 783.333,47.2441 786.244,47.2441 789.154,47.2441 792.064,47.2441 794.974,47.2441 797.884,47.2441 800.795,47.2441 803.705,47.2441 806.615,47.2441 809.525,47.2441 812.435,47.2441 815.346,47.2441 818.256,47.2441 821.166,47.2441 824.076,47.2441 826.986,47.2441 829.897,47.2441 832.807,47.2441 835.717,47.2441 838.627,47.2441 841.538,47.2441 844.448,47.2441 847.358,47.2441 850.268,47.2441 853.178,47.2441 856.089,47.2441 858.999,47.2441 861.909,47.2441 864.819,47.2441 867.729,47.2441 870.64,47.2441 873.55,47.2441 873.646,47.2441 876.556,47.2644 879.466,47.3216 882.376,47.414 885.287,47.5399 888.197,47.6975 891.107,47.8851 894.017,48.101 896.927,48.3434 899.838,48.6107 902.748,48.9011 905.658,49.2129 908.568,49.5444 911.478,49.894 914.389,50.26 917.299,50.6407 920.209,51.0345 923.119,51.4397 926.03,51.8549 928.94,52.2783 931.85,52.7084 934.76,53.1437 937.67,53.5828 940.581,54.024 943.491,54.466 946.401,54.9073 949.311,55.3465 952.221,55.7824 955.132,56.2135 958.042,56.6386 960.952,57.0565 963.862,57.4658 966.772,57.8656 969.683,58.2545 972.593,58.6317 975.503,58.9959 978.413,59.3463 981.323,59.6818 984.234,60.0016 987.144,60.3048 990.054,60.5907 992.964,60.8584 995.874,61.1074 998.785,61.3368 1001.69,61.5462 1004.61,61.7351 1007.52,61.9028 1010.43,62.0491 1013.34,62.1734 1016.25,62.2756 1019.16,62.3554 1022.07,62.4125 1024.98,62.4468 1027.89,62.4583 1028.17,62.5669 1031.09,63.6946 1034,64.8802 1036.91,66.1255 1039.82,67.4318 1042.73,68.801 1045.64,70.2346 1048.55,71.7342 1051.46,73.3014 1054.37,74.9378 1057.28,76.645 1060.19,78.4245 1063.1,80.2779 1066.01,82.2068 1068.92,84.2126 1071.83,86.297 1074.74,88.4613 1077.65,90.7071 1080.56,93.0359 1083.47,95.449 1086.38,97.9479 1089.29,100.534 1092.2,103.209 1095.11,105.974 1098.02,108.83 1100.93,111.778 1103.84,114.821 1106.75,117.959 1109.66,121.193 1112.57,124.525 1115.48,127.956 1118.39,131.486 1121.3,135.118 1124.21,138.852 1127.12,142.69 1130.03,146.632 1132.94,150.679 1135.85,154.833 1138.76,159.094 1141.67,163.463 1144.58,167.941 1147.49,172.53 1150.4,177.229 1153.31,182.04 1156.22,186.963 1159.13,191.999 1162.04,197.149 1164.95,202.414 1167.86,207.793 1170.77,213.289 1173.69,218.9 1176.6,224.628 1179.51,230.474 1182.42,236.437 1185.33,242.518 1188.24,248.717 1191.15,255.035 1194.06,261.472 1196.97,268.028 1199.88,274.704 1202.79,281.5 1205.7,288.415 1208.61,295.45 1211.52,302.605 1214.43,309.879 1217.34,317.274 1220.25,324.789 1223.16,332.423 1226.07,340.177 1228.98,348.05 1231.89,356.042 1234.8,364.154 1237.71,372.384 1240.62,380.732 1243.53,389.198 1246.44,397.781 1249.35,406.482 1252.26,415.299 1255.17,424.232 1258.08,433.28 1260.99,442.443 1263.9,451.72 1266.81,461.11 1269.72,470.612 1272.63,480.227 1275.54,489.952 1278.45,499.787 1281.36,509.731 1284.27,519.783 1287.18,529.942 1290.09,540.206 1293,550.576 1295.91,561.049 1298.82,571.624 1301.73,582.3 1304.64,593.076 1307.55,603.95 1310.46,614.92 1313.37,625.986 1316.29,637.146 1319.2,648.398 1322.11,659.74 1325.02,671.17 1327.93,682.688 1330.84,694.29 1333.75,705.975 1336.66,717.741 1339.57,729.585 1342.48,741.506 1345.39,753.501 1348.3,765.568 1351.21,777.704 1354.12,789.906 1357.03,802.172 1359.94,814.499 1362.85,826.884 1365.76,839.324 1368.67,851.815 1371.58,864.354 1374.49,876.937 1377.4,889.56 1380.31,902.219 1383.22,914.91 1386.13,927.628 1389.04,940.368 1391.95,953.125 1394.86,965.892 1397.77,978.664 1400.68,991.435 1403.59,1004.2 1406.5,1016.94 1409.41,1029.66 1412.32,1042.34 1415.23,1054.98 1418.14,1067.57 1421.05,1080.08 1423.96,1092.52 1426.87,1104.85 1429.78,1117.08 1432.69,1129.17 1435.6,1141.11 1438.51,1152.88 1441.42,1164.44 1444.33,1175.77 1447.24,1186.84 1450.15,1197.6 1453.06,1208.03 1455.98,1218.07 1458.89,1227.67 1461.8,1236.78 1464.71,1245.33 1467.62,1253.26 1470.53,1260.5 1473.44,1266.98 1476.35,1272.61 1479.26,1277.35 1482.17,1281.1 1485.08,1283.83 1487.99,1285.49 1490.9,1286.04 1493.53,1285.59 1496.44,1284.04 1499.35,1281.41 1502.26,1277.75 1505.17,1273.11 1508.08,1267.56 1510.99,1261.16 1513.9,1253.99 1516.81,1246.13 1519.72,1237.64 1522.63,1228.59 1525.54,1219.04 1528.45,1209.05 1531.36,1198.67 1534.27,1187.94 1537.18,1176.92 1540.09,1165.63 1543,1154.1 1545.91,1142.38 1548.82,1130.48 1551.73,1118.43 1554.64,1106.25 1557.55,1093.95 1560.46,1081.57 1563.37,1069.1 1566.28,1056.57 1569.19,1043.98 1572.1,1031.35 1575.01,1018.7 1577.92,1006.02 1580.83,993.325 1583.74,980.629 1586.65,967.935 1589.56,955.252 1592.47,942.585 1595.38,929.94 1598.3,917.324 1601.21,904.741 1604.12,892.196 1607.03,879.694 1609.94,867.24 1612.85,854.838 1615.76,842.492 1618.67,830.205 1621.58,817.982 1624.49,805.826 1627.4,793.74 1630.31,781.728 1633.22,769.793 1636.13,757.937 1639.04,746.165 1641.95,734.478 1644.86,722.879 1647.77,711.371 1650.68,699.957 1653.59,688.639 1656.5,677.42 1659.41,666.301 1662.32,655.286 1665.23,644.376 1668.14,633.574 1671.05,622.882 1673.96,612.302 1676.87,601.836 1679.78,591.486 1682.69,581.255 1685.6,571.143 1688.51,561.153 1691.42,551.286 1694.33,541.546 1697.24,531.932 1700.15,522.447 1703.06,513.094 1705.97,503.872 1708.88,494.785 1711.79,485.833 1714.7,477.018 1717.61,468.342 1720.52,459.806 1723.43,451.412 1726.34,443.16 1729.25,435.054 1732.16,427.093 1735.07,419.279 1737.98,411.614 1740.9,404.098 1743.81,396.733 1746.72,389.521 1749.63,382.462 1752.54,375.558 1755.45,368.809 1758.36,362.218 1761.27,355.784 1764.18,349.509 1767.09,343.394 1770,337.44 1772.91,331.648 1775.82,326.019 1778.73,320.554 1781.64,315.254 1784.55,310.119 1787.46,305.15 1790.37,300.348 1793.28,295.715 1796.19,291.25 1799.1,286.954 1802.01,282.829 1804.92,278.874 1807.83,275.091 1810.74,271.479 1813.65,268.04 1816.56,264.774 1819.47,261.682 1822.38,258.764 1825.29,256.02 1828.2,253.452 1831.11,251.058 1834.02,248.841 1836.93,246.799 1839.84,244.934 1842.75,243.246 1845.66,241.735 1848.57,240.401 1851.48,239.244 1854.39,238.265 1857.3,237.464 1860.21,236.841 1863.12,236.396 1866.03,236.128 1868.94,236.039 1871.43,236.007 1874.35,235.886 1877.26,235.676 1880.17,235.378 1883.08,234.992 1885.99,234.517 1888.9,233.955 1891.81,233.306 1894.72,232.572 1897.63,231.752 1900.54,230.847 1903.45,229.859 1906.36,228.789 1909.27,227.637 1912.18,226.406 1915.09,225.096 1918,223.708 1920.91,222.245 1923.82,220.708 1926.73,219.098 1929.64,217.417 1932.55,215.667 1935.46,213.85 1938.37,211.967 1941.28,210.021 1944.19,208.014 1947.1,205.947 1950.01,203.824 1952.92,201.645 1955.83,199.413 1958.74,197.131 1961.65,194.801 1964.56,192.425 1967.47,190.005 1970.38,187.545 1973.29,185.046 1976.2,182.511 1979.11,179.943 1982.02,177.344 1984.93,174.716 1987.84,172.063 1990.75,169.386 1993.66,166.689 1996.57,163.974 1999.48,161.244 2002.39,158.501 2005.3,155.748 2008.21,152.988 2011.12,150.223 2014.03,147.456 2016.95,144.69 2019.86,141.927 2022.77,139.171 2025.68,136.423 2028.59,133.686 2031.5,130.963 2034.41,128.256 2037.32,125.568 2040.23,122.902 2043.14,120.261 2046.05,117.646 2048.96,115.06 2051.87,112.506 2054.78,109.986 2057.69,107.502 2060.6,105.058 2063.51,102.655 2066.42,100.296 2069.33,97.9836 2072.24,95.7194 2075.15,93.5059 2078.06,91.3455 2080.97,89.2404 2083.88,87.1927 2086.79,85.2047 2089.7,83.2784 2092.61,81.4159 2095.52,79.6194 2098.43,77.8908 2101.34,76.2321 2104.25,74.6454 2107.16,73.1324 2110.07,71.6951 2112.98,70.3354 2115.89,69.055 2118.8,67.8558 2121.71,66.7394 2124.62,65.7076 2127.53,64.7619 2130.44,63.9041 2133.35,63.1357 2136.26,62.4583 2136.36,62.4583 2139.27,62.4461 2142.18,62.411 2145.09,62.3531 2148,62.2726 2150.91,62.1697 2153.82,62.0446 2156.73,61.8976 2159.64,61.7292 2162.55,61.5397 2165.46,61.3296 2168.37,61.0995 2171.28,60.8499 2174.19,60.5815 2177.1,60.2951 2180.01,59.9913 2182.92,59.671 2185.83,59.3349 2188.74,58.9841 2191.65,58.6194 2194.56,58.2419 2197.47,57.8525 2200.38,57.4525 2203.29,57.0428 2206.2,56.6247 2209.11,56.1994 2212.02,55.7681 2214.94,55.3321 2217.85,54.8927 2220.76,54.4514 2223.67,54.0094 2226.58,53.5682 2229.49,53.1293 2232.4,52.6941 2235.31,52.2642 2238.22,51.841 2241.13,51.4262 2244.04,51.0213 2246.95,50.6279 2249.86,50.2477 2252.77,49.8822 2255.68,49.5332 2258.59,49.2023 2261.5,48.8911 2264.41,48.6015 2267.32,48.335 2270.23,48.0934 2273.14,47.8785 2276.05,47.6918 2278.96,47.5352 2281.87,47.4105 2284.78,47.3192 2287.69,47.2632 2290.6,47.2441 \"/>\n",
       "</svg>\n"
      ]
     },
     "execution_count": 14,
     "metadata": {},
     "output_type": "execute_result"
    }
   ],
   "source": [
    "plot()\n",
    "f1 = k-> spinon_dispersion(k, sim_0, λ_0 )[1]\n",
    "f_analy = k-> spinon_dispersion_analytic(k,sim_0)\n",
    "plot_spinons(f1,color=:red)\n",
    "# plot_spinons(f1,color=:black)"
   ]
  },
  {
   "cell_type": "code",
   "execution_count": 15,
   "id": "c3419ce2-027f-4103-8edb-4c0ab230646e",
   "metadata": {},
   "outputs": [
    {
     "data": {
      "text/plain": [
       "Dict{String, IntegrationParameters} with 4 entries:\n",
       "  \"slow\"      => IntegrationParameters(1000, 0.02)\n",
       "  \"fast\"      => IntegrationParameters(100, 0.05)\n",
       "  \"very_slow\" => IntegrationParameters(10000, 0.02)\n",
       "  \"very_fast\" => IntegrationParameters(10, 0.1)"
      ]
     },
     "execution_count": 15,
     "metadata": {},
     "output_type": "execute_result"
    }
   ],
   "source": [
    "const integration_settings = Dict(\n",
    "    \"very_fast\" => IntegrationParameters(n_K_samples=10,   broadening_dE=0.1),\n",
    "    \"fast\" =>   IntegrationParameters(n_K_samples=100,  broadening_dE=0.05),\n",
    "    \"slow\" =>      IntegrationParameters(n_K_samples=1000, broadening_dE=0.02),\n",
    "    \"very_slow\" => IntegrationParameters(n_K_samples=10000,broadening_dE=0.02)\n",
    ")"
   ]
  },
  {
   "cell_type": "code",
   "execution_count": 16,
   "id": "8480a73c-325e-44f3-8583-220157ba8ef5",
   "metadata": {},
   "outputs": [
    {
     "data": {
      "text/plain": [
       "calc_spectral_weight_along_path"
      ]
     },
     "execution_count": 16,
     "metadata": {},
     "output_type": "execute_result"
    }
   ],
   "source": [
    "using ProgressMeter\n",
    "\n",
    "###########\n",
    "# expensive calculations\n",
    "\"\"\"\n",
    "calc_spectral_weight_along_path(sim::SimulationParameters,\n",
    "    ip::IntegrationParameters, Egrid::Vector{Float64}, path::BZPath)\n",
    "\n",
    "    @param sim the simulation parameters\n",
    "    @param λ the chemical potential parameter\n",
    "    @param ip the numerical constants, passed directly to spectral_weight\n",
    "    @param Egrid the grid for energy values\n",
    "    @param path the path through the Brillouin zone\n",
    "    @param g_tensor the matrix such that, with respect to local axes, m = g S\n",
    "\n",
    "    Saves the results to\n",
    "\"\"\"\n",
    "function calc_spectral_weight_along_path(\n",
    "    output_dir::String;\n",
    "    sim::SimulationParameters, λ::Float64,\n",
    "    ip::IntegrationParameters, Egrid::Vector{Float64}, path::BZPath,\n",
    "    g_tensor=nothing\n",
    "    )\n",
    "    \n",
    "    num_K = length(path.K)\n",
    "    \n",
    "    Spm = zeros(ComplexF64, num_K, length(Egrid))\n",
    "    Spp = zeros(ComplexF64, num_K, length(Egrid))\n",
    "    Smagnetic = zeros(Float64, num_K, length(Egrid))\n",
    "    bounds = zeros(Float64, num_K, 2)\n",
    "    \n",
    "    p = Progress(num_K,desc=\"Spectral weight: \")\n",
    "\n",
    "    Threads.@threads for I = 1:num_K\n",
    "        k = path.K[I]*0.5\n",
    "        q = SVector(k[1], k[2], k[3])\n",
    "        # hard-coded DO g-tensor\n",
    "        \n",
    "        # no race condition here, yay\n",
    "        # Spm[I, :], Spp[I, :], Smagnetic[I, :], bounds[I,:] = spectral_weight(q, Egrid, sim, λ, ip, g_tensor )\n",
    "        tmp_intensity = spectral_weight(q, Egrid, sim, λ, ip, g_tensor )\n",
    "        Spm[I, :] .= tmp_intensity.Sqω_pm\n",
    "        Spp[I, :] .= tmp_intensity.Sqω_pp\n",
    "        Smagnetic[I, :] .= tmp_intensity.Sqω_magnetic\n",
    "        bounds[I,:] .= tmp_intensity.bounds\n",
    "        \n",
    "        next!(p)\n",
    "    end\n",
    "    finish!(p)\n",
    "\n",
    "    \n",
    "    # save the data\n",
    "    return save_SQW(output_dir, \n",
    "        Spm=Spm,\n",
    "        Spp=Spp,\n",
    "        Smagnetic=Smagnetic, \n",
    "        bounds=bounds,\n",
    "        BZ_path=path,\n",
    "        Egrid=collect(Egrid),\n",
    "        sim=sim, \n",
    "        ip=ip\n",
    "        )\n",
    "end\n",
    "\n",
    "\n"
   ]
  },
  {
   "cell_type": "code",
   "execution_count": 17,
   "id": "749798c7-a518-4ef3-a6c7-a629898f82ab",
   "metadata": {},
   "outputs": [
    {
     "data": {
      "text/plain": [
       "save_SQW (generic function with 1 method)"
      ]
     },
     "execution_count": 17,
     "metadata": {},
     "output_type": "execute_result"
    }
   ],
   "source": [
    "\n",
    "function save_SQW(output_dir::String;\n",
    "        Spm::Union{Matrix{ComplexF64},Vector{ComplexF64}},\n",
    "        Spp::Union{Matrix{ComplexF64},Vector{ComplexF64}},\n",
    "        Smagnetic::Union{Matrix{Float64},Vector{Float64}},\n",
    "        bounds::Union{Nothing,Matrix{Float64}},\n",
    "        Egrid::Vector{Float64},\n",
    "        BZ_path::Union{Nothing,BZPath},\n",
    "        sim::SimulationParameters, \n",
    "        ip::IntegrationParameters,\n",
    "        prefix=\"SQW\")\n",
    "\n",
    "    name = output_dir*\"/\"*prefix*sim_identifier(sim)*\".jld\"\n",
    "    rm(name, force=true)\n",
    "    jldopen(name, \"w\") do file\n",
    "        g1 = create_group(file, \"integration_parameters\")\n",
    "        g1[\"n_K_samples\"] = ip.n_K_samples\n",
    "        g1[\"broadening_dE\"] = ip.broadening_dE\n",
    "        g1[\"version\"] = 1.0\n",
    "#        g1[\"BZ_grid_density\"] = ip.BZ_grid_density\n",
    "\n",
    "        g = create_group(file, \"physical_parameters\")\n",
    "        g[\"name\"] = sim.name\n",
    "        g[\"emergent_fluxes\"] = calc_fluxes(sim.lat, sim.A)\n",
    "        g[\"gauge\"] = sim.A\n",
    "        g[\"Jpm\"] = sim.Jpm\n",
    "        g[\"B\"] = sim.B\n",
    "        # g[\"lambda\"] = sim.λ\n",
    "        g[\"L\"]=sim.lat.L\n",
    "\n",
    "        d = create_group(file, \"intensity\") \n",
    "        d[\"Spm\"] = Spm\n",
    "        d[\"Spp\"] = Spp\n",
    "        d[\"Smagnetic\"] = Smagnetic\n",
    "        if bounds != nothing\n",
    "            d[\"bounds\"] = bounds\n",
    "        end\n",
    "        # a list of K points, such that the I'th S slics corresponds to the I'th K point\n",
    "        if BZ_path != nothing\n",
    "            d[\"Q_list\"] = BZ_path.K \n",
    "            d[\"tau\"] = BZ_path.t\n",
    "            d[\"ticks_tau\"] = BZ_path.ticks_t\n",
    "            d[\"ticks_label\"] = BZ_path.ticks_label\n",
    "        end\n",
    "        d[\"W\"] = Egrid\n",
    "    end\n",
    "    return name\n",
    "end"
   ]
  },
  {
   "cell_type": "code",
   "execution_count": 18,
   "id": "266c2ce6-9191-4656-869c-e0d3f5da5c8e",
   "metadata": {},
   "outputs": [
    {
     "ename": "LoadError",
     "evalue": "MethodError: no method matching corr_at(::SVector{3, Float64}, ::SVector{3, Float64}, ::SimulationParameters, ::Float64)\n\n\u001b[0mClosest candidates are:\n\u001b[0m  corr_at(::SVector{3, Float64}, ::SVector{3, Float64}, \u001b[91m::CompiledModel\u001b[39m, ::Float64)\n\u001b[0m\u001b[90m   @\u001b[39m \u001b[35mMain.SpinonStructure\u001b[39m \u001b[90m~/gh/spinon-calc/src/\u001b[39m\u001b[90m\u001b[4mSpinonStructure.jl:440\u001b[24m\u001b[39m\n\u001b[0m  corr_at(::SVector{3, Float64}, ::SVector{3, Float64}, \u001b[91m::CompiledModel\u001b[39m, ::Float64, \u001b[91m::Union{Nothing, SMatrix{3, 3, Float64}}\u001b[39m)\n\u001b[0m\u001b[90m   @\u001b[39m \u001b[35mMain.SpinonStructure\u001b[39m \u001b[90m~/gh/spinon-calc/src/\u001b[39m\u001b[90m\u001b[4mSpinonStructure.jl:440\u001b[24m\u001b[39m\n",
     "output_type": "error",
     "traceback": [
      "MethodError: no method matching corr_at(::SVector{3, Float64}, ::SVector{3, Float64}, ::SimulationParameters, ::Float64)\n\n\u001b[0mClosest candidates are:\n\u001b[0m  corr_at(::SVector{3, Float64}, ::SVector{3, Float64}, \u001b[91m::CompiledModel\u001b[39m, ::Float64)\n\u001b[0m\u001b[90m   @\u001b[39m \u001b[35mMain.SpinonStructure\u001b[39m \u001b[90m~/gh/spinon-calc/src/\u001b[39m\u001b[90m\u001b[4mSpinonStructure.jl:440\u001b[24m\u001b[39m\n\u001b[0m  corr_at(::SVector{3, Float64}, ::SVector{3, Float64}, \u001b[91m::CompiledModel\u001b[39m, ::Float64, \u001b[91m::Union{Nothing, SMatrix{3, 3, Float64}}\u001b[39m)\n\u001b[0m\u001b[90m   @\u001b[39m \u001b[35mMain.SpinonStructure\u001b[39m \u001b[90m~/gh/spinon-calc/src/\u001b[39m\u001b[90m\u001b[4mSpinonStructure.jl:440\u001b[24m\u001b[39m\n",
      "",
      "Stacktrace:",
      " [1] top-level scope",
      "   @ In[18]:2"
     ]
    }
   ],
   "source": [
    "\n",
    "corr_at((@SVector [0.,0.,0.]), (@SVector [1.,2.,3.]), sim_0, λ_0)"
   ]
  },
  {
   "cell_type": "code",
   "execution_count": 19,
   "id": "e440beeb-1fe3-487b-af14-e2c53ed3ee77",
   "metadata": {},
   "outputs": [
    {
     "data": {
      "text/plain": [
       "plot_spin_corr (generic function with 1 method)"
      ]
     },
     "execution_count": 19,
     "metadata": {},
     "output_type": "execute_result"
    }
   ],
   "source": [
    "\n",
    "\n",
    "function plot_spin_corr(data)\n",
    "    d = data[\"intensity\"]\n",
    "    p = heatmap(d[\"tau\"],d[\"W\"],real.(d[\"Spm\"]'))\n",
    "    plot!(d[\"tau\"], d[\"bounds\"], linecolor=:white)\n",
    "    xticks!(d[\"ticks_tau\"],d[\"ticks_label\"])\n",
    "    plot!(legend=nothing)\n",
    "\n",
    "    sim =data[\"physical_parameters\"]\n",
    "\n",
    "    B = sim[\"B\"]\n",
    "    vline!(d[\"ticks_tau\"], linecolor=:white, linestyle=:dash)\n",
    "    \n",
    "    bstr = @sprintf(\"[%.3f,%.3f,%.3f]\",B[1],B[2],B[3])  \n",
    "    if norm( abs.(B/norm(B))- [1,1,1]/√3) < 1e-8\n",
    "        bstr = @sprintf(\"%.3f [1,1,1]/\\\\sqrt{3}\", norm(B) )\n",
    "    elseif norm( abs.(B/norm(B))- [1,1,0]/√2) < 1e-8\n",
    "        bstr = @sprintf(\"%.3f [1,1,0]/\\\\sqrt{2}\", norm(B))\n",
    "    end\n",
    "    title!(@sprintf(\"\\$J_\\\\pm=%.3fJ_{yy}, B=%s J_{yy}\\$\",sim[\"Jpm\"],bstr))\n",
    "    # savefig(@sprintf(\"figures/specweight_%s?J_pm=%.3f?B=[%.3f,%.3f,%.3f].pdf\",sim[\"name\"],sim[\"Jpm\"],B[1],B[2],B[3])  )\n",
    "    return p\n",
    "end\n",
    "\n"
   ]
  },
  {
   "cell_type": "code",
   "execution_count": 20,
   "id": "6ff00dc5-bbde-4e45-904c-49e788db94f4",
   "metadata": {},
   "outputs": [
    {
     "name": "stderr",
     "output_type": "stream",
     "text": [
      "\u001b[36m\u001b[1m[ \u001b[22m\u001b[39m\u001b[36m\u001b[1mInfo: \u001b[22m\u001b[39mPrecompiling FileIOExt [f5f51d8f-5827-5d2e-939b-192fcd6ec70c]\n"
     ]
    },
    {
     "ename": "LoadError",
     "evalue": "TaskFailedException\n\n\u001b[91m    nested task error: \u001b[39mMethodError: no method matching spectral_weight(::SVector{3, Float64}, ::Vector{Float64}, ::SimulationParameters, ::Float64, ::IntegrationParameters, ::SMatrix{3, 3, Float64, 9})\n    \n    \u001b[0mClosest candidates are:\n    \u001b[0m  spectral_weight(::SVector{3, Float64}, ::Vector{Float64}, \u001b[91m::CompiledModel\u001b[39m, ::Float64, ::IntegrationParameters, ::Union{Nothing, SMatrix{3, 3, Float64}})\n    \u001b[0m\u001b[90m   @\u001b[39m \u001b[35mMain.SpinonStructure\u001b[39m \u001b[90m~/gh/spinon-calc/src/\u001b[39m\u001b[90m\u001b[4mSpinonStructure.jl:612\u001b[24m\u001b[39m\n    \u001b[0m  spectral_weight(::SVector{3, Float64}, ::Vector{Float64}, \u001b[91m::CompiledModel\u001b[39m, ::Float64, ::IntegrationParameters)\n    \u001b[0m\u001b[90m   @\u001b[39m \u001b[35mMain.SpinonStructure\u001b[39m \u001b[90m~/gh/spinon-calc/src/\u001b[39m\u001b[90m\u001b[4mSpinonStructure.jl:612\u001b[24m\u001b[39m\n    \n    Stacktrace:\n     [1] \u001b[0m\u001b[1mmacro expansion\u001b[22m\n    \u001b[90m   @\u001b[39m \u001b[90m./\u001b[39m\u001b[90m\u001b[4mIn[16]:41\u001b[24m\u001b[39m\u001b[90m [inlined]\u001b[39m\n     [2] \u001b[0m\u001b[1m(::var\"#103#threadsfor_fun#8\"{var\"#103#threadsfor_fun#7#9\"{SimulationParameters, Float64, IntegrationParameters, Vector{Float64}, BZPath, SMatrix{3, 3, Float64, 9}, Progress, Matrix{Float64}, Matrix{Float64}, Matrix{ComplexF64}, Matrix{ComplexF64}, UnitRange{Int64}}})\u001b[22m\u001b[0m\u001b[1m(\u001b[22m\u001b[90mtid\u001b[39m::\u001b[0mInt64; \u001b[90monethread\u001b[39m::\u001b[0mBool\u001b[0m\u001b[1m)\u001b[22m\n    \u001b[90m   @\u001b[39m \u001b[36mMain\u001b[39m \u001b[90m./\u001b[39m\u001b[90m\u001b[4mthreadingconstructs.jl:215\u001b[24m\u001b[39m\n     [3] \u001b[0m\u001b[1m#103#threadsfor_fun\u001b[22m\n    \u001b[90m   @\u001b[39m \u001b[90m./\u001b[39m\u001b[90m\u001b[4mthreadingconstructs.jl:182\u001b[24m\u001b[39m\u001b[90m [inlined]\u001b[39m\n     [4] \u001b[0m\u001b[1m(::Base.Threads.var\"#1#2\"{var\"#103#threadsfor_fun#8\"{var\"#103#threadsfor_fun#7#9\"{SimulationParameters, Float64, IntegrationParameters, Vector{Float64}, BZPath, SMatrix{3, 3, Float64, 9}, Progress, Matrix{Float64}, Matrix{Float64}, Matrix{ComplexF64}, Matrix{ComplexF64}, UnitRange{Int64}}}, Int64})\u001b[22m\u001b[0m\u001b[1m(\u001b[22m\u001b[0m\u001b[1m)\u001b[22m\n    \u001b[90m   @\u001b[39m \u001b[90mBase.Threads\u001b[39m \u001b[90m./\u001b[39m\u001b[90m\u001b[4mthreadingconstructs.jl:154\u001b[24m\u001b[39m\n\n...and 3 more exceptions.\n",
     "output_type": "error",
     "traceback": [
      "TaskFailedException\n\n\u001b[91m    nested task error: \u001b[39mMethodError: no method matching spectral_weight(::SVector{3, Float64}, ::Vector{Float64}, ::SimulationParameters, ::Float64, ::IntegrationParameters, ::SMatrix{3, 3, Float64, 9})\n    \n    \u001b[0mClosest candidates are:\n    \u001b[0m  spectral_weight(::SVector{3, Float64}, ::Vector{Float64}, \u001b[91m::CompiledModel\u001b[39m, ::Float64, ::IntegrationParameters, ::Union{Nothing, SMatrix{3, 3, Float64}})\n    \u001b[0m\u001b[90m   @\u001b[39m \u001b[35mMain.SpinonStructure\u001b[39m \u001b[90m~/gh/spinon-calc/src/\u001b[39m\u001b[90m\u001b[4mSpinonStructure.jl:612\u001b[24m\u001b[39m\n    \u001b[0m  spectral_weight(::SVector{3, Float64}, ::Vector{Float64}, \u001b[91m::CompiledModel\u001b[39m, ::Float64, ::IntegrationParameters)\n    \u001b[0m\u001b[90m   @\u001b[39m \u001b[35mMain.SpinonStructure\u001b[39m \u001b[90m~/gh/spinon-calc/src/\u001b[39m\u001b[90m\u001b[4mSpinonStructure.jl:612\u001b[24m\u001b[39m\n    \n    Stacktrace:\n     [1] \u001b[0m\u001b[1mmacro expansion\u001b[22m\n    \u001b[90m   @\u001b[39m \u001b[90m./\u001b[39m\u001b[90m\u001b[4mIn[16]:41\u001b[24m\u001b[39m\u001b[90m [inlined]\u001b[39m\n     [2] \u001b[0m\u001b[1m(::var\"#103#threadsfor_fun#8\"{var\"#103#threadsfor_fun#7#9\"{SimulationParameters, Float64, IntegrationParameters, Vector{Float64}, BZPath, SMatrix{3, 3, Float64, 9}, Progress, Matrix{Float64}, Matrix{Float64}, Matrix{ComplexF64}, Matrix{ComplexF64}, UnitRange{Int64}}})\u001b[22m\u001b[0m\u001b[1m(\u001b[22m\u001b[90mtid\u001b[39m::\u001b[0mInt64; \u001b[90monethread\u001b[39m::\u001b[0mBool\u001b[0m\u001b[1m)\u001b[22m\n    \u001b[90m   @\u001b[39m \u001b[36mMain\u001b[39m \u001b[90m./\u001b[39m\u001b[90m\u001b[4mthreadingconstructs.jl:215\u001b[24m\u001b[39m\n     [3] \u001b[0m\u001b[1m#103#threadsfor_fun\u001b[22m\n    \u001b[90m   @\u001b[39m \u001b[90m./\u001b[39m\u001b[90m\u001b[4mthreadingconstructs.jl:182\u001b[24m\u001b[39m\u001b[90m [inlined]\u001b[39m\n     [4] \u001b[0m\u001b[1m(::Base.Threads.var\"#1#2\"{var\"#103#threadsfor_fun#8\"{var\"#103#threadsfor_fun#7#9\"{SimulationParameters, Float64, IntegrationParameters, Vector{Float64}, BZPath, SMatrix{3, 3, Float64, 9}, Progress, Matrix{Float64}, Matrix{Float64}, Matrix{ComplexF64}, Matrix{ComplexF64}, UnitRange{Int64}}}, Int64})\u001b[22m\u001b[0m\u001b[1m(\u001b[22m\u001b[0m\u001b[1m)\u001b[22m\n    \u001b[90m   @\u001b[39m \u001b[90mBase.Threads\u001b[39m \u001b[90m./\u001b[39m\u001b[90m\u001b[4mthreadingconstructs.jl:154\u001b[24m\u001b[39m\n\n...and 3 more exceptions.\n",
      "",
      "Stacktrace:",
      " [1] threading_run(fun::var\"#103#threadsfor_fun#8\"{var\"#103#threadsfor_fun#7#9\"{SimulationParameters, Float64, IntegrationParameters, Vector{Float64}, BZPath, SMatrix{3, 3, Float64, 9}, Progress, Matrix{Float64}, Matrix{Float64}, Matrix{ComplexF64}, Matrix{ComplexF64}, UnitRange{Int64}}}, static::Bool)",
      "   @ Base.Threads ./threadingconstructs.jl:172",
      " [2] macro expansion",
      "   @ ./threadingconstructs.jl:220 [inlined]",
      " [3] calc_spectral_weight_along_path(output_dir::String; sim::SimulationParameters, λ::Float64, ip::IntegrationParameters, Egrid::Vector{Float64}, path::BZPath, g_tensor::SMatrix{3, 3, Float64, 9})",
      "   @ Main ./In[16]:34",
      " [4] top-level scope",
      "   @ In[20]:16"
     ]
    }
   ],
   "source": [
    "using HDF5\n",
    "using JLD\n",
    "\n",
    "high_symmetry_points = Dict(\n",
    "    \"\\\\Gamma\"=> [0.,0.,0.],\n",
    "    \"X\"=> [1.,0.,0.],\n",
    "    \"W\"=> [1.,0.5,0.],\n",
    "    \"K\"=> [0.75,0.75,0.],\n",
    "    \"L\"=> [0.5,0.5,0.5],\n",
    "    \"U\"=> [1.0, 0.25,0.25]\n",
    ")\n",
    "\n",
    "\n",
    "path = generate_path(high_symmetry_points, split(\"\\\\Gamma X W K \\\\Gamma L U W\"), points_per_unit=30, K_units=π/2)\n",
    "\n",
    "res = calc_spectral_weight_along_path(\"output\", \n",
    "    sim=sim_0, \n",
    "    λ=λ_0,\n",
    "    ip=integration_settings[\"slow\"],\n",
    "    Egrid=collect(range(0,1.5,100)),\n",
    "    path=path,\n",
    "    g_tensor = (@SMatrix[0. 0 1.; 0 0 0; 0 0 0]) )"
   ]
  },
  {
   "cell_type": "code",
   "execution_count": 21,
   "id": "f2ea7998-4249-429d-a612-3af2339b6cdd",
   "metadata": {},
   "outputs": [
    {
     "ename": "LoadError",
     "evalue": "UndefVarError: `res` not defined",
     "output_type": "error",
     "traceback": [
      "UndefVarError: `res` not defined",
      "",
      "Stacktrace:",
      " [1] top-level scope",
      "   @ In[21]:1"
     ]
    }
   ],
   "source": [
    "data = load(res)\n",
    "plot_spin_corr(data)"
   ]
  },
  {
   "cell_type": "code",
   "execution_count": null,
   "id": "fcf81d7e-8e54-42b0-a16b-933e4a6828ce",
   "metadata": {},
   "outputs": [],
   "source": []
  }
 ],
 "metadata": {
  "kernelspec": {
   "display_name": "Julia 1.10.4",
   "language": "julia",
   "name": "julia-1.10"
  },
  "language_info": {
   "file_extension": ".jl",
   "mimetype": "application/julia",
   "name": "julia",
   "version": "1.10.4"
  }
 },
 "nbformat": 4,
 "nbformat_minor": 5
}
