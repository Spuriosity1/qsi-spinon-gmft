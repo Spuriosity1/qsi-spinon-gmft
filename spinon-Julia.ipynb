{
 "cells": [
  {
   "cell_type": "code",
   "execution_count": 1,
   "id": "59e06d23-199c-4dfb-acc0-c1978e145b64",
   "metadata": {},
   "outputs": [],
   "source": [
    "include(\"SpinonStructure.jl\")\n",
    "include(\"BZMath.jl\")\n",
    "# include(\"PyrochloreGeometry.jl\")\n",
    "# import .PyrochloreGeometry as geom\n",
    "using .BZmath\n",
    "using .SpinonStructure\n",
    "using StaticArrays\n",
    "using BenchmarkTools\n",
    "using Plots\n"
   ]
  },
  {
   "cell_type": "code",
   "execution_count": 2,
   "id": "a054c264-4a45-4797-9091-3cd8a94d30dc",
   "metadata": {},
   "outputs": [
    {
     "data": {
      "text/plain": [
       "Lorentzian (generic function with 1 method)"
      ]
     },
     "execution_count": 2,
     "metadata": {},
     "output_type": "execute_result"
    }
   ],
   "source": [
    "@inline function gaussian(x,σ)\n",
    "    local N = 1/√(2π)\n",
    "    return N*exp(-0.5*(x/σ)^2)/σ\n",
    "end\n",
    "\n",
    "@inline function Lorentzian(x, Γ)\n",
    "    local N = 1/π\n",
    "    Γ /= 2\n",
    "    return N*1. * Γ/(x^2 + Γ^2)\n",
    "end"
   ]
  },
  {
   "cell_type": "code",
   "execution_count": 3,
   "id": "30b4f80e-d419-4772-ad31-a1b2ea83914c",
   "metadata": {},
   "outputs": [
    {
     "data": {
      "text/plain": [
       "Dict{String, Vector{Float64}} with 6 entries:\n",
       "  \"U\"       => [1.0, 0.25, 0.25]\n",
       "  \"W\"       => [1.0, 0.5, 0.0]\n",
       "  \"X\"       => [1.0, 0.0, 0.0]\n",
       "  \"\\\\Gamma\" => [0.0, 0.0, 0.0]\n",
       "  \"L\"       => [0.5, 0.5, 0.5]\n",
       "  \"K\"       => [0.75, 0.75, 0.0]"
      ]
     },
     "execution_count": 3,
     "metadata": {},
     "output_type": "execute_result"
    }
   ],
   "source": [
    "A_dict = Dict(\n",
    "    \"0flux_big\"=>load_A(\"gaugefiles/0_flux_big.gauge\"),\n",
    "    \"0flux\" => load_A(\"gaugefiles/0_flux_manual.gauge\"),\n",
    "    \"πflux\" => [ 0 0 π π ; 0 0 0 0; 0 0 π π; 0 0 0 0 ],\n",
    "    \"ππ00\" =>  [ 0 0 0 π ; 0 0 0 0; 0 0 0 π; 0 0 0 0 ],\n",
    "    \"FF_even\"=>load_A(\"gaugefiles/FF_even_pi18.gauge\")\n",
    "    )\n",
    "\n",
    "high_symmetry_points = Dict(\n",
    "    \"\\\\Gamma\"=> [0.,0.,0.],\n",
    "    \"X\"=> [1.,0.,0.],\n",
    "    \"W\"=> [1.,0.5,0.],\n",
    "    \"K\"=> [0.75,0.75,0.],\n",
    "    \"L\"=> [0.5,0.5,0.5],\n",
    "    \"U\"=> [1.0, 0.25,0.25]\n",
    ")"
   ]
  },
  {
   "cell_type": "code",
   "execution_count": 4,
   "id": "54b9e52f-ceda-439c-afbe-dc045a35c48a",
   "metadata": {},
   "outputs": [
    {
     "data": {
      "text/plain": [
       "global_gauge (generic function with 1 method)"
      ]
     },
     "execution_count": 4,
     "metadata": {},
     "output_type": "execute_result"
    }
   ],
   "source": [
    "\"\"\"\n",
    "global_g must be a row vector\n",
    "\"\"\"\n",
    "\n",
    "function global_gauge(A_original, global_g)\n",
    "    lat = geom.PyroFCC( round(Int, (size(A_original)[1]/4)^(1/3)) )\n",
    "    \n",
    "    A = copy(A_original) # make a copy\n",
    "    # if local_g isa Vector{Float64}\n",
    "    #     for (J, (t, Γ)) in enumerate(zip(lat.tetra_sites, local_g))\n",
    "    #         eta =  1 if J <= length(lat.A_sites) else -1 \n",
    "    #         for delta in geom.pyro\n",
    "    #             A[geom.spin_idx(lat, t + eta*delta) += local_g\n",
    "    #         end\n",
    "    #     end\n",
    "    # end\n",
    "    return A_original .+ global_g\n",
    "end\n",
    "                \n",
    "            "
   ]
  },
  {
   "cell_type": "code",
   "execution_count": 5,
   "id": "ab12995d-e3ed-4079-aad5-4efbfbfb7f41",
   "metadata": {},
   "outputs": [
    {
     "data": {
      "text/plain": [
       "108×4 Matrix{Float64}:\n",
       " 2.09439  -0.698135  -0.698134  -0.698125\n",
       " 2.09439  -0.698134  -0.698131  -0.698129\n",
       " 2.09439  -0.698132  -0.69813   -0.698133\n",
       " 2.09439  -0.698131  -0.698129  -0.698132\n",
       " 2.09439  -0.698132  -0.698128  -0.698134\n",
       " 2.0944   -0.698133  -0.698132  -0.698131\n",
       " 2.09439  -0.698133  -0.698134  -0.698125\n",
       " 2.09439  -0.698134  -0.698132  -0.698129\n",
       " 2.0944   -0.698131  -0.698133  -0.698134\n",
       " 2.09439  -0.698134  -0.698132  -0.698128\n",
       " 2.0944   -0.698128  -0.698135  -0.698134\n",
       " 2.0944   -0.698132  -0.698134  -0.698131\n",
       " 2.09439  -0.698131  -0.698132  -0.698131\n",
       " ⋮                              \n",
       " 2.0944   -0.698138  -0.698132  -0.698127\n",
       " 2.0944   -0.698133  -0.698133  -0.69813\n",
       " 2.09439  -0.69813   -0.698129  -0.698134\n",
       " 2.09439  -0.698134  -0.69813   -0.698129\n",
       " 2.0944   -0.69813   -0.698131  -0.698135\n",
       " 2.09439  -0.698128  -0.698136  -0.69813\n",
       " 2.09439  -0.69813   -0.698133  -0.69813\n",
       " 2.0944   -0.698132  -0.698132  -0.698132\n",
       " 2.09439  -0.698133  -0.698129  -0.698129\n",
       " 2.0944   -0.698132  -0.69813   -0.698133\n",
       " 2.09439  -0.698131  -0.69813   -0.698133\n",
       " 2.09439  -0.698129  -0.698131  -0.698131"
      ]
     },
     "execution_count": 5,
     "metadata": {},
     "output_type": "execute_result"
    }
   ],
   "source": [
    "lat = geom.PyroFCC(3)\n",
    "calc_fluxes(lat, A_dict[\"FF_even\"])"
   ]
  },
  {
   "cell_type": "markdown",
   "id": "5ba8b817-20f8-4091-a506-18df585b53fc",
   "metadata": {},
   "source": [
    "# Calculating the Spectral Weight\n",
    "\n"
   ]
  },
  {
   "cell_type": "code",
   "execution_count": 6,
   "id": "7d49c97a-1252-469d-b963-336d9a1745a8",
   "metadata": {},
   "outputs": [
    {
     "data": {
      "text/plain": [
       "spectral_weight"
      ]
     },
     "execution_count": 6,
     "metadata": {},
     "output_type": "execute_result"
    }
   ],
   "source": [
    "# define static convenience types\n",
    "\n",
    "const Vec3 = geom.Vec3;\n",
    "const Vec3_F64 = geom.Vec3_F64;\n",
    "################################################################################\n",
    "### Calculating the spectral weight\n",
    "################################################################################\n",
    "\n",
    "\"\"\"\n",
    "\tspecweight_at(q, Δ, sim)\n",
    "\t-> E, S\n",
    "\n",
    "Calculates the contribution of kspace points(q ± Δ) to the Δ integral in \n",
    "`spectral_weight`. Let there be N tetrahedra in `sim`, i.e. N bands.\n",
    "Returns: \n",
    "`E`, an (N, N) matrix of e1 + e2 energies corresponding to Dirac delta peaks\n",
    "`S`, an (N, N) matrix of spectral weights giving the heights of these peaks\n",
    "\"\"\"\n",
    "function specweight_at(q::Vec3_F64, p::Vec3_F64, sim::SimulationParameters)\n",
    "    p1 = q+p\n",
    "    p2 = q-p\n",
    "    \n",
    "    E1, U1 = spinon_dispersion( p1, sim)\n",
    "    E2, U2 = spinon_dispersion( p2, sim)\n",
    "     \n",
    "    # the form factor\n",
    "    # W = (0.5+0im) .* [ \n",
    "    #     2 1 1 1; \n",
    "    #     1 2 1 1;\n",
    "    #     1 1 2 1;\n",
    "    #     1 1 1 2 \n",
    "    # ]\n",
    "    W = diagm(ones(ComplexF64, 4))\n",
    "\n",
    "    for mu=1:4, nu=1:4\n",
    "        # this is e^{-i p • (b_mu - b_nu)/2 ), factors of 2 cancel since pyro is 1/2 b\n",
    "        W[mu,nu] *= exp(-1im* p'* (geom.pyro[mu] - geom.pyro[nu])) \n",
    "    end\n",
    "\n",
    "    local f=length(sim.lat.tetra_sites)\n",
    "    S = zeros(f,f)\n",
    "    for mu=1:4, nu=1:4\n",
    "        for (jA, rA) in enumerate(sim.lat.A_sites), (jpA, rpA) in enumerate(sim.lat.A_sites)\n",
    "            jB = geom.tetra_idx(sim.lat, rA + geom.pyro[mu])\n",
    "            jpB = geom.tetra_idx(sim.lat, rpA + geom.pyro[nu])\n",
    "\n",
    "            # the \"l\" bit\n",
    "            x1 = U1[jA, :] .* conj(U1[jpA, :]) ./ (2*E1) \n",
    "            # the \"l'\" bit\n",
    "            x2 = U2[jB, :] .* conj(U2[jpB, :]) ./ (2*E2) \n",
    "            \n",
    "            S += [ W[mu,nu]*ξ1*ξ2*exp(1im*(sim.A[jA,mu]-sim.A[jpA, nu])) for ξ2 in x2, ξ1 in x1 ]\n",
    "        end\n",
    "    end\n",
    "    E = [e1 + e2 for e2 in E2, e1 in E1]::Matrix{Float64}\n",
    "    return E, S\n",
    "end\n",
    "\n",
    "\n",
    "\n",
    "\n",
    "\n",
    "\"\"\"\n",
    "    spectral_weight(q, Egrid, sim::SimulationParameters, \n",
    "\t\t\t\t\t\t nsample::Int=1000, grid_density::Int=1000\n",
    "\t\t\t\t\t\t )\n",
    "\n",
    "Calculates the spectral weight at point `q`.\n",
    "\n",
    "This performs a Monte Carlo integral over the Brillouin zone.\n",
    "`grid_density` sets the number of points in one dimension of the Brillouin zone.\n",
    "`nsample` is the number of these k-points to sample.\n",
    "\n",
    "\"\"\"\n",
    "function spectral_weight(q::Vec3_F64, Egrid::Vector{Float64}, sim::SimulationParameters, \n",
    "\t\t\t\t\t\t integral_params::IntegrationParameters\n",
    "\t\t\t\t\t\t )\n",
    "    # cursed Monte Carlo integration\n",
    "    num_flavours = div(length(sim.A),2)\n",
    "    res = 0\n",
    "\n",
    "    grid_density=integral_params.BZ_grid_density\n",
    "\n",
    "    # p_vals = (@SMatrix rand((-grid_density,grid_density),integral_params.n_K_samples,3))*4π/8/grid_density\n",
    "    p_vals = (1 .- 2 .*(@SMatrix rand(integral_params.n_K_samples,3)))*π/8\n",
    "    \n",
    "    Sqω = zeros(ComplexF64,size(Egrid))\n",
    "    # perform an MC integral\n",
    "    # dE = (Egrid[2]-Egrid[1])*broaden_factor\n",
    "\n",
    "    bounds = [Inf, -Inf]\n",
    "    \n",
    "    for p in eachrow(p_vals)\n",
    "        Enm, Snm = specweight_at(q, p, sim)\n",
    "        Sqω += map(\n",
    "            e-> sum( [S*Lorentzian(e - E, integral_params.broadening_dE) for (E,S) in zip(Enm,Snm)]),\n",
    "                Egrid)\n",
    "        bounds[1] = min(bounds[1], reduce(min,  Enm) ) \n",
    "        bounds[2] = max(bounds[2], reduce(max,  Enm) )\n",
    "    end\n",
    "    return Sqω, bounds\n",
    "end"
   ]
  },
  {
   "cell_type": "code",
   "execution_count": 7,
   "id": "c813932f-84af-4c0c-8032-e7053e7feab3",
   "metadata": {},
   "outputs": [
    {
     "data": {
      "text/plain": [
       "spectral_density_of_states_GL (generic function with 1 method)"
      ]
     },
     "execution_count": 7,
     "metadata": {},
     "output_type": "execute_result"
    }
   ],
   "source": [
    "function spectral_density_of_states(q::Vec3_F64, Egrid::Vector{Float64}, sim::SimulationParameters, \n",
    "\t\t\t\t\t\t integral_params::IntegrationParameters\n",
    "\t\t\t\t\t\t )\n",
    "    # cursed Monte Carlo integration\n",
    "    num_flavours = div(length(sim.A),2)\n",
    "    res = 0\n",
    "\n",
    "    grid_density=integral_params.BZ_grid_density\n",
    "\n",
    "    # p_vals = (@SMatrix rand((-grid_density,grid_density),integral_params.n_K_samples,3))*4π/8/grid_density\n",
    "    p_vals = (1 .- 2 .*(@SMatrix rand(integral_params.n_K_samples,3)))*4π/8\n",
    "    \n",
    "    Sqω = zeros(ComplexF64,size(Egrid))\n",
    "    \n",
    "\n",
    "    bounds = [Inf, -Inf]\n",
    "    \n",
    "    # perform an MC integral\n",
    "    for p in eachrow(p_vals)\n",
    "        E1, U1 = spinon_dispersion( q+p, sim)\n",
    "        E2, U2 = spinon_dispersion( q-p, sim)\n",
    "        Enm = [e1 + e2 for e2 in E2, e1 in E1]\n",
    "        Sqω += map( e-> sum([Lorentzian(e - E, integral_params.broadening_dE) for E in Enm]),\n",
    "                Egrid)\n",
    "        \n",
    "        bounds[1] = min(bounds[1], reduce(min,  Enm) ) \n",
    "        bounds[2] = max(bounds[2], reduce(max,  Enm) )\n",
    "    end\n",
    "    return Sqω, bounds\n",
    "end\n",
    "\n",
    "using FastGaussQuadrature\n",
    "\n",
    "function spectral_density_of_states_GL(q::Vec3_F64, Egrid::Vector{Float64}, sim::SimulationParameters, \n",
    "\t\t\t\t\t\t integral_params::IntegrationParameters\n",
    "\t\t\t\t\t\t )\n",
    "    num_flavours = div(length(sim.A),2)\n",
    "    res = 0\n",
    "\n",
    "    \n",
    "    Sqω = zeros(ComplexF64,size(Egrid))\n",
    "\n",
    "    bounds = [Inf, -Inf]\n",
    "    ns = integral_params.n_K_samples\n",
    "    \n",
    "    ξ, w = gausslegendre( ns )\n",
    "    \n",
    "    px = ξ .* (π / 8 / sim.lat.L)\n",
    "    py = ξ .* (π / 8 / sim.lat.L)\n",
    "    pz = ξ .* (π / 8 / sim.lat.L)\n",
    "    \n",
    "    for ix=1:ns, iy=1:ns, iz=1:ns\n",
    "        p = @SVector [ px[ix], py[iy], pz[iz] ]\n",
    "        E1, U1 = spinon_dispersion( q+p, sim)\n",
    "        E2, U2 = spinon_dispersion( q-p, sim)\n",
    "        Enm = [e1 + e2 for e2 in E2, e1 in E1]\n",
    "        Sqω += w[ix]*w[iy]*w[iz]*map( e-> sum([Lorentzian(e - E, integral_params.broadening_dE) for E in Enm]),\n",
    "                Egrid)\n",
    "        \n",
    "        bounds[1] = min(bounds[1], reduce(min,  Enm) ) \n",
    "        bounds[2] = max(bounds[2], reduce(max,  Enm) )\n",
    "    end\n",
    "    return Sqω* (π / 8 / sim.lat.L)^3/8, bounds\n",
    "end"
   ]
  },
  {
   "cell_type": "code",
   "execution_count": 8,
   "id": "c67addcb-fe1a-4a8e-8d38-718f908956e6",
   "metadata": {},
   "outputs": [
    {
     "data": {
      "text/plain": [
       "save_SQW (generic function with 1 method)"
      ]
     },
     "execution_count": 8,
     "metadata": {},
     "output_type": "execute_result"
    }
   ],
   "source": [
    "using JLD\n",
    "using HDF5\n",
    "using IJulia\n",
    "using ProgressMeter\n",
    "\n",
    "function simname(sim::SimulationParameters)\n",
    "    return \"output/SQW?name=$(sim.name)?Jpm=$(sim.Jpm)?B=$(sim.B).jld\"\n",
    "end\n",
    "    \n",
    "function save_SQW(;S::Matrix{ComplexF64}, bounds::Matrix{Float64}, Egrid::Vector{Float64}, BZ_path::BZPath,\n",
    "        sim::SimulationParameters, \n",
    "        ip::IntegrationParameters)\n",
    "    name = simname(sim)\n",
    "    jldopen(name, \"w\") do file\n",
    "        g1 = create_group(file, \"integration_parameters\")\n",
    "        g1[\"n_K_samples\"] = ip.n_K_samples\n",
    "        g1[\"BZ_grid_density\"] = ip.BZ_grid_density\n",
    "\n",
    "        g = create_group(file, \"physical_parameters\")\n",
    "        g[\"name\"] = sim.name\n",
    "        g[\"fluxes\"] = sim.A\n",
    "        g[\"Jpm\"] = sim.Jpm\n",
    "        g[\"B\"] = sim.B\n",
    "        g[\"lambda\"] = sim.λ\n",
    "        g[\"L\"]=sim.lat.L\n",
    "\n",
    "        d = create_group(file, \"intensity\") \n",
    "        d[\"S\"] = S\n",
    "        d[\"bounds\"] = bounds\n",
    "        # a list of K points, such that the I'th S slics corresponds to the I'th K point\n",
    "        d[\"Q_list\"] = path.K \n",
    "        d[\"tau\"] = path.t\n",
    "        d[\"ticks_tau\"] = path.ticks_t\n",
    "        d[\"ticks_label\"] = path.ticks_label\n",
    "        d[\"W\"] = Egrid\n",
    "    end\n",
    "    return name\n",
    "end\n",
    "    \n"
   ]
  },
  {
   "cell_type": "code",
   "execution_count": 9,
   "id": "ee853f50-3219-465e-adef-093cda05ecc0",
   "metadata": {},
   "outputs": [
    {
     "ename": "LoadError",
     "evalue": "UndefVarError: `mean` not defined",
     "output_type": "error",
     "traceback": [
      "UndefVarError: `mean` not defined",
      "",
      "Stacktrace:",
      "  [1] (::Main.SpinonStructure.var\"#constr#5\"{Float64, Matrix{Float64}})(λ::Float64)",
      "    @ Main.SpinonStructure /scratch/als217/qsi-spinon-gmft/SpinonStructure.jl:228",
      "  [2] (::Roots.Callable_Function{Val{1}, Val{false}, Main.SpinonStructure.var\"#constr#5\"{Float64, Matrix{Float64}}, Nothing})(x::Float64)",
      "    @ Roots /rscratch/als217/.julia/packages/Roots/neTBD/src/functions.jl:29",
      "  [3] init_state(M::Roots.Bisection, F::Roots.Callable_Function{Val{1}, Val{false}, Main.SpinonStructure.var\"#constr#5\"{Float64, Matrix{Float64}}, Nothing}, x::Tuple{Float64, Float64})",
      "    @ Roots /rscratch/als217/.julia/packages/Roots/neTBD/src/Bracketing/bracketing.jl:5",
      "  [4] init(𝑭𝑿::Roots.ZeroProblem{Main.SpinonStructure.var\"#constr#5\"{Float64, Matrix{Float64}}, Tuple{Float64, Float64}}, M::Roots.Bisection, p′::Nothing; p::Nothing, verbose::Bool, tracks::Roots.NullTracks, kwargs::Base.Pairs{Symbol, Bool, Tuple{Symbol}, NamedTuple{(:naive,), Tuple{Bool}}})",
      "    @ Roots /rscratch/als217/.julia/packages/Roots/neTBD/src/find_zero.jl:299",
      "  [5] init",
      "    @ /rscratch/als217/.julia/packages/Roots/neTBD/src/find_zero.jl:289 [inlined]",
      "  [6] solve(𝑭𝑿::Roots.ZeroProblem{Main.SpinonStructure.var\"#constr#5\"{Float64, Matrix{Float64}}, Tuple{Float64, Float64}}, M::Roots.Bisection, p::Nothing; verbose::Bool, kwargs::Base.Pairs{Symbol, Any, Tuple{Symbol, Symbol}, NamedTuple{(:tracks, :naive), Tuple{Roots.NullTracks, Bool}}})",
      "    @ Roots /rscratch/als217/.julia/packages/Roots/neTBD/src/find_zero.jl:491",
      "  [7] find_zero(f::Function, x0::Tuple{Float64, Float64}, M::Roots.Bisection, p′::Nothing; p::Nothing, verbose::Bool, tracks::Roots.NullTracks, kwargs::Base.Pairs{Symbol, Bool, Tuple{Symbol}, NamedTuple{(:naive,), Tuple{Bool}}})",
      "    @ Roots /rscratch/als217/.julia/packages/Roots/neTBD/src/find_zero.jl:220",
      "  [8] find_zero (repeats 2 times)",
      "    @ /rscratch/als217/.julia/packages/Roots/neTBD/src/find_zero.jl:210 [inlined]",
      "  [9] calc_lambda(bandf::Main.SpinonStructure.var\"#6#7\"{Matrix{Float64}, Float64, Vector{Float64}}, nsample::Int64, kappa::Float64)",
      "    @ Main.SpinonStructure /scratch/als217/qsi-spinon-gmft/SpinonStructure.jl:235",
      " [10] calc_lambda",
      "    @ /scratch/als217/qsi-spinon-gmft/SpinonStructure.jl:244 [inlined]",
      " [11] SimulationParameters(name::String; A::Matrix{Float64}, Jpm::Float64, B::Vector{Float64}, nsample::Int64, kappa::Float64)",
      "    @ Main.SpinonStructure /scratch/als217/qsi-spinon-gmft/SpinonStructure.jl:274",
      " [12] top-level scope",
      "    @ In[9]:1"
     ]
    }
   ],
   "source": [
    "sim_0_Des = SimulationParameters(\"0flux_Des\", A=A_dict[\"0flux\"], Jpm=-0.046, B=zeros(3), nsample=1000, kappa=2.0)\n",
    "sim_π_Des = SimulationParameters(\"πflux_Des\", A=A_dict[\"πflux\"], Jpm=1. /3, B=zeros(3), nsample=1000, kappa=2.0)\n",
    "sim_π_Des_gauged = SimulationParameters(\"π_Des_gauged\",A=global_gauge(sim_π_Des.A, [ 0. 0. 0. π/2 ]),\n",
    "    Jpm = sim_π_Des.Jpm,\n",
    "    B = sim_π_Des.B,\n",
    "    kappa=2.\n",
    "    )\n"
   ]
  },
  {
   "cell_type": "code",
   "execution_count": 10,
   "id": "164790cf-23ff-4b76-a6c1-da048a828dac",
   "metadata": {
    "jupyter": {
     "source_hidden": true
    }
   },
   "outputs": [
    {
     "ename": "LoadError",
     "evalue": "UndefVarError: `norm` not defined",
     "output_type": "error",
     "traceback": [
      "UndefVarError: `norm` not defined",
      "",
      "Stacktrace:",
      " [1] lerp(x0::Vector{Float64}, x1::Vector{Float64}, step::Float64)",
      "   @ Main.BZmath /scratch/als217/qsi-spinon-gmft/BZMath.jl:6",
      " [2] generate_path(point_dict::Dict{String, Vector{Float64}}, pathspec::Vector{SubString{String}}; points_per_unit::Int64, K_units::Float64)",
      "   @ Main.BZmath /scratch/als217/qsi-spinon-gmft/BZMath.jl:52",
      " [3] top-level scope",
      "   @ In[10]:2"
     ]
    }
   ],
   "source": [
    "## The 0-flux case\n",
    "path = generate_path(high_symmetry_points, split(\"\\\\Gamma X W K \\\\Gamma L U W\"), points_per_unit=30, K_units=2π/8)\n",
    "E = reduce(vcat, map(k-> spinon_dispersion(k, sim_0_Des)[1], path.K )')\n",
    "\n",
    "plot(path.t,E)\n",
    "xticks!(path.ticks_t, path.ticks_label)\n",
    "ylims!(0.,maximum(E))"
   ]
  },
  {
   "cell_type": "code",
   "execution_count": 11,
   "id": "7084e4b6-5e3d-497c-b3c6-ef8471eca6f4",
   "metadata": {
    "jupyter": {
     "source_hidden": true
    }
   },
   "outputs": [
    {
     "ename": "LoadError",
     "evalue": "UndefVarError: `norm` not defined",
     "output_type": "error",
     "traceback": [
      "UndefVarError: `norm` not defined",
      "",
      "Stacktrace:",
      " [1] lerp(x0::Vector{Float64}, x1::Vector{Float64}, step::Float64)",
      "   @ Main.BZmath /scratch/als217/qsi-spinon-gmft/BZMath.jl:6",
      " [2] generate_path(point_dict::Dict{String, Vector{Float64}}, pathspec::Vector{SubString{String}}; points_per_unit::Int64, K_units::Float64)",
      "   @ Main.BZmath /scratch/als217/qsi-spinon-gmft/BZMath.jl:52",
      " [3] top-level scope",
      "   @ In[11]:2"
     ]
    }
   ],
   "source": [
    "## The π-flux case\n",
    "path = generate_path(high_symmetry_points, split(\"\\\\Gamma X W K \\\\Gamma L U W\"), points_per_unit=30, K_units=2π/8)\n",
    "E = reduce(vcat, map(k-> spinon_dispersion(k, sim_π_Des_gauged)[1], path.K )')\n",
    "\n",
    "plot(path.t,E)\n",
    "xticks!(path.ticks_t, path.ticks_label)\n",
    "ylims!(0.,maximum(E))"
   ]
  },
  {
   "cell_type": "code",
   "execution_count": 12,
   "id": "4a77d84a-4be6-4521-ba46-402b2a5b5c7b",
   "metadata": {},
   "outputs": [
    {
     "ename": "LoadError",
     "evalue": "UndefVarError: `mean` not defined",
     "output_type": "error",
     "traceback": [
      "UndefVarError: `mean` not defined",
      "",
      "Stacktrace:",
      "  [1] (::Main.SpinonStructure.var\"#constr#5\"{Float64, Matrix{Float64}})(λ::Float64)",
      "    @ Main.SpinonStructure /scratch/als217/qsi-spinon-gmft/SpinonStructure.jl:228",
      "  [2] (::Roots.Callable_Function{Val{1}, Val{false}, Main.SpinonStructure.var\"#constr#5\"{Float64, Matrix{Float64}}, Nothing})(x::Float64)",
      "    @ Roots /rscratch/als217/.julia/packages/Roots/neTBD/src/functions.jl:29",
      "  [3] init_state(M::Roots.Bisection, F::Roots.Callable_Function{Val{1}, Val{false}, Main.SpinonStructure.var\"#constr#5\"{Float64, Matrix{Float64}}, Nothing}, x::Tuple{Float64, Float64})",
      "    @ Roots /rscratch/als217/.julia/packages/Roots/neTBD/src/Bracketing/bracketing.jl:5",
      "  [4] init(𝑭𝑿::Roots.ZeroProblem{Main.SpinonStructure.var\"#constr#5\"{Float64, Matrix{Float64}}, Tuple{Float64, Float64}}, M::Roots.Bisection, p′::Nothing; p::Nothing, verbose::Bool, tracks::Roots.NullTracks, kwargs::Base.Pairs{Symbol, Bool, Tuple{Symbol}, NamedTuple{(:naive,), Tuple{Bool}}})",
      "    @ Roots /rscratch/als217/.julia/packages/Roots/neTBD/src/find_zero.jl:299",
      "  [5] init",
      "    @ /rscratch/als217/.julia/packages/Roots/neTBD/src/find_zero.jl:289 [inlined]",
      "  [6] solve(𝑭𝑿::Roots.ZeroProblem{Main.SpinonStructure.var\"#constr#5\"{Float64, Matrix{Float64}}, Tuple{Float64, Float64}}, M::Roots.Bisection, p::Nothing; verbose::Bool, kwargs::Base.Pairs{Symbol, Any, Tuple{Symbol, Symbol}, NamedTuple{(:tracks, :naive), Tuple{Roots.NullTracks, Bool}}})",
      "    @ Roots /rscratch/als217/.julia/packages/Roots/neTBD/src/find_zero.jl:491",
      "  [7] find_zero(f::Function, x0::Tuple{Float64, Float64}, M::Roots.Bisection, p′::Nothing; p::Nothing, verbose::Bool, tracks::Roots.NullTracks, kwargs::Base.Pairs{Symbol, Bool, Tuple{Symbol}, NamedTuple{(:naive,), Tuple{Bool}}})",
      "    @ Roots /rscratch/als217/.julia/packages/Roots/neTBD/src/find_zero.jl:220",
      "  [8] find_zero (repeats 2 times)",
      "    @ /rscratch/als217/.julia/packages/Roots/neTBD/src/find_zero.jl:210 [inlined]",
      "  [9] calc_lambda(bandf::Main.SpinonStructure.var\"#6#7\"{Matrix{Float64}, Float64, Vector{Float64}}, nsample::Int64, kappa::Float64)",
      "    @ Main.SpinonStructure /scratch/als217/qsi-spinon-gmft/SpinonStructure.jl:235",
      " [10] calc_lambda",
      "    @ /scratch/als217/qsi-spinon-gmft/SpinonStructure.jl:244 [inlined]",
      " [11] SimulationParameters(name::String; A::Matrix{Float64}, Jpm::Float64, B::Vector{Float64}, nsample::Int64, kappa::Float64)",
      "    @ Main.SpinonStructure /scratch/als217/qsi-spinon-gmft/SpinonStructure.jl:274",
      " [12] top-level scope",
      "    @ In[12]:1"
     ]
    }
   ],
   "source": [
    "sim_ππ00 = SimulationParameters(\"ππ00\", A=A_dict[\"ππ00\"], Jpm=-0.05, B=0.3*[0,1,1]/sqrt(2), nsample=1000, kappa=2.0)\n",
    "sim_FF_Even = SimulationParameters(\"FF\", A=A_dict[\"FF_even\"], Jpm=-0.05, B=0.3* [1.,1.,1.]/sqrt(3), nsample=1000, kappa=2.0)"
   ]
  },
  {
   "cell_type": "code",
   "execution_count": 13,
   "id": "aa1b1d78-fa35-4b6e-a977-07c9b40008e9",
   "metadata": {},
   "outputs": [
    {
     "ename": "LoadError",
     "evalue": "UndefVarError: `norm` not defined",
     "output_type": "error",
     "traceback": [
      "UndefVarError: `norm` not defined",
      "",
      "Stacktrace:",
      " [1] lerp(x0::Vector{Float64}, x1::Vector{Float64}, step::Float64)",
      "   @ Main.BZmath /scratch/als217/qsi-spinon-gmft/BZMath.jl:6",
      " [2] generate_path(point_dict::Dict{String, Vector{Float64}}, pathspec::Vector{SubString{String}}; points_per_unit::Int64, K_units::Float64)",
      "   @ Main.BZmath /scratch/als217/qsi-spinon-gmft/BZMath.jl:52",
      " [3] top-level scope",
      "   @ In[13]:2"
     ]
    }
   ],
   "source": [
    "## The ππ00-flux case\n",
    "path = generate_path(high_symmetry_points, split(\"\\\\Gamma X W K \\\\Gamma L U W\"), points_per_unit=30, K_units=2π/8)\n",
    "E = reduce(vcat, map(k-> spinon_dispersion(k, sim_ππ00)[1], path.K )')\n",
    "\n",
    "plot(path.t,E)\n",
    "xticks!(path.ticks_t, path.ticks_label)\n",
    "ylims!(0.,maximum(E))"
   ]
  },
  {
   "cell_type": "code",
   "execution_count": 14,
   "id": "66b2f4f4",
   "metadata": {},
   "outputs": [
    {
     "ename": "LoadError",
     "evalue": "UndefVarError: `norm` not defined",
     "output_type": "error",
     "traceback": [
      "UndefVarError: `norm` not defined",
      "",
      "Stacktrace:",
      " [1] lerp(x0::Vector{Float64}, x1::Vector{Float64}, step::Float64)",
      "   @ Main.BZmath /scratch/als217/qsi-spinon-gmft/BZMath.jl:6",
      " [2] generate_path(point_dict::Dict{String, Vector{Float64}}, pathspec::Vector{SubString{String}}; points_per_unit::Int64, K_units::Float64)",
      "   @ Main.BZmath /scratch/als217/qsi-spinon-gmft/BZMath.jl:52",
      " [3] top-level scope",
      "   @ In[14]:2"
     ]
    }
   ],
   "source": [
    "## The ππ00-flux case\n",
    "path = generate_path(high_symmetry_points, split(\"\\\\Gamma X W K \\\\Gamma L U W\"), points_per_unit=30, K_units=2π/8)\n",
    "E = reduce(vcat, map(k-> spinon_dispersion(k, sim_FF_Even)[1], path.K )')\n",
    "\n",
    "plot(path.t,E)\n",
    "xticks!(path.ticks_t, path.ticks_label)\n",
    "ylims!(0.,maximum(E))"
   ]
  },
  {
   "cell_type": "code",
   "execution_count": 15,
   "id": "0535f72f-60d2-4774-9f18-78fc0923830a",
   "metadata": {},
   "outputs": [
    {
     "ename": "LoadError",
     "evalue": "UndefVarError: `norm` not defined",
     "output_type": "error",
     "traceback": [
      "UndefVarError: `norm` not defined",
      "",
      "Stacktrace:",
      " [1] lerp(x0::Vector{Float64}, x1::Vector{Float64}, step::Float64)",
      "   @ Main.BZmath /scratch/als217/qsi-spinon-gmft/BZMath.jl:6",
      " [2] generate_path(point_dict::Dict{String, Vector{Float64}}, pathspec::Vector{SubString{String}}; points_per_unit::Int64, K_units::Float64)",
      "   @ Main.BZmath /scratch/als217/qsi-spinon-gmft/BZMath.jl:52",
      " [3] top-level scope",
      "   @ In[15]:1"
     ]
    }
   ],
   "source": [
    "path = generate_path(high_symmetry_points, split(\"\\\\Gamma X W K \\\\Gamma L U W\"), points_per_unit=10, K_units=2π/8)\n",
    "\n",
    "function run_sim(sim::SimulationParameters, ip::IntegrationParameters, Egrid::Vector{Float64})\n",
    "    \n",
    "    num_K = length(path.K)\n",
    "    \n",
    "    S = zeros(ComplexF64, num_K, length(Egrid))\n",
    "    bounds = zeros(Float64, num_K, 2)\n",
    "    \n",
    "\n",
    "    p = Progress(num_K)\n",
    "\n",
    "    @time begin\n",
    "        Threads.@threads for I = 1:num_K\n",
    "            k = path.K[I]*0.5\n",
    "            q = SVector(k[1], k[2], k[3])\n",
    "            S[I, :], bounds[I,:] = spectral_weight(q, Egrid, sim, ip)\n",
    "            # S[I, :], bounds[I,:] = spectral_density_of_states_GL(q, Egrid, sim, ip)\n",
    "            next!(p)\n",
    "        end\n",
    "    end\n",
    "    finish!(p)\n",
    "\n",
    "    # save the data\n",
    "    save_SQW(S=S, bounds=bounds, BZ_path=path, Egrid=collect(Egrid), sim=sim, ip=ip)\n",
    "end"
   ]
  },
  {
   "cell_type": "code",
   "execution_count": 16,
   "id": "09aef40b-e39a-4458-b70d-822fdbf358c1",
   "metadata": {},
   "outputs": [
    {
     "data": {
      "text/plain": [
       "IntegrationParameters(10000, 500, 0.2)"
      ]
     },
     "execution_count": 16,
     "metadata": {},
     "output_type": "execute_result"
    }
   ],
   "source": [
    "ip_GL = IntegrationParameters(n_K_samples=8,BZ_grid_density=50,broadening_dE=0.2)\n",
    "\n",
    "ip_fast = IntegrationParameters(n_K_samples=100,BZ_grid_density=50,broadening_dE=0.2)\n",
    "ip_slow = IntegrationParameters(n_K_samples=1000,BZ_grid_density=500,broadening_dE=0.2)\n",
    "ip_very_slow = IntegrationParameters(n_K_samples=10000,BZ_grid_density=500,broadening_dE=0.2)\n"
   ]
  },
  {
   "cell_type": "code",
   "execution_count": 17,
   "id": "0896aa70-901f-4ab7-a3a9-8e0279dd93cb",
   "metadata": {},
   "outputs": [
    {
     "ename": "LoadError",
     "evalue": "UndefVarError: `run_sim` not defined",
     "output_type": "error",
     "traceback": [
      "UndefVarError: `run_sim` not defined",
      "",
      "Stacktrace:",
      " [1] top-level scope",
      "   @ In[17]:2"
     ]
    }
   ],
   "source": [
    "Egrid = collect(range(0,2,100));\n",
    "res_0_Des = run_sim(sim_0_Des, ip_slow, Egrid)\n",
    "Egrid = collect(range(0,3,100));\n",
    "res_π_Des = run_sim(sim_π_Des_gauged, ip_slow, Egrid)"
   ]
  },
  {
   "cell_type": "code",
   "execution_count": 18,
   "id": "fa5f6c90-c239-4e3c-b53b-6aa9e7abc995",
   "metadata": {},
   "outputs": [
    {
     "ename": "LoadError",
     "evalue": "UndefVarError: `run_sim` not defined",
     "output_type": "error",
     "traceback": [
      "UndefVarError: `run_sim` not defined",
      "",
      "Stacktrace:",
      " [1] top-level scope",
      "   @ In[18]:2"
     ]
    }
   ],
   "source": [
    "Egrid = collect(range(0,2,100));\n",
    "res_ππ00 = run_sim(sim_ππ00, ip_slow, Egrid)"
   ]
  },
  {
   "cell_type": "code",
   "execution_count": 19,
   "id": "5286e1d2-fc92-4dce-9332-e85a623889a7",
   "metadata": {},
   "outputs": [
    {
     "ename": "LoadError",
     "evalue": "UndefVarError: `run_sim` not defined",
     "output_type": "error",
     "traceback": [
      "UndefVarError: `run_sim` not defined",
      "",
      "Stacktrace:",
      " [1] top-level scope",
      "   @ In[19]:2"
     ]
    }
   ],
   "source": [
    "Egrid = collect(range(0,2,100));\n",
    "res_FF_Even = run_sim(sim_FF_Even, ip_fast, Egrid)"
   ]
  },
  {
   "cell_type": "code",
   "execution_count": 20,
   "id": "061f0058-4b4f-40b1-9499-749ca779e27a",
   "metadata": {},
   "outputs": [
    {
     "data": {
      "text/plain": [
       "plot_dispersion (generic function with 1 method)"
      ]
     },
     "execution_count": 20,
     "metadata": {},
     "output_type": "execute_result"
    }
   ],
   "source": [
    "function plot_dispersion(data)\n",
    "    d = data[\"intensity\"]\n",
    "    p = heatmap(d[\"tau\"],d[\"W\"],real.(d[\"S\"])')\n",
    "    plot!(d[\"tau\"], d[\"bounds\"], linecolor=:white)\n",
    "    xticks!(d[\"ticks_tau\"],d[\"ticks_label\"])\n",
    "    plot!(legend=nothing)\n",
    "\n",
    "    savefig(\"output/$(data[\"physical_parameters\"][\"name\"]).pdf\")\n",
    "    title!(data[\"physical_parameters\"][\"name\"])\n",
    "    return p\n",
    "end"
   ]
  },
  {
   "cell_type": "code",
   "execution_count": 21,
   "id": "0b7b9630-6671-44ee-870c-cf3cd7d53cbf",
   "metadata": {},
   "outputs": [
    {
     "name": "stdout",
     "output_type": "stream",
     "text": [
      "search: \u001b[0m\u001b[1ms\u001b[22m\u001b[0m\u001b[1ma\u001b[22m\u001b[0m\u001b[1mv\u001b[22m\u001b[0m\u001b[1me\u001b[22m\u001b[0m\u001b[1mf\u001b[22m\u001b[0m\u001b[1mi\u001b[22m\u001b[0m\u001b[1mg\u001b[22m \u001b[0m\u001b[1mS\u001b[22mt\u001b[0m\u001b[1ma\u001b[22mckO\u001b[0m\u001b[1mv\u001b[22m\u001b[0m\u001b[1me\u001b[22mr\u001b[0m\u001b[1mf\u001b[22mlowError\n",
      "\n"
     ]
    },
    {
     "data": {
      "text/latex": [
       "\\begin{verbatim}\n",
       "savefig([plot,] filename)\n",
       "\\end{verbatim}\n",
       "Save a Plot (the current plot if \\texttt{plot} is not passed) to file. The file type is inferred from the file extension. All backends support png and pdf file types, some also support svg, ps, eps, html and tex.\n",
       "\n"
      ],
      "text/markdown": [
       "```\n",
       "savefig([plot,] filename)\n",
       "```\n",
       "\n",
       "Save a Plot (the current plot if `plot` is not passed) to file. The file type is inferred from the file extension. All backends support png and pdf file types, some also support svg, ps, eps, html and tex.\n"
      ],
      "text/plain": [
       "\u001b[36m  savefig([plot,] filename)\u001b[39m\n",
       "\n",
       "  Save a Plot (the current plot if \u001b[36mplot\u001b[39m is not passed) to file. The file type\n",
       "  is inferred from the file extension. All backends support png and pdf file\n",
       "  types, some also support svg, ps, eps, html and tex."
      ]
     },
     "execution_count": 21,
     "metadata": {},
     "output_type": "execute_result"
    }
   ],
   "source": [
    "?savefig"
   ]
  },
  {
   "cell_type": "code",
   "execution_count": 22,
   "id": "b211e75f-14ae-43ff-9b9d-56ad7c855b64",
   "metadata": {},
   "outputs": [
    {
     "ename": "LoadError",
     "evalue": "UndefVarError: `sim_π_Des_gauged` not defined",
     "output_type": "error",
     "traceback": [
      "UndefVarError: `sim_π_Des_gauged` not defined",
      "",
      "Stacktrace:",
      " [1] top-level scope",
      "   @ In[22]:1"
     ]
    }
   ],
   "source": [
    "plot_dispersion( load(simname(sim_π_Des_gauged) ) )"
   ]
  },
  {
   "cell_type": "code",
   "execution_count": 23,
   "id": "4d2f6eaa-2d9d-4836-9aa8-007eb6c94735",
   "metadata": {},
   "outputs": [
    {
     "ename": "LoadError",
     "evalue": "UndefVarError: `sim_0_Des` not defined",
     "output_type": "error",
     "traceback": [
      "UndefVarError: `sim_0_Des` not defined",
      "",
      "Stacktrace:",
      " [1] top-level scope",
      "   @ In[23]:1"
     ]
    }
   ],
   "source": [
    "data = load(simname(sim_0_Des) )\n",
    "d = data[\"intensity\"]\n",
    "heatmap(d[\"tau\"],d[\"W\"],real.(d[\"S\"])')\n",
    "plot!(d[\"tau\"], d[\"bounds\"], linecolor=:white)\n",
    "plot!(legend=nothing)\n",
    "xticks!(d[\"ticks_tau\"],d[\"ticks_label\"])\n",
    "savefig(\"output/$(data[\"physical_parameters\"][\"name\"]).pdf\")\n",
    "title!(data[\"physical_parameters\"][\"name\"])"
   ]
  },
  {
   "cell_type": "code",
   "execution_count": 24,
   "id": "f70be329-b557-4dce-9bec-37f1c8499088",
   "metadata": {},
   "outputs": [
    {
     "ename": "LoadError",
     "evalue": "UndefVarError: `sim_ππ00` not defined",
     "output_type": "error",
     "traceback": [
      "UndefVarError: `sim_ππ00` not defined",
      "",
      "Stacktrace:",
      " [1] top-level scope",
      "   @ In[24]:1"
     ]
    }
   ],
   "source": [
    "data = load(simname(sim_ππ00))\n",
    "d = data[\"intensity\"]\n",
    "heatmap(d[\"tau\"],d[\"W\"],real.(d[\"S\"])')\n",
    "plot!(d[\"tau\"], d[\"bounds\"], linecolor=:white)\n",
    "xticks!(d[\"ticks_tau\"],d[\"ticks_label\"])\n",
    "savefig(\"output/$(data[\"physical_parameters\"][\"name\"]).pdf\")\n",
    "title!(data[\"physical_parameters\"][\"name\"])"
   ]
  },
  {
   "cell_type": "code",
   "execution_count": 25,
   "id": "5ce1bb18-7b48-4a6b-923e-bc9cf8cdfbed",
   "metadata": {},
   "outputs": [
    {
     "ename": "LoadError",
     "evalue": "UndefVarError: `run_sim` not defined",
     "output_type": "error",
     "traceback": [
      "UndefVarError: `run_sim` not defined",
      "",
      "Stacktrace:",
      " [1] top-level scope",
      "   @ In[25]:1"
     ]
    }
   ],
   "source": [
    "res_FF_Even = run_sim(sim_FF_Even, ip_fast, Egrid)"
   ]
  },
  {
   "cell_type": "code",
   "execution_count": 26,
   "id": "70d39f75-3426-4ebb-b5ff-e829c5ce8a7d",
   "metadata": {},
   "outputs": [
    {
     "ename": "LoadError",
     "evalue": "UndefVarError: `sim_FF_Even` not defined",
     "output_type": "error",
     "traceback": [
      "UndefVarError: `sim_FF_Even` not defined",
      "",
      "Stacktrace:",
      " [1] top-level scope",
      "   @ In[26]:1"
     ]
    }
   ],
   "source": [
    "data = load(simname(sim_FF_Even))\n",
    "d = data[\"intensity\"]\n",
    "heatmap(d[\"tau\"],d[\"W\"],real.(d[\"S\"])')\n",
    "plot!(d[\"tau\"], d[\"bounds\"], linecolor=:white)\n",
    "xticks!(d[\"ticks_tau\"],d[\"ticks_label\"])\n",
    "savefig(\"output/$(data[\"physical_parameters\"][\"name\"]).pdf\")\n",
    "title!(data[\"physical_parameters\"][\"name\"])"
   ]
  },
  {
   "cell_type": "code",
   "execution_count": 27,
   "id": "f6a8a6ff-6d59-4422-b356-e720f5d55cdf",
   "metadata": {},
   "outputs": [
    {
     "ename": "LoadError",
     "evalue": "UndefVarError: `labels` not defined",
     "output_type": "error",
     "traceback": [
      "UndefVarError: `labels` not defined",
      "",
      "Stacktrace:",
      " [1] top-level scope",
      "   @ ./In[27]:74"
     ]
    }
   ],
   "source": [
    "using LaTeXStrings\n",
    "plot_font = \"Computer Modern\"\n",
    "default(\n",
    "    fontfamily=plot_font,\n",
    "    linewidth=2, \n",
    "    framestyle=:box, \n",
    "    label=nothing, \n",
    "    grid=false\n",
    ")\n",
    "\n",
    "function get_FCC_WS_edges()\n",
    "\n",
    "    squareX = [\n",
    "        [1.,  0.5,    0],\n",
    "        [1.,  0.,  -0.5],\n",
    "        [1., -0.5,    0],\n",
    "        [1.,  0.,   0.5],\n",
    "        [1.,  0.5,    0]\n",
    "    ]\n",
    "    neg_squareX= map(x->x.*[-1,1,1], squareX)\n",
    "\n",
    "    hexa_111 = [\n",
    "        [1. , 0.5, 0.],\n",
    "        [0.5, 1. , 0.],\n",
    "        [0. , 1., 0.5],\n",
    "        [0., 0.5 , 1.],\n",
    "        [0.5, 0. , 1.],\n",
    "        [1., 0., 0.5]\n",
    "    ]\n",
    "\n",
    "    square_faces = [\n",
    "        squareX,\n",
    "        neg_squareX,\n",
    "        circshift.(squareX,1),\n",
    "        circshift.(neg_squareX,1),\n",
    "        circshift.(squareX,2),\n",
    "        circshift.(neg_squareX,2)\n",
    "    ]\n",
    "\n",
    "    # unused right now, but might come in handy some day\n",
    "    # hexagons = [\n",
    "    #     hexa_111,\n",
    "    #     map(x->x.*[-1,-1,1], hexa_111),\n",
    "    #     map(x->x.*[-1,1,-1], hexa_111),\n",
    "    #     map(x->x.*[1,-1,-1], hexa_111),\n",
    "    #     map(x->x.*[-1,1,1], hexa_111),\n",
    "    #     map(x->x.*[1,-1,1], hexa_111),\n",
    "    #     map(x->x.*[1,1,-1], hexa_111),\n",
    "    #     map(x->x.*[-1,-1,-1], hexa_111)\n",
    "    # ]\n",
    "\n",
    "    e0 = [\n",
    "        [ [ 1.,  0.5, 0.], [ 0.5,  1., 0.] ],\n",
    "        [ [ 1., -0.5, 0.], [ 0.5, -1., 0.] ],\n",
    "        [ [-1., -0.5, 0.], [-0.5, -1., 0.] ],\n",
    "        [ [-1.,  0.5, 0.], [-0.5,  1., 0.] ],\n",
    "    ]\n",
    "    edges = copy(e0)\n",
    "    append!(edges, map( l -> circshift.(l,1), e0))\n",
    "    append!(edges, map( l -> circshift.(l,2), e0))\n",
    "\n",
    "    return vcat(square_faces, edges)\n",
    "end\n",
    "    \n",
    "p = plot(camera=(80,15))\n",
    "\n",
    "for f in get_FCC_WS_edges()\n",
    "    ff = reduce(hcat, f)\n",
    "    plot!( ff[1,:],ff[2,:],ff[3,:], linecolor=\"black\", linewidth=.5 )\n",
    "end\n",
    "\n",
    "X = []\n",
    "for (label, x) in high_symmetry_points\n",
    "    push!(labels, label)\n",
    "    push!(X, x)\n",
    "    annotate!(x[1],x[2],x[3],text(\"\\$$(label)\\$\",:left,:bottom))\n",
    "end\n",
    "X= reduce(hcat, X)\n",
    "plot!(X[1,:],X[2,:],X[3,:], seriestype=:scatter)\n",
    "\n",
    "kk = reduce(hcat, path.K)'*8/2/π\n",
    "plot!(kk[:,1],kk[:,2],kk[:,3],linecolor=:red)\n",
    "display(p)"
   ]
  },
  {
   "cell_type": "code",
   "execution_count": null,
   "id": "f27014af-df34-4d30-9477-f6a6a5013dce",
   "metadata": {},
   "outputs": [],
   "source": []
  },
  {
   "cell_type": "code",
   "execution_count": null,
   "id": "a3978e3a-7654-45e9-baab-353d4cdf183e",
   "metadata": {},
   "outputs": [],
   "source": []
  }
 ],
 "metadata": {
  "kernelspec": {
   "display_name": "Julia 1.9.3",
   "language": "julia",
   "name": "julia-1.9"
  },
  "language_info": {
   "file_extension": ".jl",
   "mimetype": "application/julia",
   "name": "julia",
   "version": "1.9.3"
  }
 },
 "nbformat": 4,
 "nbformat_minor": 5
}
