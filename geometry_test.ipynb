{
 "cells": [
  {
   "cell_type": "code",
   "execution_count": 1,
   "id": "572f098a-7b10-4b3c-b6e6-5d5eebb9ec6b",
   "metadata": {},
   "outputs": [
    {
     "name": "stdout",
     "output_type": "stream",
     "text": [
      "search: \u001b[0m\u001b[1mr\u001b[22m\u001b[0m\u001b[1mm\u001b[22m pe\u001b[0m\u001b[1mr\u001b[22m\u001b[0m\u001b[1mm\u001b[22mute! no\u001b[0m\u001b[1mr\u001b[22m\u001b[0m\u001b[1mm\u001b[22mpath pe\u001b[0m\u001b[1mr\u001b[22m\u001b[0m\u001b[1mm\u001b[22mutedims pe\u001b[0m\u001b[1mr\u001b[22m\u001b[0m\u001b[1mm\u001b[22mutedims! Pe\u001b[0m\u001b[1mr\u001b[22m\u001b[0m\u001b[1mm\u001b[22mutedDimsArray upe\u001b[0m\u001b[1mr\u001b[22m\u001b[0m\u001b[1mm\u001b[22m\n",
      "\n"
     ]
    },
    {
     "data": {
      "text/latex": [
       "\\begin{verbatim}\n",
       "rm(path::AbstractString; force::Bool=false, recursive::Bool=false)\n",
       "\\end{verbatim}\n",
       "Delete the file, link, or empty directory at the given path. If \\texttt{force=true} is passed, a non-existing path is not treated as error. If \\texttt{recursive=true} is passed and the path is a directory, then all contents are removed recursively.\n",
       "\n",
       "\\section{Examples}\n",
       "\\begin{verbatim}\n",
       "julia> mkpath(\"my/test/dir\");\n",
       "\n",
       "julia> rm(\"my\", recursive=true)\n",
       "\n",
       "julia> rm(\"this_file_does_not_exist\", force=true)\n",
       "\n",
       "julia> rm(\"this_file_does_not_exist\")\n",
       "ERROR: IOError: unlink(\"this_file_does_not_exist\"): no such file or directory (ENOENT)\n",
       "Stacktrace:\n",
       "[...]\n",
       "\\end{verbatim}\n"
      ],
      "text/markdown": [
       "```\n",
       "rm(path::AbstractString; force::Bool=false, recursive::Bool=false)\n",
       "```\n",
       "\n",
       "Delete the file, link, or empty directory at the given path. If `force=true` is passed, a non-existing path is not treated as error. If `recursive=true` is passed and the path is a directory, then all contents are removed recursively.\n",
       "\n",
       "# Examples\n",
       "\n",
       "```jldoctest\n",
       "julia> mkpath(\"my/test/dir\");\n",
       "\n",
       "julia> rm(\"my\", recursive=true)\n",
       "\n",
       "julia> rm(\"this_file_does_not_exist\", force=true)\n",
       "\n",
       "julia> rm(\"this_file_does_not_exist\")\n",
       "ERROR: IOError: unlink(\"this_file_does_not_exist\"): no such file or directory (ENOENT)\n",
       "Stacktrace:\n",
       "[...]\n",
       "```\n"
      ],
      "text/plain": [
       "\u001b[36m  rm(path::AbstractString; force::Bool=false, recursive::Bool=false)\u001b[39m\n",
       "\n",
       "  Delete the file, link, or empty directory at the given path. If \u001b[36mforce=true\u001b[39m\n",
       "  is passed, a non-existing path is not treated as error. If \u001b[36mrecursive=true\u001b[39m is\n",
       "  passed and the path is a directory, then all contents are removed\n",
       "  recursively.\n",
       "\n",
       "\u001b[1m  Examples\u001b[22m\n",
       "\u001b[1m  ≡≡≡≡≡≡≡≡\u001b[22m\n",
       "\n",
       "\u001b[36m  julia> mkpath(\"my/test/dir\");\u001b[39m\n",
       "\u001b[36m  \u001b[39m\n",
       "\u001b[36m  julia> rm(\"my\", recursive=true)\u001b[39m\n",
       "\u001b[36m  \u001b[39m\n",
       "\u001b[36m  julia> rm(\"this_file_does_not_exist\", force=true)\u001b[39m\n",
       "\u001b[36m  \u001b[39m\n",
       "\u001b[36m  julia> rm(\"this_file_does_not_exist\")\u001b[39m\n",
       "\u001b[36m  ERROR: IOError: unlink(\"this_file_does_not_exist\"): no such file or directory (ENOENT)\u001b[39m\n",
       "\u001b[36m  Stacktrace:\u001b[39m\n",
       "\u001b[36m  [...]\u001b[39m"
      ]
     },
     "execution_count": 1,
     "metadata": {},
     "output_type": "execute_result"
    }
   ],
   "source": [
    "?rm\n"
   ]
  },
  {
   "cell_type": "code",
   "execution_count": 3,
   "id": "cfe518de-ff1e-441c-9ca3-55e3052c9a2e",
   "metadata": {},
   "outputs": [
    {
     "name": "stdout",
     "output_type": "stream",
     "text": [
      "search: \u001b[0m\u001b[1mE\u001b[22m\u001b[0m\u001b[1mn\u001b[22m\u001b[0m\u001b[1mu\u001b[22m\u001b[0m\u001b[1mm\u001b[22m \u001b[0m\u001b[1me\u001b[22m\u001b[0m\u001b[1mn\u001b[22m\u001b[0m\u001b[1mu\u001b[22m\u001b[0m\u001b[1mm\u001b[22merate @\u001b[0m\u001b[1me\u001b[22m\u001b[0m\u001b[1mn\u001b[22m\u001b[0m\u001b[1mu\u001b[22m\u001b[0m\u001b[1mm\u001b[22m Lin\u001b[0m\u001b[1me\u001b[22m\u001b[0m\u001b[1mN\u001b[22m\u001b[0m\u001b[1mu\u001b[22m\u001b[0m\u001b[1mm\u001b[22mberNode V\u001b[0m\u001b[1me\u001b[22mrsio\u001b[0m\u001b[1mn\u001b[22mN\u001b[0m\u001b[1mu\u001b[22m\u001b[0m\u001b[1mm\u001b[22mber d\u001b[0m\u001b[1me\u001b[22mv\u001b[0m\u001b[1mn\u001b[22m\u001b[0m\u001b[1mu\u001b[22mll \u001b[0m\u001b[1me\u001b[22mxpa\u001b[0m\u001b[1mn\u001b[22md\u001b[0m\u001b[1mu\u001b[22mser\n",
      "\n"
     ]
    },
    {
     "data": {
      "text/latex": [
       "\\begin{verbatim}\n",
       "Enum{T<:Integer}\n",
       "\\end{verbatim}\n",
       "The abstract supertype of all enumerated types defined with \\href{@ref}{\\texttt{@enum}}.\n",
       "\n"
      ],
      "text/markdown": [
       "```\n",
       "Enum{T<:Integer}\n",
       "```\n",
       "\n",
       "The abstract supertype of all enumerated types defined with [`@enum`](@ref).\n"
      ],
      "text/plain": [
       "\u001b[36m  Enum{T<:Integer}\u001b[39m\n",
       "\n",
       "  The abstract supertype of all enumerated types defined with \u001b[36m@enum\u001b[39m."
      ]
     },
     "execution_count": 3,
     "metadata": {},
     "output_type": "execute_result"
    }
   ],
   "source": [
    "? Enum\n"
   ]
  },
  {
   "cell_type": "code",
   "execution_count": 34,
   "id": "61a56823-fc6e-470a-b961-2eab71cb6e72",
   "metadata": {},
   "outputs": [
    {
     "ename": "LoadError",
     "evalue": "ParseError:\n\u001b[90m# Error @ \u001b[0;0m\u001b]8;;file:///Users/alaricsanders/gh/spinon-calc/In[34]#24:5\u001b\\\u001b[90mIn[34]:24:5\u001b[0;0m\u001b]8;;\u001b\\\n    end\nend\n\u001b[48;2;120;70;70m\u001b[0;0m\u001b[90m#  \u001b[0;0m\n\u001b[90m└ ── \u001b[0;0m\u001b[91mExpected `end`\u001b[0;0m",
     "output_type": "error",
     "traceback": [
      "ParseError:\n\u001b[90m# Error @ \u001b[0;0m\u001b]8;;file:///Users/alaricsanders/gh/spinon-calc/In[34]#24:5\u001b\\\u001b[90mIn[34]:24:5\u001b[0;0m\u001b]8;;\u001b\\\n    end\nend\n\u001b[48;2;120;70;70m\u001b[0;0m\u001b[90m#  \u001b[0;0m\n\u001b[90m└ ── \u001b[0;0m\u001b[91mExpected `end`\u001b[0;0m",
      "",
      "Stacktrace:",
      " [1] top-level scope",
      "   @ In[34]:24"
     ]
    }
   ],
   "source": [
    "\"\"\"\n",
    "A convenience data type storing the kind of spin correlations that the simulation should calculate.\n",
    "Spm : <S^+(q,ω) S^-(-q,0)>\n",
    "Spp : <S^+(q,ω) S^+(-q,0)>\n",
    "magnetic_x : (δ^{ab} - q^a q^b / q^2) <m^a(q,ω) m^b(-q,0)>\n",
    "\"\"\"\n",
    "struct correlator_set\n",
    "    Spm::Bool\n",
    "    Spp::Bool\n",
    "    magnetic::Bool\n",
    "    g_tensor=Union{nothing, Matrix{Float64}}\n",
    "    \n",
    "    function correlator_set(;Spm::Bool=true, Spp::Bool=true,\n",
    "            magnetic::Bool=true, g_tensor=nothing)\n",
    "        if magnetic\n",
    "            @assert g_tensor != nothing \"\"\"\n",
    "                A g tensor in the sublattice-local frame must be provided. This is defined\n",
    "                such that the real magnetic moment `m` is related to the spins (in local axes,\n",
    "                as in PyrochloreGeometry.jl) `S` by m = g * S.\n",
    "            \"\"\"\n",
    "        end\n",
    "        new(Spm,Spp,magnetic,g_tensor)\n",
    "    end\n",
    "end\n"
   ]
  },
  {
   "cell_type": "code",
   "execution_count": 29,
   "id": "343e2755-7cdc-460a-a7e0-466b9dca509a",
   "metadata": {},
   "outputs": [
    {
     "data": {
      "text/plain": [
       "correlator_set(true, true, false, false)"
      ]
     },
     "execution_count": 29,
     "metadata": {},
     "output_type": "execute_result"
    }
   ],
   "source": [
    "a = correlator_set(Spm=true, Spp=true,magnetic_x=false, magnetic_y=false)"
   ]
  },
  {
   "cell_type": "code",
   "execution_count": 32,
   "id": "9eb795da-0d29-4d85-8b7c-0573f901f153",
   "metadata": {},
   "outputs": [
    {
     "data": {
      "text/latex": [
       "\\begin{verbatim}\n",
       "@assert cond [text]\n",
       "\\end{verbatim}\n",
       "Throw an \\href{@ref}{\\texttt{AssertionError}} if \\texttt{cond} is \\texttt{false}. Preferred syntax for writing assertions. Message \\texttt{text} is optionally displayed upon assertion failure.\n",
       "\n",
       "\\begin{quote}\n",
       "\\textbf{warning}\n",
       "\n",
       "Warning\n",
       "\n",
       "An assert might be disabled at various optimization levels. Assert should therefore only be used as a debugging tool and not used for authentication verification (e.g., verifying passwords), nor should side effects needed for the function to work correctly be used inside of asserts.\n",
       "\n",
       "\\end{quote}\n",
       "\\section{Examples}\n",
       "\\begin{verbatim}\n",
       "julia> @assert iseven(3) \"3 is an odd number!\"\n",
       "ERROR: AssertionError: 3 is an odd number!\n",
       "\n",
       "julia> @assert isodd(3) \"What even are numbers?\"\n",
       "\\end{verbatim}\n"
      ],
      "text/markdown": [
       "```\n",
       "@assert cond [text]\n",
       "```\n",
       "\n",
       "Throw an [`AssertionError`](@ref) if `cond` is `false`. Preferred syntax for writing assertions. Message `text` is optionally displayed upon assertion failure.\n",
       "\n",
       "!!! warning\n",
       "    An assert might be disabled at various optimization levels. Assert should therefore only be used as a debugging tool and not used for authentication verification (e.g., verifying passwords), nor should side effects needed for the function to work correctly be used inside of asserts.\n",
       "\n",
       "\n",
       "# Examples\n",
       "\n",
       "```jldoctest\n",
       "julia> @assert iseven(3) \"3 is an odd number!\"\n",
       "ERROR: AssertionError: 3 is an odd number!\n",
       "\n",
       "julia> @assert isodd(3) \"What even are numbers?\"\n",
       "```\n"
      ],
      "text/plain": [
       "\u001b[36m  @assert cond [text]\u001b[39m\n",
       "\n",
       "  Throw an \u001b[36mAssertionError\u001b[39m if \u001b[36mcond\u001b[39m is \u001b[36mfalse\u001b[39m. Preferred syntax for writing\n",
       "  assertions. Message \u001b[36mtext\u001b[39m is optionally displayed upon assertion failure.\n",
       "\n",
       "\u001b[33m\u001b[1m  │ \u001b[22m\u001b[39m\u001b[33m\u001b[1mWarning\u001b[22m\u001b[39m\n",
       "\u001b[33m\u001b[1m  │\u001b[22m\u001b[39m\n",
       "\u001b[33m\u001b[1m  │\u001b[22m\u001b[39m  An assert might be disabled at various optimization levels. Assert\n",
       "\u001b[33m\u001b[1m  │\u001b[22m\u001b[39m  should therefore only be used as a debugging tool and not used for\n",
       "\u001b[33m\u001b[1m  │\u001b[22m\u001b[39m  authentication verification (e.g., verifying passwords), nor\n",
       "\u001b[33m\u001b[1m  │\u001b[22m\u001b[39m  should side effects needed for the function to work correctly be\n",
       "\u001b[33m\u001b[1m  │\u001b[22m\u001b[39m  used inside of asserts.\n",
       "\n",
       "\u001b[1m  Examples\u001b[22m\n",
       "\u001b[1m  ≡≡≡≡≡≡≡≡\u001b[22m\n",
       "\n",
       "\u001b[36m  julia> @assert iseven(3) \"3 is an odd number!\"\u001b[39m\n",
       "\u001b[36m  ERROR: AssertionError: 3 is an odd number!\u001b[39m\n",
       "\u001b[36m  \u001b[39m\n",
       "\u001b[36m  julia> @assert isodd(3) \"What even are numbers?\"\u001b[39m"
      ]
     },
     "execution_count": 32,
     "metadata": {},
     "output_type": "execute_result"
    }
   ],
   "source": [
    "? @assert"
   ]
  },
  {
   "cell_type": "code",
   "execution_count": 36,
   "id": "0076a948-c334-43a0-ae63-dc316639569b",
   "metadata": {},
   "outputs": [],
   "source": [
    "include(\"src/PyrochloreGeometry.jl\")\n",
    "import .PyrochloreGeometry as geom"
   ]
  },
  {
   "cell_type": "code",
   "execution_count": 40,
   "id": "73dc1ffe-8475-4c26-aaa8-294ed69afa99",
   "metadata": {},
   "outputs": [
    {
     "data": {
      "text/plain": [
       "3-element StaticArraysCore.SVector{3, Float64} with indices SOneTo(3):\n",
       " 0.5773502691896258\n",
       " 0.5773502691896258\n",
       " 0.5773502691896258"
      ]
     },
     "execution_count": 40,
     "metadata": {},
     "output_type": "execute_result"
    }
   ],
   "source": [
    "geom.axis[1][:,3]"
   ]
  },
  {
   "cell_type": "code",
   "execution_count": 44,
   "id": "c6705cfa-8b2f-4f69-9c0a-724895ba134e",
   "metadata": {},
   "outputs": [
    {
     "data": {
      "text/plain": [
       "3×3 Matrix{Float64}:\n",
       " 1.0  0.0  0.0\n",
       " 0.0  1.0  0.0\n",
       " 0.0  0.0  1.0"
      ]
     },
     "execution_count": 44,
     "metadata": {},
     "output_type": "execute_result"
    }
   ],
   "source": [
    "diagm([1.,1,1])"
   ]
  },
  {
   "cell_type": "code",
   "execution_count": 51,
   "id": "11ea12c7-5a6c-44c1-8c2d-d6e0659b55e0",
   "metadata": {},
   "outputs": [],
   "source": [
    "using BenchmarkTools"
   ]
  },
  {
   "cell_type": "code",
   "execution_count": 57,
   "id": "b2fd0fa1-58af-46c7-9748-5453478d4ee7",
   "metadata": {},
   "outputs": [
    {
     "data": {
      "text/plain": [
       "BenchmarkTools.Trial: 10000 samples with 991 evaluations.\n",
       " Range \u001b[90m(\u001b[39m\u001b[36m\u001b[1mmin\u001b[22m\u001b[39m … \u001b[35mmax\u001b[39m\u001b[90m):  \u001b[39m\u001b[36m\u001b[1m42.549 ns\u001b[22m\u001b[39m … \u001b[35m 1.278 μs\u001b[39m  \u001b[90m┊\u001b[39m GC \u001b[90m(\u001b[39mmin … max\u001b[90m): \u001b[39m0.00% … 94.89%\n",
       " Time  \u001b[90m(\u001b[39m\u001b[34m\u001b[1mmedian\u001b[22m\u001b[39m\u001b[90m):     \u001b[39m\u001b[34m\u001b[1m44.189 ns              \u001b[22m\u001b[39m\u001b[90m┊\u001b[39m GC \u001b[90m(\u001b[39mmedian\u001b[90m):    \u001b[39m0.00%\n",
       " Time  \u001b[90m(\u001b[39m\u001b[32m\u001b[1mmean\u001b[22m\u001b[39m ± \u001b[32mσ\u001b[39m\u001b[90m):   \u001b[39m\u001b[32m\u001b[1m48.687 ns\u001b[22m\u001b[39m ± \u001b[32m57.222 ns\u001b[39m  \u001b[90m┊\u001b[39m GC \u001b[90m(\u001b[39mmean ± σ\u001b[90m):  \u001b[39m6.61% ±  5.45%\n",
       "\n",
       "  \u001b[39m▃\u001b[39m▅\u001b[39m▆\u001b[39m█\u001b[39m█\u001b[34m▆\u001b[39m\u001b[39m▅\u001b[39m▅\u001b[39m▅\u001b[39m▄\u001b[39m▄\u001b[39m▃\u001b[39m▄\u001b[39m▃\u001b[39m▂\u001b[39m▂\u001b[39m▁\u001b[32m \u001b[39m\u001b[39m \u001b[39m \u001b[39m \u001b[39m \u001b[39m \u001b[39m \u001b[39m \u001b[39m \u001b[39m \u001b[39m \u001b[39m \u001b[39m \u001b[39m \u001b[39m \u001b[39m \u001b[39m \u001b[39m \u001b[39m \u001b[39m \u001b[39m \u001b[39m \u001b[39m \u001b[39m \u001b[39m \u001b[39m \u001b[39m \u001b[39m \u001b[39m \u001b[39m \u001b[39m \u001b[39m \u001b[39m \u001b[39m \u001b[39m \u001b[39m \u001b[39m \u001b[39m \u001b[39m \u001b[39m \u001b[39m \u001b[39m \u001b[39m \u001b[39m▂\n",
       "  \u001b[39m█\u001b[39m█\u001b[39m█\u001b[39m█\u001b[39m█\u001b[34m█\u001b[39m\u001b[39m█\u001b[39m█\u001b[39m█\u001b[39m█\u001b[39m█\u001b[39m█\u001b[39m█\u001b[39m█\u001b[39m█\u001b[39m█\u001b[39m█\u001b[32m█\u001b[39m\u001b[39m█\u001b[39m▇\u001b[39m█\u001b[39m▇\u001b[39m█\u001b[39m█\u001b[39m▇\u001b[39m▇\u001b[39m▇\u001b[39m▇\u001b[39m█\u001b[39m▇\u001b[39m▇\u001b[39m▇\u001b[39m▆\u001b[39m▅\u001b[39m▆\u001b[39m▆\u001b[39m▅\u001b[39m▆\u001b[39m▆\u001b[39m▆\u001b[39m▆\u001b[39m▅\u001b[39m▆\u001b[39m▆\u001b[39m▅\u001b[39m▅\u001b[39m▅\u001b[39m▄\u001b[39m▂\u001b[39m▂\u001b[39m▄\u001b[39m▄\u001b[39m▃\u001b[39m▅\u001b[39m▂\u001b[39m▂\u001b[39m▂\u001b[39m▃\u001b[39m▂\u001b[39m \u001b[39m█\n",
       "  42.5 ns\u001b[90m      \u001b[39m\u001b[90mHistogram: \u001b[39m\u001b[90m\u001b[1mlog(\u001b[22m\u001b[39m\u001b[90mfrequency\u001b[39m\u001b[90m\u001b[1m)\u001b[22m\u001b[39m\u001b[90m by time\u001b[39m      63.6 ns \u001b[0m\u001b[1m<\u001b[22m\n",
       "\n",
       " Memory estimate\u001b[90m: \u001b[39m\u001b[33m160 bytes\u001b[39m, allocs estimate\u001b[90m: \u001b[39m\u001b[33m2\u001b[39m."
      ]
     },
     "execution_count": 57,
     "metadata": {},
     "output_type": "execute_result"
    }
   ],
   "source": [
    "@benchmark mod.(div.( rand(Int64,3), 8),3)"
   ]
  },
  {
   "cell_type": "code",
   "execution_count": 58,
   "id": "8bee2b2e-70b5-430d-b0af-5b433470b1d1",
   "metadata": {},
   "outputs": [
    {
     "data": {
      "text/plain": [
       "BenchmarkTools.Trial: 10000 samples with 991 evaluations.\n",
       " Range \u001b[90m(\u001b[39m\u001b[36m\u001b[1mmin\u001b[22m\u001b[39m … \u001b[35mmax\u001b[39m\u001b[90m):  \u001b[39m\u001b[36m\u001b[1m42.003 ns\u001b[22m\u001b[39m … \u001b[35m 2.231 μs\u001b[39m  \u001b[90m┊\u001b[39m GC \u001b[90m(\u001b[39mmin … max\u001b[90m): \u001b[39m0.00% … 96.94%\n",
       " Time  \u001b[90m(\u001b[39m\u001b[34m\u001b[1mmedian\u001b[22m\u001b[39m\u001b[90m):     \u001b[39m\u001b[34m\u001b[1m43.728 ns              \u001b[22m\u001b[39m\u001b[90m┊\u001b[39m GC \u001b[90m(\u001b[39mmedian\u001b[90m):    \u001b[39m0.00%\n",
       " Time  \u001b[90m(\u001b[39m\u001b[32m\u001b[1mmean\u001b[22m\u001b[39m ± \u001b[32mσ\u001b[39m\u001b[90m):   \u001b[39m\u001b[32m\u001b[1m47.975 ns\u001b[22m\u001b[39m ± \u001b[32m64.195 ns\u001b[39m  \u001b[90m┊\u001b[39m GC \u001b[90m(\u001b[39mmean ± σ\u001b[90m):  \u001b[39m7.49% ±  5.48%\n",
       "\n",
       "  \u001b[39m▁\u001b[39m▃\u001b[39m▅\u001b[39m▅\u001b[39m▆\u001b[39m█\u001b[39m█\u001b[34m▇\u001b[39m\u001b[39m▇\u001b[39m▆\u001b[39m▆\u001b[39m▅\u001b[39m▄\u001b[39m▃\u001b[39m▂\u001b[39m▂\u001b[39m▂\u001b[39m▃\u001b[39m▂\u001b[39m▂\u001b[39m▂\u001b[39m▁\u001b[39m▁\u001b[39m \u001b[32m \u001b[39m\u001b[39m \u001b[39m \u001b[39m \u001b[39m \u001b[39m \u001b[39m \u001b[39m \u001b[39m \u001b[39m \u001b[39m \u001b[39m \u001b[39m \u001b[39m \u001b[39m \u001b[39m \u001b[39m \u001b[39m \u001b[39m \u001b[39m \u001b[39m \u001b[39m \u001b[39m \u001b[39m \u001b[39m \u001b[39m \u001b[39m \u001b[39m \u001b[39m \u001b[39m \u001b[39m \u001b[39m \u001b[39m \u001b[39m \u001b[39m \u001b[39m \u001b[39m▃\n",
       "  \u001b[39m█\u001b[39m█\u001b[39m█\u001b[39m█\u001b[39m█\u001b[39m█\u001b[39m█\u001b[34m█\u001b[39m\u001b[39m█\u001b[39m█\u001b[39m█\u001b[39m█\u001b[39m█\u001b[39m█\u001b[39m█\u001b[39m█\u001b[39m█\u001b[39m█\u001b[39m█\u001b[39m█\u001b[39m█\u001b[39m█\u001b[39m█\u001b[39m█\u001b[32m█\u001b[39m\u001b[39m█\u001b[39m█\u001b[39m█\u001b[39m█\u001b[39m█\u001b[39m█\u001b[39m█\u001b[39m▇\u001b[39m▇\u001b[39m▇\u001b[39m█\u001b[39m▇\u001b[39m▇\u001b[39m▇\u001b[39m▆\u001b[39m▇\u001b[39m▆\u001b[39m▆\u001b[39m▆\u001b[39m▆\u001b[39m▆\u001b[39m▆\u001b[39m▅\u001b[39m▆\u001b[39m▅\u001b[39m▆\u001b[39m▅\u001b[39m▄\u001b[39m▆\u001b[39m▁\u001b[39m▅\u001b[39m▄\u001b[39m▃\u001b[39m▅\u001b[39m \u001b[39m█\n",
       "  42 ns\u001b[90m        \u001b[39m\u001b[90mHistogram: \u001b[39m\u001b[90m\u001b[1mlog(\u001b[22m\u001b[39m\u001b[90mfrequency\u001b[39m\u001b[90m\u001b[1m)\u001b[22m\u001b[39m\u001b[90m by time\u001b[39m      56.8 ns \u001b[0m\u001b[1m<\u001b[22m\n",
       "\n",
       " Memory estimate\u001b[90m: \u001b[39m\u001b[33m160 bytes\u001b[39m, allocs estimate\u001b[90m: \u001b[39m\u001b[33m2\u001b[39m."
      ]
     },
     "execution_count": 58,
     "metadata": {},
     "output_type": "execute_result"
    }
   ],
   "source": [
    "@benchmark mod.( rand(Int64,3), 8*3) .>> 3"
   ]
  },
  {
   "cell_type": "code",
   "execution_count": null,
   "id": "0ee23637-1334-4f34-a445-3dea5f435972",
   "metadata": {},
   "outputs": [],
   "source": []
  }
 ],
 "metadata": {
  "kernelspec": {
   "display_name": "Julia 1.10.2",
   "language": "julia",
   "name": "julia-1.10"
  },
  "language_info": {
   "file_extension": ".jl",
   "mimetype": "application/julia",
   "name": "julia",
   "version": "1.10.2"
  }
 },
 "nbformat": 4,
 "nbformat_minor": 5
}
