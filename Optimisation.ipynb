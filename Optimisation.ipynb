{
 "cells": [
  {
   "cell_type": "code",
   "execution_count": 1,
   "id": "cd579340-c83a-41b7-ae48-ea75e9923bba",
   "metadata": {},
   "outputs": [],
   "source": [
    "include(\"src/SpinonStructure.jl\")\n",
    "include(\"src/BZMath.jl\")\n",
    "\n",
    "\n",
    "using .BZmath\n",
    "using .SpinonStructure\n",
    "using LaTeXStrings\n",
    "using StaticArrays\n",
    "using SparseArrays\n",
    "using LinearAlgebra\n",
    "using Plots"
   ]
  },
  {
   "cell_type": "code",
   "execution_count": 2,
   "id": "5d494601-1b76-497e-b471-dea9909adbb4",
   "metadata": {},
   "outputs": [],
   "source": [
    "using BenchmarkTools\n",
    "using Profile"
   ]
  },
  {
   "cell_type": "code",
   "execution_count": 15,
   "id": "134210ef-df90-493a-bbc8-795cd42dad2c",
   "metadata": {},
   "outputs": [
    {
     "name": "stdout",
     "output_type": "stream",
     "text": [
      "minimum B = 0.23237900077244503\n"
     ]
    }
   ],
   "source": [
    "k_density_spinon_dispersion=60\n",
    "k_density_specweight=20\n",
    "\n",
    "G = @SMatrix [0. 0. 0.;\n",
    "\t 0. 0. 0.;\n",
    "\t 1. 0. 0.]\n",
    "\n",
    "\n",
    "Jpm = 0.03\n",
    "Bmin =sqrt(9*Jpm/5)\n",
    "println(\"minimum B = \",Bmin)\n",
    "\n",
    "lengths = [1,2,3,4,5]\n",
    "\n",
    "sim_repo = [ SimulationParameters(\"$(Lx)\",\n",
    "        lattice=geom.PyroPrimitive(Lx,1,1),\n",
    "        A=zeros(Lx,4),\n",
    "        Jpm=-0.03,\n",
    "        B=-0.4*[1,1,0]/√2,\n",
    "        n_samples = 10000\n",
    "    ) for Lx in lengths\n",
    "    ];"
   ]
  },
  {
   "cell_type": "code",
   "execution_count": 16,
   "id": "108607c8-7cb9-424f-ba93-27fbdd1c3016",
   "metadata": {},
   "outputs": [
    {
     "data": {
      "text/plain": [
       "get_0flux_sim (generic function with 1 method)"
      ]
     },
     "execution_count": 16,
     "metadata": {},
     "output_type": "execute_result"
    }
   ],
   "source": [
    "csim_repo = [CompiledModel(sim_repo[1])]\n",
    "λ = csim_repo[1].lambda\n",
    "for L in lengths[2:end]\n",
    "    push!(csim_repo, CompiledModel(sim_repo[L], λ))\n",
    "end\n",
    "\n",
    "get_0flux_sim(Lx,Ly,Lz) = CompiledModel(\n",
    "    SimulationParameters(\"$(Lx)\",\n",
    "        lattice=geom.PyroPrimitive(Lx,Ly,Lz),\n",
    "        A=zeros(Lx*Ly*Lz,4),\n",
    "        Jpm=-0.03,\n",
    "        B=-0.4*[1,1,0]/√2,\n",
    "        n_samples = 10000\n",
    "    ),\n",
    "    λ)"
   ]
  },
  {
   "cell_type": "code",
   "execution_count": 5,
   "id": "38638ee7-979f-4fa3-83d2-64752a7a8968",
   "metadata": {},
   "outputs": [
    {
     "data": {
      "text/plain": [
       "my_corr_at (generic function with 1 method)"
      ]
     },
     "execution_count": 5,
     "metadata": {},
     "output_type": "execute_result"
    }
   ],
   "source": [
    "const Vec3_F64 = SVector{3,Float64}\n",
    "\n",
    "@inline function GreenFunction!(G, E, U, i, j)\n",
    "    for l in eachindex(E)\n",
    "        G[l] = conj(U[i, l]) * U[j,l] / (2*E[l])\n",
    "    end\n",
    "end\n",
    "\n",
    "function my_corr_at(Q::Vec3_F64, p1::Vec3_F64, csim::CompiledModel)\n",
    "  \n",
    "    E1, U1 = spinon_dispersion( p1, csim)\n",
    "    #p2 = geom.wrap_BZ(csim.sim.lat, p1+Q) # p1+Q\n",
    "\tp2 = p1+Q\n",
    "\n",
    "    E2, U2 = spinon_dispersion( p2, csim)\n",
    "    # Both p's must appear with the same sign, or else we break p-> p + delta \n",
    "    # invariance (required by gauge symmetry)\n",
    "\n",
    "\t\n",
    "    QQ_tensor = SMatrix{3,3,Float64}(diagm([1.,1.,1.]) - Q*Q'/(Q'*Q))\n",
    "\n",
    "\t# preallocate everything\n",
    "    f=length(csim.sim.lat.tetra_sites)\n",
    "    S_pm = zeros(ComplexF64, f,f)\n",
    "    \n",
    "    delta_S_pm = zeros(ComplexF64, f,f)\n",
    "\n",
    "    x1 = zeros(ComplexF64, f)\n",
    "    x2 = zeros(ComplexF64, f)\n",
    "\n",
    "    jB =0\n",
    "    jpB=0\n",
    "\n",
    "    A_sites = geom.A_sites(csim.sim.lat)\n",
    "    \n",
    "    for μ=1:4, ν=1:4\n",
    "        for (jA, rA) in enumerate(A_sites), (jpA, rpA) in enumerate(A_sites) \n",
    "            jB = csim.nn_index_A[jA][μ]\n",
    "            jpB = csim.nn_index_A[jpA][ν]\n",
    "\n",
    "\t\t\t# <S+ S->\n",
    "            # the \"l\" bit\n",
    "\t\t\tGreenFunction!(x1, E1, U1, jA, jpA)\n",
    "            @assert x1 == conj.(U1[jA, :]) .* U1[jpA, :] ./ (2*E1) \n",
    "   #          # the \"l'\" bit\n",
    "\t\t\tGreenFunction!(x2, E2, U2, jpB, jB)\n",
    "            @assert x2 == U2[jB, :] .* conj.(U2[jpB, :]) ./ (2*E2)\n",
    " \n",
    "            # delta_S_pm .= x1*transpose(x2)\n",
    "            for l=1:f,lp=1:f\n",
    "                    delta_S_pm[l,lp] = x1[l]*x2[lp]\n",
    "            end\n",
    "            @assert delta_S_pm == x1*transpose(x2)\n",
    "\n",
    "            \n",
    "            delta_S_pm .*= (\n",
    "\t\t\t\texp(1im*(csim.sim.A[jA,μ]-csim.sim.A[jpA, ν]))*\n",
    "\t\t\t\texp(1im* ( Q -2*p2)'* (geom.pyro[μ]-geom.pyro[ν])) \n",
    "\t\t\t\t)\n",
    "\t\t\t\t\n",
    "\t\t\tS_pm .+= delta_S_pm\n",
    "            \n",
    "\t\t\t\n",
    "        end\n",
    "    end\n",
    "    E = [e1 + e2 for e1 in E1, e2 in E2]::Matrix{Float64}\n",
    "    return E, S_pm\n",
    "end\n",
    "\n"
   ]
  },
  {
   "cell_type": "code",
   "execution_count": 6,
   "id": "a2ed03c3-94ba-4376-b24a-d9872641c08f",
   "metadata": {},
   "outputs": [
    {
     "data": {
      "text/plain": [
       "7845840"
      ]
     },
     "execution_count": 6,
     "metadata": {},
     "output_type": "execute_result"
    }
   ],
   "source": [
    "Q= @SVector [1.,0.2,-0.2]\n",
    "P= @SVector [-1.,-0.2,0.2]\n",
    "\n",
    "@allocated corr_at(Q, P, csim_repo[1])"
   ]
  },
  {
   "cell_type": "code",
   "execution_count": 7,
   "id": "4216e643-2f29-44eb-9b39-e8187663a367",
   "metadata": {},
   "outputs": [
    {
     "data": {
      "text/plain": [
       "30432"
      ]
     },
     "execution_count": 7,
     "metadata": {},
     "output_type": "execute_result"
    }
   ],
   "source": [
    "@allocated corr_at(Q, P, csim_repo[2])"
   ]
  },
  {
   "cell_type": "code",
   "execution_count": 8,
   "id": "4926172e-cc0a-4597-88d7-a98e537282a2",
   "metadata": {},
   "outputs": [
    {
     "data": {
      "text/plain": [
       "BenchmarkTools.Trial: 10000 samples with 1 evaluation.\n",
       " Range \u001b[90m(\u001b[39m\u001b[36m\u001b[1mmin\u001b[22m\u001b[39m … \u001b[35mmax\u001b[39m\u001b[90m):  \u001b[39m\u001b[36m\u001b[1m417.750 μs\u001b[22m\u001b[39m … \u001b[35m 57.581 ms\u001b[39m  \u001b[90m┊\u001b[39m GC \u001b[90m(\u001b[39mmin … max\u001b[90m): \u001b[39m0.00% … 98.74%\n",
       " Time  \u001b[90m(\u001b[39m\u001b[34m\u001b[1mmedian\u001b[22m\u001b[39m\u001b[90m):     \u001b[39m\u001b[34m\u001b[1m439.500 μs               \u001b[22m\u001b[39m\u001b[90m┊\u001b[39m GC \u001b[90m(\u001b[39mmedian\u001b[90m):    \u001b[39m0.00%\n",
       " Time  \u001b[90m(\u001b[39m\u001b[32m\u001b[1mmean\u001b[22m\u001b[39m ± \u001b[32mσ\u001b[39m\u001b[90m):   \u001b[39m\u001b[32m\u001b[1m456.162 μs\u001b[22m\u001b[39m ± \u001b[32m626.142 μs\u001b[39m  \u001b[90m┊\u001b[39m GC \u001b[90m(\u001b[39mmean ± σ\u001b[90m):  \u001b[39m1.36% ±  1.81%\n",
       "\n",
       "  \u001b[39m \u001b[39m \u001b[39m \u001b[39m \u001b[39m \u001b[39m \u001b[39m \u001b[39m▂\u001b[39m▅\u001b[39m█\u001b[39m▆\u001b[39m█\u001b[39m▆\u001b[34m▄\u001b[39m\u001b[39m▂\u001b[39m \u001b[39m \u001b[39m \u001b[39m \u001b[39m \u001b[39m \u001b[39m \u001b[32m \u001b[39m\u001b[39m \u001b[39m \u001b[39m \u001b[39m \u001b[39m \u001b[39m \u001b[39m \u001b[39m \u001b[39m \u001b[39m \u001b[39m \u001b[39m \u001b[39m \u001b[39m \u001b[39m \u001b[39m \u001b[39m \u001b[39m \u001b[39m \u001b[39m \u001b[39m \u001b[39m \u001b[39m \u001b[39m \u001b[39m \u001b[39m \u001b[39m \u001b[39m \u001b[39m \u001b[39m \u001b[39m \u001b[39m \u001b[39m \u001b[39m \u001b[39m \u001b[39m \u001b[39m \u001b[39m \u001b[39m \u001b[39m \n",
       "  \u001b[39m▂\u001b[39m▂\u001b[39m▂\u001b[39m▃\u001b[39m▄\u001b[39m▅\u001b[39m▇\u001b[39m█\u001b[39m█\u001b[39m█\u001b[39m█\u001b[39m█\u001b[39m█\u001b[34m█\u001b[39m\u001b[39m█\u001b[39m█\u001b[39m▇\u001b[39m▆\u001b[39m▆\u001b[39m▅\u001b[39m▅\u001b[39m▄\u001b[32m▄\u001b[39m\u001b[39m▅\u001b[39m▄\u001b[39m▄\u001b[39m▄\u001b[39m▃\u001b[39m▄\u001b[39m▃\u001b[39m▃\u001b[39m▃\u001b[39m▃\u001b[39m▃\u001b[39m▃\u001b[39m▃\u001b[39m▃\u001b[39m▃\u001b[39m▂\u001b[39m▃\u001b[39m▂\u001b[39m▂\u001b[39m▂\u001b[39m▂\u001b[39m▂\u001b[39m▂\u001b[39m▂\u001b[39m▂\u001b[39m▂\u001b[39m▂\u001b[39m▂\u001b[39m▂\u001b[39m▂\u001b[39m▂\u001b[39m▂\u001b[39m▂\u001b[39m▂\u001b[39m▂\u001b[39m▂\u001b[39m▁\u001b[39m▂\u001b[39m \u001b[39m▄\n",
       "  418 μs\u001b[90m           Histogram: frequency by time\u001b[39m          524 μs \u001b[0m\u001b[1m<\u001b[22m\n",
       "\n",
       " Memory estimate\u001b[90m: \u001b[39m\u001b[33m61.39 KiB\u001b[39m, allocs estimate\u001b[90m: \u001b[39m\u001b[33m177\u001b[39m."
      ]
     },
     "execution_count": 8,
     "metadata": {},
     "output_type": "execute_result"
    }
   ],
   "source": [
    "@benchmark corr_at(Q, P, csim_repo[4])\n"
   ]
  },
  {
   "cell_type": "code",
   "execution_count": 9,
   "id": "231d3bd4-38df-4f0a-8edd-20c2c3238f68",
   "metadata": {},
   "outputs": [
    {
     "data": {
      "text/plain": [
       "26992"
      ]
     },
     "execution_count": 9,
     "metadata": {},
     "output_type": "execute_result"
    }
   ],
   "source": [
    "@allocated spinon_dispersion(Q, csim_repo[4])"
   ]
  },
  {
   "cell_type": "code",
   "execution_count": 10,
   "id": "28465360-4af9-47ad-974f-2d873d91c59f",
   "metadata": {},
   "outputs": [
    {
     "data": {
      "text/plain": [
       "([0.4773668603503127 0.48895572421059114 … 1.1079347174124352 1.1165237731477817; 0.49402979069217584 0.5056186545524542 … 1.1245976477542983 1.1331867034896448; … ; 1.1075041272197712 1.1190929910800498 … 1.738071984281894 1.7466610400172402; 1.115479917543099 1.1270687814033773 … 1.7460477746052212 1.7546368303405677], ComplexF64[-5.854691731421724e-18 + 1.734723475976807e-18im -9.974659986866641e-17 + 5.160802341031001e-17im … -6.946305442195704e-18 - 1.3349239248727773e-18im 4.228388472693467e-18 - 3.2526065174565133e-19im; 1.3791051634015616e-16 - 2.987743702417301e-17im 1.691355389077387e-17 + 1.000175675422205e-18im … 2.026857298453559 + 4.4165794675429746e-16im -8.944667923005412e-18 + 1.337469862687703e-18im; … ; 1.0950441942103595e-17 + 6.505213034913027e-19im 8.023096076392733e-18 - 5.421010862427522e-20im … -4.1186977060240354e-20 + 1.2149099441586837e-18im -2.7647155398380363e-18 - 5.149960319306146e-19im; -4.662069341687669e-18 + 2.2768245622195593e-18im 1.428301933350296 - 4.033882602949568e-15im … 2.3182762370758166e-18 - 1.0460856898590609e-19im -8.131516293641283e-20 - 3.7947076036992655e-19im], ComplexF64[2.883977778811442e-17 - 9.107298248878237e-18im 1.6479873021779667e-17 + 6.830473686658678e-18im … -8.854882430596456e-18 + 3.1321690202687925e-18im 2.168404344971009e-18 - 2.710505431213761e-19im; 5.0523821237824507e-17 + 3.209238430557093e-17im -2.992397996059992e-17 - 1.951563910473908e-17im … -2.010778344679292 + 0.2547959121794116im -4.87890977618477e-19 - 4.0115480381963664e-18im; … ; -1.0842021724855044e-19 - 5.041540102057596e-18im 2.6020852139652106e-18 + 6.0173220572945496e-18im … 4.806806096549748e-18 + 4.418600308911261e-19im 8.131516293641283e-19 + 5.353248226647178e-19im; -2.4936649967166602e-18 + 1.1221492485224971e-17im -1.3500739710976897 + 0.46620455314898185im … 3.3146516808428908e-18 + 2.8708064164816374e-18im 2.222614453595284e-18 - 2.1141942363467336e-18im], [0.0 0.0 … 0.0 0.0; 0.0 0.0 … 0.0 0.0; … ; 0.0 0.0 … 0.0 0.0; 0.0 0.0 … 0.0 0.0])"
      ]
     },
     "execution_count": 10,
     "metadata": {},
     "output_type": "execute_result"
    }
   ],
   "source": [
    "csim = CompiledModel(SimulationParameters(\"test\",\n",
    "        lattice=geom.PyroPrimitive(2,3,4),\n",
    "        A=zeros(2*3*4,4),\n",
    "        Jpm=-0.03,\n",
    "        B=-0.4*[1,1,0]/√2,\n",
    "        n_samples = 10000\n",
    "    ), λ)\n",
    "\n",
    "corr_at(Q, P, csim)"
   ]
  },
  {
   "cell_type": "code",
   "execution_count": 18,
   "id": "dae1bcd4-dd07-4829-b54b-0887ceeaf2dc",
   "metadata": {},
   "outputs": [
    {
     "data": {
      "text/plain": [
       "BenchmarkTools.Trial: 46 samples with 1 evaluation.\n",
       " Range \u001b[90m(\u001b[39m\u001b[36m\u001b[1mmin\u001b[22m\u001b[39m … \u001b[35mmax\u001b[39m\u001b[90m):  \u001b[39m\u001b[36m\u001b[1m108.069 ms\u001b[22m\u001b[39m … \u001b[35m160.427 ms\u001b[39m  \u001b[90m┊\u001b[39m GC \u001b[90m(\u001b[39mmin … max\u001b[90m): \u001b[39m0.00% … 0.00%\n",
       " Time  \u001b[90m(\u001b[39m\u001b[34m\u001b[1mmedian\u001b[22m\u001b[39m\u001b[90m):     \u001b[39m\u001b[34m\u001b[1m108.821 ms               \u001b[22m\u001b[39m\u001b[90m┊\u001b[39m GC \u001b[90m(\u001b[39mmedian\u001b[90m):    \u001b[39m0.00%\n",
       " Time  \u001b[90m(\u001b[39m\u001b[32m\u001b[1mmean\u001b[22m\u001b[39m ± \u001b[32mσ\u001b[39m\u001b[90m):   \u001b[39m\u001b[32m\u001b[1m109.920 ms\u001b[22m\u001b[39m ± \u001b[32m  7.623 ms\u001b[39m  \u001b[90m┊\u001b[39m GC \u001b[90m(\u001b[39mmean ± σ\u001b[90m):  \u001b[39m0.00% ± 0.00%\n",
       "\n",
       "  \u001b[39m█\u001b[34m▅\u001b[39m\u001b[32m \u001b[39m\u001b[39m \u001b[39m \u001b[39m \u001b[39m \u001b[39m \u001b[39m \u001b[39m \u001b[39m \u001b[39m \u001b[39m \u001b[39m \u001b[39m \u001b[39m \u001b[39m \u001b[39m \u001b[39m \u001b[39m \u001b[39m \u001b[39m \u001b[39m \u001b[39m \u001b[39m \u001b[39m \u001b[39m \u001b[39m \u001b[39m \u001b[39m \u001b[39m \u001b[39m \u001b[39m \u001b[39m \u001b[39m \u001b[39m \u001b[39m \u001b[39m \u001b[39m \u001b[39m \u001b[39m \u001b[39m \u001b[39m \u001b[39m \u001b[39m \u001b[39m \u001b[39m \u001b[39m \u001b[39m \u001b[39m \u001b[39m \u001b[39m \u001b[39m \u001b[39m \u001b[39m \u001b[39m \u001b[39m \u001b[39m \u001b[39m \u001b[39m \u001b[39m \u001b[39m \u001b[39m \n",
       "  \u001b[39m█\u001b[34m█\u001b[39m\u001b[32m▅\u001b[39m\u001b[39m▁\u001b[39m▁\u001b[39m▁\u001b[39m▁\u001b[39m▁\u001b[39m▁\u001b[39m▁\u001b[39m▁\u001b[39m▁\u001b[39m▁\u001b[39m▁\u001b[39m▁\u001b[39m▁\u001b[39m▁\u001b[39m▁\u001b[39m▁\u001b[39m▁\u001b[39m▁\u001b[39m▁\u001b[39m▁\u001b[39m▁\u001b[39m▁\u001b[39m▁\u001b[39m▁\u001b[39m▁\u001b[39m▁\u001b[39m▁\u001b[39m▁\u001b[39m▁\u001b[39m▁\u001b[39m▁\u001b[39m▁\u001b[39m▁\u001b[39m▁\u001b[39m▁\u001b[39m▁\u001b[39m▁\u001b[39m▁\u001b[39m▁\u001b[39m▁\u001b[39m▁\u001b[39m▁\u001b[39m▁\u001b[39m▁\u001b[39m▁\u001b[39m▁\u001b[39m▁\u001b[39m▁\u001b[39m▁\u001b[39m▁\u001b[39m▁\u001b[39m▁\u001b[39m▁\u001b[39m▁\u001b[39m▁\u001b[39m▁\u001b[39m▁\u001b[39m▅\u001b[39m \u001b[39m▁\n",
       "  108 ms\u001b[90m        \u001b[39m\u001b[90mHistogram: \u001b[39m\u001b[90m\u001b[1mlog(\u001b[22m\u001b[39m\u001b[90mfrequency\u001b[39m\u001b[90m\u001b[1m)\u001b[22m\u001b[39m\u001b[90m by time\u001b[39m        160 ms \u001b[0m\u001b[1m<\u001b[22m\n",
       "\n",
       " Memory estimate\u001b[90m: \u001b[39m\u001b[33m837.81 KiB\u001b[39m, allocs estimate\u001b[90m: \u001b[39m\u001b[33m192\u001b[39m."
      ]
     },
     "execution_count": 18,
     "metadata": {},
     "output_type": "execute_result"
    }
   ],
   "source": [
    "csim = get_0flux_sim(5,5,1)\n",
    "\n",
    "@benchmark corr_at(Q, P, csim)\n",
    "\n"
   ]
  },
  {
   "cell_type": "code",
   "execution_count": 11,
   "id": "f6aa73ec-882d-45a5-a6a2-6e574ce361e4",
   "metadata": {},
   "outputs": [
    {
     "data": {
      "text/plain": [
       "test (generic function with 1 method)"
      ]
     },
     "execution_count": 11,
     "metadata": {},
     "output_type": "execute_result"
    }
   ],
   "source": [
    "function test()\n",
    "    X = zeros(1000)\n",
    "end\n"
   ]
  },
  {
   "cell_type": "code",
   "execution_count": 12,
   "id": "fb7daaf1-1a24-43b3-8dd6-b82f76d949bf",
   "metadata": {},
   "outputs": [
    {
     "data": {
      "text/plain": [
       "8192"
      ]
     },
     "execution_count": 12,
     "metadata": {},
     "output_type": "execute_result"
    }
   ],
   "source": [
    "@allocated test()"
   ]
  },
  {
   "cell_type": "code",
   "execution_count": 13,
   "id": "ed302732-f5e6-4548-aeef-8d0b63360764",
   "metadata": {},
   "outputs": [
    {
     "data": {
      "text/plain": [
       "1024"
      ]
     },
     "execution_count": 13,
     "metadata": {},
     "output_type": "execute_result"
    }
   ],
   "source": [
    "8192÷8"
   ]
  },
  {
   "cell_type": "code",
   "execution_count": null,
   "id": "eb6525ba-03a2-4c1e-8a20-e7c555b31957",
   "metadata": {},
   "outputs": [],
   "source": []
  }
 ],
 "metadata": {
  "kernelspec": {
   "display_name": "Julia 1.10.4",
   "language": "julia",
   "name": "julia-1.10"
  },
  "language_info": {
   "file_extension": ".jl",
   "mimetype": "application/julia",
   "name": "julia",
   "version": "1.10.4"
  }
 },
 "nbformat": 4,
 "nbformat_minor": 5
}
